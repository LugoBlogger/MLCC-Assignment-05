{
 "cells": [
  {
   "cell_type": "markdown",
   "metadata": {
    "colab_type": "text",
    "id": "bLMC3Zb-Cksh"
   },
   "source": [
    "# Introduction  (Offline version)\n",
    "\n",
    "In this notebook, we will predict health insurance cost that someone should pay annually by the given features.\n",
    "For the complete introduction, see the slides."
   ]
  },
  {
   "cell_type": "code",
   "execution_count": 1,
   "metadata": {
    "colab": {},
    "colab_type": "code",
    "id": "sPXvoENYBlC9"
   },
   "outputs": [],
   "source": [
    "import time\n",
    "\n",
    "import matplotlib.pyplot as plt\n",
    "import numpy as np\n",
    "import pandas as pd\n",
    "import seaborn as sns"
   ]
  },
  {
   "cell_type": "code",
   "execution_count": 2,
   "metadata": {
    "colab": {
     "base_uri": "https://localhost:8080/",
     "height": 35
    },
    "colab_type": "code",
    "id": "zBaTzo5YEHOz",
    "outputId": "a56ee0b6-497f-47bb-9f42-b3e5fa0d8057",
    "scrolled": true
   },
   "outputs": [
    {
     "name": "stdout",
     "output_type": "stream",
     "text": [
      "2.0.0\n"
     ]
    }
   ],
   "source": [
    "import tensorflow as tf\n",
    "\n",
    "from tensorflow import keras\n",
    "from tensorflow.keras import layers\n",
    "\n",
    "print(tf.__version__)"
   ]
  },
  {
   "cell_type": "code",
   "execution_count": 9,
   "metadata": {
    "colab": {},
    "colab_type": "code",
    "id": "vLwn9MsbEOfY"
   },
   "outputs": [],
   "source": [
    "### this library is for callback functions\n",
    "### you have to download this tensorflow_docs through github\n",
    "### https://github.com/tensorflow/docs\n",
    "### import from the directory where you saved tensorflow_docs\n",
    "\n",
    "import tensorflow_docs as tfdocs\n",
    "import tensorflow_docs.plots\n",
    "import tensorflow_docs.modeling"
   ]
  },
  {
   "cell_type": "markdown",
   "metadata": {
    "colab_type": "text",
    "id": "llvFDM09FyIu"
   },
   "source": [
    "# Medical Cost Personal Datasets\n",
    "\n",
    "## Retrieve the dataset\n",
    "\n",
    "Manage the dataset into pandas' DataFrame."
   ]
  },
  {
   "cell_type": "code",
   "execution_count": 10,
   "metadata": {
    "colab": {
     "base_uri": "https://localhost:8080/",
     "height": 424
    },
    "colab_type": "code",
    "id": "Ca59a6eCGMsA",
    "outputId": "31d9bd2c-2abd-4381-e85d-1809ca75b3b7"
   },
   "outputs": [
    {
     "data": {
      "text/html": [
       "<div>\n",
       "<style scoped>\n",
       "    .dataframe tbody tr th:only-of-type {\n",
       "        vertical-align: middle;\n",
       "    }\n",
       "\n",
       "    .dataframe tbody tr th {\n",
       "        vertical-align: top;\n",
       "    }\n",
       "\n",
       "    .dataframe thead th {\n",
       "        text-align: right;\n",
       "    }\n",
       "</style>\n",
       "<table border=\"1\" class=\"dataframe\">\n",
       "  <thead>\n",
       "    <tr style=\"text-align: right;\">\n",
       "      <th></th>\n",
       "      <th>age</th>\n",
       "      <th>sex</th>\n",
       "      <th>bmi</th>\n",
       "      <th>children</th>\n",
       "      <th>smoker</th>\n",
       "      <th>region</th>\n",
       "      <th>charges</th>\n",
       "    </tr>\n",
       "  </thead>\n",
       "  <tbody>\n",
       "    <tr>\n",
       "      <th>0</th>\n",
       "      <td>19</td>\n",
       "      <td>female</td>\n",
       "      <td>27.900</td>\n",
       "      <td>0</td>\n",
       "      <td>yes</td>\n",
       "      <td>southwest</td>\n",
       "      <td>16884.92400</td>\n",
       "    </tr>\n",
       "    <tr>\n",
       "      <th>1</th>\n",
       "      <td>18</td>\n",
       "      <td>male</td>\n",
       "      <td>33.770</td>\n",
       "      <td>1</td>\n",
       "      <td>no</td>\n",
       "      <td>southeast</td>\n",
       "      <td>1725.55230</td>\n",
       "    </tr>\n",
       "    <tr>\n",
       "      <th>2</th>\n",
       "      <td>28</td>\n",
       "      <td>male</td>\n",
       "      <td>33.000</td>\n",
       "      <td>3</td>\n",
       "      <td>no</td>\n",
       "      <td>southeast</td>\n",
       "      <td>4449.46200</td>\n",
       "    </tr>\n",
       "    <tr>\n",
       "      <th>3</th>\n",
       "      <td>33</td>\n",
       "      <td>male</td>\n",
       "      <td>22.705</td>\n",
       "      <td>0</td>\n",
       "      <td>no</td>\n",
       "      <td>northwest</td>\n",
       "      <td>21984.47061</td>\n",
       "    </tr>\n",
       "    <tr>\n",
       "      <th>4</th>\n",
       "      <td>32</td>\n",
       "      <td>male</td>\n",
       "      <td>28.880</td>\n",
       "      <td>0</td>\n",
       "      <td>no</td>\n",
       "      <td>northwest</td>\n",
       "      <td>3866.85520</td>\n",
       "    </tr>\n",
       "    <tr>\n",
       "      <th>...</th>\n",
       "      <td>...</td>\n",
       "      <td>...</td>\n",
       "      <td>...</td>\n",
       "      <td>...</td>\n",
       "      <td>...</td>\n",
       "      <td>...</td>\n",
       "      <td>...</td>\n",
       "    </tr>\n",
       "    <tr>\n",
       "      <th>1333</th>\n",
       "      <td>50</td>\n",
       "      <td>male</td>\n",
       "      <td>30.970</td>\n",
       "      <td>3</td>\n",
       "      <td>no</td>\n",
       "      <td>northwest</td>\n",
       "      <td>10600.54830</td>\n",
       "    </tr>\n",
       "    <tr>\n",
       "      <th>1334</th>\n",
       "      <td>18</td>\n",
       "      <td>female</td>\n",
       "      <td>31.920</td>\n",
       "      <td>0</td>\n",
       "      <td>no</td>\n",
       "      <td>northeast</td>\n",
       "      <td>2205.98080</td>\n",
       "    </tr>\n",
       "    <tr>\n",
       "      <th>1335</th>\n",
       "      <td>18</td>\n",
       "      <td>female</td>\n",
       "      <td>36.850</td>\n",
       "      <td>0</td>\n",
       "      <td>no</td>\n",
       "      <td>southeast</td>\n",
       "      <td>1629.83350</td>\n",
       "    </tr>\n",
       "    <tr>\n",
       "      <th>1336</th>\n",
       "      <td>21</td>\n",
       "      <td>female</td>\n",
       "      <td>25.800</td>\n",
       "      <td>0</td>\n",
       "      <td>no</td>\n",
       "      <td>southwest</td>\n",
       "      <td>2007.94500</td>\n",
       "    </tr>\n",
       "    <tr>\n",
       "      <th>1337</th>\n",
       "      <td>61</td>\n",
       "      <td>female</td>\n",
       "      <td>29.070</td>\n",
       "      <td>0</td>\n",
       "      <td>yes</td>\n",
       "      <td>northwest</td>\n",
       "      <td>29141.36030</td>\n",
       "    </tr>\n",
       "  </tbody>\n",
       "</table>\n",
       "<p>1338 rows × 7 columns</p>\n",
       "</div>"
      ],
      "text/plain": [
       "      age     sex     bmi  children smoker     region      charges\n",
       "0      19  female  27.900         0    yes  southwest  16884.92400\n",
       "1      18    male  33.770         1     no  southeast   1725.55230\n",
       "2      28    male  33.000         3     no  southeast   4449.46200\n",
       "3      33    male  22.705         0     no  northwest  21984.47061\n",
       "4      32    male  28.880         0     no  northwest   3866.85520\n",
       "...   ...     ...     ...       ...    ...        ...          ...\n",
       "1333   50    male  30.970         3     no  northwest  10600.54830\n",
       "1334   18  female  31.920         0     no  northeast   2205.98080\n",
       "1335   18  female  36.850         0     no  southeast   1629.83350\n",
       "1336   21  female  25.800         0     no  southwest   2007.94500\n",
       "1337   61  female  29.070         0    yes  northwest  29141.36030\n",
       "\n",
       "[1338 rows x 7 columns]"
      ]
     },
     "execution_count": 10,
     "metadata": {},
     "output_type": "execute_result"
    }
   ],
   "source": [
    "dataset = pd.read_csv(\"datasets/insurance.csv\", header=0)\n",
    "dataset"
   ]
  },
  {
   "cell_type": "markdown",
   "metadata": {
    "colab_type": "text",
    "id": "i_o-MQJPQmEY"
   },
   "source": [
    "## Clean the data\n",
    "\n",
    "Checking the dataset whether its contains some undefined measurement or not."
   ]
  },
  {
   "cell_type": "code",
   "execution_count": 11,
   "metadata": {
    "colab": {
     "base_uri": "https://localhost:8080/",
     "height": 162
    },
    "colab_type": "code",
    "id": "UKBu_VRVKUSE",
    "outputId": "3481f67d-5ea8-4331-e14d-7085d1190987"
   },
   "outputs": [
    {
     "data": {
      "text/plain": [
       "age         0\n",
       "sex         0\n",
       "bmi         0\n",
       "children    0\n",
       "smoker      0\n",
       "region      0\n",
       "charges     0\n",
       "dtype: int64"
      ]
     },
     "execution_count": 11,
     "metadata": {},
     "output_type": "execute_result"
    }
   ],
   "source": [
    "dataset.isna().sum()"
   ]
  },
  {
   "cell_type": "markdown",
   "metadata": {
    "colab_type": "text",
    "id": "LzSz-tvQQ9L7"
   },
   "source": [
    "Convert categorical columns into numeric with the following convention:\n",
    "\n",
    "* `sex`: male = 1, female = 2,\n",
    "\n",
    "* `smoker`: yes = 1, no = 0,\n",
    "\n",
    "* `region`: northeast = $\\displaystyle\\frac{\\pi}{4}$, northwest = $\\displaystyle\\frac{3\\pi}{4}$, southwest = $\\displaystyle\\frac{5\\pi}{4}$, southeast = $\\displaystyle\\frac{7\\pi}{4}$. We use the representation of direction by their angle on unit circle. If we compute the method `.mean`, it will make a sense (where is the region whose citizens are the most recorded)."
   ]
  },
  {
   "cell_type": "code",
   "execution_count": 12,
   "metadata": {
    "colab": {
     "base_uri": "https://localhost:8080/",
     "height": 424
    },
    "colab_type": "code",
    "id": "epUomxKVQiJu",
    "outputId": "b73f7758-8b14-464d-cc49-3213eecf74ff"
   },
   "outputs": [
    {
     "data": {
      "text/html": [
       "<div>\n",
       "<style scoped>\n",
       "    .dataframe tbody tr th:only-of-type {\n",
       "        vertical-align: middle;\n",
       "    }\n",
       "\n",
       "    .dataframe tbody tr th {\n",
       "        vertical-align: top;\n",
       "    }\n",
       "\n",
       "    .dataframe thead th {\n",
       "        text-align: right;\n",
       "    }\n",
       "</style>\n",
       "<table border=\"1\" class=\"dataframe\">\n",
       "  <thead>\n",
       "    <tr style=\"text-align: right;\">\n",
       "      <th></th>\n",
       "      <th>age</th>\n",
       "      <th>sex</th>\n",
       "      <th>bmi</th>\n",
       "      <th>children</th>\n",
       "      <th>smoker</th>\n",
       "      <th>region</th>\n",
       "      <th>charges</th>\n",
       "    </tr>\n",
       "  </thead>\n",
       "  <tbody>\n",
       "    <tr>\n",
       "      <th>0</th>\n",
       "      <td>19</td>\n",
       "      <td>2</td>\n",
       "      <td>27.900</td>\n",
       "      <td>0</td>\n",
       "      <td>1</td>\n",
       "      <td>3.926991</td>\n",
       "      <td>16884.92400</td>\n",
       "    </tr>\n",
       "    <tr>\n",
       "      <th>1</th>\n",
       "      <td>18</td>\n",
       "      <td>1</td>\n",
       "      <td>33.770</td>\n",
       "      <td>1</td>\n",
       "      <td>0</td>\n",
       "      <td>5.497787</td>\n",
       "      <td>1725.55230</td>\n",
       "    </tr>\n",
       "    <tr>\n",
       "      <th>2</th>\n",
       "      <td>28</td>\n",
       "      <td>1</td>\n",
       "      <td>33.000</td>\n",
       "      <td>3</td>\n",
       "      <td>0</td>\n",
       "      <td>5.497787</td>\n",
       "      <td>4449.46200</td>\n",
       "    </tr>\n",
       "    <tr>\n",
       "      <th>3</th>\n",
       "      <td>33</td>\n",
       "      <td>1</td>\n",
       "      <td>22.705</td>\n",
       "      <td>0</td>\n",
       "      <td>0</td>\n",
       "      <td>2.356194</td>\n",
       "      <td>21984.47061</td>\n",
       "    </tr>\n",
       "    <tr>\n",
       "      <th>4</th>\n",
       "      <td>32</td>\n",
       "      <td>1</td>\n",
       "      <td>28.880</td>\n",
       "      <td>0</td>\n",
       "      <td>0</td>\n",
       "      <td>2.356194</td>\n",
       "      <td>3866.85520</td>\n",
       "    </tr>\n",
       "    <tr>\n",
       "      <th>...</th>\n",
       "      <td>...</td>\n",
       "      <td>...</td>\n",
       "      <td>...</td>\n",
       "      <td>...</td>\n",
       "      <td>...</td>\n",
       "      <td>...</td>\n",
       "      <td>...</td>\n",
       "    </tr>\n",
       "    <tr>\n",
       "      <th>1333</th>\n",
       "      <td>50</td>\n",
       "      <td>1</td>\n",
       "      <td>30.970</td>\n",
       "      <td>3</td>\n",
       "      <td>0</td>\n",
       "      <td>2.356194</td>\n",
       "      <td>10600.54830</td>\n",
       "    </tr>\n",
       "    <tr>\n",
       "      <th>1334</th>\n",
       "      <td>18</td>\n",
       "      <td>2</td>\n",
       "      <td>31.920</td>\n",
       "      <td>0</td>\n",
       "      <td>0</td>\n",
       "      <td>0.785398</td>\n",
       "      <td>2205.98080</td>\n",
       "    </tr>\n",
       "    <tr>\n",
       "      <th>1335</th>\n",
       "      <td>18</td>\n",
       "      <td>2</td>\n",
       "      <td>36.850</td>\n",
       "      <td>0</td>\n",
       "      <td>0</td>\n",
       "      <td>5.497787</td>\n",
       "      <td>1629.83350</td>\n",
       "    </tr>\n",
       "    <tr>\n",
       "      <th>1336</th>\n",
       "      <td>21</td>\n",
       "      <td>2</td>\n",
       "      <td>25.800</td>\n",
       "      <td>0</td>\n",
       "      <td>0</td>\n",
       "      <td>3.926991</td>\n",
       "      <td>2007.94500</td>\n",
       "    </tr>\n",
       "    <tr>\n",
       "      <th>1337</th>\n",
       "      <td>61</td>\n",
       "      <td>2</td>\n",
       "      <td>29.070</td>\n",
       "      <td>0</td>\n",
       "      <td>1</td>\n",
       "      <td>2.356194</td>\n",
       "      <td>29141.36030</td>\n",
       "    </tr>\n",
       "  </tbody>\n",
       "</table>\n",
       "<p>1338 rows × 7 columns</p>\n",
       "</div>"
      ],
      "text/plain": [
       "      age sex     bmi  children smoker    region      charges\n",
       "0      19   2  27.900         0      1  3.926991  16884.92400\n",
       "1      18   1  33.770         1      0  5.497787   1725.55230\n",
       "2      28   1  33.000         3      0  5.497787   4449.46200\n",
       "3      33   1  22.705         0      0  2.356194  21984.47061\n",
       "4      32   1  28.880         0      0  2.356194   3866.85520\n",
       "...   ...  ..     ...       ...    ...       ...          ...\n",
       "1333   50   1  30.970         3      0  2.356194  10600.54830\n",
       "1334   18   2  31.920         0      0  0.785398   2205.98080\n",
       "1335   18   2  36.850         0      0  5.497787   1629.83350\n",
       "1336   21   2  25.800         0      0  3.926991   2007.94500\n",
       "1337   61   2  29.070         0      1  2.356194  29141.36030\n",
       "\n",
       "[1338 rows x 7 columns]"
      ]
     },
     "execution_count": 12,
     "metadata": {},
     "output_type": "execute_result"
    }
   ],
   "source": [
    "dataset.loc[dataset['sex'] == 'male', 'sex'] = 1\n",
    "dataset.loc[dataset['sex'] == 'female', 'sex'] = 2\n",
    "\n",
    "dataset.loc[dataset['smoker'] == 'yes', 'smoker'] = 1\n",
    "dataset.loc[dataset['smoker'] == 'no', 'smoker'] = 0\n",
    "\n",
    "dataset.loc[dataset['region'] == 'northeast', 'region'] = np.pi/4\n",
    "dataset.loc[dataset['region'] == 'northwest', 'region'] = 3*np.pi/4\n",
    "dataset.loc[dataset['region'] == 'southwest', 'region'] = 5*np.pi/4\n",
    "dataset.loc[dataset['region'] == 'southeast', 'region'] = 7*np.pi/4\n",
    "\n",
    "dataset['region'] = pd.to_numeric(dataset['region'])\n",
    "\n",
    "dataset"
   ]
  },
  {
   "cell_type": "code",
   "execution_count": 13,
   "metadata": {
    "colab": {
     "base_uri": "https://localhost:8080/",
     "height": 206
    },
    "colab_type": "code",
    "id": "PuhKD20botvn",
    "outputId": "43bf950f-6a96-4fff-db74-c882662e15ca"
   },
   "outputs": [
    {
     "data": {
      "text/html": [
       "<div>\n",
       "<style scoped>\n",
       "    .dataframe tbody tr th:only-of-type {\n",
       "        vertical-align: middle;\n",
       "    }\n",
       "\n",
       "    .dataframe tbody tr th {\n",
       "        vertical-align: top;\n",
       "    }\n",
       "\n",
       "    .dataframe thead th {\n",
       "        text-align: right;\n",
       "    }\n",
       "</style>\n",
       "<table border=\"1\" class=\"dataframe\">\n",
       "  <thead>\n",
       "    <tr style=\"text-align: right;\">\n",
       "      <th></th>\n",
       "      <th>age</th>\n",
       "      <th>sex</th>\n",
       "      <th>bmi</th>\n",
       "      <th>children</th>\n",
       "      <th>smoker</th>\n",
       "      <th>region</th>\n",
       "    </tr>\n",
       "  </thead>\n",
       "  <tbody>\n",
       "    <tr>\n",
       "      <th>0</th>\n",
       "      <td>19</td>\n",
       "      <td>2</td>\n",
       "      <td>27.900</td>\n",
       "      <td>0</td>\n",
       "      <td>1</td>\n",
       "      <td>3.926991</td>\n",
       "    </tr>\n",
       "    <tr>\n",
       "      <th>1</th>\n",
       "      <td>18</td>\n",
       "      <td>1</td>\n",
       "      <td>33.770</td>\n",
       "      <td>1</td>\n",
       "      <td>0</td>\n",
       "      <td>5.497787</td>\n",
       "    </tr>\n",
       "    <tr>\n",
       "      <th>2</th>\n",
       "      <td>28</td>\n",
       "      <td>1</td>\n",
       "      <td>33.000</td>\n",
       "      <td>3</td>\n",
       "      <td>0</td>\n",
       "      <td>5.497787</td>\n",
       "    </tr>\n",
       "    <tr>\n",
       "      <th>3</th>\n",
       "      <td>33</td>\n",
       "      <td>1</td>\n",
       "      <td>22.705</td>\n",
       "      <td>0</td>\n",
       "      <td>0</td>\n",
       "      <td>2.356194</td>\n",
       "    </tr>\n",
       "    <tr>\n",
       "      <th>4</th>\n",
       "      <td>32</td>\n",
       "      <td>1</td>\n",
       "      <td>28.880</td>\n",
       "      <td>0</td>\n",
       "      <td>0</td>\n",
       "      <td>2.356194</td>\n",
       "    </tr>\n",
       "  </tbody>\n",
       "</table>\n",
       "</div>"
      ],
      "text/plain": [
       "   age sex     bmi  children smoker    region\n",
       "0   19   2  27.900         0      1  3.926991\n",
       "1   18   1  33.770         1      0  5.497787\n",
       "2   28   1  33.000         3      0  5.497787\n",
       "3   33   1  22.705         0      0  2.356194\n",
       "4   32   1  28.880         0      0  2.356194"
      ]
     },
     "execution_count": 13,
     "metadata": {},
     "output_type": "execute_result"
    }
   ],
   "source": [
    "target = dataset['charges']\n",
    "features = dataset.drop(columns='charges')\n",
    "\n",
    "features.head()"
   ]
  },
  {
   "cell_type": "markdown",
   "metadata": {
    "colab_type": "text",
    "id": "1k5TfULDV6f4"
   },
   "source": [
    "## Split the data into a training set and a test set."
   ]
  },
  {
   "cell_type": "code",
   "execution_count": 14,
   "metadata": {
    "colab": {},
    "colab_type": "code",
    "id": "WGfC_GlDnYm4"
   },
   "outputs": [],
   "source": [
    "class SortedStratifiedKFold:\n",
    "    \n",
    "    \"\"\"\n",
    "    This is a class for split data into a few groups, which is each group has same distribution.\n",
    "    Usually this method regarded as Stratified K Fold Cross Validation. But I create another one\n",
    "    for continuous data at target's dataset with Sorted Stratified K Fold method. This method inspired\n",
    "    by article (https://scottclowe.com/2016-03-19-stratified-regression-partitions/).\n",
    "    \n",
    "    This method is useful to make sure validation and test performance gives depicts \n",
    "    the expected performance of the model with less bias and variance.\n",
    "    \"\"\"\n",
    "    \n",
    "    def __init__(self, n_splits):\n",
    "        self._n_splits = n_splits\n",
    "    \n",
    "    def split(self, X, y):\n",
    "        x = X.copy()\n",
    "        \n",
    "        # sorted target values\n",
    "        self._sorted_idx = y.sort_values().index\n",
    "        \n",
    "        self._groups = [list() for _ in range(self._n_splits)]\n",
    "        it = int(np.ceil(x.shape[0] / self._n_splits))\n",
    "        \n",
    "        for i in range(it):\n",
    "            c = i * self._n_splits\n",
    "            \n",
    "            if (len(y) % self._n_splits != 0) and i==(it-1):\n",
    "                rand_idx = np.random.permutation(range(len(y) % self._n_splits)) + c\n",
    "                \n",
    "                for j in range(len(rand_idx)):\n",
    "                    self._groups[j].append(self._sorted_idx[rand_idx[j]])\n",
    "                \n",
    "            else:\n",
    "                rand_idx = np.random.permutation(range(self._n_splits)) + c\n",
    "                \n",
    "                for j in range(self._n_splits):\n",
    "                    self._groups[j].append(self._sorted_idx[rand_idx[j]])\n",
    "                    \n",
    "                  \n",
    "        return [(x.iloc[list(set(y.index) - set(idx))], y.iloc[list(set(y.index) - set(idx))], \n",
    "                                 x.iloc[idx], y.iloc[idx]) for idx in self._groups]"
   ]
  },
  {
   "cell_type": "markdown",
   "metadata": {
    "colab_type": "text",
    "id": "vBT1_z9wqi6Q"
   },
   "source": [
    "We divided the dataset into 5 groups to get 20% of data for test set"
   ]
  },
  {
   "cell_type": "code",
   "execution_count": 15,
   "metadata": {
    "colab": {
     "base_uri": "https://localhost:8080/",
     "height": 404
    },
    "colab_type": "code",
    "id": "C3CneLVqoQb4",
    "outputId": "b22eda7e-148a-4781-a168-47755e2f47c4"
   },
   "outputs": [
    {
     "data": {
      "image/png": "[encoded data removed]",
      "text/plain": [
       "<Figure size 1296x432 with 2 Axes>"
      ]
     },
     "metadata": {
      "needs_background": "light"
     },
     "output_type": "display_data"
    }
   ],
   "source": [
    "n_splits = 5\n",
    "\n",
    "ssfk = SortedStratifiedKFold(n_splits=n_splits)\n",
    "\n",
    "train_test_split = ssfk.split(features, target)\n",
    "train_features, train_target, test_features, test_target = train_test_split[0]\n",
    "\n",
    "plt.figure(figsize=(18,6))\n",
    "plt.subplot(121)\n",
    "train_target.hist().set_title('Train target data distribution')\n",
    "plt.xlabel('charges')\n",
    "plt.ylabel('freq.')\n",
    "\n",
    "plt.subplot(122)\n",
    "test_target.hist().set_title('Test target data distribution')\n",
    "plt.xlabel('charges')\n",
    "plt.ylabel('freq.');"
   ]
  },
  {
   "cell_type": "code",
   "execution_count": 16,
   "metadata": {
    "colab": {
     "base_uri": "https://localhost:8080/",
     "height": 235
    },
    "colab_type": "code",
    "id": "7zgpbigsMt7G",
    "outputId": "0086bc27-47f7-4a3b-ae2b-1059793d30ea"
   },
   "outputs": [
    {
     "data": {
      "text/plain": [
       "22       1137.01100\n",
       "442      1149.39590\n",
       "487      1253.93600\n",
       "385      1261.85900\n",
       "77       1532.46970\n",
       "           ...     \n",
       "94      47291.05500\n",
       "288     47896.79135\n",
       "1062    48970.24760\n",
       "577     58571.07448\n",
       "1300    62592.87309\n",
       "Name: charges, Length: 268, dtype: float64"
      ]
     },
     "execution_count": 16,
     "metadata": {},
     "output_type": "execute_result"
    }
   ],
   "source": [
    "test_target"
   ]
  },
  {
   "cell_type": "markdown",
   "metadata": {
    "colab_type": "text",
    "id": "ZwYyBYWEW7eU"
   },
   "source": [
    "## Inspect the data\n",
    "\n",
    "We look at the joint distribution of a few pairs of columns from the training set. The diagonal elements represent kernel density estimation (kde) for univariate variables for given columns. We include all the columns to inspect which variable has a correlation to another variable"
   ]
  },
  {
   "cell_type": "code",
   "execution_count": 17,
   "metadata": {
    "colab": {
     "base_uri": "https://localhost:8080/",
     "height": 206
    },
    "colab_type": "code",
    "id": "gcJVPodLtNkI",
    "outputId": "59256ff2-0e6f-4687-a4a2-e38bb6893a8f"
   },
   "outputs": [
    {
     "data": {
      "text/html": [
       "<div>\n",
       "<style scoped>\n",
       "    .dataframe tbody tr th:only-of-type {\n",
       "        vertical-align: middle;\n",
       "    }\n",
       "\n",
       "    .dataframe tbody tr th {\n",
       "        vertical-align: top;\n",
       "    }\n",
       "\n",
       "    .dataframe thead th {\n",
       "        text-align: right;\n",
       "    }\n",
       "</style>\n",
       "<table border=\"1\" class=\"dataframe\">\n",
       "  <thead>\n",
       "    <tr style=\"text-align: right;\">\n",
       "      <th></th>\n",
       "      <th>age</th>\n",
       "      <th>sex</th>\n",
       "      <th>bmi</th>\n",
       "      <th>children</th>\n",
       "      <th>smoker</th>\n",
       "      <th>region</th>\n",
       "      <th>charges</th>\n",
       "    </tr>\n",
       "  </thead>\n",
       "  <tbody>\n",
       "    <tr>\n",
       "      <th>1</th>\n",
       "      <td>18</td>\n",
       "      <td>1</td>\n",
       "      <td>33.770</td>\n",
       "      <td>1</td>\n",
       "      <td>0</td>\n",
       "      <td>5.497787</td>\n",
       "      <td>1725.55230</td>\n",
       "    </tr>\n",
       "    <tr>\n",
       "      <th>3</th>\n",
       "      <td>33</td>\n",
       "      <td>1</td>\n",
       "      <td>22.705</td>\n",
       "      <td>0</td>\n",
       "      <td>0</td>\n",
       "      <td>2.356194</td>\n",
       "      <td>21984.47061</td>\n",
       "    </tr>\n",
       "    <tr>\n",
       "      <th>4</th>\n",
       "      <td>32</td>\n",
       "      <td>1</td>\n",
       "      <td>28.880</td>\n",
       "      <td>0</td>\n",
       "      <td>0</td>\n",
       "      <td>2.356194</td>\n",
       "      <td>3866.85520</td>\n",
       "    </tr>\n",
       "    <tr>\n",
       "      <th>5</th>\n",
       "      <td>31</td>\n",
       "      <td>2</td>\n",
       "      <td>25.740</td>\n",
       "      <td>0</td>\n",
       "      <td>0</td>\n",
       "      <td>5.497787</td>\n",
       "      <td>3756.62160</td>\n",
       "    </tr>\n",
       "    <tr>\n",
       "      <th>6</th>\n",
       "      <td>46</td>\n",
       "      <td>2</td>\n",
       "      <td>33.440</td>\n",
       "      <td>1</td>\n",
       "      <td>0</td>\n",
       "      <td>5.497787</td>\n",
       "      <td>8240.58960</td>\n",
       "    </tr>\n",
       "  </tbody>\n",
       "</table>\n",
       "</div>"
      ],
      "text/plain": [
       "   age sex     bmi  children smoker    region      charges\n",
       "1   18   1  33.770         1      0  5.497787   1725.55230\n",
       "3   33   1  22.705         0      0  2.356194  21984.47061\n",
       "4   32   1  28.880         0      0  2.356194   3866.85520\n",
       "5   31   2  25.740         0      0  5.497787   3756.62160\n",
       "6   46   2  33.440         1      0  5.497787   8240.58960"
      ]
     },
     "execution_count": 17,
     "metadata": {},
     "output_type": "execute_result"
    }
   ],
   "source": [
    "train_dataset = train_features.copy()\n",
    "train_dataset[train_target.name] = train_target.copy()\n",
    "train_dataset.head()"
   ]
  },
  {
   "cell_type": "code",
   "execution_count": 18,
   "metadata": {
    "colab": {
     "base_uri": "https://localhost:8080/",
     "height": 1000
    },
    "colab_type": "code",
    "id": "iK4789xEWxtj",
    "outputId": "4d9596ca-2dc4-4a12-a78c-64979055f434"
   },
   "outputs": [
    {
     "data": {
      "image/png": "[encoded data removed]",
      "text/plain": [
       "<Figure size 1008x1008 with 56 Axes>"
      ]
     },
     "metadata": {
      "needs_background": "light"
     },
     "output_type": "display_data"
    }
   ],
   "source": [
    "sns.pairplot(train_dataset[['age', 'sex', 'bmi', 'children', 'smoker', \n",
    "                            'region', 'charges']], \n",
    "             diag_kind='kde', height=2);"
   ]
  },
  {
   "cell_type": "markdown",
   "metadata": {
    "colab_type": "text",
    "id": "ZPzyen-Vd0Io"
   },
   "source": [
    "If we look at the above table, we can easily notice how categorical and numerical data behave. For continous ones, they are correlated like many clusters, but for the discrete ones, they grouped and distributed by their categories.\n",
    "\n",
    "We also inspect at their statistical description:"
   ]
  },
  {
   "cell_type": "code",
   "execution_count": 85,
   "metadata": {
    "colab": {
     "base_uri": "https://localhost:8080/",
     "height": 237
    },
    "colab_type": "code",
    "id": "Q7FTmLoaXx4g",
    "outputId": "29e44e4f-f97c-40bc-b436-600e52582c3c"
   },
   "outputs": [
    {
     "data": {
      "text/html": [
       "<div>\n",
       "<style scoped>\n",
       "    .dataframe tbody tr th:only-of-type {\n",
       "        vertical-align: middle;\n",
       "    }\n",
       "\n",
       "    .dataframe tbody tr th {\n",
       "        vertical-align: top;\n",
       "    }\n",
       "\n",
       "    .dataframe thead th {\n",
       "        text-align: right;\n",
       "    }\n",
       "</style>\n",
       "<table border=\"1\" class=\"dataframe\">\n",
       "  <thead>\n",
       "    <tr style=\"text-align: right;\">\n",
       "      <th></th>\n",
       "      <th>count</th>\n",
       "      <th>mean</th>\n",
       "      <th>std</th>\n",
       "      <th>min</th>\n",
       "      <th>25%</th>\n",
       "      <th>50%</th>\n",
       "      <th>75%</th>\n",
       "      <th>max</th>\n",
       "    </tr>\n",
       "  </thead>\n",
       "  <tbody>\n",
       "    <tr>\n",
       "      <th>age</th>\n",
       "      <td>1070.0</td>\n",
       "      <td>39.211215</td>\n",
       "      <td>14.070392</td>\n",
       "      <td>18.000000</td>\n",
       "      <td>26.000000</td>\n",
       "      <td>39.000000</td>\n",
       "      <td>51.000000</td>\n",
       "      <td>64.000000</td>\n",
       "    </tr>\n",
       "    <tr>\n",
       "      <th>sex</th>\n",
       "      <td>1070.0</td>\n",
       "      <td>1.502804</td>\n",
       "      <td>0.500226</td>\n",
       "      <td>1.000000</td>\n",
       "      <td>1.000000</td>\n",
       "      <td>2.000000</td>\n",
       "      <td>2.000000</td>\n",
       "      <td>2.000000</td>\n",
       "    </tr>\n",
       "    <tr>\n",
       "      <th>bmi</th>\n",
       "      <td>1070.0</td>\n",
       "      <td>30.739514</td>\n",
       "      <td>6.102563</td>\n",
       "      <td>16.815000</td>\n",
       "      <td>26.336250</td>\n",
       "      <td>30.352500</td>\n",
       "      <td>34.770000</td>\n",
       "      <td>52.580000</td>\n",
       "    </tr>\n",
       "    <tr>\n",
       "      <th>children</th>\n",
       "      <td>1070.0</td>\n",
       "      <td>1.093458</td>\n",
       "      <td>1.194254</td>\n",
       "      <td>0.000000</td>\n",
       "      <td>0.000000</td>\n",
       "      <td>1.000000</td>\n",
       "      <td>2.000000</td>\n",
       "      <td>5.000000</td>\n",
       "    </tr>\n",
       "    <tr>\n",
       "      <th>smoker</th>\n",
       "      <td>1070.0</td>\n",
       "      <td>0.201869</td>\n",
       "      <td>0.401583</td>\n",
       "      <td>0.000000</td>\n",
       "      <td>0.000000</td>\n",
       "      <td>0.000000</td>\n",
       "      <td>0.000000</td>\n",
       "      <td>1.000000</td>\n",
       "    </tr>\n",
       "    <tr>\n",
       "      <th>region</th>\n",
       "      <td>1070.0</td>\n",
       "      <td>3.225271</td>\n",
       "      <td>1.762903</td>\n",
       "      <td>0.785398</td>\n",
       "      <td>2.356194</td>\n",
       "      <td>3.926991</td>\n",
       "      <td>5.497787</td>\n",
       "      <td>5.497787</td>\n",
       "    </tr>\n",
       "  </tbody>\n",
       "</table>\n",
       "</div>"
      ],
      "text/plain": [
       "           count       mean        std  ...        50%        75%        max\n",
       "age       1070.0  39.211215  14.070392  ...  39.000000  51.000000  64.000000\n",
       "sex       1070.0   1.502804   0.500226  ...   2.000000   2.000000   2.000000\n",
       "bmi       1070.0  30.739514   6.102563  ...  30.352500  34.770000  52.580000\n",
       "children  1070.0   1.093458   1.194254  ...   1.000000   2.000000   5.000000\n",
       "smoker    1070.0   0.201869   0.401583  ...   0.000000   0.000000   1.000000\n",
       "region    1070.0   3.225271   1.762903  ...   3.926991   5.497787   5.497787\n",
       "\n",
       "[6 rows x 8 columns]"
      ]
     },
     "execution_count": 85,
     "metadata": {
      "tags": []
     },
     "output_type": "execute_result"
    }
   ],
   "source": [
    "train_stats = train_dataset.describe()\n",
    "train_stats.pop('charges')\n",
    "\n",
    "# for pretty output\n",
    "train_stats = train_stats.transpose()\n",
    "train_stats"
   ]
  },
  {
   "cell_type": "markdown",
   "metadata": {
    "colab_type": "text",
    "id": "2DjgkfdYpr9b"
   },
   "source": [
    "## Normalize the data"
   ]
  },
  {
   "cell_type": "code",
   "execution_count": 0,
   "metadata": {
    "colab": {},
    "colab_type": "code",
    "id": "XJjXQ4wFpzTC"
   },
   "outputs": [],
   "source": [
    "def normalize(x_val):\n",
    "    return (x_val - train_stats['mean']) / train_stats['std']\n",
    "\n",
    "normed_train_features = normalize(train_features)\n",
    "normed_test_features = normalize(test_features)"
   ]
  },
  {
   "cell_type": "code",
   "execution_count": 87,
   "metadata": {
    "colab": {
     "base_uri": "https://localhost:8080/",
     "height": 206
    },
    "colab_type": "code",
    "id": "jm9U0OUw7saq",
    "outputId": "537a961c-fb1b-48ae-ef9b-0a470354476d"
   },
   "outputs": [
    {
     "data": {
      "text/html": [
       "<div>\n",
       "<style scoped>\n",
       "    .dataframe tbody tr th:only-of-type {\n",
       "        vertical-align: middle;\n",
       "    }\n",
       "\n",
       "    .dataframe tbody tr th {\n",
       "        vertical-align: top;\n",
       "    }\n",
       "\n",
       "    .dataframe thead th {\n",
       "        text-align: right;\n",
       "    }\n",
       "</style>\n",
       "<table border=\"1\" class=\"dataframe\">\n",
       "  <thead>\n",
       "    <tr style=\"text-align: right;\">\n",
       "      <th></th>\n",
       "      <th>age</th>\n",
       "      <th>sex</th>\n",
       "      <th>bmi</th>\n",
       "      <th>children</th>\n",
       "      <th>smoker</th>\n",
       "      <th>region</th>\n",
       "    </tr>\n",
       "  </thead>\n",
       "  <tbody>\n",
       "    <tr>\n",
       "      <th>0</th>\n",
       "      <td>-1.436436</td>\n",
       "      <td>0.993943</td>\n",
       "      <td>-0.465299</td>\n",
       "      <td>-0.915599</td>\n",
       "      <td>1.987463</td>\n",
       "      <td>0.398048</td>\n",
       "    </tr>\n",
       "    <tr>\n",
       "      <th>1</th>\n",
       "      <td>-1.507507</td>\n",
       "      <td>-1.005153</td>\n",
       "      <td>0.496592</td>\n",
       "      <td>-0.078256</td>\n",
       "      <td>-0.502684</td>\n",
       "      <td>1.289077</td>\n",
       "    </tr>\n",
       "    <tr>\n",
       "      <th>2</th>\n",
       "      <td>-0.796795</td>\n",
       "      <td>-1.005153</td>\n",
       "      <td>0.370416</td>\n",
       "      <td>1.596429</td>\n",
       "      <td>-0.502684</td>\n",
       "      <td>1.289077</td>\n",
       "    </tr>\n",
       "    <tr>\n",
       "      <th>3</th>\n",
       "      <td>-0.441439</td>\n",
       "      <td>-1.005153</td>\n",
       "      <td>-1.316580</td>\n",
       "      <td>-0.915599</td>\n",
       "      <td>-0.502684</td>\n",
       "      <td>-0.492980</td>\n",
       "    </tr>\n",
       "    <tr>\n",
       "      <th>4</th>\n",
       "      <td>-0.512510</td>\n",
       "      <td>-1.005153</td>\n",
       "      <td>-0.304710</td>\n",
       "      <td>-0.915599</td>\n",
       "      <td>-0.502684</td>\n",
       "      <td>-0.492980</td>\n",
       "    </tr>\n",
       "  </tbody>\n",
       "</table>\n",
       "</div>"
      ],
      "text/plain": [
       "        age       sex       bmi  children    smoker    region\n",
       "0 -1.436436  0.993943 -0.465299 -0.915599  1.987463  0.398048\n",
       "1 -1.507507 -1.005153  0.496592 -0.078256 -0.502684  1.289077\n",
       "2 -0.796795 -1.005153  0.370416  1.596429 -0.502684  1.289077\n",
       "3 -0.441439 -1.005153 -1.316580 -0.915599 -0.502684 -0.492980\n",
       "4 -0.512510 -1.005153 -0.304710 -0.915599 -0.502684 -0.492980"
      ]
     },
     "execution_count": 87,
     "metadata": {
      "tags": []
     },
     "output_type": "execute_result"
    }
   ],
   "source": [
    "normed_train_features.head()"
   ]
  },
  {
   "cell_type": "markdown",
   "metadata": {
    "colab_type": "text",
    "id": "4SuB__1GJFJL"
   },
   "source": [
    "# Modelling Data"
   ]
  },
  {
   "cell_type": "markdown",
   "metadata": {
    "colab_type": "text",
    "id": "yGlBj4oFvEgw"
   },
   "source": [
    "## Construct the model\n",
    "In this model we use the multilayer perceptron model with two densely connected hidden layars (`layer.Dense(64)`), and an output layer that returns a single continuous value (`layer.Dense(1)`).\n"
   ]
  },
  {
   "cell_type": "code",
   "execution_count": 0,
   "metadata": {
    "colab": {},
    "colab_type": "code",
    "id": "Q18Ww5EswCdV"
   },
   "outputs": [],
   "source": [
    "def multilayer_perceptron(num_features, learning_rate, optimizers, regularizer_rate=0, dropout_rate=0):\n",
    "    \n",
    "    num_perceptron=64\n",
    "    \n",
    "    # set optimizers\n",
    "    if optimizers=='adam':\n",
    "        opt = tf.keras.optimizers.Adam(lr=learning_rate)\n",
    "    elif optimizers=='rmsprop':\n",
    "        opt = tf.keras.optimizers.RMSprop(lr=learning_rate)\n",
    "    elif optimizers=='sgd':\n",
    "        opt = tf.keras.optimizers.SGD(lr=learning_rate)\n",
    "    \n",
    "    \n",
    "    model = tf.keras.models.Sequential()\n",
    "    model.add(tf.keras.layers.Dense(units=num_perceptron, activation='relu', \n",
    "                                    kernel_regularizer=tf.keras.regularizers.l2(regularizer_rate), \n",
    "                                    input_shape=(num_features,)))\n",
    "    model.add(tf.keras.layers.Dropout(dropout_rate))\n",
    "    model.add(tf.keras.layers.Dense(units=num_perceptron, \n",
    "                                    kernel_regularizer=tf.keras.regularizers.l2(regularizer_rate), \n",
    "                                    activation='relu'))\n",
    "    model.add(tf.keras.layers.Dropout(dropout_rate))\n",
    "    model.add(tf.keras.layers.Dense(units=1, activation='relu'))\n",
    "    \n",
    "        \n",
    "    model.compile(optimizer=opt, loss='mae', \n",
    "                  metrics=['mae', 'mse'])\n",
    "    \n",
    "    return model\n",
    "    \n",
    "    \n",
    "def train_model(model, features, target, epoch):\n",
    "    \n",
    "    history = model.fit(x=features, y=target, epochs=epoch, verbose=0)\n",
    "    \n",
    "    hist = pd.DataFrame(history.history)\n",
    "    \n",
    "    return model, hist"
   ]
  },
  {
   "cell_type": "markdown",
   "metadata": {
    "colab_type": "text",
    "id": "rR5NmjFQ432e"
   },
   "source": [
    "## Hypertuning Parameter"
   ]
  },
  {
   "cell_type": "markdown",
   "metadata": {
    "colab_type": "text",
    "id": "X5i6-PDp4-ul"
   },
   "source": [
    "### Optimizer with different learning rate"
   ]
  },
  {
   "cell_type": "code",
   "execution_count": 0,
   "metadata": {
    "colab": {},
    "colab_type": "code",
    "id": "AW6UbhPnFMzB"
   },
   "outputs": [],
   "source": [
    "normed_train_features = normed_train_features.reset_index()[features.columns]\n",
    "train_target = train_target.reset_index()['charges']\n",
    "\n",
    "n_splits_target = 4\n",
    "\n",
    "ssfk = SortedStratifiedKFold(n_splits=n_splits_target)\n",
    "\n",
    "# train_val_split contains four elements of tuples \n",
    "# (train_feature, train_target, test_feature, test_target) because we use \n",
    "# n_splits_target is 80% of the remaining data\n",
    "\n",
    "train_val_split = ssfk.split(normed_train_features, train_target)"
   ]
  },
  {
   "cell_type": "code",
   "execution_count": 90,
   "metadata": {
    "colab": {
     "base_uri": "https://localhost:8080/",
     "height": 1000
    },
    "colab_type": "code",
    "id": "h_9N5Py6EhCa",
    "outputId": "66abc88d-92a8-41c1-b010-a4915f2846a9"
   },
   "outputs": [
    {
     "data": {
      "image/png": "[encoded data removed]",
      "text/plain": [
       "<Figure size 1152x2160 with 8 Axes>"
      ]
     },
     "metadata": {
      "tags": []
     },
     "output_type": "display_data"
    }
   ],
   "source": [
    "plt.figure(figsize=(16, 30))\n",
    "for i, (train_feature, train_target, test_feature, test_target) in enumerate(train_val_split):\n",
    "    plt.subplot(4, 2, 2*i + 1)\n",
    "    train_target.hist().set_title(\"train target data distribution\")\n",
    "    plt.xlabel('charges')\n",
    "    plt.ylabel('freq.')\n",
    "    \n",
    "    plt.subplot(4, 2, 2*(i+1))\n",
    "    test_target.hist().set_title(\"test target data distribution\")\n",
    "    plt.xlabel('charges')\n",
    "    plt.ylabel('freq.')\n",
    "\n",
    "plt.subplots_adjust(hspace=0.3)"
   ]
  },
  {
   "cell_type": "code",
   "execution_count": 91,
   "metadata": {
    "colab": {
     "base_uri": "https://localhost:8080/",
     "height": 35
    },
    "colab_type": "code",
    "id": "Ej91jGMYS5zX",
    "outputId": "d44a837f-1dc7-45cd-fe68-56ac49ce7a8c"
   },
   "outputs": [
    {
     "data": {
      "text/plain": [
       "(803,)"
      ]
     },
     "execution_count": 91,
     "metadata": {
      "tags": []
     },
     "output_type": "execute_result"
    }
   ],
   "source": [
    "train_target.shape"
   ]
  },
  {
   "cell_type": "code",
   "execution_count": 92,
   "metadata": {
    "colab": {
     "base_uri": "https://localhost:8080/",
     "height": 331
    },
    "colab_type": "code",
    "id": "KsDpJX8QRJpB",
    "outputId": "c566cb93-5839-4f33-9bdc-a1102e936f4c"
   },
   "outputs": [
    {
     "data": {
      "text/html": [
       "<div>\n",
       "<style scoped>\n",
       "    .dataframe tbody tr th:only-of-type {\n",
       "        vertical-align: middle;\n",
       "    }\n",
       "\n",
       "    .dataframe tbody tr th {\n",
       "        vertical-align: top;\n",
       "    }\n",
       "\n",
       "    .dataframe thead th {\n",
       "        text-align: right;\n",
       "    }\n",
       "</style>\n",
       "<table border=\"1\" class=\"dataframe\">\n",
       "  <thead>\n",
       "    <tr style=\"text-align: right;\">\n",
       "      <th></th>\n",
       "      <th>Learning Rate</th>\n",
       "    </tr>\n",
       "  </thead>\n",
       "  <tbody>\n",
       "    <tr>\n",
       "      <th>0</th>\n",
       "      <td>0.0010</td>\n",
       "    </tr>\n",
       "    <tr>\n",
       "      <th>1</th>\n",
       "      <td>0.0025</td>\n",
       "    </tr>\n",
       "    <tr>\n",
       "      <th>2</th>\n",
       "      <td>0.0050</td>\n",
       "    </tr>\n",
       "    <tr>\n",
       "      <th>3</th>\n",
       "      <td>0.0075</td>\n",
       "    </tr>\n",
       "    <tr>\n",
       "      <th>4</th>\n",
       "      <td>0.0100</td>\n",
       "    </tr>\n",
       "    <tr>\n",
       "      <th>5</th>\n",
       "      <td>0.0250</td>\n",
       "    </tr>\n",
       "    <tr>\n",
       "      <th>6</th>\n",
       "      <td>0.0500</td>\n",
       "    </tr>\n",
       "    <tr>\n",
       "      <th>7</th>\n",
       "      <td>0.0750</td>\n",
       "    </tr>\n",
       "    <tr>\n",
       "      <th>8</th>\n",
       "      <td>0.1000</td>\n",
       "    </tr>\n",
       "  </tbody>\n",
       "</table>\n",
       "</div>"
      ],
      "text/plain": [
       "   Learning Rate\n",
       "0         0.0010\n",
       "1         0.0025\n",
       "2         0.0050\n",
       "3         0.0075\n",
       "4         0.0100\n",
       "5         0.0250\n",
       "6         0.0500\n",
       "7         0.0750\n",
       "8         0.1000"
      ]
     },
     "execution_count": 92,
     "metadata": {
      "tags": []
     },
     "output_type": "execute_result"
    }
   ],
   "source": [
    "learning_rates_list = [.001, .0025, .005, .0075, .01, .025, .05, .075, .1]\n",
    "result_report = pd.DataFrame({'Learning Rate': learning_rates_list})\n",
    "result_report"
   ]
  },
  {
   "cell_type": "code",
   "execution_count": 0,
   "metadata": {
    "colab": {
     "base_uri": "https://localhost:8080/",
     "height": 1000
    },
    "colab_type": "code",
    "id": "A6zIeOq15Fpb",
    "outputId": "02dfc824-a941-4bb5-90d8-172ca565164a"
   },
   "outputs": [
    {
     "name": "stdout",
     "output_type": "stream",
     "text": [
      "n_split_target: 1\n",
      "    Adam training process...\n",
      "9/9 [==============================] - 0s 2ms/step - loss: 1799.3560 - mae: 1628.9569 - mse: 23450144.0000\n",
      "9/9 [==============================] - 0s 1ms/step - loss: 1736.2552 - mae: 1558.5857 - mse: 23723020.0000\n",
      "9/9 [==============================] - 0s 2ms/step - loss: 1741.9043 - mae: 1581.7072 - mse: 23364874.0000\n",
      "9/9 [==============================] - 0s 1ms/step - loss: 1871.0962 - mae: 1693.9711 - mse: 23596800.0000\n",
      "9/9 [==============================] - 0s 2ms/step - loss: 1753.0817 - mae: 1584.7881 - mse: 23692364.0000\n",
      "9/9 [==============================] - 0s 2ms/step - loss: 1853.7012 - mae: 1637.3064 - mse: 23033668.0000\n",
      "9/9 [==============================] - 0s 2ms/step - loss: 1909.0319 - mae: 1695.9739 - mse: 23347732.0000\n",
      "9/9 [==============================] - 0s 2ms/step - loss: 1695.0972 - mae: 1557.9530 - mse: 23382132.0000\n",
      "9/9 [==============================] - 0s 2ms/step - loss: 2081.8174 - mae: 1887.0195 - mse: 28596516.0000\n",
      "    RMSprop training process...\n",
      "9/9 [==============================] - 0s 2ms/step - loss: 1774.9624 - mae: 1603.1311 - mse: 23362198.0000\n",
      "9/9 [==============================] - 0s 2ms/step - loss: 1772.7484 - mae: 1608.3816 - mse: 23614864.0000\n",
      "9/9 [==============================] - 0s 2ms/step - loss: 1797.4854 - mae: 1646.2050 - mse: 22898992.0000\n",
      "9/9 [==============================] - 0s 1ms/step - loss: 1782.1313 - mae: 1620.8804 - mse: 23586806.0000\n",
      "9/9 [==============================] - 0s 2ms/step - loss: 1958.9501 - mae: 1768.3304 - mse: 22362574.0000\n",
      "9/9 [==============================] - 0s 1ms/step - loss: 2390.4832 - mae: 2058.2126 - mse: 30111552.0000\n",
      "9/9 [==============================] - 0s 1ms/step - loss: 2388.1665 - mae: 2200.1526 - mse: 39534996.0000\n",
      "9/9 [==============================] - 0s 2ms/step - loss: 2205.3040 - mae: 1965.5046 - mse: 31796836.0000\n",
      "9/9 [==============================] - 0s 2ms/step - loss: 2222.7712 - mae: 2014.6176 - mse: 25306298.0000\n",
      "    SGD training process...\n",
      "9/9 [==============================] - 0s 2ms/step - loss: 2310.2361 - mae: 2089.9141 - mse: 25737938.0000\n",
      "9/9 [==============================] - 0s 2ms/step - loss: 2744.3931 - mae: 2485.3042 - mse: 26655638.0000\n",
      "9/9 [==============================] - 0s 1ms/step - loss: 2729.3088 - mae: 2394.1411 - mse: 29304872.0000\n",
      "9/9 [==============================] - 0s 1ms/step - loss: 3333.3354 - mae: 2897.9282 - mse: 28781792.0000\n",
      "9/9 [==============================] - 0s 2ms/step - loss: 6981.8057 - mae: 5572.5581 - mse: 111882088.0000\n",
      "9/9 [==============================] - 0s 1ms/step - loss: 7984.1621 - mae: 7737.6797 - mse: 105895800.0000\n",
      "9/9 [==============================] - 0s 2ms/step - loss: 12268.1025 - mae: 9886.9014 - mse: 236779792.0000\n",
      "9/9 [==============================] - 0s 1ms/step - loss: 11597.2207 - mae: 9261.4131 - mse: 215056688.0000\n",
      "9/9 [==============================] - 0s 1ms/step - loss: 11815.7080 - mae: 9462.3359 - mse: 222480672.0000\n",
      "n_split_target: 2\n",
      "    Adam training process...\n",
      "9/9 [==============================] - 0s 2ms/step - loss: 1617.7572 - mae: 1594.5522 - mse: 24325382.0000\n",
      "9/9 [==============================] - 0s 1ms/step - loss: 1613.5168 - mae: 1589.3042 - mse: 24217330.0000\n",
      "9/9 [==============================] - 0s 2ms/step - loss: 1668.2601 - mae: 1647.5471 - mse: 24129814.0000\n",
      "9/9 [==============================] - 0s 1ms/step - loss: 1618.6887 - mae: 1590.7726 - mse: 24175152.0000\n",
      "9/9 [==============================] - 0s 1ms/step - loss: 1727.0538 - mae: 1688.1219 - mse: 24259202.0000\n",
      "9/9 [==============================] - 0s 1ms/step - loss: 1975.9303 - mae: 1832.0658 - mse: 26377874.0000\n",
      "9/9 [==============================] - 0s 1ms/step - loss: 1817.1138 - mae: 1749.5674 - mse: 24348106.0000\n",
      "9/9 [==============================] - 0s 2ms/step - loss: 1853.3181 - mae: 1833.3596 - mse: 25667040.0000\n",
      "9/9 [==============================] - 0s 2ms/step - loss: 2076.4397 - mae: 1966.5215 - mse: 27361188.0000\n",
      "    RMSprop training process...\n",
      "9/9 [==============================] - 0s 1ms/step - loss: 1631.6715 - mae: 1602.2524 - mse: 24290124.0000\n",
      "9/9 [==============================] - 0s 1ms/step - loss: 1770.9058 - mae: 1697.0497 - mse: 24340536.0000\n",
      "9/9 [==============================] - 0s 2ms/step - loss: 1643.8087 - mae: 1609.8384 - mse: 23987754.0000\n",
      "9/9 [==============================] - 0s 1ms/step - loss: 1712.7209 - mae: 1673.5247 - mse: 23844574.0000\n",
      "9/9 [==============================] - 0s 1ms/step - loss: 1941.3889 - mae: 1884.1912 - mse: 25226962.0000\n",
      "9/9 [==============================] - 0s 1ms/step - loss: 2370.7529 - mae: 2385.8608 - mse: 34175968.0000\n",
      "9/9 [==============================] - 0s 1ms/step - loss: 2181.3384 - mae: 2173.3120 - mse: 29236516.0000\n",
      "9/9 [==============================] - 0s 1ms/step - loss: 2055.5642 - mae: 1962.6609 - mse: 26784192.0000\n",
      "9/9 [==============================] - 0s 1ms/step - loss: 2039.3876 - mae: 1994.3394 - mse: 30402826.0000\n",
      "    SGD training process...\n",
      "9/9 [==============================] - 0s 1ms/step - loss: 15677.1895 - mae: 13320.3389 - mse: 325416128.0000\n",
      "9/9 [==============================] - 0s 2ms/step - loss: 4073.4275 - mae: 3425.1936 - mse: 42726516.0000\n",
      "9/9 [==============================] - 0s 2ms/step - loss: 2735.0823 - mae: 2516.3613 - mse: 27362318.0000\n",
      "9/9 [==============================] - 0s 2ms/step - loss: 5647.3638 - mae: 4518.1792 - mse: 65945180.0000\n",
      "9/9 [==============================] - 0s 2ms/step - loss: 2786.3176 - mae: 2696.8870 - mse: 28635442.0000\n",
      "9/9 [==============================] - 0s 1ms/step - loss: 7822.0244 - mae: 7405.6968 - mse: 90721192.0000\n",
      "9/9 [==============================] - 0s 1ms/step - loss: 15677.1895 - mae: 13320.3389 - mse: 325416128.0000\n",
      "9/9 [==============================] - 0s 1ms/step - loss: 11528.7100 - mae: 9258.8135 - mse: 212091520.0000\n",
      "9/9 [==============================] - 0s 1ms/step - loss: 11099.2451 - mae: 8873.9072 - mse: 196706688.0000\n",
      "n_split_target: 3\n",
      "    Adam training process...\n",
      "9/9 [==============================] - 0s 1ms/step - loss: 1106.0222 - mae: 1120.6627 - mse: 17193088.0000\n",
      "9/9 [==============================] - 0s 1ms/step - loss: 1128.0833 - mae: 1149.6981 - mse: 17215856.0000\n",
      "9/9 [==============================] - 0s 2ms/step - loss: 1118.0486 - mae: 1140.3638 - mse: 17181500.0000\n",
      "9/9 [==============================] - 0s 2ms/step - loss: 1113.7916 - mae: 1118.2788 - mse: 16981248.0000\n",
      "9/9 [==============================] - 0s 2ms/step - loss: 1184.3544 - mae: 1204.5431 - mse: 18434762.0000\n",
      "9/9 [==============================] - 0s 1ms/step - loss: 1343.7260 - mae: 1285.2249 - mse: 17632578.0000\n",
      "9/9 [==============================] - 0s 1ms/step - loss: 1618.0580 - mae: 1606.9685 - mse: 23271638.0000\n",
      "9/9 [==============================] - 0s 1ms/step - loss: 1055.3562 - mae: 1073.1018 - mse: 17019430.0000\n",
      "9/9 [==============================] - 0s 1ms/step - loss: 1083.4078 - mae: 1085.2008 - mse: 16798558.0000\n",
      "    RMSprop training process...\n",
      "9/9 [==============================] - 0s 1ms/step - loss: 1114.2032 - mae: 1137.7825 - mse: 17224290.0000\n",
      "9/9 [==============================] - 0s 1ms/step - loss: 1101.9216 - mae: 1123.9625 - mse: 17281326.0000\n",
      "9/9 [==============================] - 0s 2ms/step - loss: 1178.5115 - mae: 1203.4689 - mse: 17757274.0000\n",
      "9/9 [==============================] - 0s 2ms/step - loss: 1319.1439 - mae: 1325.2684 - mse: 18433552.0000\n",
      "9/9 [==============================] - 0s 2ms/step - loss: 1447.3928 - mae: 1479.5258 - mse: 20164972.0000\n",
      "9/9 [==============================] - 0s 1ms/step - loss: 1944.3003 - mae: 1828.1348 - mse: 21368374.0000\n",
      "9/9 [==============================] - 0s 1ms/step - loss: 1926.0510 - mae: 1856.8103 - mse: 23407878.0000\n",
      "9/9 [==============================] - 0s 1ms/step - loss: 1839.8315 - mae: 1722.4354 - mse: 24330032.0000\n",
      "9/9 [==============================] - 0s 1ms/step - loss: 1889.9197 - mae: 1729.4071 - mse: 23399938.0000\n",
      "    SGD training process...\n",
      "9/9 [==============================] - 0s 1ms/step - loss: 1615.1906 - mae: 1536.8284 - mse: 18310832.0000\n",
      "9/9 [==============================] - 0s 2ms/step - loss: 2173.7339 - mae: 2027.5592 - mse: 21390172.0000\n",
      "9/9 [==============================] - 0s 1ms/step - loss: 4285.4346 - mae: 3345.4226 - mse: 41687040.0000\n",
      "9/9 [==============================] - 0s 2ms/step - loss: 6213.6699 - mae: 5174.5459 - mse: 87482576.0000\n",
      "9/9 [==============================] - 0s 1ms/step - loss: 3287.0498 - mae: 2967.5642 - mse: 32680334.0000\n",
      "9/9 [==============================] - 0s 2ms/step - loss: 7868.1865 - mae: 7439.8745 - mse: 91561088.0000\n",
      "9/9 [==============================] - 0s 2ms/step - loss: 15594.1318 - mae: 13160.5723 - mse: 314696384.0000\n",
      "9/9 [==============================] - 0s 1ms/step - loss: 11446.3838 - mae: 9104.5713 - mse: 203061216.0000\n",
      "9/9 [==============================] - 0s 2ms/step - loss: 11054.5723 - mae: 8754.6465 - mse: 189409808.0000\n",
      "n_split_target: 4\n",
      "    Adam training process...\n",
      "9/9 [==============================] - 0s 2ms/step - loss: 1315.4874 - mae: 1265.9274 - mse: 17188814.0000\n",
      "9/9 [==============================] - 0s 1ms/step - loss: 1324.8774 - mae: 1250.5935 - mse: 16882308.0000\n",
      "9/9 [==============================] - 0s 2ms/step - loss: 1394.0370 - mae: 1339.3771 - mse: 16890780.0000\n",
      "9/9 [==============================] - 0s 2ms/step - loss: 1317.3617 - mae: 1251.2908 - mse: 17059272.0000\n",
      "9/9 [==============================] - 0s 2ms/step - loss: 1422.9956 - mae: 1312.4049 - mse: 17276450.0000\n",
      "9/9 [==============================] - 0s 1ms/step - loss: 1705.5298 - mae: 1502.9303 - mse: 17842078.0000\n",
      "9/9 [==============================] - 0s 1ms/step - loss: 1836.1206 - mae: 1550.2883 - mse: 18423994.0000\n",
      "9/9 [==============================] - 0s 1ms/step - loss: 1359.3434 - mae: 1310.1526 - mse: 16880710.0000\n",
      "9/9 [==============================] - 0s 2ms/step - loss: 1953.1124 - mae: 1700.4165 - mse: 19746274.0000\n",
      "    RMSprop training process...\n",
      "9/9 [==============================] - 0s 2ms/step - loss: 1321.4769 - mae: 1273.2236 - mse: 17063280.0000\n",
      "9/9 [==============================] - 0s 2ms/step - loss: 1335.0388 - mae: 1275.1765 - mse: 16674789.0000\n",
      "9/9 [==============================] - 0s 2ms/step - loss: 1406.9716 - mae: 1338.0892 - mse: 16958502.0000\n",
      "9/9 [==============================] - 0s 2ms/step - loss: 1515.6306 - mae: 1389.6703 - mse: 17545834.0000\n",
      "9/9 [==============================] - 0s 2ms/step - loss: 1856.4551 - mae: 1687.5480 - mse: 17596852.0000\n",
      "9/9 [==============================] - 0s 2ms/step - loss: 2066.1741 - mae: 1839.0404 - mse: 20006692.0000\n",
      "9/9 [==============================] - 0s 2ms/step - loss: 1955.5308 - mae: 1823.6837 - mse: 25555164.0000\n",
      "9/9 [==============================] - 0s 2ms/step - loss: 1891.6532 - mae: 1637.2217 - mse: 24441230.0000\n",
      "9/9 [==============================] - 0s 2ms/step - loss: 1783.8724 - mae: 1714.3043 - mse: 26510710.0000\n",
      "    SGD training process...\n",
      "9/9 [==============================] - 0s 2ms/step - loss: 1519.0044 - mae: 1469.6569 - mse: 17439348.0000\n"
     ]
    }
   ],
   "source": [
    "start_compute = time.time()\n",
    "\n",
    "N_epoch = 4000\n",
    "#N_epoch = 40\n",
    "\n",
    "for i, (train_features, train_target, \n",
    "        validation_features, validation_target) in enumerate(train_val_split):\n",
    "\n",
    "    print('n_split_target:', i+1)\n",
    "\n",
    "    adam_mae, rmsprop_mae, sgd_mae = [], [], []\n",
    "    print('    Adam training process...')\n",
    "    for lr in learning_rates_list:\n",
    "        mlp = multilayer_perceptron(train_features.shape[1], lr, 'adam')\n",
    "        model, history = train_model(mlp, train_features, train_target, N_epoch)\n",
    "        loss, mae, mse = model.evaluate(validation_features, validation_target, verbose=1)\n",
    "        adam_mae.append(mae)\n",
    "\n",
    "    print('    RMSprop training process...')\n",
    "    for lr in learning_rates_list:\n",
    "        mlp = multilayer_perceptron(train_features.shape[1], lr, 'rmsprop')\n",
    "        model, history = train_model(mlp, train_features, train_target, N_epoch)\n",
    "        loss, mae, mse = model.evaluate(validation_features, validation_target, verbose=1)\n",
    "        rmsprop_mae.append(mae)\n",
    "\n",
    "    print('    SGD training process...')\n",
    "    for lr in learning_rates_list:\n",
    "        mlp = multilayer_perceptron(train_features.shape[1], lr, 'sgd')\n",
    "        model, history = train_model(mlp, train_features, train_target, N_epoch)\n",
    "        loss, mae, mse = model.evaluate(validation_features, validation_target, verbose=1)\n",
    "        sgd_mae.append(mae)\n",
    "\n",
    "    result_report['Adam-'+str(i+1)] = adam_mae\n",
    "    result_report['RMSprop-'+str(i+1)] = rmsprop_mae\n",
    "    result_report['SGD-'+str(i+1)] = sgd_mae\n",
    "\n",
    "print(\"Approximation computational time: {:.2f}\".format(time.time() - start_compute))"
   ]
  },
  {
   "cell_type": "code",
   "execution_count": 71,
   "metadata": {
    "colab": {
     "base_uri": "https://localhost:8080/",
     "height": 369
    },
    "colab_type": "code",
    "id": "nAUwaj33Uve_",
    "outputId": "dc45f912-3c84-4cdd-f59e-93754d434b46"
   },
   "outputs": [
    {
     "data": {
      "text/html": [
       "<div>\n",
       "<style scoped>\n",
       "    .dataframe tbody tr th:only-of-type {\n",
       "        vertical-align: middle;\n",
       "    }\n",
       "\n",
       "    .dataframe tbody tr th {\n",
       "        vertical-align: top;\n",
       "    }\n",
       "\n",
       "    .dataframe thead th {\n",
       "        text-align: right;\n",
       "    }\n",
       "</style>\n",
       "<table border=\"1\" class=\"dataframe\">\n",
       "  <thead>\n",
       "    <tr style=\"text-align: right;\">\n",
       "      <th></th>\n",
       "      <th>Learning Rate</th>\n",
       "      <th>Adam-1</th>\n",
       "      <th>RMSprop-1</th>\n",
       "      <th>SGD-1</th>\n",
       "      <th>Adam-2</th>\n",
       "      <th>RMSprop-2</th>\n",
       "      <th>SGD-2</th>\n",
       "      <th>Adam-3</th>\n",
       "      <th>RMSprop-3</th>\n",
       "      <th>SGD-3</th>\n",
       "      <th>Adam-4</th>\n",
       "      <th>RMSprop-4</th>\n",
       "      <th>SGD-4</th>\n",
       "      <th>Adam-Avg</th>\n",
       "      <th>RMSprop-Avg</th>\n",
       "      <th>SGD-Avg</th>\n",
       "    </tr>\n",
       "  </thead>\n",
       "  <tbody>\n",
       "    <tr>\n",
       "      <th>0</th>\n",
       "      <td>0.0010</td>\n",
       "      <td>1607.701172</td>\n",
       "      <td>1648.003906</td>\n",
       "      <td>1899.753784</td>\n",
       "      <td>1586.947144</td>\n",
       "      <td>1686.917480</td>\n",
       "      <td>1810.030518</td>\n",
       "      <td>1440.823853</td>\n",
       "      <td>1501.899414</td>\n",
       "      <td>1577.726440</td>\n",
       "      <td>1390.861206</td>\n",
       "      <td>1283.475952</td>\n",
       "      <td>1502.863525</td>\n",
       "      <td>4661.329132</td>\n",
       "      <td>2171.111572</td>\n",
       "      <td>2352.830109</td>\n",
       "    </tr>\n",
       "    <tr>\n",
       "      <th>1</th>\n",
       "      <td>0.0025</td>\n",
       "      <td>1497.789185</td>\n",
       "      <td>1579.930664</td>\n",
       "      <td>2187.274658</td>\n",
       "      <td>1512.037109</td>\n",
       "      <td>1544.597900</td>\n",
       "      <td>1809.601685</td>\n",
       "      <td>1344.374634</td>\n",
       "      <td>1364.682007</td>\n",
       "      <td>1661.121216</td>\n",
       "      <td>1311.232666</td>\n",
       "      <td>1339.669434</td>\n",
       "      <td>2035.583130</td>\n",
       "      <td>1520.976746</td>\n",
       "      <td>4559.203278</td>\n",
       "      <td>2511.407471</td>\n",
       "    </tr>\n",
       "    <tr>\n",
       "      <th>2</th>\n",
       "      <td>0.0050</td>\n",
       "      <td>1610.663086</td>\n",
       "      <td>1632.178589</td>\n",
       "      <td>2452.177490</td>\n",
       "      <td>1488.946777</td>\n",
       "      <td>1602.048340</td>\n",
       "      <td>3459.715088</td>\n",
       "      <td>1373.023682</td>\n",
       "      <td>1358.299927</td>\n",
       "      <td>3187.398926</td>\n",
       "      <td>1114.056152</td>\n",
       "      <td>1448.124878</td>\n",
       "      <td>2322.268799</td>\n",
       "      <td>1549.885132</td>\n",
       "      <td>1490.352661</td>\n",
       "      <td>2476.446289</td>\n",
       "    </tr>\n",
       "    <tr>\n",
       "      <th>3</th>\n",
       "      <td>0.0075</td>\n",
       "      <td>1608.656494</td>\n",
       "      <td>1713.847290</td>\n",
       "      <td>2720.301514</td>\n",
       "      <td>1910.180054</td>\n",
       "      <td>1563.657837</td>\n",
       "      <td>2356.049805</td>\n",
       "      <td>1309.004272</td>\n",
       "      <td>1492.756104</td>\n",
       "      <td>3074.177734</td>\n",
       "      <td>1285.317139</td>\n",
       "      <td>1355.200317</td>\n",
       "      <td>1905.876221</td>\n",
       "      <td>1650.958771</td>\n",
       "      <td>1627.048798</td>\n",
       "      <td>3928.875916</td>\n",
       "    </tr>\n",
       "    <tr>\n",
       "      <th>4</th>\n",
       "      <td>0.0100</td>\n",
       "      <td>1618.856934</td>\n",
       "      <td>2006.599365</td>\n",
       "      <td>3472.440186</td>\n",
       "      <td>1629.001953</td>\n",
       "      <td>1563.835083</td>\n",
       "      <td>3308.797119</td>\n",
       "      <td>1448.126831</td>\n",
       "      <td>1479.134888</td>\n",
       "      <td>2965.725098</td>\n",
       "      <td>1451.626099</td>\n",
       "      <td>1184.748047</td>\n",
       "      <td>2057.730469</td>\n",
       "      <td>4728.435272</td>\n",
       "      <td>1665.173828</td>\n",
       "      <td>3369.451965</td>\n",
       "    </tr>\n",
       "    <tr>\n",
       "      <th>5</th>\n",
       "      <td>0.0250</td>\n",
       "      <td>1752.066895</td>\n",
       "      <td>1840.804199</td>\n",
       "      <td>8942.929688</td>\n",
       "      <td>1706.751465</td>\n",
       "      <td>1739.104004</td>\n",
       "      <td>12689.749023</td>\n",
       "      <td>1484.651733</td>\n",
       "      <td>1446.613281</td>\n",
       "      <td>9955.073242</td>\n",
       "      <td>1235.133789</td>\n",
       "      <td>1403.670044</td>\n",
       "      <td>8469.422852</td>\n",
       "      <td>1615.700775</td>\n",
       "      <td>1762.159515</td>\n",
       "      <td>5124.537476</td>\n",
       "    </tr>\n",
       "    <tr>\n",
       "      <th>6</th>\n",
       "      <td>0.0500</td>\n",
       "      <td>1592.172974</td>\n",
       "      <td>1762.730713</td>\n",
       "      <td>12508.705078</td>\n",
       "      <td>1740.979980</td>\n",
       "      <td>1919.998169</td>\n",
       "      <td>12401.921875</td>\n",
       "      <td>1527.280762</td>\n",
       "      <td>13133.948242</td>\n",
       "      <td>8282.590820</td>\n",
       "      <td>1353.440918</td>\n",
       "      <td>1733.188110</td>\n",
       "      <td>11897.758789</td>\n",
       "      <td>1545.667603</td>\n",
       "      <td>1866.787140</td>\n",
       "      <td>11618.589478</td>\n",
       "    </tr>\n",
       "    <tr>\n",
       "      <th>7</th>\n",
       "      <td>0.0750</td>\n",
       "      <td>1777.396729</td>\n",
       "      <td>1930.127808</td>\n",
       "      <td>13326.888672</td>\n",
       "      <td>1706.980347</td>\n",
       "      <td>1876.344727</td>\n",
       "      <td>11733.224609</td>\n",
       "      <td>1415.462280</td>\n",
       "      <td>1957.803711</td>\n",
       "      <td>11316.223633</td>\n",
       "      <td>1295.134888</td>\n",
       "      <td>1731.730103</td>\n",
       "      <td>11361.523438</td>\n",
       "      <td>1578.993500</td>\n",
       "      <td>1892.599365</td>\n",
       "      <td>12590.173584</td>\n",
       "    </tr>\n",
       "    <tr>\n",
       "      <th>8</th>\n",
       "      <td>0.1000</td>\n",
       "      <td>1808.881104</td>\n",
       "      <td>1851.852173</td>\n",
       "      <td>11439.549805</td>\n",
       "      <td>1553.274902</td>\n",
       "      <td>1856.828369</td>\n",
       "      <td>11114.780273</td>\n",
       "      <td>1647.222778</td>\n",
       "      <td>1913.486938</td>\n",
       "      <td>13133.948242</td>\n",
       "      <td>1264.557251</td>\n",
       "      <td>1499.046875</td>\n",
       "      <td>13161.991211</td>\n",
       "      <td>1655.054718</td>\n",
       "      <td>1977.862488</td>\n",
       "      <td>13014.769287</td>\n",
       "    </tr>\n",
       "  </tbody>\n",
       "</table>\n",
       "</div>"
      ],
      "text/plain": [
       "   Learning Rate       Adam-1  ...  RMSprop-Avg       SGD-Avg\n",
       "0         0.0010  1607.701172  ...  2171.111572   2352.830109\n",
       "1         0.0025  1497.789185  ...  4559.203278   2511.407471\n",
       "2         0.0050  1610.663086  ...  1490.352661   2476.446289\n",
       "3         0.0075  1608.656494  ...  1627.048798   3928.875916\n",
       "4         0.0100  1618.856934  ...  1665.173828   3369.451965\n",
       "5         0.0250  1752.066895  ...  1762.159515   5124.537476\n",
       "6         0.0500  1592.172974  ...  1866.787140  11618.589478\n",
       "7         0.0750  1777.396729  ...  1892.599365  12590.173584\n",
       "8         0.1000  1808.881104  ...  1977.862488  13014.769287\n",
       "\n",
       "[9 rows x 16 columns]"
      ]
     },
     "execution_count": 71,
     "metadata": {
      "tags": []
     },
     "output_type": "execute_result"
    }
   ],
   "source": [
    "result_report     # mae each method"
   ]
  },
  {
   "cell_type": "code",
   "execution_count": 72,
   "metadata": {
    "colab": {
     "base_uri": "https://localhost:8080/",
     "height": 90
    },
    "colab_type": "code",
    "id": "Bnn0RxmKT0-U",
    "outputId": "39e37e66-05bb-4b7e-8e02-431c75db8b4e"
   },
   "outputs": [
    {
     "data": {
      "text/plain": [
       "array([['Adam-1', 'RMSprop-1', 'SGD-1'],\n",
       "       ['Adam-2', 'RMSprop-2', 'SGD-2'],\n",
       "       ['Adam-3', 'RMSprop-3', 'SGD-3'],\n",
       "       ['Adam-4', 'RMSprop-4', 'SGD-4']], dtype='<U9')"
      ]
     },
     "execution_count": 72,
     "metadata": {
      "tags": []
     },
     "output_type": "execute_result"
    }
   ],
   "source": [
    "Adam_RMSpropAvg_SGDAvg_Str = np.array([['Adam-{:d}'.format(i+1), \n",
    "                               'RMSprop-{:d}'.format(i+1),\n",
    "                               'SGD-{:d}'.format(i+1)] for i in range(n_splits_target)], dtype=str)\n",
    "Adam_RMSpropAvg_SGDAvg_Str"
   ]
  },
  {
   "cell_type": "code",
   "execution_count": 73,
   "metadata": {
    "colab": {
     "base_uri": "https://localhost:8080/",
     "height": 369
    },
    "colab_type": "code",
    "id": "1gjDGR8yb-Nx",
    "outputId": "eda787ce-c4ca-408d-fc8e-743a76aedec7"
   },
   "outputs": [
    {
     "data": {
      "text/html": [
       "<div>\n",
       "<style scoped>\n",
       "    .dataframe tbody tr th:only-of-type {\n",
       "        vertical-align: middle;\n",
       "    }\n",
       "\n",
       "    .dataframe tbody tr th {\n",
       "        vertical-align: top;\n",
       "    }\n",
       "\n",
       "    .dataframe thead th {\n",
       "        text-align: right;\n",
       "    }\n",
       "</style>\n",
       "<table border=\"1\" class=\"dataframe\">\n",
       "  <thead>\n",
       "    <tr style=\"text-align: right;\">\n",
       "      <th></th>\n",
       "      <th>Learning Rate</th>\n",
       "      <th>Adam-1</th>\n",
       "      <th>RMSprop-1</th>\n",
       "      <th>SGD-1</th>\n",
       "      <th>Adam-2</th>\n",
       "      <th>RMSprop-2</th>\n",
       "      <th>SGD-2</th>\n",
       "      <th>Adam-3</th>\n",
       "      <th>RMSprop-3</th>\n",
       "      <th>SGD-3</th>\n",
       "      <th>Adam-4</th>\n",
       "      <th>RMSprop-4</th>\n",
       "      <th>SGD-4</th>\n",
       "      <th>Adam-Avg</th>\n",
       "      <th>RMSprop-Avg</th>\n",
       "      <th>SGD-Avg</th>\n",
       "    </tr>\n",
       "  </thead>\n",
       "  <tbody>\n",
       "    <tr>\n",
       "      <th>0</th>\n",
       "      <td>0.0010</td>\n",
       "      <td>1607.701172</td>\n",
       "      <td>1648.003906</td>\n",
       "      <td>1899.753784</td>\n",
       "      <td>1586.947144</td>\n",
       "      <td>1686.917480</td>\n",
       "      <td>1810.030518</td>\n",
       "      <td>1440.823853</td>\n",
       "      <td>1501.899414</td>\n",
       "      <td>1577.726440</td>\n",
       "      <td>1390.861206</td>\n",
       "      <td>1283.475952</td>\n",
       "      <td>1502.863525</td>\n",
       "      <td>1506.583344</td>\n",
       "      <td>1530.074188</td>\n",
       "      <td>1697.593567</td>\n",
       "    </tr>\n",
       "    <tr>\n",
       "      <th>1</th>\n",
       "      <td>0.0025</td>\n",
       "      <td>1497.789185</td>\n",
       "      <td>1579.930664</td>\n",
       "      <td>2187.274658</td>\n",
       "      <td>1512.037109</td>\n",
       "      <td>1544.597900</td>\n",
       "      <td>1809.601685</td>\n",
       "      <td>1344.374634</td>\n",
       "      <td>1364.682007</td>\n",
       "      <td>1661.121216</td>\n",
       "      <td>1311.232666</td>\n",
       "      <td>1339.669434</td>\n",
       "      <td>2035.583130</td>\n",
       "      <td>1416.358398</td>\n",
       "      <td>1457.220001</td>\n",
       "      <td>1923.395172</td>\n",
       "    </tr>\n",
       "    <tr>\n",
       "      <th>2</th>\n",
       "      <td>0.0050</td>\n",
       "      <td>1610.663086</td>\n",
       "      <td>1632.178589</td>\n",
       "      <td>2452.177490</td>\n",
       "      <td>1488.946777</td>\n",
       "      <td>1602.048340</td>\n",
       "      <td>3459.715088</td>\n",
       "      <td>1373.023682</td>\n",
       "      <td>1358.299927</td>\n",
       "      <td>3187.398926</td>\n",
       "      <td>1114.056152</td>\n",
       "      <td>1448.124878</td>\n",
       "      <td>2322.268799</td>\n",
       "      <td>1396.672424</td>\n",
       "      <td>1510.162933</td>\n",
       "      <td>2855.390076</td>\n",
       "    </tr>\n",
       "    <tr>\n",
       "      <th>3</th>\n",
       "      <td>0.0075</td>\n",
       "      <td>1608.656494</td>\n",
       "      <td>1713.847290</td>\n",
       "      <td>2720.301514</td>\n",
       "      <td>1910.180054</td>\n",
       "      <td>1563.657837</td>\n",
       "      <td>2356.049805</td>\n",
       "      <td>1309.004272</td>\n",
       "      <td>1492.756104</td>\n",
       "      <td>3074.177734</td>\n",
       "      <td>1285.317139</td>\n",
       "      <td>1355.200317</td>\n",
       "      <td>1905.876221</td>\n",
       "      <td>1528.289490</td>\n",
       "      <td>1531.365387</td>\n",
       "      <td>2514.101318</td>\n",
       "    </tr>\n",
       "    <tr>\n",
       "      <th>4</th>\n",
       "      <td>0.0100</td>\n",
       "      <td>1618.856934</td>\n",
       "      <td>2006.599365</td>\n",
       "      <td>3472.440186</td>\n",
       "      <td>1629.001953</td>\n",
       "      <td>1563.835083</td>\n",
       "      <td>3308.797119</td>\n",
       "      <td>1448.126831</td>\n",
       "      <td>1479.134888</td>\n",
       "      <td>2965.725098</td>\n",
       "      <td>1451.626099</td>\n",
       "      <td>1184.748047</td>\n",
       "      <td>2057.730469</td>\n",
       "      <td>1536.902954</td>\n",
       "      <td>1558.579346</td>\n",
       "      <td>2951.173218</td>\n",
       "    </tr>\n",
       "    <tr>\n",
       "      <th>5</th>\n",
       "      <td>0.0250</td>\n",
       "      <td>1752.066895</td>\n",
       "      <td>1840.804199</td>\n",
       "      <td>8942.929688</td>\n",
       "      <td>1706.751465</td>\n",
       "      <td>1739.104004</td>\n",
       "      <td>12689.749023</td>\n",
       "      <td>1484.651733</td>\n",
       "      <td>1446.613281</td>\n",
       "      <td>9955.073242</td>\n",
       "      <td>1235.133789</td>\n",
       "      <td>1403.670044</td>\n",
       "      <td>8469.422852</td>\n",
       "      <td>1544.650970</td>\n",
       "      <td>1607.547882</td>\n",
       "      <td>10014.293701</td>\n",
       "    </tr>\n",
       "    <tr>\n",
       "      <th>6</th>\n",
       "      <td>0.0500</td>\n",
       "      <td>1592.172974</td>\n",
       "      <td>1762.730713</td>\n",
       "      <td>12508.705078</td>\n",
       "      <td>1740.979980</td>\n",
       "      <td>1919.998169</td>\n",
       "      <td>12401.921875</td>\n",
       "      <td>1527.280762</td>\n",
       "      <td>13133.948242</td>\n",
       "      <td>8282.590820</td>\n",
       "      <td>1353.440918</td>\n",
       "      <td>1733.188110</td>\n",
       "      <td>11897.758789</td>\n",
       "      <td>1553.468658</td>\n",
       "      <td>4637.466309</td>\n",
       "      <td>11272.744141</td>\n",
       "    </tr>\n",
       "    <tr>\n",
       "      <th>7</th>\n",
       "      <td>0.0750</td>\n",
       "      <td>1777.396729</td>\n",
       "      <td>1930.127808</td>\n",
       "      <td>13326.888672</td>\n",
       "      <td>1706.980347</td>\n",
       "      <td>1876.344727</td>\n",
       "      <td>11733.224609</td>\n",
       "      <td>1415.462280</td>\n",
       "      <td>1957.803711</td>\n",
       "      <td>11316.223633</td>\n",
       "      <td>1295.134888</td>\n",
       "      <td>1731.730103</td>\n",
       "      <td>11361.523438</td>\n",
       "      <td>1548.743561</td>\n",
       "      <td>1874.001587</td>\n",
       "      <td>11934.465088</td>\n",
       "    </tr>\n",
       "    <tr>\n",
       "      <th>8</th>\n",
       "      <td>0.1000</td>\n",
       "      <td>1808.881104</td>\n",
       "      <td>1851.852173</td>\n",
       "      <td>11439.549805</td>\n",
       "      <td>1553.274902</td>\n",
       "      <td>1856.828369</td>\n",
       "      <td>11114.780273</td>\n",
       "      <td>1647.222778</td>\n",
       "      <td>1913.486938</td>\n",
       "      <td>13133.948242</td>\n",
       "      <td>1264.557251</td>\n",
       "      <td>1499.046875</td>\n",
       "      <td>13161.991211</td>\n",
       "      <td>1568.484009</td>\n",
       "      <td>1780.303589</td>\n",
       "      <td>12212.567383</td>\n",
       "    </tr>\n",
       "  </tbody>\n",
       "</table>\n",
       "</div>"
      ],
      "text/plain": [
       "   Learning Rate       Adam-1  ...  RMSprop-Avg       SGD-Avg\n",
       "0         0.0010  1607.701172  ...  1530.074188   1697.593567\n",
       "1         0.0025  1497.789185  ...  1457.220001   1923.395172\n",
       "2         0.0050  1610.663086  ...  1510.162933   2855.390076\n",
       "3         0.0075  1608.656494  ...  1531.365387   2514.101318\n",
       "4         0.0100  1618.856934  ...  1558.579346   2951.173218\n",
       "5         0.0250  1752.066895  ...  1607.547882  10014.293701\n",
       "6         0.0500  1592.172974  ...  4637.466309  11272.744141\n",
       "7         0.0750  1777.396729  ...  1874.001587  11934.465088\n",
       "8         0.1000  1808.881104  ...  1780.303589  12212.567383\n",
       "\n",
       "[9 rows x 16 columns]"
      ]
     },
     "execution_count": 73,
     "metadata": {
      "tags": []
     },
     "output_type": "execute_result"
    }
   ],
   "source": [
    "result_report['Adam-Avg'] = \\\n",
    "    sum(result_report[idx] \n",
    "        for idx in Adam_RMSpropAvg_SGDAvg_Str[:,0]) / n_splits_target\n",
    "\n",
    "result_report['RMSprop-Avg'] = \\\n",
    "    sum(result_report[idx] \n",
    "        for idx in Adam_RMSpropAvg_SGDAvg_Str[:,1]) / n_splits_target\n",
    "\n",
    "result_report['SGD-Avg'] = \\\n",
    "    sum(result_report[idx] \n",
    "        for idx in Adam_RMSpropAvg_SGDAvg_Str[:,2]) / n_splits_target\n",
    "\n",
    "result_report"
   ]
  },
  {
   "cell_type": "code",
   "execution_count": 74,
   "metadata": {
    "colab": {
     "base_uri": "https://localhost:8080/",
     "height": 35
    },
    "colab_type": "code",
    "id": "DFjOFcRRIQaW",
    "outputId": "af1a8462-b6f5-486f-8806-79f413317050"
   },
   "outputs": [
    {
     "name": "stdout",
     "output_type": "stream",
     "text": [
      "Saved process done.\n"
     ]
    }
   ],
   "source": [
    "result_report.to_excel('hyper tuning parameter learningrate and optimizer.xlsx', index=False)\n",
    "print('Saved process done.')"
   ]
  },
  {
   "cell_type": "code",
   "execution_count": 75,
   "metadata": {
    "colab": {
     "base_uri": "https://localhost:8080/",
     "height": 295
    },
    "colab_type": "code",
    "id": "IqzaBgO1IQZN",
    "outputId": "49860f1f-5776-437d-a053-80f6befc455d"
   },
   "outputs": [
    {
     "data": {
      "image/png": "[encoded data removed]",
      "text/plain": [
       "<Figure size 432x288 with 1 Axes>"
      ]
     },
     "metadata": {
      "tags": []
     },
     "output_type": "display_data"
    }
   ],
   "source": [
    "plt.plot(result_report['Learning Rate'], result_report['Adam-Avg'], label='Adam')\n",
    "plt.plot(result_report['Learning Rate'], result_report['RMSprop-Avg'], label='RMSProp')\n",
    "plt.plot(result_report['Learning Rate'], result_report['SGD-Avg'], label='SGD')\n",
    "\n",
    "plt.title('Training over different optimizers and learning rate')\n",
    "plt.xlabel('Learning Rate')\n",
    "plt.ylabel('Mean Absolute Error')\n",
    "plt.legend();"
   ]
  },
  {
   "cell_type": "markdown",
   "metadata": {
    "colab_type": "text",
    "id": "RlyAdHXWJ6od"
   },
   "source": [
    "Small learning rate gives better result.\n",
    "\n",
    "Best parameter -> Adam optimizer with learning rate 0.025"
   ]
  },
  {
   "cell_type": "markdown",
   "metadata": {
    "colab_type": "text",
    "id": "vy_CJQAVU5Eu"
   },
   "source": [
    "### Regularization & Drop Out\n",
    "\n",
    "<b>Regularizers</b> allow you to apply penalties on layer parameters or layer activity during optimization. These penalties are summed into the loss function that the network optimizes.\n",
    "\n",
    "<b>Dropout</b> is one of the most effective and most commonly used regularization techniques for neural networks. The intuitive explanation for dropout is that because individual nodes in the network cannot rely on the output of the others, each node must output features that are useful on their own.\n",
    "\n",
    "We can combined both of them to avoid overfitting.\n"
   ]
  },
  {
   "cell_type": "code",
   "execution_count": 0,
   "metadata": {
    "colab": {},
    "colab_type": "code",
    "id": "l2fWeO4VZi1b"
   },
   "outputs": [],
   "source": [
    "regularizer_rates = [0, .001, .01, .1]\n",
    "dropout_rates = [0, .2, .35, .5]"
   ]
  },
  {
   "cell_type": "code",
   "execution_count": 59,
   "metadata": {
    "colab": {
     "base_uri": "https://localhost:8080/",
     "height": 1000
    },
    "colab_type": "code",
    "id": "e4bP_YKQVAR2",
    "outputId": "1ebb9061-b446-4461-baf5-d012cc5c3145"
   },
   "outputs": [
    {
     "name": "stdout",
     "output_type": "stream",
     "text": [
      "dropout_rate: 0.00\n",
      "     regularizer_rate: 0.00\n",
      "9/9 [==============================] - 0s 1ms/step - loss: 1608.7225 - mae: 1540.7009 - mse: 22746176.0000\n",
      "     regularizer_rate: 0.00\n",
      "9/9 [==============================] - 0s 2ms/step - loss: 1738.1899 - mae: 1611.8995 - mse: 23337626.0000\n",
      "     regularizer_rate: 0.01\n",
      "9/9 [==============================] - 0s 2ms/step - loss: 1747.7653 - mae: 1577.7346 - mse: 22460522.0000\n",
      "     regularizer_rate: 0.10\n",
      "9/9 [==============================] - 0s 1ms/step - loss: 2215.5720 - mae: 1875.9808 - mse: 23631974.0000\n",
      "\n",
      "dropout_rate: 0.20\n",
      "     regularizer_rate: 0.00\n",
      "9/9 [==============================] - 0s 2ms/step - loss: 2420.4724 - mae: 2094.0867 - mse: 26347418.0000\n",
      "     regularizer_rate: 0.00\n",
      "9/9 [==============================] - 0s 2ms/step - loss: 2574.1101 - mae: 2221.9492 - mse: 26877870.0000\n",
      "     regularizer_rate: 0.01\n",
      "9/9 [==============================] - 0s 1ms/step - loss: 2521.7222 - mae: 2154.9468 - mse: 26221076.0000\n",
      "     regularizer_rate: 0.10\n",
      "9/9 [==============================] - 0s 2ms/step - loss: 2895.3828 - mae: 2320.7947 - mse: 28810662.0000\n",
      "\n",
      "dropout_rate: 0.35\n",
      "     regularizer_rate: 0.00\n",
      "9/9 [==============================] - 0s 2ms/step - loss: 2635.9114 - mae: 2256.9312 - mse: 27838454.0000\n",
      "     regularizer_rate: 0.00\n",
      "9/9 [==============================] - 0s 2ms/step - loss: 2660.0334 - mae: 2256.1016 - mse: 27676138.0000\n",
      "     regularizer_rate: 0.01\n",
      "9/9 [==============================] - 0s 2ms/step - loss: 2803.9565 - mae: 2386.7234 - mse: 27573408.0000\n",
      "     regularizer_rate: 0.10\n",
      "9/9 [==============================] - 0s 2ms/step - loss: 2870.1560 - mae: 2379.7771 - mse: 27146988.0000\n",
      "\n",
      "dropout_rate: 0.50\n",
      "     regularizer_rate: 0.00\n",
      "9/9 [==============================] - 0s 2ms/step - loss: 2808.4736 - mae: 2355.6528 - mse: 28147380.0000\n",
      "     regularizer_rate: 0.00\n",
      "9/9 [==============================] - 0s 2ms/step - loss: 2754.5442 - mae: 2345.0410 - mse: 27683470.0000\n",
      "     regularizer_rate: 0.01\n",
      "9/9 [==============================] - 0s 2ms/step - loss: 3220.3364 - mae: 2759.7280 - mse: 30759028.0000\n",
      "     regularizer_rate: 0.10\n",
      "9/9 [==============================] - 0s 2ms/step - loss: 2879.3975 - mae: 2336.0439 - mse: 26304232.0000\n",
      "\n",
      "    Done for group-1\n",
      "dropout_rate: 0.00\n",
      "     regularizer_rate: 0.00\n",
      "9/9 [==============================] - 0s 1ms/step - loss: 1806.8876 - mae: 1659.0508 - mse: 22917366.0000\n",
      "     regularizer_rate: 0.00\n",
      "9/9 [==============================] - 0s 2ms/step - loss: 1606.9921 - mae: 1483.1621 - mse: 21756378.0000\n",
      "     regularizer_rate: 0.01\n",
      "9/9 [==============================] - 0s 2ms/step - loss: 1935.7131 - mae: 1706.3981 - mse: 23466788.0000\n",
      "     regularizer_rate: 0.10\n",
      "9/9 [==============================] - 0s 2ms/step - loss: 2122.6360 - mae: 1800.3383 - mse: 23186594.0000\n",
      "\n",
      "dropout_rate: 0.20\n",
      "     regularizer_rate: 0.00\n",
      "9/9 [==============================] - 0s 2ms/step - loss: 2290.6279 - mae: 2097.3130 - mse: 23267800.0000\n",
      "     regularizer_rate: 0.00\n",
      "9/9 [==============================] - 0s 1ms/step - loss: 2176.8818 - mae: 2061.8101 - mse: 21303134.0000\n",
      "     regularizer_rate: 0.01\n",
      "9/9 [==============================] - 0s 1ms/step - loss: 2296.8296 - mae: 2083.2070 - mse: 23533770.0000\n",
      "     regularizer_rate: 0.10\n",
      "9/9 [==============================] - 0s 2ms/step - loss: 2613.0244 - mae: 2213.8850 - mse: 26019198.0000\n",
      "\n",
      "dropout_rate: 0.35\n",
      "     regularizer_rate: 0.00\n",
      "9/9 [==============================] - 0s 2ms/step - loss: 2453.0303 - mae: 2274.5366 - mse: 25025564.0000\n",
      "     regularizer_rate: 0.00\n",
      "9/9 [==============================] - 0s 2ms/step - loss: 2531.6528 - mae: 2285.7109 - mse: 26377782.0000\n",
      "     regularizer_rate: 0.01\n",
      "9/9 [==============================] - 0s 2ms/step - loss: 2513.6267 - mae: 2211.1697 - mse: 25358376.0000\n",
      "     regularizer_rate: 0.10\n",
      "9/9 [==============================] - 0s 1ms/step - loss: 2569.1379 - mae: 2233.9910 - mse: 24535956.0000\n",
      "\n",
      "dropout_rate: 0.50\n",
      "     regularizer_rate: 0.00\n",
      "9/9 [==============================] - 0s 2ms/step - loss: 2377.4629 - mae: 2166.7603 - mse: 23800916.0000\n",
      "     regularizer_rate: 0.00\n",
      "9/9 [==============================] - 0s 2ms/step - loss: 2528.2861 - mae: 2302.7478 - mse: 25900196.0000\n",
      "     regularizer_rate: 0.01\n",
      "9/9 [==============================] - 0s 2ms/step - loss: 2484.8184 - mae: 2218.9497 - mse: 23926440.0000\n",
      "     regularizer_rate: 0.10\n",
      "9/9 [==============================] - 0s 2ms/step - loss: 2716.1660 - mae: 2328.0632 - mse: 25148394.0000\n",
      "\n",
      "    Done for group-2\n",
      "dropout_rate: 0.00\n",
      "     regularizer_rate: 0.00\n",
      "9/9 [==============================] - 0s 2ms/step - loss: 1478.2234 - mae: 1563.3385 - mse: 20384706.0000\n",
      "     regularizer_rate: 0.00\n",
      "9/9 [==============================] - 0s 2ms/step - loss: 1386.8926 - mae: 1413.5188 - mse: 19925952.0000\n",
      "     regularizer_rate: 0.01\n",
      "9/9 [==============================] - 0s 2ms/step - loss: 1421.5720 - mae: 1419.5463 - mse: 20130122.0000\n",
      "     regularizer_rate: 0.10\n",
      "9/9 [==============================] - 0s 2ms/step - loss: 1911.8859 - mae: 1702.1017 - mse: 20003534.0000\n",
      "\n",
      "dropout_rate: 0.20\n",
      "     regularizer_rate: 0.00\n",
      "9/9 [==============================] - 0s 2ms/step - loss: 2212.7747 - mae: 2058.9648 - mse: 23688840.0000\n",
      "     regularizer_rate: 0.00\n",
      "9/9 [==============================] - 0s 2ms/step - loss: 2003.8055 - mae: 1879.6245 - mse: 22213004.0000\n",
      "     regularizer_rate: 0.01\n",
      "9/9 [==============================] - 0s 2ms/step - loss: 2131.0588 - mae: 2078.9104 - mse: 23511072.0000\n",
      "     regularizer_rate: 0.10\n",
      "9/9 [==============================] - 0s 2ms/step - loss: 2272.8164 - mae: 2011.6028 - mse: 22865062.0000\n",
      "\n",
      "dropout_rate: 0.35\n",
      "     regularizer_rate: 0.00\n",
      "9/9 [==============================] - 0s 2ms/step - loss: 2251.6670 - mae: 2137.1016 - mse: 24046612.0000\n",
      "     regularizer_rate: 0.00\n",
      "9/9 [==============================] - 0s 2ms/step - loss: 2093.9868 - mae: 1975.0497 - mse: 22947860.0000\n",
      "     regularizer_rate: 0.01\n",
      "9/9 [==============================] - 0s 1ms/step - loss: 2306.1572 - mae: 2068.9631 - mse: 22969598.0000\n",
      "     regularizer_rate: 0.10\n",
      "9/9 [==============================] - 0s 2ms/step - loss: 2655.7200 - mae: 2352.7827 - mse: 22143434.0000\n",
      "\n",
      "dropout_rate: 0.50\n",
      "     regularizer_rate: 0.00\n",
      "9/9 [==============================] - 0s 2ms/step - loss: 2187.3928 - mae: 2067.2622 - mse: 23021792.0000\n",
      "     regularizer_rate: 0.00\n",
      "9/9 [==============================] - 0s 2ms/step - loss: 2221.2549 - mae: 2086.4038 - mse: 23261492.0000\n",
      "     regularizer_rate: 0.01\n",
      "9/9 [==============================] - 0s 2ms/step - loss: 2418.0356 - mae: 2256.1021 - mse: 22541736.0000\n",
      "     regularizer_rate: 0.10\n",
      "9/9 [==============================] - 0s 1ms/step - loss: 2824.2803 - mae: 2524.6367 - mse: 26073892.0000\n",
      "\n",
      "    Done for group-3\n",
      "dropout_rate: 0.00\n",
      "     regularizer_rate: 0.00\n",
      "9/9 [==============================] - 0s 2ms/step - loss: 1330.8137 - mae: 1305.9845 - mse: 16934858.0000\n",
      "     regularizer_rate: 0.00\n",
      "9/9 [==============================] - 0s 1ms/step - loss: 1314.3392 - mae: 1275.7561 - mse: 17336512.0000\n",
      "     regularizer_rate: 0.01\n",
      "9/9 [==============================] - 0s 2ms/step - loss: 1373.4109 - mae: 1270.9476 - mse: 16768535.0000\n",
      "     regularizer_rate: 0.10\n",
      "9/9 [==============================] - 0s 2ms/step - loss: 1587.3804 - mae: 1360.3048 - mse: 17107248.0000\n",
      "\n",
      "dropout_rate: 0.20\n",
      "     regularizer_rate: 0.00\n",
      "9/9 [==============================] - 0s 2ms/step - loss: 2147.0757 - mae: 1942.5919 - mse: 21589318.0000\n",
      "     regularizer_rate: 0.00\n",
      "9/9 [==============================] - 0s 2ms/step - loss: 2309.3665 - mae: 2053.0261 - mse: 22053362.0000\n",
      "     regularizer_rate: 0.01\n",
      "9/9 [==============================] - 0s 2ms/step - loss: 1942.3396 - mae: 1774.9971 - mse: 19070716.0000\n",
      "     regularizer_rate: 0.10\n",
      "9/9 [==============================] - 0s 2ms/step - loss: 2270.3254 - mae: 1900.0323 - mse: 21064484.0000\n",
      "\n",
      "dropout_rate: 0.35\n",
      "     regularizer_rate: 0.00\n",
      "9/9 [==============================] - 0s 2ms/step - loss: 2197.0874 - mae: 1991.0959 - mse: 21559634.0000\n",
      "     regularizer_rate: 0.00\n",
      "9/9 [==============================] - 0s 2ms/step - loss: 2323.6960 - mae: 2023.7753 - mse: 20814918.0000\n",
      "     regularizer_rate: 0.01\n",
      "9/9 [==============================] - 0s 1ms/step - loss: 2127.1917 - mae: 1931.6747 - mse: 19771658.0000\n",
      "     regularizer_rate: 0.10\n",
      "9/9 [==============================] - 0s 2ms/step - loss: 2522.5190 - mae: 2090.2715 - mse: 22018862.0000\n",
      "\n",
      "dropout_rate: 0.50\n",
      "     regularizer_rate: 0.00\n",
      "9/9 [==============================] - 0s 2ms/step - loss: 2310.8762 - mae: 2082.5181 - mse: 21595176.0000\n",
      "     regularizer_rate: 0.00\n",
      "9/9 [==============================] - 0s 2ms/step - loss: 2175.6868 - mae: 1925.2770 - mse: 20939406.0000\n",
      "     regularizer_rate: 0.01\n",
      "9/9 [==============================] - 0s 2ms/step - loss: 2562.4363 - mae: 2230.4268 - mse: 22346018.0000\n",
      "     regularizer_rate: 0.10\n",
      "9/9 [==============================] - 0s 2ms/step - loss: 2490.6418 - mae: 2063.1853 - mse: 20996812.0000\n",
      "\n",
      "    Done for group-4\n"
     ]
    }
   ],
   "source": [
    "drp_log, reg_log, mae_log ,mse_log = [], [], [], []\n",
    "\n",
    "start_computer = time.time()\n",
    "\n",
    "for i, (train_features, train_target, \n",
    "        validation_features, validation_target) in enumerate(train_val_split):\n",
    "  \n",
    "    for dropout_rate in dropout_rates:\n",
    "        print('dropout_rate: {:.2f}'.format(dropout_rate))\n",
    "        for regularizer_rate in regularizer_rates:\n",
    "            print('     regularizer_rate: {:.2f}'.format(regularizer_rate))\n",
    "            mlp = multilayer_perceptron(train_features.shape[1], .025, 'adam', regularizer_rate, dropout_rate)\n",
    "            model, history = train_model(mlp, train_features, train_target, N_epoch)\n",
    "            loss, mae, mse = model.evaluate(validation_features, validation_target, verbose=1)\n",
    "            drp_log.append(dropout_rate)\n",
    "            reg_log.append(regularizer_rate)\n",
    "            mae_log.append(mae)\n",
    "            mse_log.append(mse)\n",
    "        print(\"\")\n",
    "\n",
    "    print('    Done for group-{:d}'.format(i+1))\n",
    "\n",
    "print(\"Approximation computational time: {:.2f}\".format(time.time() - start_compute))"
   ]
  },
  {
   "cell_type": "code",
   "execution_count": 60,
   "metadata": {
    "colab": {
     "base_uri": "https://localhost:8080/",
     "height": 35
    },
    "colab_type": "code",
    "id": "GXiUj5CfCZkm",
    "outputId": "c856c392-c754-48a6-cdfb-dbf40015f1ef"
   },
   "outputs": [
    {
     "data": {
      "text/plain": [
       "64"
      ]
     },
     "execution_count": 60,
     "metadata": {
      "tags": []
     },
     "output_type": "execute_result"
    }
   ],
   "source": [
    "grp_2d = [[\"Group-{:d}\".format(i+1)]*16 for i in range(n_splits_target)]\n",
    "grp = [g for grp1 in grp_2d for g in grp1]\n",
    "len(grp)"
   ]
  },
  {
   "cell_type": "code",
   "execution_count": 61,
   "metadata": {
    "colab": {
     "base_uri": "https://localhost:8080/",
     "height": 424
    },
    "colab_type": "code",
    "id": "c6WoRQSWGMqj",
    "outputId": "3f5730e3-4564-49be-8d5e-a3a55327e0b2"
   },
   "outputs": [
    {
     "data": {
      "text/html": [
       "<div>\n",
       "<style scoped>\n",
       "    .dataframe tbody tr th:only-of-type {\n",
       "        vertical-align: middle;\n",
       "    }\n",
       "\n",
       "    .dataframe tbody tr th {\n",
       "        vertical-align: top;\n",
       "    }\n",
       "\n",
       "    .dataframe thead th {\n",
       "        text-align: right;\n",
       "    }\n",
       "</style>\n",
       "<table border=\"1\" class=\"dataframe\">\n",
       "  <thead>\n",
       "    <tr style=\"text-align: right;\">\n",
       "      <th></th>\n",
       "      <th>Group</th>\n",
       "      <th>Drop-out rate</th>\n",
       "      <th>Regularizer rate</th>\n",
       "      <th>Mean Absolute Error</th>\n",
       "      <th>Mean Squared Error</th>\n",
       "    </tr>\n",
       "  </thead>\n",
       "  <tbody>\n",
       "    <tr>\n",
       "      <th>0</th>\n",
       "      <td>Group-1</td>\n",
       "      <td>0.00</td>\n",
       "      <td>0.000</td>\n",
       "      <td>1540.700928</td>\n",
       "      <td>22746176.0</td>\n",
       "    </tr>\n",
       "    <tr>\n",
       "      <th>1</th>\n",
       "      <td>Group-1</td>\n",
       "      <td>0.00</td>\n",
       "      <td>0.001</td>\n",
       "      <td>1611.899536</td>\n",
       "      <td>23337626.0</td>\n",
       "    </tr>\n",
       "    <tr>\n",
       "      <th>2</th>\n",
       "      <td>Group-1</td>\n",
       "      <td>0.00</td>\n",
       "      <td>0.010</td>\n",
       "      <td>1577.734619</td>\n",
       "      <td>22460522.0</td>\n",
       "    </tr>\n",
       "    <tr>\n",
       "      <th>3</th>\n",
       "      <td>Group-1</td>\n",
       "      <td>0.00</td>\n",
       "      <td>0.100</td>\n",
       "      <td>1875.980835</td>\n",
       "      <td>23631974.0</td>\n",
       "    </tr>\n",
       "    <tr>\n",
       "      <th>4</th>\n",
       "      <td>Group-1</td>\n",
       "      <td>0.20</td>\n",
       "      <td>0.000</td>\n",
       "      <td>2094.086670</td>\n",
       "      <td>26347418.0</td>\n",
       "    </tr>\n",
       "    <tr>\n",
       "      <th>...</th>\n",
       "      <td>...</td>\n",
       "      <td>...</td>\n",
       "      <td>...</td>\n",
       "      <td>...</td>\n",
       "      <td>...</td>\n",
       "    </tr>\n",
       "    <tr>\n",
       "      <th>59</th>\n",
       "      <td>Group-4</td>\n",
       "      <td>0.35</td>\n",
       "      <td>0.100</td>\n",
       "      <td>2090.271484</td>\n",
       "      <td>22018862.0</td>\n",
       "    </tr>\n",
       "    <tr>\n",
       "      <th>60</th>\n",
       "      <td>Group-4</td>\n",
       "      <td>0.50</td>\n",
       "      <td>0.000</td>\n",
       "      <td>2082.518066</td>\n",
       "      <td>21595176.0</td>\n",
       "    </tr>\n",
       "    <tr>\n",
       "      <th>61</th>\n",
       "      <td>Group-4</td>\n",
       "      <td>0.50</td>\n",
       "      <td>0.001</td>\n",
       "      <td>1925.276978</td>\n",
       "      <td>20939406.0</td>\n",
       "    </tr>\n",
       "    <tr>\n",
       "      <th>62</th>\n",
       "      <td>Group-4</td>\n",
       "      <td>0.50</td>\n",
       "      <td>0.010</td>\n",
       "      <td>2230.426758</td>\n",
       "      <td>22346018.0</td>\n",
       "    </tr>\n",
       "    <tr>\n",
       "      <th>63</th>\n",
       "      <td>Group-4</td>\n",
       "      <td>0.50</td>\n",
       "      <td>0.100</td>\n",
       "      <td>2063.185303</td>\n",
       "      <td>20996812.0</td>\n",
       "    </tr>\n",
       "  </tbody>\n",
       "</table>\n",
       "<p>64 rows × 5 columns</p>\n",
       "</div>"
      ],
      "text/plain": [
       "      Group  Drop-out rate  ...  Mean Absolute Error  Mean Squared Error\n",
       "0   Group-1           0.00  ...          1540.700928          22746176.0\n",
       "1   Group-1           0.00  ...          1611.899536          23337626.0\n",
       "2   Group-1           0.00  ...          1577.734619          22460522.0\n",
       "3   Group-1           0.00  ...          1875.980835          23631974.0\n",
       "4   Group-1           0.20  ...          2094.086670          26347418.0\n",
       "..      ...            ...  ...                  ...                 ...\n",
       "59  Group-4           0.35  ...          2090.271484          22018862.0\n",
       "60  Group-4           0.50  ...          2082.518066          21595176.0\n",
       "61  Group-4           0.50  ...          1925.276978          20939406.0\n",
       "62  Group-4           0.50  ...          2230.426758          22346018.0\n",
       "63  Group-4           0.50  ...          2063.185303          20996812.0\n",
       "\n",
       "[64 rows x 5 columns]"
      ]
     },
     "execution_count": 61,
     "metadata": {
      "tags": []
     },
     "output_type": "execute_result"
    }
   ],
   "source": [
    "drp_reg_result = pd.DataFrame({\"Group\": grp, \"Drop-out rate\": drp_log, \"Regularizer rate\": reg_log,\n",
    "                               \"Mean Absolute Error\": mae_log, \"Mean Squared Error\": mse_log})\n",
    "drp_reg_result"
   ]
  },
  {
   "cell_type": "code",
   "execution_count": 62,
   "metadata": {
    "colab": {
     "base_uri": "https://localhost:8080/",
     "height": 35
    },
    "colab_type": "code",
    "id": "yp0MrkHekUND",
    "outputId": "c762fc05-476c-4410-9803-d6e59660e0c6"
   },
   "outputs": [
    {
     "name": "stdout",
     "output_type": "stream",
     "text": [
      "Saved process done.\n"
     ]
    }
   ],
   "source": [
    "drp_reg_result.to_excel('hyper tuning parameter regularization and drop-out.xlsx', index=False)\n",
    "print('Saved process done.')"
   ]
  },
  {
   "cell_type": "code",
   "execution_count": 63,
   "metadata": {
    "colab": {
     "base_uri": "https://localhost:8080/",
     "height": 582
    },
    "colab_type": "code",
    "id": "4jcKeRHrkUjb",
    "outputId": "01d63dc8-0418-44d8-8fb4-c2484fd85392"
   },
   "outputs": [
    {
     "data": {
      "text/html": [
       "<div>\n",
       "<style scoped>\n",
       "    .dataframe tbody tr th:only-of-type {\n",
       "        vertical-align: middle;\n",
       "    }\n",
       "\n",
       "    .dataframe tbody tr th {\n",
       "        vertical-align: top;\n",
       "    }\n",
       "\n",
       "    .dataframe thead th {\n",
       "        text-align: right;\n",
       "    }\n",
       "</style>\n",
       "<table border=\"1\" class=\"dataframe\">\n",
       "  <thead>\n",
       "    <tr style=\"text-align: right;\">\n",
       "      <th></th>\n",
       "      <th></th>\n",
       "      <th>Mean Absolute Error</th>\n",
       "      <th>Mean Squared Error</th>\n",
       "    </tr>\n",
       "    <tr>\n",
       "      <th>Drop-out rate</th>\n",
       "      <th>Regularizer rate</th>\n",
       "      <th></th>\n",
       "      <th></th>\n",
       "    </tr>\n",
       "  </thead>\n",
       "  <tbody>\n",
       "    <tr>\n",
       "      <th rowspan=\"4\" valign=\"top\">0.00</th>\n",
       "      <th>0.000</th>\n",
       "      <td>1517.268677</td>\n",
       "      <td>20745776.50</td>\n",
       "    </tr>\n",
       "    <tr>\n",
       "      <th>0.001</th>\n",
       "      <td>1446.084137</td>\n",
       "      <td>20589117.00</td>\n",
       "    </tr>\n",
       "    <tr>\n",
       "      <th>0.010</th>\n",
       "      <td>1493.656647</td>\n",
       "      <td>20706491.75</td>\n",
       "    </tr>\n",
       "    <tr>\n",
       "      <th>0.100</th>\n",
       "      <td>1684.681396</td>\n",
       "      <td>20982337.50</td>\n",
       "    </tr>\n",
       "    <tr>\n",
       "      <th rowspan=\"4\" valign=\"top\">0.20</th>\n",
       "      <th>0.000</th>\n",
       "      <td>2048.239105</td>\n",
       "      <td>23723344.00</td>\n",
       "    </tr>\n",
       "    <tr>\n",
       "      <th>0.001</th>\n",
       "      <td>2054.102478</td>\n",
       "      <td>23111842.50</td>\n",
       "    </tr>\n",
       "    <tr>\n",
       "      <th>0.010</th>\n",
       "      <td>2023.015320</td>\n",
       "      <td>23084158.50</td>\n",
       "    </tr>\n",
       "    <tr>\n",
       "      <th>0.100</th>\n",
       "      <td>2111.578705</td>\n",
       "      <td>24689851.50</td>\n",
       "    </tr>\n",
       "    <tr>\n",
       "      <th rowspan=\"4\" valign=\"top\">0.35</th>\n",
       "      <th>0.000</th>\n",
       "      <td>2164.916321</td>\n",
       "      <td>24617566.00</td>\n",
       "    </tr>\n",
       "    <tr>\n",
       "      <th>0.001</th>\n",
       "      <td>2135.159363</td>\n",
       "      <td>24454174.50</td>\n",
       "    </tr>\n",
       "    <tr>\n",
       "      <th>0.010</th>\n",
       "      <td>2149.632721</td>\n",
       "      <td>23918260.00</td>\n",
       "    </tr>\n",
       "    <tr>\n",
       "      <th>0.100</th>\n",
       "      <td>2264.205566</td>\n",
       "      <td>23961310.00</td>\n",
       "    </tr>\n",
       "    <tr>\n",
       "      <th rowspan=\"4\" valign=\"top\">0.50</th>\n",
       "      <th>0.000</th>\n",
       "      <td>2168.048340</td>\n",
       "      <td>24141316.00</td>\n",
       "    </tr>\n",
       "    <tr>\n",
       "      <th>0.001</th>\n",
       "      <td>2164.867401</td>\n",
       "      <td>24446141.00</td>\n",
       "    </tr>\n",
       "    <tr>\n",
       "      <th>0.010</th>\n",
       "      <td>2366.301636</td>\n",
       "      <td>24893305.50</td>\n",
       "    </tr>\n",
       "    <tr>\n",
       "      <th>0.100</th>\n",
       "      <td>2312.982300</td>\n",
       "      <td>24630832.50</td>\n",
       "    </tr>\n",
       "  </tbody>\n",
       "</table>\n",
       "</div>"
      ],
      "text/plain": [
       "                                Mean Absolute Error  Mean Squared Error\n",
       "Drop-out rate Regularizer rate                                         \n",
       "0.00          0.000                     1517.268677         20745776.50\n",
       "              0.001                     1446.084137         20589117.00\n",
       "              0.010                     1493.656647         20706491.75\n",
       "              0.100                     1684.681396         20982337.50\n",
       "0.20          0.000                     2048.239105         23723344.00\n",
       "              0.001                     2054.102478         23111842.50\n",
       "              0.010                     2023.015320         23084158.50\n",
       "              0.100                     2111.578705         24689851.50\n",
       "0.35          0.000                     2164.916321         24617566.00\n",
       "              0.001                     2135.159363         24454174.50\n",
       "              0.010                     2149.632721         23918260.00\n",
       "              0.100                     2264.205566         23961310.00\n",
       "0.50          0.000                     2168.048340         24141316.00\n",
       "              0.001                     2164.867401         24446141.00\n",
       "              0.010                     2366.301636         24893305.50\n",
       "              0.100                     2312.982300         24630832.50"
      ]
     },
     "execution_count": 63,
     "metadata": {
      "tags": []
     },
     "output_type": "execute_result"
    }
   ],
   "source": [
    "grp_result = drp_reg_result.groupby(['Drop-out rate', 'Regularizer rate'])[['Mean Absolute Error', 'Mean Squared Error']].mean()\n",
    "grp_result"
   ]
  },
  {
   "cell_type": "markdown",
   "metadata": {
    "colab_type": "text",
    "id": "CHakBjNWGOJ3"
   },
   "source": [
    "Refer to previous experiment, the better result comes with drop-out rate = 0 and regularizer rate = 0.01 (mae), 0.1 (mse)"
   ]
  },
  {
   "cell_type": "markdown",
   "metadata": {
    "colab_type": "text",
    "id": "qfCWmXIq9q3K"
   },
   "source": [
    "### Evaluate with test set"
   ]
  },
  {
   "cell_type": "markdown",
   "metadata": {
    "colab_type": "text",
    "id": "V6mPtzdyGbi0"
   },
   "source": [
    "After work on hyper tuning parameter, we can apply the best parameter to test set. And see whether a overfitting issue or not"
   ]
  },
  {
   "cell_type": "code",
   "execution_count": 64,
   "metadata": {
    "colab": {
     "base_uri": "https://localhost:8080/",
     "height": 90
    },
    "colab_type": "code",
    "id": "7TefQJNBG3BS",
    "outputId": "69666ed8-d2a3-48bb-9ed6-215ce843a081"
   },
   "outputs": [
    {
     "name": "stdout",
     "output_type": "stream",
     "text": [
      "9/9 [==============================] - 0s 2ms/step - loss: 1807.4545 - mae: 1624.6710 - mse: 22707780.0000\n",
      "9/9 [==============================] - 0s 1ms/step - loss: 1725.4546 - mae: 1546.1896 - mse: 22180042.0000\n",
      "9/9 [==============================] - 0s 2ms/step - loss: 1601.7787 - mae: 1553.4589 - mse: 20831430.0000\n",
      "9/9 [==============================] - 0s 2ms/step - loss: 1387.6746 - mae: 1290.4468 - mse: 17100272.0000\n"
     ]
    }
   ],
   "source": [
    "mae_log ,mse_log = [], []\n",
    "\n",
    "for train_features, train_target, validation_features, validation_target in train_val_split:\n",
    "\n",
    "    mlp = multilayer_perceptron(train_features.shape[1], .025, 'adam', 0.01, 0)\n",
    "    model, history = train_model(mlp, train_features, train_target, N_epoch)\n",
    "    loss, mae, mse = model.evaluate(validation_features, validation_target, verbose=1)\n",
    "    mae_log.append(mae)\n",
    "    mse_log.append(mse)"
   ]
  },
  {
   "cell_type": "code",
   "execution_count": 65,
   "metadata": {
    "colab": {
     "base_uri": "https://localhost:8080/",
     "height": 193
    },
    "colab_type": "code",
    "id": "oIDadaNQHdBt",
    "outputId": "e1d6cc28-1a4e-4fca-da11-17ff95d45aae"
   },
   "outputs": [
    {
     "name": "stdout",
     "output_type": "stream",
     "text": [
      "Test result with validation set that obtained from train-validation-test split using Sorted Stratified K Fold Cross Validation\n"
     ]
    },
    {
     "data": {
      "text/html": [
       "<div>\n",
       "<style scoped>\n",
       "    .dataframe tbody tr th:only-of-type {\n",
       "        vertical-align: middle;\n",
       "    }\n",
       "\n",
       "    .dataframe tbody tr th {\n",
       "        vertical-align: top;\n",
       "    }\n",
       "\n",
       "    .dataframe thead th {\n",
       "        text-align: right;\n",
       "    }\n",
       "</style>\n",
       "<table border=\"1\" class=\"dataframe\">\n",
       "  <thead>\n",
       "    <tr style=\"text-align: right;\">\n",
       "      <th></th>\n",
       "      <th>Group</th>\n",
       "      <th>Mean Absolute Error</th>\n",
       "      <th>Mean Squared Error</th>\n",
       "    </tr>\n",
       "  </thead>\n",
       "  <tbody>\n",
       "    <tr>\n",
       "      <th>0</th>\n",
       "      <td>Group-1</td>\n",
       "      <td>1624.671021</td>\n",
       "      <td>22707780.0</td>\n",
       "    </tr>\n",
       "    <tr>\n",
       "      <th>1</th>\n",
       "      <td>Group-2</td>\n",
       "      <td>1546.189575</td>\n",
       "      <td>22180042.0</td>\n",
       "    </tr>\n",
       "    <tr>\n",
       "      <th>2</th>\n",
       "      <td>Group-3</td>\n",
       "      <td>1553.458862</td>\n",
       "      <td>20831430.0</td>\n",
       "    </tr>\n",
       "    <tr>\n",
       "      <th>3</th>\n",
       "      <td>Group-4</td>\n",
       "      <td>1290.446777</td>\n",
       "      <td>17100272.0</td>\n",
       "    </tr>\n",
       "  </tbody>\n",
       "</table>\n",
       "</div>"
      ],
      "text/plain": [
       "     Group  Mean Absolute Error  Mean Squared Error\n",
       "0  Group-1          1624.671021          22707780.0\n",
       "1  Group-2          1546.189575          22180042.0\n",
       "2  Group-3          1553.458862          20831430.0\n",
       "3  Group-4          1290.446777          17100272.0"
      ]
     },
     "execution_count": 65,
     "metadata": {
      "tags": []
     },
     "output_type": "execute_result"
    }
   ],
   "source": [
    "grp_log = ['Group-'+str(i+1) for i in range(n_splits_target)]\n",
    "log = pd.DataFrame({\"Group\": grp_log, \"Mean Absolute Error\": mae_log, \"Mean Squared Error\": mse_log})\n",
    "print('Test result with validation set that obtained from train-validation-test split using Sorted Stratified K Fold Cross Validation')\n",
    "log"
   ]
  },
  {
   "cell_type": "code",
   "execution_count": 66,
   "metadata": {
    "colab": {
     "base_uri": "https://localhost:8080/",
     "height": 72
    },
    "colab_type": "code",
    "id": "0Qpfe2CaIBkb",
    "outputId": "8f27d251-e091-46bc-d622-d52f80a38c51"
   },
   "outputs": [
    {
     "name": "stdout",
     "output_type": "stream",
     "text": [
      "Minimum MAE =   1290.44677734375\n",
      "Maximum MAE =   1624.6710205078125\n",
      "Average MAE =   1503.6915588378906\n"
     ]
    }
   ],
   "source": [
    "\n",
    "print(\"Minimum MAE =  \",log[\"Mean Absolute Error\"].min())\n",
    "print(\"Maximum MAE =  \",log[\"Mean Absolute Error\"].max())\n",
    "print(\"Average MAE =  \",log[\"Mean Absolute Error\"].mean())"
   ]
  },
  {
   "cell_type": "markdown",
   "metadata": {
    "colab_type": "text",
    "id": "hCF8CyD8L9Eq"
   },
   "source": [
    "Right now, we know that our model can get result with 'Mean Absolute Error' between 1416,74 and 1540,08. Now lets check with test set. (N_epoch=4000)\n",
    "\n",
    "> If you run the cell many times you can get different result. But the interval of MAE will not be much different"
   ]
  },
  {
   "cell_type": "code",
   "execution_count": 67,
   "metadata": {
    "colab": {
     "base_uri": "https://localhost:8080/",
     "height": 53
    },
    "colab_type": "code",
    "id": "vfOuCYX19wQi",
    "outputId": "09498853-94cb-4c6a-d8c7-844cb2fd049a"
   },
   "outputs": [
    {
     "name": "stdout",
     "output_type": "stream",
     "text": [
      "9/9 [==============================] - 0s 2ms/step - loss: 1989.4995 - mae: 1651.0294 - mse: 24732178.0000\n",
      "MAE for testing set =  1651.03 (charges)\n"
     ]
    }
   ],
   "source": [
    "test_target = target[normed_test_features.index]\n",
    "loss, mae, mse = model.evaluate(normed_test_features, test_target)\n",
    "\n",
    "print(\"MAE for testing set =  {:5.2f} (charges)\".format(mae))"
   ]
  },
  {
   "cell_type": "code",
   "execution_count": 68,
   "metadata": {
    "colab": {
     "base_uri": "https://localhost:8080/",
     "height": 283
    },
    "colab_type": "code",
    "id": "Fds06mu-Dr23",
    "outputId": "ca395392-f301-4f00-f332-042dac04e7a6"
   },
   "outputs": [
    {
     "data": {
      "image/png": "[encoded data removed]",
      "text/plain": [
       "<Figure size 432x288 with 1 Axes>"
      ]
     },
     "metadata": {
      "tags": []
     },
     "output_type": "display_data"
    }
   ],
   "source": [
    "test_predictions = model.predict(normed_test_features).flatten()\n",
    "\n",
    "a = plt.axes(aspect='equal')\n",
    "\n",
    "plt.scatter(test_target, test_predictions)\n",
    "\n",
    "plt.xlabel('True Values [charges]')\n",
    "plt.ylabel('Predictions [charges]')\n",
    "lims = [0, 6e4]\n",
    "plt.xlim(lims)\n",
    "plt.ylim(lims)\n",
    "\n",
    "_ = plt.plot(lims, lims)"
   ]
  },
  {
   "cell_type": "markdown",
   "metadata": {
    "colab_type": "text",
    "id": "t7KrK5pJN6dR"
   },
   "source": [
    "For this testing we get MAE of 1639,38.\n",
    "\n",
    "\n",
    "If we compare with result that we obtained from validation set, our model can predict data with MAE 1487,84. We get <b>difference of 151,54 from model validation</b>. That is good result <b>(not overfitting)</b>."
   ]
  },
  {
   "cell_type": "markdown",
   "metadata": {
    "colab_type": "text",
    "id": "03uekFg_jYmm"
   },
   "source": [
    "# Results and Conclusion"
   ]
  },
  {
   "cell_type": "code",
   "execution_count": 0,
   "metadata": {
    "colab": {
     "base_uri": "https://localhost:8080/",
     "height": 181
    },
    "colab_type": "code",
    "id": "y2mF2ioel1Xy",
    "outputId": "f2095573-3dfc-4ae3-de46-209cb6a91ed4"
   },
   "outputs": [
    {
     "data": {
      "text/plain": [
       "count     1338.000000\n",
       "mean     13270.422265\n",
       "std      12110.011237\n",
       "min       1121.873900\n",
       "25%       4740.287150\n",
       "50%       9382.033000\n",
       "75%      16639.912515\n",
       "max      63770.428010\n",
       "Name: charges, dtype: float64"
      ]
     },
     "execution_count": 183,
     "metadata": {
      "tags": []
     },
     "output_type": "execute_result"
    }
   ],
   "source": [
    "dataset['charges'].describe()"
   ]
  },
  {
   "cell_type": "markdown",
   "metadata": {
    "colab_type": "text",
    "id": "X_kgrGJpkGXT"
   },
   "source": [
    "We have performed regression analysis model to predict health insurance cost should be paid for given features. We have shown in the above, several results related to our MAE for test data. We think from the range of `charges` category in the datasets, our predicted health insurance won't sufficiently good for person who has medical bill around 1000.\n",
    "\n",
    "As we plot the joint distribution, we can see at glance that there are so much irregularity to the data. If we look closely to some elements in that joint distrbution, there are some clusters related to BMI and charges. It can be inferred another model like clustering can make a group for a range of health insurance bill. This will be another project.\n",
    "\n"
   ]
  },
  {
   "cell_type": "code",
   "execution_count": 0,
   "metadata": {
    "colab": {},
    "colab_type": "code",
    "id": "ToNe8pJxmq9w"
   },
   "outputs": [],
   "source": []
  }
 ],
 "metadata": {
  "colab": {
   "collapsed_sections": [],
   "name": "medical-cost-forecast.ipynb",
   "provenance": [],
   "toc_visible": true
  },
  "kernelspec": {
   "display_name": "Python 3",
   "language": "python",
   "name": "python3"
  },
  "language_info": {
   "codemirror_mode": {
    "name": "ipython",
    "version": 3
   },
   "file_extension": ".py",
   "mimetype": "text/x-python",
   "name": "python",
   "nbconvert_exporter": "python",
   "pygments_lexer": "ipython3",
   "version": "3.7.3"
  }
 },
 "nbformat": 4,
 "nbformat_minor": 1
}
