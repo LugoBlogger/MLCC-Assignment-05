{
  "nbformat": 4,
  "nbformat_minor": 0,
  "metadata": {
    "colab": {
      "name": "medical-cost-forecast.ipynb",
      "provenance": [],
      "collapsed_sections": [],
      "include_colab_link": true
    },
    "kernelspec": {
      "name": "python3",
      "display_name": "Python 3"
    }
  },
  "cells": [
    {
      "cell_type": "markdown",
      "metadata": {
        "id": "view-in-github",
        "colab_type": "text"
      },
      "source": [
        "<a href=\"https://colab.research.google.com/github/LugoBlogger/MLCC-Assignment-05/blob/dev%2F26032020/medical_cost_forecast.ipynb\" target=\"_parent\"><img src=\"https://colab.research.google.com/assets/colab-badge.svg\" alt=\"Open In Colab\"/></a>"
      ]
    },
    {
      "cell_type": "markdown",
      "metadata": {
        "id": "bLMC3Zb-Cksh",
        "colab_type": "text"
      },
      "source": [
        "# Introduction\n",
        "\n",
        "* motivation why we choose that dataset.\n",
        "* what we want to predict.\n",
        "* is it interesting enough or not."
      ]
    },
    {
      "cell_type": "code",
      "metadata": {
        "id": "lRxMe2w2hb_9",
        "colab_type": "code",
        "colab": {}
      },
      "source": [
        ""
      ],
      "execution_count": 0,
      "outputs": []
    },
    {
      "cell_type": "code",
      "metadata": {
        "id": "gBCFS3gaE7wn",
        "colab_type": "code",
        "outputId": "1c27956b-788f-48a9-bf3a-cdaa89c48501",
        "colab": {
          "base_uri": "https://localhost:8080/",
          "height": 35
        }
      },
      "source": [
        "# Use seaborn for pairplot\n",
        "!pip install -q seaborn\n",
        "\n",
        "# Use some functions from tensorflow_docs\n",
        "!pip install -q git+https://github.com/tensorflow/docs"
      ],
      "execution_count": 1,
      "outputs": [
        {
          "output_type": "stream",
          "text": [
            "  Building wheel for tensorflow-docs (setup.py) ... \u001b[?25l\u001b[?25hdone\n"
          ],
          "name": "stdout"
        }
      ]
    },
    {
      "cell_type": "code",
      "metadata": {
        "id": "ZKKYz5BnFeAf",
        "colab_type": "code",
        "outputId": "811da64c-59b6-45d1-ff6a-24e3268c9fa0",
        "colab": {
          "base_uri": "https://localhost:8080/",
          "height": 35
        }
      },
      "source": [
        "# Use tensorflow 2\n",
        "%tensorflow_version 2.x"
      ],
      "execution_count": 3,
      "outputs": [
        {
          "output_type": "stream",
          "text": [
            "TensorFlow 2.x selected.\n"
          ],
          "name": "stdout"
        }
      ]
    },
    {
      "cell_type": "code",
      "metadata": {
        "id": "sPXvoENYBlC9",
        "colab_type": "code",
        "colab": {}
      },
      "source": [
        "import os\n",
        "\n",
        "import matplotlib.pyplot as plt\n",
        "import numpy as np\n",
        "import pandas as pd\n",
        "import seaborn as sns"
      ],
      "execution_count": 0,
      "outputs": []
    },
    {
      "cell_type": "code",
      "metadata": {
        "id": "zBaTzo5YEHOz",
        "colab_type": "code",
        "outputId": "3597d3df-cdc0-4832-d228-903cd9e8a9de",
        "colab": {
          "base_uri": "https://localhost:8080/",
          "height": 35
        }
      },
      "source": [
        "import tensorflow as tf\n",
        "\n",
        "from tensorflow import keras\n",
        "from tensorflow.keras import layers\n",
        "\n",
        "print(tf.__version__)"
      ],
      "execution_count": 5,
      "outputs": [
        {
          "output_type": "stream",
          "text": [
            "2.1.0\n"
          ],
          "name": "stdout"
        }
      ]
    },
    {
      "cell_type": "code",
      "metadata": {
        "id": "vLwn9MsbEOfY",
        "colab_type": "code",
        "colab": {}
      },
      "source": [
        "### this library is for callback functions\n",
        "import tensorflow_docs as tfdocs\n",
        "import tensorflow_docs.plots\n",
        "import tensorflow_docs.modeling"
      ],
      "execution_count": 0,
      "outputs": []
    },
    {
      "cell_type": "markdown",
      "metadata": {
        "id": "llvFDM09FyIu",
        "colab_type": "text"
      },
      "source": [
        "# Medical Cost Personal Datasets\n",
        "\n",
        "## Retrieve the dataset\n",
        "\n",
        "Manage the dataset into pandas' DataFrame."
      ]
    },
    {
      "cell_type": "code",
      "metadata": {
        "id": "Ca59a6eCGMsA",
        "colab_type": "code",
        "outputId": "5dd58976-c940-4b3d-8b20-4ec13d8deb36",
        "colab": {
          "base_uri": "https://localhost:8080/",
          "height": 424
        }
      },
      "source": [
        "dataset = pd.read_csv(\"https://raw.githubusercontent.com/LugoBlogger/MLCC-Assignment-05/master/datasets/insurance.csv\", header=0)\n",
        "dataset"
      ],
      "execution_count": 111,
      "outputs": [
        {
          "output_type": "execute_result",
          "data": {
            "text/html": [
              "<div>\n",
              "<style scoped>\n",
              "    .dataframe tbody tr th:only-of-type {\n",
              "        vertical-align: middle;\n",
              "    }\n",
              "\n",
              "    .dataframe tbody tr th {\n",
              "        vertical-align: top;\n",
              "    }\n",
              "\n",
              "    .dataframe thead th {\n",
              "        text-align: right;\n",
              "    }\n",
              "</style>\n",
              "<table border=\"1\" class=\"dataframe\">\n",
              "  <thead>\n",
              "    <tr style=\"text-align: right;\">\n",
              "      <th></th>\n",
              "      <th>age</th>\n",
              "      <th>sex</th>\n",
              "      <th>bmi</th>\n",
              "      <th>children</th>\n",
              "      <th>smoker</th>\n",
              "      <th>region</th>\n",
              "      <th>charges</th>\n",
              "    </tr>\n",
              "  </thead>\n",
              "  <tbody>\n",
              "    <tr>\n",
              "      <th>0</th>\n",
              "      <td>19</td>\n",
              "      <td>female</td>\n",
              "      <td>27.900</td>\n",
              "      <td>0</td>\n",
              "      <td>yes</td>\n",
              "      <td>southwest</td>\n",
              "      <td>16884.92400</td>\n",
              "    </tr>\n",
              "    <tr>\n",
              "      <th>1</th>\n",
              "      <td>18</td>\n",
              "      <td>male</td>\n",
              "      <td>33.770</td>\n",
              "      <td>1</td>\n",
              "      <td>no</td>\n",
              "      <td>southeast</td>\n",
              "      <td>1725.55230</td>\n",
              "    </tr>\n",
              "    <tr>\n",
              "      <th>2</th>\n",
              "      <td>28</td>\n",
              "      <td>male</td>\n",
              "      <td>33.000</td>\n",
              "      <td>3</td>\n",
              "      <td>no</td>\n",
              "      <td>southeast</td>\n",
              "      <td>4449.46200</td>\n",
              "    </tr>\n",
              "    <tr>\n",
              "      <th>3</th>\n",
              "      <td>33</td>\n",
              "      <td>male</td>\n",
              "      <td>22.705</td>\n",
              "      <td>0</td>\n",
              "      <td>no</td>\n",
              "      <td>northwest</td>\n",
              "      <td>21984.47061</td>\n",
              "    </tr>\n",
              "    <tr>\n",
              "      <th>4</th>\n",
              "      <td>32</td>\n",
              "      <td>male</td>\n",
              "      <td>28.880</td>\n",
              "      <td>0</td>\n",
              "      <td>no</td>\n",
              "      <td>northwest</td>\n",
              "      <td>3866.85520</td>\n",
              "    </tr>\n",
              "    <tr>\n",
              "      <th>...</th>\n",
              "      <td>...</td>\n",
              "      <td>...</td>\n",
              "      <td>...</td>\n",
              "      <td>...</td>\n",
              "      <td>...</td>\n",
              "      <td>...</td>\n",
              "      <td>...</td>\n",
              "    </tr>\n",
              "    <tr>\n",
              "      <th>1333</th>\n",
              "      <td>50</td>\n",
              "      <td>male</td>\n",
              "      <td>30.970</td>\n",
              "      <td>3</td>\n",
              "      <td>no</td>\n",
              "      <td>northwest</td>\n",
              "      <td>10600.54830</td>\n",
              "    </tr>\n",
              "    <tr>\n",
              "      <th>1334</th>\n",
              "      <td>18</td>\n",
              "      <td>female</td>\n",
              "      <td>31.920</td>\n",
              "      <td>0</td>\n",
              "      <td>no</td>\n",
              "      <td>northeast</td>\n",
              "      <td>2205.98080</td>\n",
              "    </tr>\n",
              "    <tr>\n",
              "      <th>1335</th>\n",
              "      <td>18</td>\n",
              "      <td>female</td>\n",
              "      <td>36.850</td>\n",
              "      <td>0</td>\n",
              "      <td>no</td>\n",
              "      <td>southeast</td>\n",
              "      <td>1629.83350</td>\n",
              "    </tr>\n",
              "    <tr>\n",
              "      <th>1336</th>\n",
              "      <td>21</td>\n",
              "      <td>female</td>\n",
              "      <td>25.800</td>\n",
              "      <td>0</td>\n",
              "      <td>no</td>\n",
              "      <td>southwest</td>\n",
              "      <td>2007.94500</td>\n",
              "    </tr>\n",
              "    <tr>\n",
              "      <th>1337</th>\n",
              "      <td>61</td>\n",
              "      <td>female</td>\n",
              "      <td>29.070</td>\n",
              "      <td>0</td>\n",
              "      <td>yes</td>\n",
              "      <td>northwest</td>\n",
              "      <td>29141.36030</td>\n",
              "    </tr>\n",
              "  </tbody>\n",
              "</table>\n",
              "<p>1338 rows × 7 columns</p>\n",
              "</div>"
            ],
            "text/plain": [
              "      age     sex     bmi  children smoker     region      charges\n",
              "0      19  female  27.900         0    yes  southwest  16884.92400\n",
              "1      18    male  33.770         1     no  southeast   1725.55230\n",
              "2      28    male  33.000         3     no  southeast   4449.46200\n",
              "3      33    male  22.705         0     no  northwest  21984.47061\n",
              "4      32    male  28.880         0     no  northwest   3866.85520\n",
              "...   ...     ...     ...       ...    ...        ...          ...\n",
              "1333   50    male  30.970         3     no  northwest  10600.54830\n",
              "1334   18  female  31.920         0     no  northeast   2205.98080\n",
              "1335   18  female  36.850         0     no  southeast   1629.83350\n",
              "1336   21  female  25.800         0     no  southwest   2007.94500\n",
              "1337   61  female  29.070         0    yes  northwest  29141.36030\n",
              "\n",
              "[1338 rows x 7 columns]"
            ]
          },
          "metadata": {
            "tags": []
          },
          "execution_count": 111
        }
      ]
    },
    {
      "cell_type": "markdown",
      "metadata": {
        "id": "i_o-MQJPQmEY",
        "colab_type": "text"
      },
      "source": [
        "## Clean the data\n",
        "\n",
        "Checking the dataset whether is clean or not."
      ]
    },
    {
      "cell_type": "code",
      "metadata": {
        "id": "UKBu_VRVKUSE",
        "colab_type": "code",
        "colab": {
          "base_uri": "https://localhost:8080/",
          "height": 162
        },
        "outputId": "a7e789fb-33ea-4f18-ca87-ede987fefffa"
      },
      "source": [
        "dataset.isna().sum()"
      ],
      "execution_count": 112,
      "outputs": [
        {
          "output_type": "execute_result",
          "data": {
            "text/plain": [
              "age         0\n",
              "sex         0\n",
              "bmi         0\n",
              "children    0\n",
              "smoker      0\n",
              "region      0\n",
              "charges     0\n",
              "dtype: int64"
            ]
          },
          "metadata": {
            "tags": []
          },
          "execution_count": 112
        }
      ]
    },
    {
      "cell_type": "markdown",
      "metadata": {
        "id": "LzSz-tvQQ9L7",
        "colab_type": "text"
      },
      "source": [
        "Convert categorical columns into numeric with the following convention:\n",
        "\n",
        "* `sex`: male = 1, female = 2,\n",
        "\n",
        "* `smoker`: yes = 1, no = 0,\n",
        "\n",
        "* `region`: northeast = $\\displaystyle\\frac{\\pi}{4}$, northwest = $\\displaystyle\\frac{3\\pi}{4}$, southwest = $\\displaystyle\\frac{5\\pi}{4}$, southeast = $\\displaystyle\\frac{7\\pi}{4}$. We use the representation of direction by their angle on unit circle. If we compute the method `.mean`, it will make a sense (where is the region whose citizens are the most recorded)."
      ]
    },
    {
      "cell_type": "code",
      "metadata": {
        "id": "epUomxKVQiJu",
        "colab_type": "code",
        "colab": {
          "base_uri": "https://localhost:8080/",
          "height": 424
        },
        "outputId": "0261fbf4-1733-46ba-9908-f473647839b9"
      },
      "source": [
        "dataset.loc[dataset['sex'] == 'male', 'sex'] = 1\n",
        "dataset.loc[dataset['sex'] == 'female', 'sex'] = 2\n",
        "\n",
        "dataset.loc[dataset['smoker'] == 'yes', 'smoker'] = 1\n",
        "dataset.loc[dataset['smoker'] == 'no', 'smoker'] = 0\n",
        "\n",
        "dataset.loc[dataset['region'] == 'northeast', 'region'] = np.pi/4\n",
        "dataset.loc[dataset['region'] == 'northwest', 'region'] = 3*np.pi/4\n",
        "dataset.loc[dataset['region'] == 'southwest', 'region'] = 5*np.pi/4\n",
        "dataset.loc[dataset['region'] == 'southeast', 'region'] = 7*np.pi/4\n",
        "\n",
        "train_dataset['region'] = pd.to_numeric(train_dataset['region'])\n",
        "\n",
        "dataset"
      ],
      "execution_count": 113,
      "outputs": [
        {
          "output_type": "execute_result",
          "data": {
            "text/html": [
              "<div>\n",
              "<style scoped>\n",
              "    .dataframe tbody tr th:only-of-type {\n",
              "        vertical-align: middle;\n",
              "    }\n",
              "\n",
              "    .dataframe tbody tr th {\n",
              "        vertical-align: top;\n",
              "    }\n",
              "\n",
              "    .dataframe thead th {\n",
              "        text-align: right;\n",
              "    }\n",
              "</style>\n",
              "<table border=\"1\" class=\"dataframe\">\n",
              "  <thead>\n",
              "    <tr style=\"text-align: right;\">\n",
              "      <th></th>\n",
              "      <th>age</th>\n",
              "      <th>sex</th>\n",
              "      <th>bmi</th>\n",
              "      <th>children</th>\n",
              "      <th>smoker</th>\n",
              "      <th>region</th>\n",
              "      <th>charges</th>\n",
              "    </tr>\n",
              "  </thead>\n",
              "  <tbody>\n",
              "    <tr>\n",
              "      <th>0</th>\n",
              "      <td>19</td>\n",
              "      <td>2</td>\n",
              "      <td>27.900</td>\n",
              "      <td>0</td>\n",
              "      <td>1</td>\n",
              "      <td>3.92699</td>\n",
              "      <td>16884.92400</td>\n",
              "    </tr>\n",
              "    <tr>\n",
              "      <th>1</th>\n",
              "      <td>18</td>\n",
              "      <td>1</td>\n",
              "      <td>33.770</td>\n",
              "      <td>1</td>\n",
              "      <td>0</td>\n",
              "      <td>5.49779</td>\n",
              "      <td>1725.55230</td>\n",
              "    </tr>\n",
              "    <tr>\n",
              "      <th>2</th>\n",
              "      <td>28</td>\n",
              "      <td>1</td>\n",
              "      <td>33.000</td>\n",
              "      <td>3</td>\n",
              "      <td>0</td>\n",
              "      <td>5.49779</td>\n",
              "      <td>4449.46200</td>\n",
              "    </tr>\n",
              "    <tr>\n",
              "      <th>3</th>\n",
              "      <td>33</td>\n",
              "      <td>1</td>\n",
              "      <td>22.705</td>\n",
              "      <td>0</td>\n",
              "      <td>0</td>\n",
              "      <td>2.35619</td>\n",
              "      <td>21984.47061</td>\n",
              "    </tr>\n",
              "    <tr>\n",
              "      <th>4</th>\n",
              "      <td>32</td>\n",
              "      <td>1</td>\n",
              "      <td>28.880</td>\n",
              "      <td>0</td>\n",
              "      <td>0</td>\n",
              "      <td>2.35619</td>\n",
              "      <td>3866.85520</td>\n",
              "    </tr>\n",
              "    <tr>\n",
              "      <th>...</th>\n",
              "      <td>...</td>\n",
              "      <td>...</td>\n",
              "      <td>...</td>\n",
              "      <td>...</td>\n",
              "      <td>...</td>\n",
              "      <td>...</td>\n",
              "      <td>...</td>\n",
              "    </tr>\n",
              "    <tr>\n",
              "      <th>1333</th>\n",
              "      <td>50</td>\n",
              "      <td>1</td>\n",
              "      <td>30.970</td>\n",
              "      <td>3</td>\n",
              "      <td>0</td>\n",
              "      <td>2.35619</td>\n",
              "      <td>10600.54830</td>\n",
              "    </tr>\n",
              "    <tr>\n",
              "      <th>1334</th>\n",
              "      <td>18</td>\n",
              "      <td>2</td>\n",
              "      <td>31.920</td>\n",
              "      <td>0</td>\n",
              "      <td>0</td>\n",
              "      <td>0.785398</td>\n",
              "      <td>2205.98080</td>\n",
              "    </tr>\n",
              "    <tr>\n",
              "      <th>1335</th>\n",
              "      <td>18</td>\n",
              "      <td>2</td>\n",
              "      <td>36.850</td>\n",
              "      <td>0</td>\n",
              "      <td>0</td>\n",
              "      <td>5.49779</td>\n",
              "      <td>1629.83350</td>\n",
              "    </tr>\n",
              "    <tr>\n",
              "      <th>1336</th>\n",
              "      <td>21</td>\n",
              "      <td>2</td>\n",
              "      <td>25.800</td>\n",
              "      <td>0</td>\n",
              "      <td>0</td>\n",
              "      <td>3.92699</td>\n",
              "      <td>2007.94500</td>\n",
              "    </tr>\n",
              "    <tr>\n",
              "      <th>1337</th>\n",
              "      <td>61</td>\n",
              "      <td>2</td>\n",
              "      <td>29.070</td>\n",
              "      <td>0</td>\n",
              "      <td>1</td>\n",
              "      <td>2.35619</td>\n",
              "      <td>29141.36030</td>\n",
              "    </tr>\n",
              "  </tbody>\n",
              "</table>\n",
              "<p>1338 rows × 7 columns</p>\n",
              "</div>"
            ],
            "text/plain": [
              "      age  sex     bmi  children  smoker    region      charges\n",
              "0      19    2  27.900         0       1   3.92699  16884.92400\n",
              "1      18    1  33.770         1       0   5.49779   1725.55230\n",
              "2      28    1  33.000         3       0   5.49779   4449.46200\n",
              "3      33    1  22.705         0       0   2.35619  21984.47061\n",
              "4      32    1  28.880         0       0   2.35619   3866.85520\n",
              "...   ...  ...     ...       ...     ...       ...          ...\n",
              "1333   50    1  30.970         3       0   2.35619  10600.54830\n",
              "1334   18    2  31.920         0       0  0.785398   2205.98080\n",
              "1335   18    2  36.850         0       0   5.49779   1629.83350\n",
              "1336   21    2  25.800         0       0   3.92699   2007.94500\n",
              "1337   61    2  29.070         0       1   2.35619  29141.36030\n",
              "\n",
              "[1338 rows x 7 columns]"
            ]
          },
          "metadata": {
            "tags": []
          },
          "execution_count": 113
        }
      ]
    },
    {
      "cell_type": "markdown",
      "metadata": {
        "id": "1k5TfULDV6f4",
        "colab_type": "text"
      },
      "source": [
        "## Split the data into a training set and a test set."
      ]
    },
    {
      "cell_type": "code",
      "metadata": {
        "id": "2YLF4K7CVUQ-",
        "colab_type": "code",
        "colab": {
          "base_uri": "https://localhost:8080/",
          "height": 72
        },
        "outputId": "f922b72a-26b0-4f2b-eff9-861603e63baf"
      },
      "source": [
        "train_dataset = dataset.sample(frac=0.8, random_state=2020)\n",
        "test_dataset = dataset.drop(train_dataset.index)\n",
        "\n",
        "N_train = len(train_dataset)\n",
        "N_test = len(test_dataset)\n",
        "print('N_train:', N_train)\n",
        "print('N_test:', N_test)\n",
        "print('N_train/N_dataset:', N_train/len(dataset))"
      ],
      "execution_count": 114,
      "outputs": [
        {
          "output_type": "stream",
          "text": [
            "N_train: 1070\n",
            "N_test: 268\n",
            "N_train/N_dataset: 0.7997010463378177\n"
          ],
          "name": "stdout"
        }
      ]
    },
    {
      "cell_type": "markdown",
      "metadata": {
        "id": "ZwYyBYWEW7eU",
        "colab_type": "text"
      },
      "source": [
        "## Inspect the data\n",
        "\n",
        "We look at the joint distribution of a few pairs of columns from the training set. The diagonal elements represent kerned density estimation (kde) for univariate variables for given columns. We include all the columns to inspect which variable has a correlation to another variable"
      ]
    },
    {
      "cell_type": "code",
      "metadata": {
        "id": "iK4789xEWxtj",
        "colab_type": "code",
        "colab": {
          "base_uri": "https://localhost:8080/",
          "height": 531
        },
        "outputId": "74c490c3-8cc5-4982-caa7-077e2fa43b97"
      },
      "source": [
        "sns.pairplot(train_dataset[['age', 'sex', 'bmi', 'children', 'smoker', \n",
        "                            'region', 'charges']], \n",
        "             diag_kind='kde', height=1);"
      ],
      "execution_count": 115,
      "outputs": [
        {
          "output_type": "display_data",
          "data": {
            "image/png": "[encoded data removed]",
            "text/plain": [
              "<Figure size 504x504 with 56 Axes>"
            ]
          },
          "metadata": {
            "tags": []
          }
        }
      ]
    },
    {
      "cell_type": "code",
      "metadata": {
        "id": "T2UJIGH7kFxp",
        "colab_type": "code",
        "colab": {
          "base_uri": "https://localhost:8080/",
          "height": 424
        },
        "outputId": "6ba7d195-beb1-4cc3-e42b-695b5a816f1c"
      },
      "source": [
        "train_dataset"
      ],
      "execution_count": 116,
      "outputs": [
        {
          "output_type": "execute_result",
          "data": {
            "text/html": [
              "<div>\n",
              "<style scoped>\n",
              "    .dataframe tbody tr th:only-of-type {\n",
              "        vertical-align: middle;\n",
              "    }\n",
              "\n",
              "    .dataframe tbody tr th {\n",
              "        vertical-align: top;\n",
              "    }\n",
              "\n",
              "    .dataframe thead th {\n",
              "        text-align: right;\n",
              "    }\n",
              "</style>\n",
              "<table border=\"1\" class=\"dataframe\">\n",
              "  <thead>\n",
              "    <tr style=\"text-align: right;\">\n",
              "      <th></th>\n",
              "      <th>age</th>\n",
              "      <th>sex</th>\n",
              "      <th>bmi</th>\n",
              "      <th>children</th>\n",
              "      <th>smoker</th>\n",
              "      <th>region</th>\n",
              "      <th>charges</th>\n",
              "    </tr>\n",
              "  </thead>\n",
              "  <tbody>\n",
              "    <tr>\n",
              "      <th>1293</th>\n",
              "      <td>46</td>\n",
              "      <td>1</td>\n",
              "      <td>25.745</td>\n",
              "      <td>3</td>\n",
              "      <td>0</td>\n",
              "      <td>2.35619</td>\n",
              "      <td>9301.89355</td>\n",
              "    </tr>\n",
              "    <tr>\n",
              "      <th>361</th>\n",
              "      <td>35</td>\n",
              "      <td>1</td>\n",
              "      <td>30.500</td>\n",
              "      <td>1</td>\n",
              "      <td>0</td>\n",
              "      <td>3.92699</td>\n",
              "      <td>4751.07000</td>\n",
              "    </tr>\n",
              "    <tr>\n",
              "      <th>802</th>\n",
              "      <td>21</td>\n",
              "      <td>1</td>\n",
              "      <td>22.300</td>\n",
              "      <td>1</td>\n",
              "      <td>0</td>\n",
              "      <td>3.92699</td>\n",
              "      <td>2103.08000</td>\n",
              "    </tr>\n",
              "    <tr>\n",
              "      <th>623</th>\n",
              "      <td>18</td>\n",
              "      <td>1</td>\n",
              "      <td>33.535</td>\n",
              "      <td>0</td>\n",
              "      <td>1</td>\n",
              "      <td>0.785398</td>\n",
              "      <td>34617.84065</td>\n",
              "    </tr>\n",
              "    <tr>\n",
              "      <th>735</th>\n",
              "      <td>49</td>\n",
              "      <td>2</td>\n",
              "      <td>34.770</td>\n",
              "      <td>1</td>\n",
              "      <td>0</td>\n",
              "      <td>2.35619</td>\n",
              "      <td>9583.89330</td>\n",
              "    </tr>\n",
              "    <tr>\n",
              "      <th>...</th>\n",
              "      <td>...</td>\n",
              "      <td>...</td>\n",
              "      <td>...</td>\n",
              "      <td>...</td>\n",
              "      <td>...</td>\n",
              "      <td>...</td>\n",
              "      <td>...</td>\n",
              "    </tr>\n",
              "    <tr>\n",
              "      <th>979</th>\n",
              "      <td>36</td>\n",
              "      <td>2</td>\n",
              "      <td>29.920</td>\n",
              "      <td>0</td>\n",
              "      <td>0</td>\n",
              "      <td>5.49779</td>\n",
              "      <td>4889.03680</td>\n",
              "    </tr>\n",
              "    <tr>\n",
              "      <th>162</th>\n",
              "      <td>54</td>\n",
              "      <td>1</td>\n",
              "      <td>39.600</td>\n",
              "      <td>1</td>\n",
              "      <td>0</td>\n",
              "      <td>3.92699</td>\n",
              "      <td>10450.55200</td>\n",
              "    </tr>\n",
              "    <tr>\n",
              "      <th>171</th>\n",
              "      <td>49</td>\n",
              "      <td>1</td>\n",
              "      <td>30.300</td>\n",
              "      <td>0</td>\n",
              "      <td>0</td>\n",
              "      <td>3.92699</td>\n",
              "      <td>8116.68000</td>\n",
              "    </tr>\n",
              "    <tr>\n",
              "      <th>265</th>\n",
              "      <td>46</td>\n",
              "      <td>1</td>\n",
              "      <td>42.350</td>\n",
              "      <td>3</td>\n",
              "      <td>1</td>\n",
              "      <td>5.49779</td>\n",
              "      <td>46151.12450</td>\n",
              "    </tr>\n",
              "    <tr>\n",
              "      <th>585</th>\n",
              "      <td>33</td>\n",
              "      <td>2</td>\n",
              "      <td>28.270</td>\n",
              "      <td>1</td>\n",
              "      <td>0</td>\n",
              "      <td>5.49779</td>\n",
              "      <td>4779.60230</td>\n",
              "    </tr>\n",
              "  </tbody>\n",
              "</table>\n",
              "<p>1070 rows × 7 columns</p>\n",
              "</div>"
            ],
            "text/plain": [
              "      age  sex     bmi  children  smoker    region      charges\n",
              "1293   46    1  25.745         3       0   2.35619   9301.89355\n",
              "361    35    1  30.500         1       0   3.92699   4751.07000\n",
              "802    21    1  22.300         1       0   3.92699   2103.08000\n",
              "623    18    1  33.535         0       1  0.785398  34617.84065\n",
              "735    49    2  34.770         1       0   2.35619   9583.89330\n",
              "...   ...  ...     ...       ...     ...       ...          ...\n",
              "979    36    2  29.920         0       0   5.49779   4889.03680\n",
              "162    54    1  39.600         1       0   3.92699  10450.55200\n",
              "171    49    1  30.300         0       0   3.92699   8116.68000\n",
              "265    46    1  42.350         3       1   5.49779  46151.12450\n",
              "585    33    2  28.270         1       0   5.49779   4779.60230\n",
              "\n",
              "[1070 rows x 7 columns]"
            ]
          },
          "metadata": {
            "tags": []
          },
          "execution_count": 116
        }
      ]
    },
    {
      "cell_type": "markdown",
      "metadata": {
        "id": "ZPzyen-Vd0Io",
        "colab_type": "text"
      },
      "source": [
        "If we look at the above table, we see that BMI and charges have an intriguing pattern.\n",
        "\n",
        "We also inspect at their statistical description:"
      ]
    },
    {
      "cell_type": "code",
      "metadata": {
        "id": "Q7FTmLoaXx4g",
        "colab_type": "code",
        "colab": {
          "base_uri": "https://localhost:8080/",
          "height": 237
        },
        "outputId": "cd667501-9976-42d7-f892-98288998855d"
      },
      "source": [
        "train_stats = train_dataset.describe()\n",
        "train_stats.pop('charges')\n",
        "\n",
        "# for pretty output\n",
        "train_stats = train_stats.transpose()\n",
        "train_stats"
      ],
      "execution_count": 120,
      "outputs": [
        {
          "output_type": "execute_result",
          "data": {
            "text/html": [
              "<div>\n",
              "<style scoped>\n",
              "    .dataframe tbody tr th:only-of-type {\n",
              "        vertical-align: middle;\n",
              "    }\n",
              "\n",
              "    .dataframe tbody tr th {\n",
              "        vertical-align: top;\n",
              "    }\n",
              "\n",
              "    .dataframe thead th {\n",
              "        text-align: right;\n",
              "    }\n",
              "</style>\n",
              "<table border=\"1\" class=\"dataframe\">\n",
              "  <thead>\n",
              "    <tr style=\"text-align: right;\">\n",
              "      <th></th>\n",
              "      <th>count</th>\n",
              "      <th>mean</th>\n",
              "      <th>std</th>\n",
              "      <th>min</th>\n",
              "      <th>25%</th>\n",
              "      <th>50%</th>\n",
              "      <th>75%</th>\n",
              "      <th>max</th>\n",
              "    </tr>\n",
              "  </thead>\n",
              "  <tbody>\n",
              "    <tr>\n",
              "      <th>age</th>\n",
              "      <td>1070.0</td>\n",
              "      <td>38.943925</td>\n",
              "      <td>14.062091</td>\n",
              "      <td>18.000000</td>\n",
              "      <td>26.000000</td>\n",
              "      <td>39.000000</td>\n",
              "      <td>51.000000</td>\n",
              "      <td>64.000000</td>\n",
              "    </tr>\n",
              "    <tr>\n",
              "      <th>sex</th>\n",
              "      <td>1070.0</td>\n",
              "      <td>1.495327</td>\n",
              "      <td>0.500212</td>\n",
              "      <td>1.000000</td>\n",
              "      <td>1.000000</td>\n",
              "      <td>1.000000</td>\n",
              "      <td>2.000000</td>\n",
              "      <td>2.000000</td>\n",
              "    </tr>\n",
              "    <tr>\n",
              "      <th>bmi</th>\n",
              "      <td>1070.0</td>\n",
              "      <td>30.696785</td>\n",
              "      <td>6.157567</td>\n",
              "      <td>15.960000</td>\n",
              "      <td>26.237500</td>\n",
              "      <td>30.400000</td>\n",
              "      <td>34.700000</td>\n",
              "      <td>53.130000</td>\n",
              "    </tr>\n",
              "    <tr>\n",
              "      <th>children</th>\n",
              "      <td>1070.0</td>\n",
              "      <td>1.080374</td>\n",
              "      <td>1.206890</td>\n",
              "      <td>0.000000</td>\n",
              "      <td>0.000000</td>\n",
              "      <td>1.000000</td>\n",
              "      <td>2.000000</td>\n",
              "      <td>5.000000</td>\n",
              "    </tr>\n",
              "    <tr>\n",
              "      <th>smoker</th>\n",
              "      <td>1070.0</td>\n",
              "      <td>0.203738</td>\n",
              "      <td>0.402965</td>\n",
              "      <td>0.000000</td>\n",
              "      <td>0.000000</td>\n",
              "      <td>0.000000</td>\n",
              "      <td>0.000000</td>\n",
              "      <td>1.000000</td>\n",
              "    </tr>\n",
              "    <tr>\n",
              "      <th>region</th>\n",
              "      <td>1070.0</td>\n",
              "      <td>3.182698</td>\n",
              "      <td>1.799384</td>\n",
              "      <td>0.785398</td>\n",
              "      <td>0.785398</td>\n",
              "      <td>3.926991</td>\n",
              "      <td>5.497787</td>\n",
              "      <td>5.497787</td>\n",
              "    </tr>\n",
              "  </tbody>\n",
              "</table>\n",
              "</div>"
            ],
            "text/plain": [
              "           count       mean        std  ...        50%        75%        max\n",
              "age       1070.0  38.943925  14.062091  ...  39.000000  51.000000  64.000000\n",
              "sex       1070.0   1.495327   0.500212  ...   1.000000   2.000000   2.000000\n",
              "bmi       1070.0  30.696785   6.157567  ...  30.400000  34.700000  53.130000\n",
              "children  1070.0   1.080374   1.206890  ...   1.000000   2.000000   5.000000\n",
              "smoker    1070.0   0.203738   0.402965  ...   0.000000   0.000000   1.000000\n",
              "region    1070.0   3.182698   1.799384  ...   3.926991   5.497787   5.497787\n",
              "\n",
              "[6 rows x 8 columns]"
            ]
          },
          "metadata": {
            "tags": []
          },
          "execution_count": 120
        }
      ]
    },
    {
      "cell_type": "markdown",
      "metadata": {
        "id": "mtyJH96doYzP",
        "colab_type": "text"
      },
      "source": [
        "### Split features from labels\n",
        "\n",
        "Separate the target value, or \"label\", from features. In this case, we assume our target value is `charges`."
      ]
    },
    {
      "cell_type": "code",
      "metadata": {
        "id": "zjjp8sK6jG6a",
        "colab_type": "code",
        "colab": {}
      },
      "source": [
        "# Remember that .pop method will extract the value not the labels!\n",
        "\n",
        "train_labels = train_dataset.pop('charges')\n",
        "test_labels = test_dataset.pop('charges')"
      ],
      "execution_count": 0,
      "outputs": []
    },
    {
      "cell_type": "markdown",
      "metadata": {
        "id": "2DjgkfdYpr9b",
        "colab_type": "text"
      },
      "source": [
        "### Normalize the data"
      ]
    },
    {
      "cell_type": "code",
      "metadata": {
        "id": "XJjXQ4wFpzTC",
        "colab_type": "code",
        "colab": {}
      },
      "source": [
        "def normalize(x_val):\n",
        "  return (x_val - train_stats['mean']) / train_stats['std']\n",
        "\n",
        "normed_train_data = normalize(train_dataset)\n",
        "normed_test_data = normalize(test_dataset)"
      ],
      "execution_count": 0,
      "outputs": []
    },
    {
      "cell_type": "code",
      "metadata": {
        "id": "U911cB9VqFZl",
        "colab_type": "code",
        "colab": {}
      },
      "source": [
        ""
      ],
      "execution_count": 0,
      "outputs": []
    }
  ]
}