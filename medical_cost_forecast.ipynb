{
  "nbformat": 4,
  "nbformat_minor": 0,
  "metadata": {
    "colab": {
      "name": "medical-cost-forecast.ipynb",
      "provenance": [],
      "collapsed_sections": [],
      "toc_visible": true,
      "include_colab_link": true
    },
    "kernelspec": {
      "name": "python3",
      "display_name": "Python 3"
    }
  },
  "cells": [
    {
      "cell_type": "markdown",
      "metadata": {
        "id": "view-in-github",
        "colab_type": "text"
      },
      "source": [
        "<a href=\"https://colab.research.google.com/github/LugoBlogger/MLCC-Assignment-05/blob/arul%2Fmodelling/medical_cost_forecast.ipynb\" target=\"_parent\"><img src=\"https://colab.research.google.com/assets/colab-badge.svg\" alt=\"Open In Colab\"/></a>"
      ]
    },
    {
      "cell_type": "markdown",
      "metadata": {
        "id": "bLMC3Zb-Cksh",
        "colab_type": "text"
      },
      "source": [
        "# Introduction\n",
        "\n",
        "In this notebook, we will predict health insurance cost that someone should pay annually by the given features.\n",
        "For the complete introduction, see the slides."
      ]
    },
    {
      "cell_type": "code",
      "metadata": {
        "id": "gBCFS3gaE7wn",
        "colab_type": "code",
        "outputId": "4d444917-162e-469c-ac5d-a2e594bbd1cb",
        "colab": {
          "base_uri": "https://localhost:8080/",
          "height": 35
        }
      },
      "source": [
        "# Use seaborn for pairplot\n",
        "!pip install -q seaborn\n",
        "\n",
        "# Use some functions from tensorflow_docs\n",
        "!pip install -q git+https://github.com/tensorflow/docs"
      ],
      "execution_count": 1,
      "outputs": [
        {
          "output_type": "stream",
          "text": [
            "  Building wheel for tensorflow-docs (setup.py) ... \u001b[?25l\u001b[?25hdone\n"
          ],
          "name": "stdout"
        }
      ]
    },
    {
      "cell_type": "code",
      "metadata": {
        "id": "ZKKYz5BnFeAf",
        "colab_type": "code",
        "colab": {}
      },
      "source": [
        "# Use tensorflow 2\n",
        "%tensorflow_version 2.x"
      ],
      "execution_count": 0,
      "outputs": []
    },
    {
      "cell_type": "code",
      "metadata": {
        "id": "sPXvoENYBlC9",
        "colab_type": "code",
        "colab": {}
      },
      "source": [
        "import time\n",
        "\n",
        "import matplotlib.pyplot as plt\n",
        "import numpy as np\n",
        "import pandas as pd\n",
        "import seaborn as sns"
      ],
      "execution_count": 0,
      "outputs": []
    },
    {
      "cell_type": "code",
      "metadata": {
        "id": "zBaTzo5YEHOz",
        "colab_type": "code",
        "outputId": "a56ee0b6-497f-47bb-9f42-b3e5fa0d8057",
        "colab": {
          "base_uri": "https://localhost:8080/",
          "height": 35
        }
      },
      "source": [
        "import tensorflow as tf\n",
        "\n",
        "from tensorflow import keras\n",
        "from tensorflow.keras import layers\n",
        "\n",
        "print(tf.__version__)"
      ],
      "execution_count": 4,
      "outputs": [
        {
          "output_type": "stream",
          "text": [
            "2.2.0-rc1\n"
          ],
          "name": "stdout"
        }
      ]
    },
    {
      "cell_type": "code",
      "metadata": {
        "id": "vLwn9MsbEOfY",
        "colab_type": "code",
        "colab": {}
      },
      "source": [
        "### this library is for callback functions\n",
        "import tensorflow_docs as tfdocs\n",
        "import tensorflow_docs.plots\n",
        "import tensorflow_docs.modeling"
      ],
      "execution_count": 0,
      "outputs": []
    },
    {
      "cell_type": "markdown",
      "metadata": {
        "id": "llvFDM09FyIu",
        "colab_type": "text"
      },
      "source": [
        "# Medical Cost Personal Datasets\n",
        "\n",
        "## Retrieve the dataset\n",
        "\n",
        "Manage the dataset into pandas' DataFrame."
      ]
    },
    {
      "cell_type": "code",
      "metadata": {
        "id": "Ca59a6eCGMsA",
        "colab_type": "code",
        "outputId": "e0b76370-d8e0-47e5-a914-40071caeded2",
        "colab": {
          "base_uri": "https://localhost:8080/",
          "height": 424
        }
      },
      "source": [
        "dataset = pd.read_csv(\"https://raw.githubusercontent.com/LugoBlogger/MLCC-Assignment-05/master/datasets/insurance.csv\", header=0)\n",
        "dataset"
      ],
      "execution_count": 22,
      "outputs": [
        {
          "output_type": "execute_result",
          "data": {
            "text/html": [
              "<div>\n",
              "<style scoped>\n",
              "    .dataframe tbody tr th:only-of-type {\n",
              "        vertical-align: middle;\n",
              "    }\n",
              "\n",
              "    .dataframe tbody tr th {\n",
              "        vertical-align: top;\n",
              "    }\n",
              "\n",
              "    .dataframe thead th {\n",
              "        text-align: right;\n",
              "    }\n",
              "</style>\n",
              "<table border=\"1\" class=\"dataframe\">\n",
              "  <thead>\n",
              "    <tr style=\"text-align: right;\">\n",
              "      <th></th>\n",
              "      <th>age</th>\n",
              "      <th>sex</th>\n",
              "      <th>bmi</th>\n",
              "      <th>children</th>\n",
              "      <th>smoker</th>\n",
              "      <th>region</th>\n",
              "      <th>charges</th>\n",
              "    </tr>\n",
              "  </thead>\n",
              "  <tbody>\n",
              "    <tr>\n",
              "      <th>0</th>\n",
              "      <td>19</td>\n",
              "      <td>female</td>\n",
              "      <td>27.900</td>\n",
              "      <td>0</td>\n",
              "      <td>yes</td>\n",
              "      <td>southwest</td>\n",
              "      <td>16884.92400</td>\n",
              "    </tr>\n",
              "    <tr>\n",
              "      <th>1</th>\n",
              "      <td>18</td>\n",
              "      <td>male</td>\n",
              "      <td>33.770</td>\n",
              "      <td>1</td>\n",
              "      <td>no</td>\n",
              "      <td>southeast</td>\n",
              "      <td>1725.55230</td>\n",
              "    </tr>\n",
              "    <tr>\n",
              "      <th>2</th>\n",
              "      <td>28</td>\n",
              "      <td>male</td>\n",
              "      <td>33.000</td>\n",
              "      <td>3</td>\n",
              "      <td>no</td>\n",
              "      <td>southeast</td>\n",
              "      <td>4449.46200</td>\n",
              "    </tr>\n",
              "    <tr>\n",
              "      <th>3</th>\n",
              "      <td>33</td>\n",
              "      <td>male</td>\n",
              "      <td>22.705</td>\n",
              "      <td>0</td>\n",
              "      <td>no</td>\n",
              "      <td>northwest</td>\n",
              "      <td>21984.47061</td>\n",
              "    </tr>\n",
              "    <tr>\n",
              "      <th>4</th>\n",
              "      <td>32</td>\n",
              "      <td>male</td>\n",
              "      <td>28.880</td>\n",
              "      <td>0</td>\n",
              "      <td>no</td>\n",
              "      <td>northwest</td>\n",
              "      <td>3866.85520</td>\n",
              "    </tr>\n",
              "    <tr>\n",
              "      <th>...</th>\n",
              "      <td>...</td>\n",
              "      <td>...</td>\n",
              "      <td>...</td>\n",
              "      <td>...</td>\n",
              "      <td>...</td>\n",
              "      <td>...</td>\n",
              "      <td>...</td>\n",
              "    </tr>\n",
              "    <tr>\n",
              "      <th>1333</th>\n",
              "      <td>50</td>\n",
              "      <td>male</td>\n",
              "      <td>30.970</td>\n",
              "      <td>3</td>\n",
              "      <td>no</td>\n",
              "      <td>northwest</td>\n",
              "      <td>10600.54830</td>\n",
              "    </tr>\n",
              "    <tr>\n",
              "      <th>1334</th>\n",
              "      <td>18</td>\n",
              "      <td>female</td>\n",
              "      <td>31.920</td>\n",
              "      <td>0</td>\n",
              "      <td>no</td>\n",
              "      <td>northeast</td>\n",
              "      <td>2205.98080</td>\n",
              "    </tr>\n",
              "    <tr>\n",
              "      <th>1335</th>\n",
              "      <td>18</td>\n",
              "      <td>female</td>\n",
              "      <td>36.850</td>\n",
              "      <td>0</td>\n",
              "      <td>no</td>\n",
              "      <td>southeast</td>\n",
              "      <td>1629.83350</td>\n",
              "    </tr>\n",
              "    <tr>\n",
              "      <th>1336</th>\n",
              "      <td>21</td>\n",
              "      <td>female</td>\n",
              "      <td>25.800</td>\n",
              "      <td>0</td>\n",
              "      <td>no</td>\n",
              "      <td>southwest</td>\n",
              "      <td>2007.94500</td>\n",
              "    </tr>\n",
              "    <tr>\n",
              "      <th>1337</th>\n",
              "      <td>61</td>\n",
              "      <td>female</td>\n",
              "      <td>29.070</td>\n",
              "      <td>0</td>\n",
              "      <td>yes</td>\n",
              "      <td>northwest</td>\n",
              "      <td>29141.36030</td>\n",
              "    </tr>\n",
              "  </tbody>\n",
              "</table>\n",
              "<p>1338 rows × 7 columns</p>\n",
              "</div>"
            ],
            "text/plain": [
              "      age     sex     bmi  children smoker     region      charges\n",
              "0      19  female  27.900         0    yes  southwest  16884.92400\n",
              "1      18    male  33.770         1     no  southeast   1725.55230\n",
              "2      28    male  33.000         3     no  southeast   4449.46200\n",
              "3      33    male  22.705         0     no  northwest  21984.47061\n",
              "4      32    male  28.880         0     no  northwest   3866.85520\n",
              "...   ...     ...     ...       ...    ...        ...          ...\n",
              "1333   50    male  30.970         3     no  northwest  10600.54830\n",
              "1334   18  female  31.920         0     no  northeast   2205.98080\n",
              "1335   18  female  36.850         0     no  southeast   1629.83350\n",
              "1336   21  female  25.800         0     no  southwest   2007.94500\n",
              "1337   61  female  29.070         0    yes  northwest  29141.36030\n",
              "\n",
              "[1338 rows x 7 columns]"
            ]
          },
          "metadata": {
            "tags": []
          },
          "execution_count": 22
        }
      ]
    },
    {
      "cell_type": "markdown",
      "metadata": {
        "id": "i_o-MQJPQmEY",
        "colab_type": "text"
      },
      "source": [
        "## Clean the data\n",
        "\n",
        "Checking the dataset whether its contains some undefined measurement or not."
      ]
    },
    {
      "cell_type": "code",
      "metadata": {
        "id": "UKBu_VRVKUSE",
        "colab_type": "code",
        "outputId": "73c1c933-37f3-42ad-cb8e-ba661185d5e8",
        "colab": {
          "base_uri": "https://localhost:8080/",
          "height": 162
        }
      },
      "source": [
        "dataset.isna().sum()"
      ],
      "execution_count": 23,
      "outputs": [
        {
          "output_type": "execute_result",
          "data": {
            "text/plain": [
              "age         0\n",
              "sex         0\n",
              "bmi         0\n",
              "children    0\n",
              "smoker      0\n",
              "region      0\n",
              "charges     0\n",
              "dtype: int64"
            ]
          },
          "metadata": {
            "tags": []
          },
          "execution_count": 23
        }
      ]
    },
    {
      "cell_type": "markdown",
      "metadata": {
        "id": "LzSz-tvQQ9L7",
        "colab_type": "text"
      },
      "source": [
        "Convert categorical columns into numeric with the following convention:\n",
        "\n",
        "* `sex`: male = 1, female = 2,\n",
        "\n",
        "* `smoker`: yes = 1, no = 0,\n",
        "\n",
        "* `region`: northeast = $\\displaystyle\\frac{\\pi}{4}$, northwest = $\\displaystyle\\frac{3\\pi}{4}$, southwest = $\\displaystyle\\frac{5\\pi}{4}$, southeast = $\\displaystyle\\frac{7\\pi}{4}$. We use the representation of direction by their angle on unit circle. If we compute the method `.mean`, it will make a sense (where is the region whose citizens are the most recorded)."
      ]
    },
    {
      "cell_type": "code",
      "metadata": {
        "id": "epUomxKVQiJu",
        "colab_type": "code",
        "outputId": "cb0671fd-e27e-4923-a980-d14293cd5934",
        "colab": {
          "base_uri": "https://localhost:8080/",
          "height": 424
        }
      },
      "source": [
        "dataset.loc[dataset['sex'] == 'male', 'sex'] = 1\n",
        "dataset.loc[dataset['sex'] == 'female', 'sex'] = 2\n",
        "\n",
        "dataset.loc[dataset['smoker'] == 'yes', 'smoker'] = 1\n",
        "dataset.loc[dataset['smoker'] == 'no', 'smoker'] = 0\n",
        "\n",
        "dataset.loc[dataset['region'] == 'northeast', 'region'] = np.pi/4\n",
        "dataset.loc[dataset['region'] == 'northwest', 'region'] = 3*np.pi/4\n",
        "dataset.loc[dataset['region'] == 'southwest', 'region'] = 5*np.pi/4\n",
        "dataset.loc[dataset['region'] == 'southeast', 'region'] = 7*np.pi/4\n",
        "\n",
        "dataset['region'] = pd.to_numeric(dataset['region'])\n",
        "\n",
        "dataset"
      ],
      "execution_count": 24,
      "outputs": [
        {
          "output_type": "execute_result",
          "data": {
            "text/html": [
              "<div>\n",
              "<style scoped>\n",
              "    .dataframe tbody tr th:only-of-type {\n",
              "        vertical-align: middle;\n",
              "    }\n",
              "\n",
              "    .dataframe tbody tr th {\n",
              "        vertical-align: top;\n",
              "    }\n",
              "\n",
              "    .dataframe thead th {\n",
              "        text-align: right;\n",
              "    }\n",
              "</style>\n",
              "<table border=\"1\" class=\"dataframe\">\n",
              "  <thead>\n",
              "    <tr style=\"text-align: right;\">\n",
              "      <th></th>\n",
              "      <th>age</th>\n",
              "      <th>sex</th>\n",
              "      <th>bmi</th>\n",
              "      <th>children</th>\n",
              "      <th>smoker</th>\n",
              "      <th>region</th>\n",
              "      <th>charges</th>\n",
              "    </tr>\n",
              "  </thead>\n",
              "  <tbody>\n",
              "    <tr>\n",
              "      <th>0</th>\n",
              "      <td>19</td>\n",
              "      <td>2</td>\n",
              "      <td>27.900</td>\n",
              "      <td>0</td>\n",
              "      <td>1</td>\n",
              "      <td>3.926991</td>\n",
              "      <td>16884.92400</td>\n",
              "    </tr>\n",
              "    <tr>\n",
              "      <th>1</th>\n",
              "      <td>18</td>\n",
              "      <td>1</td>\n",
              "      <td>33.770</td>\n",
              "      <td>1</td>\n",
              "      <td>0</td>\n",
              "      <td>5.497787</td>\n",
              "      <td>1725.55230</td>\n",
              "    </tr>\n",
              "    <tr>\n",
              "      <th>2</th>\n",
              "      <td>28</td>\n",
              "      <td>1</td>\n",
              "      <td>33.000</td>\n",
              "      <td>3</td>\n",
              "      <td>0</td>\n",
              "      <td>5.497787</td>\n",
              "      <td>4449.46200</td>\n",
              "    </tr>\n",
              "    <tr>\n",
              "      <th>3</th>\n",
              "      <td>33</td>\n",
              "      <td>1</td>\n",
              "      <td>22.705</td>\n",
              "      <td>0</td>\n",
              "      <td>0</td>\n",
              "      <td>2.356194</td>\n",
              "      <td>21984.47061</td>\n",
              "    </tr>\n",
              "    <tr>\n",
              "      <th>4</th>\n",
              "      <td>32</td>\n",
              "      <td>1</td>\n",
              "      <td>28.880</td>\n",
              "      <td>0</td>\n",
              "      <td>0</td>\n",
              "      <td>2.356194</td>\n",
              "      <td>3866.85520</td>\n",
              "    </tr>\n",
              "    <tr>\n",
              "      <th>...</th>\n",
              "      <td>...</td>\n",
              "      <td>...</td>\n",
              "      <td>...</td>\n",
              "      <td>...</td>\n",
              "      <td>...</td>\n",
              "      <td>...</td>\n",
              "      <td>...</td>\n",
              "    </tr>\n",
              "    <tr>\n",
              "      <th>1333</th>\n",
              "      <td>50</td>\n",
              "      <td>1</td>\n",
              "      <td>30.970</td>\n",
              "      <td>3</td>\n",
              "      <td>0</td>\n",
              "      <td>2.356194</td>\n",
              "      <td>10600.54830</td>\n",
              "    </tr>\n",
              "    <tr>\n",
              "      <th>1334</th>\n",
              "      <td>18</td>\n",
              "      <td>2</td>\n",
              "      <td>31.920</td>\n",
              "      <td>0</td>\n",
              "      <td>0</td>\n",
              "      <td>0.785398</td>\n",
              "      <td>2205.98080</td>\n",
              "    </tr>\n",
              "    <tr>\n",
              "      <th>1335</th>\n",
              "      <td>18</td>\n",
              "      <td>2</td>\n",
              "      <td>36.850</td>\n",
              "      <td>0</td>\n",
              "      <td>0</td>\n",
              "      <td>5.497787</td>\n",
              "      <td>1629.83350</td>\n",
              "    </tr>\n",
              "    <tr>\n",
              "      <th>1336</th>\n",
              "      <td>21</td>\n",
              "      <td>2</td>\n",
              "      <td>25.800</td>\n",
              "      <td>0</td>\n",
              "      <td>0</td>\n",
              "      <td>3.926991</td>\n",
              "      <td>2007.94500</td>\n",
              "    </tr>\n",
              "    <tr>\n",
              "      <th>1337</th>\n",
              "      <td>61</td>\n",
              "      <td>2</td>\n",
              "      <td>29.070</td>\n",
              "      <td>0</td>\n",
              "      <td>1</td>\n",
              "      <td>2.356194</td>\n",
              "      <td>29141.36030</td>\n",
              "    </tr>\n",
              "  </tbody>\n",
              "</table>\n",
              "<p>1338 rows × 7 columns</p>\n",
              "</div>"
            ],
            "text/plain": [
              "      age  sex     bmi  children  smoker    region      charges\n",
              "0      19    2  27.900         0       1  3.926991  16884.92400\n",
              "1      18    1  33.770         1       0  5.497787   1725.55230\n",
              "2      28    1  33.000         3       0  5.497787   4449.46200\n",
              "3      33    1  22.705         0       0  2.356194  21984.47061\n",
              "4      32    1  28.880         0       0  2.356194   3866.85520\n",
              "...   ...  ...     ...       ...     ...       ...          ...\n",
              "1333   50    1  30.970         3       0  2.356194  10600.54830\n",
              "1334   18    2  31.920         0       0  0.785398   2205.98080\n",
              "1335   18    2  36.850         0       0  5.497787   1629.83350\n",
              "1336   21    2  25.800         0       0  3.926991   2007.94500\n",
              "1337   61    2  29.070         0       1  2.356194  29141.36030\n",
              "\n",
              "[1338 rows x 7 columns]"
            ]
          },
          "metadata": {
            "tags": []
          },
          "execution_count": 24
        }
      ]
    },
    {
      "cell_type": "code",
      "metadata": {
        "id": "PuhKD20botvn",
        "colab_type": "code",
        "outputId": "f95ab016-306d-4d7a-effb-d7394b832b2a",
        "colab": {
          "base_uri": "https://localhost:8080/",
          "height": 206
        }
      },
      "source": [
        "target = dataset['charges']\n",
        "features = dataset.drop(columns='charges')\n",
        "\n",
        "features.head()"
      ],
      "execution_count": 25,
      "outputs": [
        {
          "output_type": "execute_result",
          "data": {
            "text/html": [
              "<div>\n",
              "<style scoped>\n",
              "    .dataframe tbody tr th:only-of-type {\n",
              "        vertical-align: middle;\n",
              "    }\n",
              "\n",
              "    .dataframe tbody tr th {\n",
              "        vertical-align: top;\n",
              "    }\n",
              "\n",
              "    .dataframe thead th {\n",
              "        text-align: right;\n",
              "    }\n",
              "</style>\n",
              "<table border=\"1\" class=\"dataframe\">\n",
              "  <thead>\n",
              "    <tr style=\"text-align: right;\">\n",
              "      <th></th>\n",
              "      <th>age</th>\n",
              "      <th>sex</th>\n",
              "      <th>bmi</th>\n",
              "      <th>children</th>\n",
              "      <th>smoker</th>\n",
              "      <th>region</th>\n",
              "    </tr>\n",
              "  </thead>\n",
              "  <tbody>\n",
              "    <tr>\n",
              "      <th>0</th>\n",
              "      <td>19</td>\n",
              "      <td>2</td>\n",
              "      <td>27.900</td>\n",
              "      <td>0</td>\n",
              "      <td>1</td>\n",
              "      <td>3.926991</td>\n",
              "    </tr>\n",
              "    <tr>\n",
              "      <th>1</th>\n",
              "      <td>18</td>\n",
              "      <td>1</td>\n",
              "      <td>33.770</td>\n",
              "      <td>1</td>\n",
              "      <td>0</td>\n",
              "      <td>5.497787</td>\n",
              "    </tr>\n",
              "    <tr>\n",
              "      <th>2</th>\n",
              "      <td>28</td>\n",
              "      <td>1</td>\n",
              "      <td>33.000</td>\n",
              "      <td>3</td>\n",
              "      <td>0</td>\n",
              "      <td>5.497787</td>\n",
              "    </tr>\n",
              "    <tr>\n",
              "      <th>3</th>\n",
              "      <td>33</td>\n",
              "      <td>1</td>\n",
              "      <td>22.705</td>\n",
              "      <td>0</td>\n",
              "      <td>0</td>\n",
              "      <td>2.356194</td>\n",
              "    </tr>\n",
              "    <tr>\n",
              "      <th>4</th>\n",
              "      <td>32</td>\n",
              "      <td>1</td>\n",
              "      <td>28.880</td>\n",
              "      <td>0</td>\n",
              "      <td>0</td>\n",
              "      <td>2.356194</td>\n",
              "    </tr>\n",
              "  </tbody>\n",
              "</table>\n",
              "</div>"
            ],
            "text/plain": [
              "   age  sex     bmi  children  smoker    region\n",
              "0   19    2  27.900         0       1  3.926991\n",
              "1   18    1  33.770         1       0  5.497787\n",
              "2   28    1  33.000         3       0  5.497787\n",
              "3   33    1  22.705         0       0  2.356194\n",
              "4   32    1  28.880         0       0  2.356194"
            ]
          },
          "metadata": {
            "tags": []
          },
          "execution_count": 25
        }
      ]
    },
    {
      "cell_type": "markdown",
      "metadata": {
        "id": "1k5TfULDV6f4",
        "colab_type": "text"
      },
      "source": [
        "## Split the data into a training set and a test set."
      ]
    },
    {
      "cell_type": "code",
      "metadata": {
        "id": "WGfC_GlDnYm4",
        "colab_type": "code",
        "colab": {}
      },
      "source": [
        "class SortedStratifiedKFold:\n",
        "    \n",
        "    \"\"\"\n",
        "    This is a class for split data into a few groups, which is each group has same distribution.\n",
        "    Usually this method regarded as Stratified K Fold Cross Validation. But I create another one\n",
        "    for continuous data at target's dataset with Sorted Stratified K Fold method. This method inspired\n",
        "    by article (https://scottclowe.com/2016-03-19-stratified-regression-partitions/).\n",
        "    \n",
        "    This method is useful to make sure validation and test performance gives depicts \n",
        "    the expected performance of the model with less bias and variance.\n",
        "    \"\"\"\n",
        "    \n",
        "    def __init__(self, n_splits):\n",
        "        self._n_splits = n_splits\n",
        "    \n",
        "    def split(self, X, y):\n",
        "        x = X.copy()\n",
        "        \n",
        "        # sorted target values\n",
        "        self._sorted_idx = y.sort_values().index\n",
        "        \n",
        "        self._groups = [list() for _ in range(self._n_splits)]\n",
        "        it = int(np.ceil(x.shape[0] / self._n_splits))\n",
        "        \n",
        "        for i in range(it):\n",
        "            c = i * self._n_splits\n",
        "            \n",
        "            if (len(y) % self._n_splits != 0) and i==(it-1):\n",
        "                rand_idx = np.random.permutation(range(len(y) % self._n_splits)) + c\n",
        "                \n",
        "                for j in range(len(rand_idx)):\n",
        "                    self._groups[j].append(self._sorted_idx[rand_idx[j]])\n",
        "                \n",
        "            else:\n",
        "                rand_idx = np.random.permutation(range(self._n_splits)) + c\n",
        "                \n",
        "                for j in range(self._n_splits):\n",
        "                    self._groups[j].append(self._sorted_idx[rand_idx[j]])\n",
        "                    \n",
        "                  \n",
        "        return [(x.iloc[list(set(y.index) - set(idx))], y.iloc[list(set(y.index) - set(idx))], \n",
        "                                 x.iloc[idx], y.iloc[idx]) for idx in self._groups]"
      ],
      "execution_count": 0,
      "outputs": []
    },
    {
      "cell_type": "markdown",
      "metadata": {
        "id": "vBT1_z9wqi6Q",
        "colab_type": "text"
      },
      "source": [
        "We divided the dataset into 5 groups to get 20% of data for test set"
      ]
    },
    {
      "cell_type": "code",
      "metadata": {
        "id": "C3CneLVqoQb4",
        "colab_type": "code",
        "outputId": "7f32bfe5-2e5a-411e-c9f3-d8fdefc193fb",
        "colab": {
          "base_uri": "https://localhost:8080/",
          "height": 404
        }
      },
      "source": [
        "n_splits = 5\n",
        "\n",
        "ssfk = SortedStratifiedKFold(n_splits=n_splits)\n",
        "\n",
        "train_test_split = ssfk.split(features, target)\n",
        "train_features, train_target, test_features, test_target = train_test_split[0]\n",
        "\n",
        "plt.figure(figsize=(18,6))\n",
        "plt.subplot(121)\n",
        "train_target.hist().set_title('Train target data distribution')\n",
        "plt.xlabel('charges')\n",
        "plt.ylabel('freq.')\n",
        "\n",
        "plt.subplot(122)\n",
        "test_target.hist().set_title('Test target data distribution')\n",
        "plt.xlabel('charges')\n",
        "plt.ylabel('freq.');"
      ],
      "execution_count": 27,
      "outputs": [
        {
          "output_type": "display_data",
          "data": {
            "image/png": "[encoded data removed]",
            "text/plain": [
              "<Figure size 1296x432 with 2 Axes>"
            ]
          },
          "metadata": {
            "tags": []
          }
        }
      ]
    },
    {
      "cell_type": "code",
      "metadata": {
        "id": "7zgpbigsMt7G",
        "colab_type": "code",
        "outputId": "0fa310cc-4197-4d23-eb54-983478f27880",
        "colab": {
          "base_uri": "https://localhost:8080/",
          "height": 235
        }
      },
      "source": [
        "test_target"
      ],
      "execution_count": 28,
      "outputs": [
        {
          "output_type": "execute_result",
          "data": {
            "text/plain": [
              "663      1136.39940\n",
              "1317     1163.46270\n",
              "487      1253.93600\n",
              "374      1391.52870\n",
              "77       1532.46970\n",
              "           ...     \n",
              "951     47462.89400\n",
              "39      48173.36100\n",
              "175     48824.45000\n",
              "819     55135.40209\n",
              "1300    62592.87309\n",
              "Name: charges, Length: 268, dtype: float64"
            ]
          },
          "metadata": {
            "tags": []
          },
          "execution_count": 28
        }
      ]
    },
    {
      "cell_type": "markdown",
      "metadata": {
        "id": "ZwYyBYWEW7eU",
        "colab_type": "text"
      },
      "source": [
        "## Inspect the data\n",
        "\n",
        "We look at the joint distribution of a few pairs of columns from the training set. The diagonal elements represent kernel density estimation (kde) for univariate variables for given columns. We include all the columns to inspect which variable has a correlation to another variable"
      ]
    },
    {
      "cell_type": "code",
      "metadata": {
        "id": "gcJVPodLtNkI",
        "colab_type": "code",
        "outputId": "42ce4e0c-e47c-413b-c870-eda9cf922b81",
        "colab": {
          "base_uri": "https://localhost:8080/",
          "height": 206
        }
      },
      "source": [
        "train_dataset = train_features.copy()\n",
        "train_dataset[train_target.name] = train_target.copy()\n",
        "train_dataset.head()"
      ],
      "execution_count": 29,
      "outputs": [
        {
          "output_type": "execute_result",
          "data": {
            "text/html": [
              "<div>\n",
              "<style scoped>\n",
              "    .dataframe tbody tr th:only-of-type {\n",
              "        vertical-align: middle;\n",
              "    }\n",
              "\n",
              "    .dataframe tbody tr th {\n",
              "        vertical-align: top;\n",
              "    }\n",
              "\n",
              "    .dataframe thead th {\n",
              "        text-align: right;\n",
              "    }\n",
              "</style>\n",
              "<table border=\"1\" class=\"dataframe\">\n",
              "  <thead>\n",
              "    <tr style=\"text-align: right;\">\n",
              "      <th></th>\n",
              "      <th>age</th>\n",
              "      <th>sex</th>\n",
              "      <th>bmi</th>\n",
              "      <th>children</th>\n",
              "      <th>smoker</th>\n",
              "      <th>region</th>\n",
              "      <th>charges</th>\n",
              "    </tr>\n",
              "  </thead>\n",
              "  <tbody>\n",
              "    <tr>\n",
              "      <th>2</th>\n",
              "      <td>28</td>\n",
              "      <td>1</td>\n",
              "      <td>33.00</td>\n",
              "      <td>3</td>\n",
              "      <td>0</td>\n",
              "      <td>5.497787</td>\n",
              "      <td>4449.46200</td>\n",
              "    </tr>\n",
              "    <tr>\n",
              "      <th>4</th>\n",
              "      <td>32</td>\n",
              "      <td>1</td>\n",
              "      <td>28.88</td>\n",
              "      <td>0</td>\n",
              "      <td>0</td>\n",
              "      <td>2.356194</td>\n",
              "      <td>3866.85520</td>\n",
              "    </tr>\n",
              "    <tr>\n",
              "      <th>7</th>\n",
              "      <td>37</td>\n",
              "      <td>2</td>\n",
              "      <td>27.74</td>\n",
              "      <td>3</td>\n",
              "      <td>0</td>\n",
              "      <td>2.356194</td>\n",
              "      <td>7281.50560</td>\n",
              "    </tr>\n",
              "    <tr>\n",
              "      <th>8</th>\n",
              "      <td>37</td>\n",
              "      <td>1</td>\n",
              "      <td>29.83</td>\n",
              "      <td>2</td>\n",
              "      <td>0</td>\n",
              "      <td>0.785398</td>\n",
              "      <td>6406.41070</td>\n",
              "    </tr>\n",
              "    <tr>\n",
              "      <th>9</th>\n",
              "      <td>60</td>\n",
              "      <td>2</td>\n",
              "      <td>25.84</td>\n",
              "      <td>0</td>\n",
              "      <td>0</td>\n",
              "      <td>2.356194</td>\n",
              "      <td>28923.13692</td>\n",
              "    </tr>\n",
              "  </tbody>\n",
              "</table>\n",
              "</div>"
            ],
            "text/plain": [
              "   age  sex    bmi  children  smoker    region      charges\n",
              "2   28    1  33.00         3       0  5.497787   4449.46200\n",
              "4   32    1  28.88         0       0  2.356194   3866.85520\n",
              "7   37    2  27.74         3       0  2.356194   7281.50560\n",
              "8   37    1  29.83         2       0  0.785398   6406.41070\n",
              "9   60    2  25.84         0       0  2.356194  28923.13692"
            ]
          },
          "metadata": {
            "tags": []
          },
          "execution_count": 29
        }
      ]
    },
    {
      "cell_type": "code",
      "metadata": {
        "id": "iK4789xEWxtj",
        "colab_type": "code",
        "outputId": "75be01d8-6dd9-40de-ce78-989dd5370422",
        "colab": {
          "base_uri": "https://localhost:8080/",
          "height": 1000
        }
      },
      "source": [
        "sns.pairplot(train_dataset[['age', 'sex', 'bmi', 'children', 'smoker', \n",
        "                            'region', 'charges']], \n",
        "             diag_kind='kde', height=2);"
      ],
      "execution_count": 30,
      "outputs": [
        {
          "output_type": "display_data",
          "data": {
            "image/png": "[encoded data removed]",
            "text/plain": [
              "<Figure size 1008x1008 with 56 Axes>"
            ]
          },
          "metadata": {
            "tags": []
          }
        }
      ]
    },
    {
      "cell_type": "markdown",
      "metadata": {
        "id": "ZPzyen-Vd0Io",
        "colab_type": "text"
      },
      "source": [
        "If we look at the above table, we can easily notice how categorical and numerical data behave. For continous ones, they are correlated like many clusters, but for the discrete ones, they grouped and distributed by their categories.\n",
        "\n",
        "We also inspect at their statistical description:"
      ]
    },
    {
      "cell_type": "code",
      "metadata": {
        "id": "Q7FTmLoaXx4g",
        "colab_type": "code",
        "outputId": "437e4f29-933b-463c-879e-b2f996b009cb",
        "colab": {
          "base_uri": "https://localhost:8080/",
          "height": 237
        }
      },
      "source": [
        "train_stats = train_dataset.describe()\n",
        "train_stats.pop('charges')\n",
        "\n",
        "# for pretty output\n",
        "train_stats = train_stats.transpose()\n",
        "train_stats"
      ],
      "execution_count": 31,
      "outputs": [
        {
          "output_type": "execute_result",
          "data": {
            "text/html": [
              "<div>\n",
              "<style scoped>\n",
              "    .dataframe tbody tr th:only-of-type {\n",
              "        vertical-align: middle;\n",
              "    }\n",
              "\n",
              "    .dataframe tbody tr th {\n",
              "        vertical-align: top;\n",
              "    }\n",
              "\n",
              "    .dataframe thead th {\n",
              "        text-align: right;\n",
              "    }\n",
              "</style>\n",
              "<table border=\"1\" class=\"dataframe\">\n",
              "  <thead>\n",
              "    <tr style=\"text-align: right;\">\n",
              "      <th></th>\n",
              "      <th>count</th>\n",
              "      <th>mean</th>\n",
              "      <th>std</th>\n",
              "      <th>min</th>\n",
              "      <th>25%</th>\n",
              "      <th>50%</th>\n",
              "      <th>75%</th>\n",
              "      <th>max</th>\n",
              "    </tr>\n",
              "  </thead>\n",
              "  <tbody>\n",
              "    <tr>\n",
              "      <th>age</th>\n",
              "      <td>1070.0</td>\n",
              "      <td>39.218692</td>\n",
              "      <td>14.085893</td>\n",
              "      <td>18.000000</td>\n",
              "      <td>26.000000</td>\n",
              "      <td>39.000000</td>\n",
              "      <td>51.000000</td>\n",
              "      <td>64.000000</td>\n",
              "    </tr>\n",
              "    <tr>\n",
              "      <th>sex</th>\n",
              "      <td>1070.0</td>\n",
              "      <td>1.500935</td>\n",
              "      <td>0.500233</td>\n",
              "      <td>1.000000</td>\n",
              "      <td>1.000000</td>\n",
              "      <td>2.000000</td>\n",
              "      <td>2.000000</td>\n",
              "      <td>2.000000</td>\n",
              "    </tr>\n",
              "    <tr>\n",
              "      <th>bmi</th>\n",
              "      <td>1070.0</td>\n",
              "      <td>30.571537</td>\n",
              "      <td>5.989774</td>\n",
              "      <td>15.960000</td>\n",
              "      <td>26.336250</td>\n",
              "      <td>30.250000</td>\n",
              "      <td>34.471250</td>\n",
              "      <td>52.580000</td>\n",
              "    </tr>\n",
              "    <tr>\n",
              "      <th>children</th>\n",
              "      <td>1070.0</td>\n",
              "      <td>1.085047</td>\n",
              "      <td>1.200741</td>\n",
              "      <td>0.000000</td>\n",
              "      <td>0.000000</td>\n",
              "      <td>1.000000</td>\n",
              "      <td>2.000000</td>\n",
              "      <td>5.000000</td>\n",
              "    </tr>\n",
              "    <tr>\n",
              "      <th>smoker</th>\n",
              "      <td>1070.0</td>\n",
              "      <td>0.208411</td>\n",
              "      <td>0.406362</td>\n",
              "      <td>0.000000</td>\n",
              "      <td>0.000000</td>\n",
              "      <td>0.000000</td>\n",
              "      <td>0.000000</td>\n",
              "      <td>1.000000</td>\n",
              "    </tr>\n",
              "    <tr>\n",
              "      <th>region</th>\n",
              "      <td>1070.0</td>\n",
              "      <td>3.216462</td>\n",
              "      <td>1.769832</td>\n",
              "      <td>0.785398</td>\n",
              "      <td>2.356194</td>\n",
              "      <td>3.926991</td>\n",
              "      <td>5.497787</td>\n",
              "      <td>5.497787</td>\n",
              "    </tr>\n",
              "  </tbody>\n",
              "</table>\n",
              "</div>"
            ],
            "text/plain": [
              "           count       mean        std  ...        50%        75%        max\n",
              "age       1070.0  39.218692  14.085893  ...  39.000000  51.000000  64.000000\n",
              "sex       1070.0   1.500935   0.500233  ...   2.000000   2.000000   2.000000\n",
              "bmi       1070.0  30.571537   5.989774  ...  30.250000  34.471250  52.580000\n",
              "children  1070.0   1.085047   1.200741  ...   1.000000   2.000000   5.000000\n",
              "smoker    1070.0   0.208411   0.406362  ...   0.000000   0.000000   1.000000\n",
              "region    1070.0   3.216462   1.769832  ...   3.926991   5.497787   5.497787\n",
              "\n",
              "[6 rows x 8 columns]"
            ]
          },
          "metadata": {
            "tags": []
          },
          "execution_count": 31
        }
      ]
    },
    {
      "cell_type": "markdown",
      "metadata": {
        "id": "2DjgkfdYpr9b",
        "colab_type": "text"
      },
      "source": [
        "## Normalize the data"
      ]
    },
    {
      "cell_type": "code",
      "metadata": {
        "id": "XJjXQ4wFpzTC",
        "colab_type": "code",
        "colab": {}
      },
      "source": [
        "def normalize(x_val):\n",
        "    return (x_val - train_stats['mean']) / train_stats['std']\n",
        "\n",
        "normed_train_features = normalize(train_features)\n",
        "normed_test_features = normalize(test_features)"
      ],
      "execution_count": 0,
      "outputs": []
    },
    {
      "cell_type": "code",
      "metadata": {
        "id": "jm9U0OUw7saq",
        "colab_type": "code",
        "outputId": "7183335e-1c1b-4949-c7ca-a47e14986877",
        "colab": {
          "base_uri": "https://localhost:8080/",
          "height": 206
        }
      },
      "source": [
        "normed_train_features.head()"
      ],
      "execution_count": 33,
      "outputs": [
        {
          "output_type": "execute_result",
          "data": {
            "text/html": [
              "<div>\n",
              "<style scoped>\n",
              "    .dataframe tbody tr th:only-of-type {\n",
              "        vertical-align: middle;\n",
              "    }\n",
              "\n",
              "    .dataframe tbody tr th {\n",
              "        vertical-align: top;\n",
              "    }\n",
              "\n",
              "    .dataframe thead th {\n",
              "        text-align: right;\n",
              "    }\n",
              "</style>\n",
              "<table border=\"1\" class=\"dataframe\">\n",
              "  <thead>\n",
              "    <tr style=\"text-align: right;\">\n",
              "      <th></th>\n",
              "      <th>age</th>\n",
              "      <th>sex</th>\n",
              "      <th>bmi</th>\n",
              "      <th>children</th>\n",
              "      <th>smoker</th>\n",
              "      <th>region</th>\n",
              "    </tr>\n",
              "  </thead>\n",
              "  <tbody>\n",
              "    <tr>\n",
              "      <th>2</th>\n",
              "      <td>-0.796449</td>\n",
              "      <td>-1.001403</td>\n",
              "      <td>0.405435</td>\n",
              "      <td>1.594810</td>\n",
              "      <td>-0.51287</td>\n",
              "      <td>1.289006</td>\n",
              "    </tr>\n",
              "    <tr>\n",
              "      <th>4</th>\n",
              "      <td>-0.512477</td>\n",
              "      <td>-1.001403</td>\n",
              "      <td>-0.282404</td>\n",
              "      <td>-0.903648</td>\n",
              "      <td>-0.51287</td>\n",
              "      <td>-0.486073</td>\n",
              "    </tr>\n",
              "    <tr>\n",
              "      <th>7</th>\n",
              "      <td>-0.157512</td>\n",
              "      <td>0.997666</td>\n",
              "      <td>-0.472729</td>\n",
              "      <td>1.594810</td>\n",
              "      <td>-0.51287</td>\n",
              "      <td>-0.486073</td>\n",
              "    </tr>\n",
              "    <tr>\n",
              "      <th>8</th>\n",
              "      <td>-0.157512</td>\n",
              "      <td>-1.001403</td>\n",
              "      <td>-0.123801</td>\n",
              "      <td>0.761991</td>\n",
              "      <td>-0.51287</td>\n",
              "      <td>-1.373613</td>\n",
              "    </tr>\n",
              "    <tr>\n",
              "      <th>9</th>\n",
              "      <td>1.475328</td>\n",
              "      <td>0.997666</td>\n",
              "      <td>-0.789936</td>\n",
              "      <td>-0.903648</td>\n",
              "      <td>-0.51287</td>\n",
              "      <td>-0.486073</td>\n",
              "    </tr>\n",
              "  </tbody>\n",
              "</table>\n",
              "</div>"
            ],
            "text/plain": [
              "        age       sex       bmi  children   smoker    region\n",
              "2 -0.796449 -1.001403  0.405435  1.594810 -0.51287  1.289006\n",
              "4 -0.512477 -1.001403 -0.282404 -0.903648 -0.51287 -0.486073\n",
              "7 -0.157512  0.997666 -0.472729  1.594810 -0.51287 -0.486073\n",
              "8 -0.157512 -1.001403 -0.123801  0.761991 -0.51287 -1.373613\n",
              "9  1.475328  0.997666 -0.789936 -0.903648 -0.51287 -0.486073"
            ]
          },
          "metadata": {
            "tags": []
          },
          "execution_count": 33
        }
      ]
    },
    {
      "cell_type": "markdown",
      "metadata": {
        "id": "4SuB__1GJFJL",
        "colab_type": "text"
      },
      "source": [
        "# Modelling Data"
      ]
    },
    {
      "cell_type": "markdown",
      "metadata": {
        "id": "yGlBj4oFvEgw",
        "colab_type": "text"
      },
      "source": [
        "## Construct the model\n",
        "In this model we use the multilayer perceptron model with two densely connected hidden layars (`layer.Dense(64)`), and an output layer that returns a single continuous value (`layer.Dense(1)`).\n"
      ]
    },
    {
      "cell_type": "code",
      "metadata": {
        "id": "Q18Ww5EswCdV",
        "colab_type": "code",
        "colab": {}
      },
      "source": [
        "def multilayer_perceptron(num_features, learning_rate, optimizers, regularizer_rate=0, dropout_rate=0):\n",
        "    \n",
        "    num_perceptron=64\n",
        "    \n",
        "    # set optimizers\n",
        "    if optimizers=='adam':\n",
        "        opt = tf.keras.optimizers.Adam(lr=learning_rate)\n",
        "    elif optimizers=='rmsprop':\n",
        "        opt = tf.keras.optimizers.RMSprop(lr=learning_rate)\n",
        "    elif optimizers=='sgd':\n",
        "        opt = tf.keras.optimizers.SGD(lr=learning_rate)\n",
        "    \n",
        "    \n",
        "    model = tf.keras.models.Sequential()\n",
        "    model.add(tf.keras.layers.Dense(units=num_perceptron, activation='relu', \n",
        "                                    kernel_regularizer=tf.keras.regularizers.l2(regularizer_rate), \n",
        "                                    input_shape=(num_features,)))\n",
        "    model.add(tf.keras.layers.Dropout(dropout_rate))\n",
        "    model.add(tf.keras.layers.Dense(units=num_perceptron, \n",
        "                                    kernel_regularizer=tf.keras.regularizers.l2(regularizer_rate), \n",
        "                                    activation='relu'))\n",
        "    model.add(tf.keras.layers.Dropout(dropout_rate))\n",
        "    model.add(tf.keras.layers.Dense(units=1, activation='relu'))\n",
        "    \n",
        "        \n",
        "    model.compile(optimizer=opt, loss='mae', \n",
        "                  metrics=['mae', 'mse'])\n",
        "    \n",
        "    return model\n",
        "    \n",
        "    \n",
        "def train_model(model, features, target, epoch):\n",
        "    \n",
        "    history = model.fit(x=features, y=target, epochs=epoch, verbose=0)\n",
        "    \n",
        "    hist = pd.DataFrame(history.history)\n",
        "    \n",
        "    return model, hist"
      ],
      "execution_count": 0,
      "outputs": []
    },
    {
      "cell_type": "markdown",
      "metadata": {
        "id": "rR5NmjFQ432e",
        "colab_type": "text"
      },
      "source": [
        "## Hypertuning Parameter"
      ]
    },
    {
      "cell_type": "markdown",
      "metadata": {
        "id": "X5i6-PDp4-ul",
        "colab_type": "text"
      },
      "source": [
        "### Optimizer with different learning rate"
      ]
    },
    {
      "cell_type": "code",
      "metadata": {
        "id": "AW6UbhPnFMzB",
        "colab_type": "code",
        "colab": {}
      },
      "source": [
        "normed_train_features = normed_train_features.reset_index()[features.columns]\n",
        "train_target = train_target.reset_index()['charges']\n",
        "\n",
        "n_splits_target = 4\n",
        "\n",
        "ssfk = SortedStratifiedKFold(n_splits=n_splits_target)\n",
        "\n",
        "# train_val_split contains four elements of tuples \n",
        "# (train_feature, train_target, test_feature, test_target) because we use \n",
        "# n_splits_target is 80% of the remaining data\n",
        "\n",
        "train_val_split = ssfk.split(normed_train_features, train_target)"
      ],
      "execution_count": 0,
      "outputs": []
    },
    {
      "cell_type": "code",
      "metadata": {
        "id": "h_9N5Py6EhCa",
        "colab_type": "code",
        "outputId": "5b232e8b-96e5-4b73-8c89-380e91a90e19",
        "colab": {
          "base_uri": "https://localhost:8080/",
          "height": 1000
        }
      },
      "source": [
        "plt.figure(figsize=(16, 30))\n",
        "for i, (train_feature, train_target, test_feature, test_target) in enumerate(train_val_split):\n",
        "    plt.subplot(4, 2, 2*i + 1)\n",
        "    train_target.hist().set_title(\"train target data distribution\")\n",
        "    plt.xlabel('charges')\n",
        "    plt.ylabel('freq.')\n",
        "    \n",
        "    plt.subplot(4, 2, 2*(i+1))\n",
        "    test_target.hist().set_title(\"test target data distribution\")\n",
        "    plt.xlabel('charges')\n",
        "    plt.ylabel('freq.')\n",
        "\n",
        "plt.subplots_adjust(hspace=0.3)"
      ],
      "execution_count": 20,
      "outputs": [
        {
          "output_type": "display_data",
          "data": {
            "image/png": "[encoded data removed]",
            "text/plain": [
              "<Figure size 1152x2160 with 8 Axes>"
            ]
          },
          "metadata": {
            "tags": []
          }
        }
      ]
    },
    {
      "cell_type": "code",
      "metadata": {
        "id": "Ej91jGMYS5zX",
        "colab_type": "code",
        "outputId": "6446b344-7de9-436c-cc52-e9b21d7fb296",
        "colab": {
          "base_uri": "https://localhost:8080/",
          "height": 35
        }
      },
      "source": [
        "train_target.shape"
      ],
      "execution_count": 36,
      "outputs": [
        {
          "output_type": "execute_result",
          "data": {
            "text/plain": [
              "(1070,)"
            ]
          },
          "metadata": {
            "tags": []
          },
          "execution_count": 36
        }
      ]
    },
    {
      "cell_type": "code",
      "metadata": {
        "id": "KsDpJX8QRJpB",
        "colab_type": "code",
        "outputId": "99f80165-762f-4831-f395-1eadcc3e7fb6",
        "colab": {
          "base_uri": "https://localhost:8080/",
          "height": 331
        }
      },
      "source": [
        "learning_rates_list = [.001, .0025, .005, .0075, .01, .025, .05, .075, .1]\n",
        "result_report = pd.DataFrame({'Learning Rate': learning_rates_list})\n",
        "result_report"
      ],
      "execution_count": 37,
      "outputs": [
        {
          "output_type": "execute_result",
          "data": {
            "text/html": [
              "<div>\n",
              "<style scoped>\n",
              "    .dataframe tbody tr th:only-of-type {\n",
              "        vertical-align: middle;\n",
              "    }\n",
              "\n",
              "    .dataframe tbody tr th {\n",
              "        vertical-align: top;\n",
              "    }\n",
              "\n",
              "    .dataframe thead th {\n",
              "        text-align: right;\n",
              "    }\n",
              "</style>\n",
              "<table border=\"1\" class=\"dataframe\">\n",
              "  <thead>\n",
              "    <tr style=\"text-align: right;\">\n",
              "      <th></th>\n",
              "      <th>Learning Rate</th>\n",
              "    </tr>\n",
              "  </thead>\n",
              "  <tbody>\n",
              "    <tr>\n",
              "      <th>0</th>\n",
              "      <td>0.0010</td>\n",
              "    </tr>\n",
              "    <tr>\n",
              "      <th>1</th>\n",
              "      <td>0.0025</td>\n",
              "    </tr>\n",
              "    <tr>\n",
              "      <th>2</th>\n",
              "      <td>0.0050</td>\n",
              "    </tr>\n",
              "    <tr>\n",
              "      <th>3</th>\n",
              "      <td>0.0075</td>\n",
              "    </tr>\n",
              "    <tr>\n",
              "      <th>4</th>\n",
              "      <td>0.0100</td>\n",
              "    </tr>\n",
              "    <tr>\n",
              "      <th>5</th>\n",
              "      <td>0.0250</td>\n",
              "    </tr>\n",
              "    <tr>\n",
              "      <th>6</th>\n",
              "      <td>0.0500</td>\n",
              "    </tr>\n",
              "    <tr>\n",
              "      <th>7</th>\n",
              "      <td>0.0750</td>\n",
              "    </tr>\n",
              "    <tr>\n",
              "      <th>8</th>\n",
              "      <td>0.1000</td>\n",
              "    </tr>\n",
              "  </tbody>\n",
              "</table>\n",
              "</div>"
            ],
            "text/plain": [
              "   Learning Rate\n",
              "0         0.0010\n",
              "1         0.0025\n",
              "2         0.0050\n",
              "3         0.0075\n",
              "4         0.0100\n",
              "5         0.0250\n",
              "6         0.0500\n",
              "7         0.0750\n",
              "8         0.1000"
            ]
          },
          "metadata": {
            "tags": []
          },
          "execution_count": 37
        }
      ]
    },
    {
      "cell_type": "code",
      "metadata": {
        "id": "A6zIeOq15Fpb",
        "colab_type": "code",
        "outputId": "a28dbe1c-faa0-4a39-a9ee-bd6a3b243c6e",
        "colab": {
          "base_uri": "https://localhost:8080/",
          "height": 489
        }
      },
      "source": [
        "start_compute = time.time()\n",
        "\n",
        "#N_epoch = 4000\n",
        "N_epoch = 1000\n",
        "\n",
        "for i, (train_features, train_target, \n",
        "        validation_features, validation_target) in enumerate(train_val_split):\n",
        "\n",
        "    print('n_split_target:', i+1)\n",
        "\n",
        "    adam_mae, rmsprop_mae, sgd_mae = [], [], []\n",
        "    print('    Adam training process...')\n",
        "    for lr in learning_rates_list:\n",
        "        mlp = multilayer_perceptron(train_features.shape[1], lr, 'adam')\n",
        "        model, history = train_model(mlp, train_features, train_target, N_epoch)\n",
        "        loss, mae, mse = model.evaluate(validation_features, validation_target, verbose=1)\n",
        "        adam_mae.append(mae)\n",
        "\n",
        "    print('    RMSprop training process...')\n",
        "    for lr in learning_rates_list:\n",
        "        mlp = multilayer_perceptron(train_features.shape[1], lr, 'rmsprop')\n",
        "        model, history = train_model(mlp, train_features, train_target, N_epoch)\n",
        "        loss, mae, mse = model.evaluate(validation_features, validation_target, verbose=1)\n",
        "        rmsprop_mae.append(mae)\n",
        "\n",
        "    print('    SGD training process...')\n",
        "    for lr in learning_rates_list:\n",
        "        mlp = multilayer_perceptron(train_features.shape[1], lr, 'sgd')\n",
        "        model, history = train_model(mlp, train_features, train_target, N_epoch)\n",
        "        loss, mae, mse = model.evaluate(validation_features, validation_target, verbose=1)\n",
        "        sgd_mae.append(mae)\n",
        "\n",
        "    result_report['Adam-'+str(i+1)] = adam_mae\n",
        "    result_report['RMSprop-'+str(i+1)] = rmsprop_mae\n",
        "    result_report['SGD-'+str(i+1)] = sgd_mae\n",
        "\n",
        "print(\"Approximation computational time: {:.2f}\".format(time.time() - start_compute))"
      ],
      "execution_count": 0,
      "outputs": [
        {
          "output_type": "stream",
          "text": [
            "n_split_target: 1\n",
            "    Adam training process...\n",
            "9/9 [==============================] - 0s 1ms/step - loss: 1692.5696 - mae: 1607.7012 - mse: 22933216.0000\n",
            "9/9 [==============================] - 0s 1ms/step - loss: 1585.3615 - mae: 1497.7892 - mse: 22483266.0000\n",
            "9/9 [==============================] - 0s 1ms/step - loss: 1732.8552 - mae: 1610.6631 - mse: 22871110.0000\n",
            "9/9 [==============================] - 0s 1ms/step - loss: 1700.1295 - mae: 1608.6565 - mse: 22808930.0000\n",
            "9/9 [==============================] - 0s 1ms/step - loss: 1800.9557 - mae: 1618.8569 - mse: 22986820.0000\n",
            "9/9 [==============================] - 0s 1ms/step - loss: 1898.3976 - mae: 1752.0669 - mse: 23758380.0000\n",
            "9/9 [==============================] - 0s 1ms/step - loss: 1716.8383 - mae: 1592.1730 - mse: 23649636.0000\n",
            "9/9 [==============================] - 0s 1ms/step - loss: 1931.3345 - mae: 1777.3967 - mse: 23857984.0000\n",
            "9/9 [==============================] - 0s 2ms/step - loss: 1952.4336 - mae: 1808.8811 - mse: 23958464.0000\n",
            "    RMSprop training process...\n",
            "9/9 [==============================] - 0s 1ms/step - loss: 1758.5867 - mae: 1648.0039 - mse: 23308880.0000\n",
            "9/9 [==============================] - 0s 2ms/step - loss: 1650.3496 - mae: 1579.9307 - mse: 22653814.0000\n",
            "9/9 [==============================] - 0s 1ms/step - loss: 1705.4586 - mae: 1632.1786 - mse: 23473836.0000\n",
            "9/9 [==============================] - 0s 2ms/step - loss: 1836.6044 - mae: 1713.8473 - mse: 23846740.0000\n",
            "9/9 [==============================] - 0s 1ms/step - loss: 2171.5017 - mae: 2006.5994 - mse: 25134394.0000\n",
            "9/9 [==============================] - 0s 2ms/step - loss: 1959.3912 - mae: 1840.8042 - mse: 24577074.0000\n",
            "9/9 [==============================] - 0s 1ms/step - loss: 1882.7654 - mae: 1762.7307 - mse: 23528470.0000\n",
            "9/9 [==============================] - 0s 2ms/step - loss: 2085.5903 - mae: 1930.1278 - mse: 24963118.0000\n",
            "9/9 [==============================] - 0s 1ms/step - loss: 2043.9266 - mae: 1851.8522 - mse: 24716600.0000\n",
            "    SGD training process...\n",
            "9/9 [==============================] - 0s 2ms/step - loss: 2011.8878 - mae: 1899.7538 - mse: 24097268.0000\n",
            "9/9 [==============================] - 0s 2ms/step - loss: 2346.3076 - mae: 2187.2747 - mse: 22638692.0000\n",
            "9/9 [==============================] - 0s 2ms/step - loss: 2634.3667 - mae: 2452.1775 - mse: 24969088.0000\n",
            "9/9 [==============================] - 0s 1ms/step - loss: 2870.8777 - mae: 2720.3015 - mse: 23828092.0000\n"
          ],
          "name": "stdout"
        }
      ]
    },
    {
      "cell_type": "code",
      "metadata": {
        "id": "nAUwaj33Uve_",
        "colab_type": "code",
        "outputId": "18bd3eff-246f-4288-f56a-150dc4a4a1c4",
        "colab": {
          "base_uri": "https://localhost:8080/",
          "height": 369
        }
      },
      "source": [
        "result_report     # mae each method"
      ],
      "execution_count": 53,
      "outputs": [
        {
          "output_type": "execute_result",
          "data": {
            "text/html": [
              "<div>\n",
              "<style scoped>\n",
              "    .dataframe tbody tr th:only-of-type {\n",
              "        vertical-align: middle;\n",
              "    }\n",
              "\n",
              "    .dataframe tbody tr th {\n",
              "        vertical-align: top;\n",
              "    }\n",
              "\n",
              "    .dataframe thead th {\n",
              "        text-align: right;\n",
              "    }\n",
              "</style>\n",
              "<table border=\"1\" class=\"dataframe\">\n",
              "  <thead>\n",
              "    <tr style=\"text-align: right;\">\n",
              "      <th></th>\n",
              "      <th>Learning Rate</th>\n",
              "      <th>Adam-1</th>\n",
              "      <th>RMSprop-1</th>\n",
              "      <th>SGD-1</th>\n",
              "      <th>Adam-2</th>\n",
              "      <th>RMSprop-2</th>\n",
              "      <th>SGD-2</th>\n",
              "      <th>Adam-3</th>\n",
              "      <th>RMSprop-3</th>\n",
              "      <th>SGD-3</th>\n",
              "      <th>Adam-4</th>\n",
              "      <th>RMSprop-4</th>\n",
              "      <th>SGD-4</th>\n",
              "      <th>Adam-Avg</th>\n",
              "      <th>RMSprop-Avg</th>\n",
              "      <th>SGD-Avg</th>\n",
              "    </tr>\n",
              "  </thead>\n",
              "  <tbody>\n",
              "    <tr>\n",
              "      <th>0</th>\n",
              "      <td>0.0010</td>\n",
              "      <td>13326.888672</td>\n",
              "      <td>2269.784912</td>\n",
              "      <td>2439.906738</td>\n",
              "      <td>1908.130127</td>\n",
              "      <td>2541.385742</td>\n",
              "      <td>2649.191406</td>\n",
              "      <td>1717.047852</td>\n",
              "      <td>1921.397461</td>\n",
              "      <td>1841.012817</td>\n",
              "      <td>1693.249878</td>\n",
              "      <td>1951.878174</td>\n",
              "      <td>2481.209473</td>\n",
              "      <td>3330.561523</td>\n",
              "      <td>3716.133179</td>\n",
              "      <td>3006.656006</td>\n",
              "    </tr>\n",
              "    <tr>\n",
              "      <th>1</th>\n",
              "      <td>0.0025</td>\n",
              "      <td>1643.034058</td>\n",
              "      <td>1715.758179</td>\n",
              "      <td>2039.827148</td>\n",
              "      <td>1644.589478</td>\n",
              "      <td>13372.250000</td>\n",
              "      <td>2307.673096</td>\n",
              "      <td>1522.447754</td>\n",
              "      <td>1599.172974</td>\n",
              "      <td>1784.557373</td>\n",
              "      <td>1273.835693</td>\n",
              "      <td>1549.631958</td>\n",
              "      <td>3913.572266</td>\n",
              "      <td>2729.648376</td>\n",
              "      <td>2873.342957</td>\n",
              "      <td>2930.679138</td>\n",
              "    </tr>\n",
              "    <tr>\n",
              "      <th>2</th>\n",
              "      <td>0.0050</td>\n",
              "      <td>1743.563477</td>\n",
              "      <td>1666.619019</td>\n",
              "      <td>2610.658936</td>\n",
              "      <td>1569.321899</td>\n",
              "      <td>1618.687622</td>\n",
              "      <td>2048.992188</td>\n",
              "      <td>1497.377808</td>\n",
              "      <td>1457.854980</td>\n",
              "      <td>2588.741455</td>\n",
              "      <td>1389.277344</td>\n",
              "      <td>1218.249023</td>\n",
              "      <td>2657.392578</td>\n",
              "      <td>2289.550476</td>\n",
              "      <td>2307.340576</td>\n",
              "      <td>3298.772705</td>\n",
              "    </tr>\n",
              "    <tr>\n",
              "      <th>3</th>\n",
              "      <td>0.0075</td>\n",
              "      <td>1900.058716</td>\n",
              "      <td>1833.384277</td>\n",
              "      <td>6710.838379</td>\n",
              "      <td>1737.186768</td>\n",
              "      <td>1610.175537</td>\n",
              "      <td>2575.674072</td>\n",
              "      <td>1516.566772</td>\n",
              "      <td>1575.507080</td>\n",
              "      <td>4211.897461</td>\n",
              "      <td>1450.022827</td>\n",
              "      <td>1489.128296</td>\n",
              "      <td>2217.093750</td>\n",
              "      <td>2074.187073</td>\n",
              "      <td>1929.606873</td>\n",
              "      <td>4373.424438</td>\n",
              "    </tr>\n",
              "    <tr>\n",
              "      <th>4</th>\n",
              "      <td>0.0100</td>\n",
              "      <td>2100.821045</td>\n",
              "      <td>2026.541260</td>\n",
              "      <td>2509.128174</td>\n",
              "      <td>1940.253540</td>\n",
              "      <td>1684.015137</td>\n",
              "      <td>3201.701416</td>\n",
              "      <td>13133.948242</td>\n",
              "      <td>1446.071411</td>\n",
              "      <td>2837.577393</td>\n",
              "      <td>1738.718262</td>\n",
              "      <td>1504.067505</td>\n",
              "      <td>4929.400879</td>\n",
              "      <td>2049.905457</td>\n",
              "      <td>2061.602936</td>\n",
              "      <td>4343.757996</td>\n",
              "    </tr>\n",
              "    <tr>\n",
              "      <th>5</th>\n",
              "      <td>0.0250</td>\n",
              "      <td>1811.303833</td>\n",
              "      <td>1820.466187</td>\n",
              "      <td>6268.911133</td>\n",
              "      <td>1632.062744</td>\n",
              "      <td>2235.990967</td>\n",
              "      <td>4646.087402</td>\n",
              "      <td>1579.951172</td>\n",
              "      <td>1562.708618</td>\n",
              "      <td>4289.800781</td>\n",
              "      <td>1439.485352</td>\n",
              "      <td>1429.472290</td>\n",
              "      <td>5293.350586</td>\n",
              "      <td>1993.443726</td>\n",
              "      <td>2108.264252</td>\n",
              "      <td>9233.201538</td>\n",
              "    </tr>\n",
              "    <tr>\n",
              "      <th>6</th>\n",
              "      <td>0.0500</td>\n",
              "      <td>1724.394653</td>\n",
              "      <td>2110.578857</td>\n",
              "      <td>13265.822266</td>\n",
              "      <td>1528.348389</td>\n",
              "      <td>1744.892700</td>\n",
              "      <td>13085.602539</td>\n",
              "      <td>1505.652832</td>\n",
              "      <td>1894.405762</td>\n",
              "      <td>13133.948242</td>\n",
              "      <td>1424.274536</td>\n",
              "      <td>1717.271240</td>\n",
              "      <td>6988.984863</td>\n",
              "      <td>1971.430237</td>\n",
              "      <td>2158.598755</td>\n",
              "      <td>12366.249268</td>\n",
              "    </tr>\n",
              "    <tr>\n",
              "      <th>7</th>\n",
              "      <td>0.0750</td>\n",
              "      <td>1616.193115</td>\n",
              "      <td>1957.550415</td>\n",
              "      <td>12707.305664</td>\n",
              "      <td>1660.346680</td>\n",
              "      <td>2123.039062</td>\n",
              "      <td>12700.662109</td>\n",
              "      <td>1455.796997</td>\n",
              "      <td>1917.068604</td>\n",
              "      <td>12419.644531</td>\n",
              "      <td>1583.637207</td>\n",
              "      <td>1572.739380</td>\n",
              "      <td>12533.082031</td>\n",
              "      <td>1897.665710</td>\n",
              "      <td>2500.721069</td>\n",
              "      <td>13180.392334</td>\n",
              "    </tr>\n",
              "    <tr>\n",
              "      <th>8</th>\n",
              "      <td>0.1000</td>\n",
              "      <td>1693.621094</td>\n",
              "      <td>1859.621460</td>\n",
              "      <td>13310.340820</td>\n",
              "      <td>1823.518921</td>\n",
              "      <td>1838.559082</td>\n",
              "      <td>13372.250000</td>\n",
              "      <td>1787.474365</td>\n",
              "      <td>1751.513306</td>\n",
              "      <td>13133.924805</td>\n",
              "      <td>1315.604492</td>\n",
              "      <td>2461.756104</td>\n",
              "      <td>12242.561523</td>\n",
              "      <td>1921.946747</td>\n",
              "      <td>5126.818909</td>\n",
              "      <td>13203.499023</td>\n",
              "    </tr>\n",
              "  </tbody>\n",
              "</table>\n",
              "</div>"
            ],
            "text/plain": [
              "   Learning Rate        Adam-1  ...  RMSprop-Avg       SGD-Avg\n",
              "0         0.0010  13326.888672  ...  3716.133179   3006.656006\n",
              "1         0.0025   1643.034058  ...  2873.342957   2930.679138\n",
              "2         0.0050   1743.563477  ...  2307.340576   3298.772705\n",
              "3         0.0075   1900.058716  ...  1929.606873   4373.424438\n",
              "4         0.0100   2100.821045  ...  2061.602936   4343.757996\n",
              "5         0.0250   1811.303833  ...  2108.264252   9233.201538\n",
              "6         0.0500   1724.394653  ...  2158.598755  12366.249268\n",
              "7         0.0750   1616.193115  ...  2500.721069  13180.392334\n",
              "8         0.1000   1693.621094  ...  5126.818909  13203.499023\n",
              "\n",
              "[9 rows x 16 columns]"
            ]
          },
          "metadata": {
            "tags": []
          },
          "execution_count": 53
        }
      ]
    },
    {
      "cell_type": "code",
      "metadata": {
        "id": "Bnn0RxmKT0-U",
        "colab_type": "code",
        "outputId": "165e1e59-8c13-4f14-95ec-bb04929b70ef",
        "colab": {
          "base_uri": "https://localhost:8080/",
          "height": 90
        }
      },
      "source": [
        "Adam_RMSpropAvg_SGDAvg_Str = np.array([['Adam-{:d}'.format(i+1), \n",
        "                               'RMSprop-{:d}'.format(i+1),\n",
        "                               'SGD-{:d}'.format(i+1)] for i in range(n_splits_target)], dtype=str)\n",
        "Adam_RMSpropAvg_SGDAvg_Str"
      ],
      "execution_count": 54,
      "outputs": [
        {
          "output_type": "execute_result",
          "data": {
            "text/plain": [
              "array([['Adam-1', 'RMSprop-1', 'SGD-1'],\n",
              "       ['Adam-2', 'RMSprop-2', 'SGD-2'],\n",
              "       ['Adam-3', 'RMSprop-3', 'SGD-3'],\n",
              "       ['Adam-4', 'RMSprop-4', 'SGD-4']], dtype='<U9')"
            ]
          },
          "metadata": {
            "tags": []
          },
          "execution_count": 54
        }
      ]
    },
    {
      "cell_type": "code",
      "metadata": {
        "id": "1gjDGR8yb-Nx",
        "colab_type": "code",
        "outputId": "4cc5e23b-76a4-42c4-d46b-f1c218f5544e",
        "colab": {
          "base_uri": "https://localhost:8080/",
          "height": 369
        }
      },
      "source": [
        "result_report['Adam-Avg'] = \\\n",
        "    sum(result_report[idx] \n",
        "        for idx in Adam_RMSpropAvg_SGDAvg_Str[:,0]) / n_splits_target\n",
        "\n",
        "result_report['RMSprop-Avg'] = \\\n",
        "    sum(result_report[idx] \n",
        "        for idx in Adam_RMSpropAvg_SGDAvg_Str[:,1]) / n_splits_target\n",
        "\n",
        "result_report['SGD-Avg'] = \\\n",
        "    sum(result_report[idx] \n",
        "        for idx in Adam_RMSpropAvg_SGDAvg_Str[:,2]) / n_splits_target\n",
        "\n",
        "result_report"
      ],
      "execution_count": 55,
      "outputs": [
        {
          "output_type": "execute_result",
          "data": {
            "text/html": [
              "<div>\n",
              "<style scoped>\n",
              "    .dataframe tbody tr th:only-of-type {\n",
              "        vertical-align: middle;\n",
              "    }\n",
              "\n",
              "    .dataframe tbody tr th {\n",
              "        vertical-align: top;\n",
              "    }\n",
              "\n",
              "    .dataframe thead th {\n",
              "        text-align: right;\n",
              "    }\n",
              "</style>\n",
              "<table border=\"1\" class=\"dataframe\">\n",
              "  <thead>\n",
              "    <tr style=\"text-align: right;\">\n",
              "      <th></th>\n",
              "      <th>Learning Rate</th>\n",
              "      <th>Adam-1</th>\n",
              "      <th>RMSprop-1</th>\n",
              "      <th>SGD-1</th>\n",
              "      <th>Adam-2</th>\n",
              "      <th>RMSprop-2</th>\n",
              "      <th>SGD-2</th>\n",
              "      <th>Adam-3</th>\n",
              "      <th>RMSprop-3</th>\n",
              "      <th>SGD-3</th>\n",
              "      <th>Adam-4</th>\n",
              "      <th>RMSprop-4</th>\n",
              "      <th>SGD-4</th>\n",
              "      <th>Adam-Avg</th>\n",
              "      <th>RMSprop-Avg</th>\n",
              "      <th>SGD-Avg</th>\n",
              "    </tr>\n",
              "  </thead>\n",
              "  <tbody>\n",
              "    <tr>\n",
              "      <th>0</th>\n",
              "      <td>0.0010</td>\n",
              "      <td>13326.888672</td>\n",
              "      <td>2269.784912</td>\n",
              "      <td>2439.906738</td>\n",
              "      <td>1908.130127</td>\n",
              "      <td>2541.385742</td>\n",
              "      <td>2649.191406</td>\n",
              "      <td>1717.047852</td>\n",
              "      <td>1921.397461</td>\n",
              "      <td>1841.012817</td>\n",
              "      <td>1693.249878</td>\n",
              "      <td>1951.878174</td>\n",
              "      <td>2481.209473</td>\n",
              "      <td>4661.329132</td>\n",
              "      <td>2171.111572</td>\n",
              "      <td>2352.830109</td>\n",
              "    </tr>\n",
              "    <tr>\n",
              "      <th>1</th>\n",
              "      <td>0.0025</td>\n",
              "      <td>1643.034058</td>\n",
              "      <td>1715.758179</td>\n",
              "      <td>2039.827148</td>\n",
              "      <td>1644.589478</td>\n",
              "      <td>13372.250000</td>\n",
              "      <td>2307.673096</td>\n",
              "      <td>1522.447754</td>\n",
              "      <td>1599.172974</td>\n",
              "      <td>1784.557373</td>\n",
              "      <td>1273.835693</td>\n",
              "      <td>1549.631958</td>\n",
              "      <td>3913.572266</td>\n",
              "      <td>1520.976746</td>\n",
              "      <td>4559.203278</td>\n",
              "      <td>2511.407471</td>\n",
              "    </tr>\n",
              "    <tr>\n",
              "      <th>2</th>\n",
              "      <td>0.0050</td>\n",
              "      <td>1743.563477</td>\n",
              "      <td>1666.619019</td>\n",
              "      <td>2610.658936</td>\n",
              "      <td>1569.321899</td>\n",
              "      <td>1618.687622</td>\n",
              "      <td>2048.992188</td>\n",
              "      <td>1497.377808</td>\n",
              "      <td>1457.854980</td>\n",
              "      <td>2588.741455</td>\n",
              "      <td>1389.277344</td>\n",
              "      <td>1218.249023</td>\n",
              "      <td>2657.392578</td>\n",
              "      <td>1549.885132</td>\n",
              "      <td>1490.352661</td>\n",
              "      <td>2476.446289</td>\n",
              "    </tr>\n",
              "    <tr>\n",
              "      <th>3</th>\n",
              "      <td>0.0075</td>\n",
              "      <td>1900.058716</td>\n",
              "      <td>1833.384277</td>\n",
              "      <td>6710.838379</td>\n",
              "      <td>1737.186768</td>\n",
              "      <td>1610.175537</td>\n",
              "      <td>2575.674072</td>\n",
              "      <td>1516.566772</td>\n",
              "      <td>1575.507080</td>\n",
              "      <td>4211.897461</td>\n",
              "      <td>1450.022827</td>\n",
              "      <td>1489.128296</td>\n",
              "      <td>2217.093750</td>\n",
              "      <td>1650.958771</td>\n",
              "      <td>1627.048798</td>\n",
              "      <td>3928.875916</td>\n",
              "    </tr>\n",
              "    <tr>\n",
              "      <th>4</th>\n",
              "      <td>0.0100</td>\n",
              "      <td>2100.821045</td>\n",
              "      <td>2026.541260</td>\n",
              "      <td>2509.128174</td>\n",
              "      <td>1940.253540</td>\n",
              "      <td>1684.015137</td>\n",
              "      <td>3201.701416</td>\n",
              "      <td>13133.948242</td>\n",
              "      <td>1446.071411</td>\n",
              "      <td>2837.577393</td>\n",
              "      <td>1738.718262</td>\n",
              "      <td>1504.067505</td>\n",
              "      <td>4929.400879</td>\n",
              "      <td>4728.435272</td>\n",
              "      <td>1665.173828</td>\n",
              "      <td>3369.451965</td>\n",
              "    </tr>\n",
              "    <tr>\n",
              "      <th>5</th>\n",
              "      <td>0.0250</td>\n",
              "      <td>1811.303833</td>\n",
              "      <td>1820.466187</td>\n",
              "      <td>6268.911133</td>\n",
              "      <td>1632.062744</td>\n",
              "      <td>2235.990967</td>\n",
              "      <td>4646.087402</td>\n",
              "      <td>1579.951172</td>\n",
              "      <td>1562.708618</td>\n",
              "      <td>4289.800781</td>\n",
              "      <td>1439.485352</td>\n",
              "      <td>1429.472290</td>\n",
              "      <td>5293.350586</td>\n",
              "      <td>1615.700775</td>\n",
              "      <td>1762.159515</td>\n",
              "      <td>5124.537476</td>\n",
              "    </tr>\n",
              "    <tr>\n",
              "      <th>6</th>\n",
              "      <td>0.0500</td>\n",
              "      <td>1724.394653</td>\n",
              "      <td>2110.578857</td>\n",
              "      <td>13265.822266</td>\n",
              "      <td>1528.348389</td>\n",
              "      <td>1744.892700</td>\n",
              "      <td>13085.602539</td>\n",
              "      <td>1505.652832</td>\n",
              "      <td>1894.405762</td>\n",
              "      <td>13133.948242</td>\n",
              "      <td>1424.274536</td>\n",
              "      <td>1717.271240</td>\n",
              "      <td>6988.984863</td>\n",
              "      <td>1545.667603</td>\n",
              "      <td>1866.787140</td>\n",
              "      <td>11618.589478</td>\n",
              "    </tr>\n",
              "    <tr>\n",
              "      <th>7</th>\n",
              "      <td>0.0750</td>\n",
              "      <td>1616.193115</td>\n",
              "      <td>1957.550415</td>\n",
              "      <td>12707.305664</td>\n",
              "      <td>1660.346680</td>\n",
              "      <td>2123.039062</td>\n",
              "      <td>12700.662109</td>\n",
              "      <td>1455.796997</td>\n",
              "      <td>1917.068604</td>\n",
              "      <td>12419.644531</td>\n",
              "      <td>1583.637207</td>\n",
              "      <td>1572.739380</td>\n",
              "      <td>12533.082031</td>\n",
              "      <td>1578.993500</td>\n",
              "      <td>1892.599365</td>\n",
              "      <td>12590.173584</td>\n",
              "    </tr>\n",
              "    <tr>\n",
              "      <th>8</th>\n",
              "      <td>0.1000</td>\n",
              "      <td>1693.621094</td>\n",
              "      <td>1859.621460</td>\n",
              "      <td>13310.340820</td>\n",
              "      <td>1823.518921</td>\n",
              "      <td>1838.559082</td>\n",
              "      <td>13372.250000</td>\n",
              "      <td>1787.474365</td>\n",
              "      <td>1751.513306</td>\n",
              "      <td>13133.924805</td>\n",
              "      <td>1315.604492</td>\n",
              "      <td>2461.756104</td>\n",
              "      <td>12242.561523</td>\n",
              "      <td>1655.054718</td>\n",
              "      <td>1977.862488</td>\n",
              "      <td>13014.769287</td>\n",
              "    </tr>\n",
              "  </tbody>\n",
              "</table>\n",
              "</div>"
            ],
            "text/plain": [
              "   Learning Rate        Adam-1  ...  RMSprop-Avg       SGD-Avg\n",
              "0         0.0010  13326.888672  ...  2171.111572   2352.830109\n",
              "1         0.0025   1643.034058  ...  4559.203278   2511.407471\n",
              "2         0.0050   1743.563477  ...  1490.352661   2476.446289\n",
              "3         0.0075   1900.058716  ...  1627.048798   3928.875916\n",
              "4         0.0100   2100.821045  ...  1665.173828   3369.451965\n",
              "5         0.0250   1811.303833  ...  1762.159515   5124.537476\n",
              "6         0.0500   1724.394653  ...  1866.787140  11618.589478\n",
              "7         0.0750   1616.193115  ...  1892.599365  12590.173584\n",
              "8         0.1000   1693.621094  ...  1977.862488  13014.769287\n",
              "\n",
              "[9 rows x 16 columns]"
            ]
          },
          "metadata": {
            "tags": []
          },
          "execution_count": 55
        }
      ]
    },
    {
      "cell_type": "code",
      "metadata": {
        "id": "DFjOFcRRIQaW",
        "colab_type": "code",
        "outputId": "ac76857b-bb4b-4157-c994-86bba6c93b5e",
        "colab": {
          "base_uri": "https://localhost:8080/",
          "height": 35
        }
      },
      "source": [
        "result_report.to_excel('hyper tuning parameter learningrate and optimizer.xlsx', index=False)\n",
        "print('Saved process done.')"
      ],
      "execution_count": 56,
      "outputs": [
        {
          "output_type": "stream",
          "text": [
            "Saved process done.\n"
          ],
          "name": "stdout"
        }
      ]
    },
    {
      "cell_type": "code",
      "metadata": {
        "id": "IqzaBgO1IQZN",
        "colab_type": "code",
        "outputId": "36096b00-ff39-4591-bcd2-0d3e01c6397e",
        "colab": {
          "base_uri": "https://localhost:8080/",
          "height": 295
        }
      },
      "source": [
        "plt.plot(result_report['Learning Rate'], result_report['Adam-Avg'], label='Adam')\n",
        "plt.plot(result_report['Learning Rate'], result_report['RMSprop-Avg'], label='RMSProp')\n",
        "plt.plot(result_report['Learning Rate'], result_report['SGD-Avg'], label='SGD')\n",
        "\n",
        "plt.title('Training over different optimizers and learning rate')\n",
        "plt.xlabel('Learning Rate')\n",
        "plt.ylabel('Mean Absolute Error')\n",
        "plt.legend();"
      ],
      "execution_count": 57,
      "outputs": [
        {
          "output_type": "display_data",
          "data": {
            "image/png": "[encoded data removed]",
            "text/plain": [
              "<Figure size 432x288 with 1 Axes>"
            ]
          },
          "metadata": {
            "tags": []
          }
        }
      ]
    },
    {
      "cell_type": "markdown",
      "metadata": {
        "id": "RlyAdHXWJ6od",
        "colab_type": "text"
      },
      "source": [
        "Small learning rate gives better result.\n",
        "\n",
        "Best parameter -> Adam optimizer with learning rate 0.025"
      ]
    },
    {
      "cell_type": "markdown",
      "metadata": {
        "id": "vy_CJQAVU5Eu",
        "colab_type": "text"
      },
      "source": [
        "### Regularization & Drop Out\n",
        "\n",
        "<b>Regularizers</b> allow you to apply penalties on layer parameters or layer activity during optimization. These penalties are summed into the loss function that the network optimizes.\n",
        "\n",
        "<b>Dropout</b> is one of the most effective and most commonly used regularization techniques for neural networks. The intuitive explanation for dropout is that because individual nodes in the network cannot rely on the output of the others, each node must output features that are useful on their own.\n",
        "\n",
        "We can combined both of them to avoid overfitting.\n"
      ]
    },
    {
      "cell_type": "code",
      "metadata": {
        "id": "l2fWeO4VZi1b",
        "colab_type": "code",
        "colab": {}
      },
      "source": [
        "regularizer_rates = [0, .001, .01, .1]\n",
        "dropout_rates = [0, .2, .35, .5]"
      ],
      "execution_count": 0,
      "outputs": []
    },
    {
      "cell_type": "code",
      "metadata": {
        "id": "e4bP_YKQVAR2",
        "colab_type": "code",
        "outputId": "1ebb9061-b446-4461-baf5-d012cc5c3145",
        "colab": {
          "base_uri": "https://localhost:8080/",
          "height": 1000
        }
      },
      "source": [
        "drp_log, reg_log, mae_log ,mse_log = [], [], [], []\n",
        "\n",
        "start_computer = time.time()\n",
        "\n",
        "for i, (train_features, train_target, \n",
        "        validation_features, validation_target) in enumerate(train_val_split):\n",
        "  \n",
        "    for dropout_rate in dropout_rates:\n",
        "        print('dropout_rate: {:.2f}'.format(dropout_rate))\n",
        "        for regularizer_rate in regularizer_rates:\n",
        "            print('     regularizer_rate: {:.2f}'.format(regularizer_rate))\n",
        "            mlp = multilayer_perceptron(train_features.shape[1], .025, 'adam', regularizer_rate, dropout_rate)\n",
        "            model, history = train_model(mlp, train_features, train_target, N_epoch)\n",
        "            loss, mae, mse = model.evaluate(validation_features, validation_target, verbose=1)\n",
        "            drp_log.append(dropout_rate)\n",
        "            reg_log.append(regularizer_rate)\n",
        "            mae_log.append(mae)\n",
        "            mse_log.append(mse)\n",
        "        print(\"\")\n",
        "\n",
        "    print('    Done for group-{:d}'.format(i+1))\n",
        "\n",
        "print(\"Approximation computational time: {:.2f}\".format(time.time() - start_compute))"
      ],
      "execution_count": 59,
      "outputs": [
        {
          "output_type": "stream",
          "text": [
            "dropout_rate: 0.00\n",
            "     regularizer_rate: 0.00\n",
            "9/9 [==============================] - 0s 1ms/step - loss: 1608.7225 - mae: 1540.7009 - mse: 22746176.0000\n",
            "     regularizer_rate: 0.00\n",
            "9/9 [==============================] - 0s 2ms/step - loss: 1738.1899 - mae: 1611.8995 - mse: 23337626.0000\n",
            "     regularizer_rate: 0.01\n",
            "9/9 [==============================] - 0s 2ms/step - loss: 1747.7653 - mae: 1577.7346 - mse: 22460522.0000\n",
            "     regularizer_rate: 0.10\n",
            "9/9 [==============================] - 0s 1ms/step - loss: 2215.5720 - mae: 1875.9808 - mse: 23631974.0000\n",
            "\n",
            "dropout_rate: 0.20\n",
            "     regularizer_rate: 0.00\n",
            "9/9 [==============================] - 0s 2ms/step - loss: 2420.4724 - mae: 2094.0867 - mse: 26347418.0000\n",
            "     regularizer_rate: 0.00\n",
            "9/9 [==============================] - 0s 2ms/step - loss: 2574.1101 - mae: 2221.9492 - mse: 26877870.0000\n",
            "     regularizer_rate: 0.01\n",
            "9/9 [==============================] - 0s 1ms/step - loss: 2521.7222 - mae: 2154.9468 - mse: 26221076.0000\n",
            "     regularizer_rate: 0.10\n",
            "9/9 [==============================] - 0s 2ms/step - loss: 2895.3828 - mae: 2320.7947 - mse: 28810662.0000\n",
            "\n",
            "dropout_rate: 0.35\n",
            "     regularizer_rate: 0.00\n",
            "9/9 [==============================] - 0s 2ms/step - loss: 2635.9114 - mae: 2256.9312 - mse: 27838454.0000\n",
            "     regularizer_rate: 0.00\n",
            "9/9 [==============================] - 0s 2ms/step - loss: 2660.0334 - mae: 2256.1016 - mse: 27676138.0000\n",
            "     regularizer_rate: 0.01\n",
            "9/9 [==============================] - 0s 2ms/step - loss: 2803.9565 - mae: 2386.7234 - mse: 27573408.0000\n",
            "     regularizer_rate: 0.10\n",
            "9/9 [==============================] - 0s 2ms/step - loss: 2870.1560 - mae: 2379.7771 - mse: 27146988.0000\n",
            "\n",
            "dropout_rate: 0.50\n",
            "     regularizer_rate: 0.00\n",
            "9/9 [==============================] - 0s 2ms/step - loss: 2808.4736 - mae: 2355.6528 - mse: 28147380.0000\n",
            "     regularizer_rate: 0.00\n",
            "9/9 [==============================] - 0s 2ms/step - loss: 2754.5442 - mae: 2345.0410 - mse: 27683470.0000\n",
            "     regularizer_rate: 0.01\n",
            "9/9 [==============================] - 0s 2ms/step - loss: 3220.3364 - mae: 2759.7280 - mse: 30759028.0000\n",
            "     regularizer_rate: 0.10\n",
            "9/9 [==============================] - 0s 2ms/step - loss: 2879.3975 - mae: 2336.0439 - mse: 26304232.0000\n",
            "\n",
            "    Done for group-1\n",
            "dropout_rate: 0.00\n",
            "     regularizer_rate: 0.00\n",
            "9/9 [==============================] - 0s 1ms/step - loss: 1806.8876 - mae: 1659.0508 - mse: 22917366.0000\n",
            "     regularizer_rate: 0.00\n",
            "9/9 [==============================] - 0s 2ms/step - loss: 1606.9921 - mae: 1483.1621 - mse: 21756378.0000\n",
            "     regularizer_rate: 0.01\n",
            "9/9 [==============================] - 0s 2ms/step - loss: 1935.7131 - mae: 1706.3981 - mse: 23466788.0000\n",
            "     regularizer_rate: 0.10\n",
            "9/9 [==============================] - 0s 2ms/step - loss: 2122.6360 - mae: 1800.3383 - mse: 23186594.0000\n",
            "\n",
            "dropout_rate: 0.20\n",
            "     regularizer_rate: 0.00\n",
            "9/9 [==============================] - 0s 2ms/step - loss: 2290.6279 - mae: 2097.3130 - mse: 23267800.0000\n",
            "     regularizer_rate: 0.00\n",
            "9/9 [==============================] - 0s 1ms/step - loss: 2176.8818 - mae: 2061.8101 - mse: 21303134.0000\n",
            "     regularizer_rate: 0.01\n",
            "9/9 [==============================] - 0s 1ms/step - loss: 2296.8296 - mae: 2083.2070 - mse: 23533770.0000\n",
            "     regularizer_rate: 0.10\n",
            "9/9 [==============================] - 0s 2ms/step - loss: 2613.0244 - mae: 2213.8850 - mse: 26019198.0000\n",
            "\n",
            "dropout_rate: 0.35\n",
            "     regularizer_rate: 0.00\n",
            "9/9 [==============================] - 0s 2ms/step - loss: 2453.0303 - mae: 2274.5366 - mse: 25025564.0000\n",
            "     regularizer_rate: 0.00\n",
            "9/9 [==============================] - 0s 2ms/step - loss: 2531.6528 - mae: 2285.7109 - mse: 26377782.0000\n",
            "     regularizer_rate: 0.01\n",
            "9/9 [==============================] - 0s 2ms/step - loss: 2513.6267 - mae: 2211.1697 - mse: 25358376.0000\n",
            "     regularizer_rate: 0.10\n",
            "9/9 [==============================] - 0s 1ms/step - loss: 2569.1379 - mae: 2233.9910 - mse: 24535956.0000\n",
            "\n",
            "dropout_rate: 0.50\n",
            "     regularizer_rate: 0.00\n",
            "9/9 [==============================] - 0s 2ms/step - loss: 2377.4629 - mae: 2166.7603 - mse: 23800916.0000\n",
            "     regularizer_rate: 0.00\n",
            "9/9 [==============================] - 0s 2ms/step - loss: 2528.2861 - mae: 2302.7478 - mse: 25900196.0000\n",
            "     regularizer_rate: 0.01\n",
            "9/9 [==============================] - 0s 2ms/step - loss: 2484.8184 - mae: 2218.9497 - mse: 23926440.0000\n",
            "     regularizer_rate: 0.10\n",
            "9/9 [==============================] - 0s 2ms/step - loss: 2716.1660 - mae: 2328.0632 - mse: 25148394.0000\n",
            "\n",
            "    Done for group-2\n",
            "dropout_rate: 0.00\n",
            "     regularizer_rate: 0.00\n",
            "9/9 [==============================] - 0s 2ms/step - loss: 1478.2234 - mae: 1563.3385 - mse: 20384706.0000\n",
            "     regularizer_rate: 0.00\n",
            "9/9 [==============================] - 0s 2ms/step - loss: 1386.8926 - mae: 1413.5188 - mse: 19925952.0000\n",
            "     regularizer_rate: 0.01\n",
            "9/9 [==============================] - 0s 2ms/step - loss: 1421.5720 - mae: 1419.5463 - mse: 20130122.0000\n",
            "     regularizer_rate: 0.10\n",
            "9/9 [==============================] - 0s 2ms/step - loss: 1911.8859 - mae: 1702.1017 - mse: 20003534.0000\n",
            "\n",
            "dropout_rate: 0.20\n",
            "     regularizer_rate: 0.00\n",
            "9/9 [==============================] - 0s 2ms/step - loss: 2212.7747 - mae: 2058.9648 - mse: 23688840.0000\n",
            "     regularizer_rate: 0.00\n",
            "9/9 [==============================] - 0s 2ms/step - loss: 2003.8055 - mae: 1879.6245 - mse: 22213004.0000\n",
            "     regularizer_rate: 0.01\n",
            "9/9 [==============================] - 0s 2ms/step - loss: 2131.0588 - mae: 2078.9104 - mse: 23511072.0000\n",
            "     regularizer_rate: 0.10\n",
            "9/9 [==============================] - 0s 2ms/step - loss: 2272.8164 - mae: 2011.6028 - mse: 22865062.0000\n",
            "\n",
            "dropout_rate: 0.35\n",
            "     regularizer_rate: 0.00\n",
            "9/9 [==============================] - 0s 2ms/step - loss: 2251.6670 - mae: 2137.1016 - mse: 24046612.0000\n",
            "     regularizer_rate: 0.00\n",
            "9/9 [==============================] - 0s 2ms/step - loss: 2093.9868 - mae: 1975.0497 - mse: 22947860.0000\n",
            "     regularizer_rate: 0.01\n",
            "9/9 [==============================] - 0s 1ms/step - loss: 2306.1572 - mae: 2068.9631 - mse: 22969598.0000\n",
            "     regularizer_rate: 0.10\n",
            "9/9 [==============================] - 0s 2ms/step - loss: 2655.7200 - mae: 2352.7827 - mse: 22143434.0000\n",
            "\n",
            "dropout_rate: 0.50\n",
            "     regularizer_rate: 0.00\n",
            "9/9 [==============================] - 0s 2ms/step - loss: 2187.3928 - mae: 2067.2622 - mse: 23021792.0000\n",
            "     regularizer_rate: 0.00\n",
            "9/9 [==============================] - 0s 2ms/step - loss: 2221.2549 - mae: 2086.4038 - mse: 23261492.0000\n",
            "     regularizer_rate: 0.01\n",
            "9/9 [==============================] - 0s 2ms/step - loss: 2418.0356 - mae: 2256.1021 - mse: 22541736.0000\n",
            "     regularizer_rate: 0.10\n",
            "9/9 [==============================] - 0s 1ms/step - loss: 2824.2803 - mae: 2524.6367 - mse: 26073892.0000\n",
            "\n",
            "    Done for group-3\n",
            "dropout_rate: 0.00\n",
            "     regularizer_rate: 0.00\n",
            "9/9 [==============================] - 0s 2ms/step - loss: 1330.8137 - mae: 1305.9845 - mse: 16934858.0000\n",
            "     regularizer_rate: 0.00\n",
            "9/9 [==============================] - 0s 1ms/step - loss: 1314.3392 - mae: 1275.7561 - mse: 17336512.0000\n",
            "     regularizer_rate: 0.01\n",
            "9/9 [==============================] - 0s 2ms/step - loss: 1373.4109 - mae: 1270.9476 - mse: 16768535.0000\n",
            "     regularizer_rate: 0.10\n",
            "9/9 [==============================] - 0s 2ms/step - loss: 1587.3804 - mae: 1360.3048 - mse: 17107248.0000\n",
            "\n",
            "dropout_rate: 0.20\n",
            "     regularizer_rate: 0.00\n",
            "9/9 [==============================] - 0s 2ms/step - loss: 2147.0757 - mae: 1942.5919 - mse: 21589318.0000\n",
            "     regularizer_rate: 0.00\n",
            "9/9 [==============================] - 0s 2ms/step - loss: 2309.3665 - mae: 2053.0261 - mse: 22053362.0000\n",
            "     regularizer_rate: 0.01\n",
            "9/9 [==============================] - 0s 2ms/step - loss: 1942.3396 - mae: 1774.9971 - mse: 19070716.0000\n",
            "     regularizer_rate: 0.10\n",
            "9/9 [==============================] - 0s 2ms/step - loss: 2270.3254 - mae: 1900.0323 - mse: 21064484.0000\n",
            "\n",
            "dropout_rate: 0.35\n",
            "     regularizer_rate: 0.00\n",
            "9/9 [==============================] - 0s 2ms/step - loss: 2197.0874 - mae: 1991.0959 - mse: 21559634.0000\n",
            "     regularizer_rate: 0.00\n",
            "9/9 [==============================] - 0s 2ms/step - loss: 2323.6960 - mae: 2023.7753 - mse: 20814918.0000\n",
            "     regularizer_rate: 0.01\n",
            "9/9 [==============================] - 0s 1ms/step - loss: 2127.1917 - mae: 1931.6747 - mse: 19771658.0000\n",
            "     regularizer_rate: 0.10\n",
            "9/9 [==============================] - 0s 2ms/step - loss: 2522.5190 - mae: 2090.2715 - mse: 22018862.0000\n",
            "\n",
            "dropout_rate: 0.50\n",
            "     regularizer_rate: 0.00\n",
            "9/9 [==============================] - 0s 2ms/step - loss: 2310.8762 - mae: 2082.5181 - mse: 21595176.0000\n",
            "     regularizer_rate: 0.00\n",
            "9/9 [==============================] - 0s 2ms/step - loss: 2175.6868 - mae: 1925.2770 - mse: 20939406.0000\n",
            "     regularizer_rate: 0.01\n",
            "9/9 [==============================] - 0s 2ms/step - loss: 2562.4363 - mae: 2230.4268 - mse: 22346018.0000\n",
            "     regularizer_rate: 0.10\n",
            "9/9 [==============================] - 0s 2ms/step - loss: 2490.6418 - mae: 2063.1853 - mse: 20996812.0000\n",
            "\n",
            "    Done for group-4\n"
          ],
          "name": "stdout"
        }
      ]
    },
    {
      "cell_type": "code",
      "metadata": {
        "id": "GXiUj5CfCZkm",
        "colab_type": "code",
        "outputId": "c856c392-c754-48a6-cdfb-dbf40015f1ef",
        "colab": {
          "base_uri": "https://localhost:8080/",
          "height": 35
        }
      },
      "source": [
        "grp_2d = [[\"Group-{:d}\".format(i+1)]*16 for i in range(n_splits_target)]\n",
        "grp = [g for grp1 in grp_2d for g in grp1]\n",
        "len(grp)"
      ],
      "execution_count": 60,
      "outputs": [
        {
          "output_type": "execute_result",
          "data": {
            "text/plain": [
              "64"
            ]
          },
          "metadata": {
            "tags": []
          },
          "execution_count": 60
        }
      ]
    },
    {
      "cell_type": "code",
      "metadata": {
        "id": "c6WoRQSWGMqj",
        "colab_type": "code",
        "outputId": "3f5730e3-4564-49be-8d5e-a3a55327e0b2",
        "colab": {
          "base_uri": "https://localhost:8080/",
          "height": 424
        }
      },
      "source": [
        "drp_reg_result = pd.DataFrame({\"Group\": grp, \"Drop-out rate\": drp_log, \"Regularizer rate\": reg_log,\n",
        "                               \"Mean Absolute Error\": mae_log, \"Mean Squared Error\": mse_log})\n",
        "drp_reg_result"
      ],
      "execution_count": 61,
      "outputs": [
        {
          "output_type": "execute_result",
          "data": {
            "text/html": [
              "<div>\n",
              "<style scoped>\n",
              "    .dataframe tbody tr th:only-of-type {\n",
              "        vertical-align: middle;\n",
              "    }\n",
              "\n",
              "    .dataframe tbody tr th {\n",
              "        vertical-align: top;\n",
              "    }\n",
              "\n",
              "    .dataframe thead th {\n",
              "        text-align: right;\n",
              "    }\n",
              "</style>\n",
              "<table border=\"1\" class=\"dataframe\">\n",
              "  <thead>\n",
              "    <tr style=\"text-align: right;\">\n",
              "      <th></th>\n",
              "      <th>Group</th>\n",
              "      <th>Drop-out rate</th>\n",
              "      <th>Regularizer rate</th>\n",
              "      <th>Mean Absolute Error</th>\n",
              "      <th>Mean Squared Error</th>\n",
              "    </tr>\n",
              "  </thead>\n",
              "  <tbody>\n",
              "    <tr>\n",
              "      <th>0</th>\n",
              "      <td>Group-1</td>\n",
              "      <td>0.00</td>\n",
              "      <td>0.000</td>\n",
              "      <td>1540.700928</td>\n",
              "      <td>22746176.0</td>\n",
              "    </tr>\n",
              "    <tr>\n",
              "      <th>1</th>\n",
              "      <td>Group-1</td>\n",
              "      <td>0.00</td>\n",
              "      <td>0.001</td>\n",
              "      <td>1611.899536</td>\n",
              "      <td>23337626.0</td>\n",
              "    </tr>\n",
              "    <tr>\n",
              "      <th>2</th>\n",
              "      <td>Group-1</td>\n",
              "      <td>0.00</td>\n",
              "      <td>0.010</td>\n",
              "      <td>1577.734619</td>\n",
              "      <td>22460522.0</td>\n",
              "    </tr>\n",
              "    <tr>\n",
              "      <th>3</th>\n",
              "      <td>Group-1</td>\n",
              "      <td>0.00</td>\n",
              "      <td>0.100</td>\n",
              "      <td>1875.980835</td>\n",
              "      <td>23631974.0</td>\n",
              "    </tr>\n",
              "    <tr>\n",
              "      <th>4</th>\n",
              "      <td>Group-1</td>\n",
              "      <td>0.20</td>\n",
              "      <td>0.000</td>\n",
              "      <td>2094.086670</td>\n",
              "      <td>26347418.0</td>\n",
              "    </tr>\n",
              "    <tr>\n",
              "      <th>...</th>\n",
              "      <td>...</td>\n",
              "      <td>...</td>\n",
              "      <td>...</td>\n",
              "      <td>...</td>\n",
              "      <td>...</td>\n",
              "    </tr>\n",
              "    <tr>\n",
              "      <th>59</th>\n",
              "      <td>Group-4</td>\n",
              "      <td>0.35</td>\n",
              "      <td>0.100</td>\n",
              "      <td>2090.271484</td>\n",
              "      <td>22018862.0</td>\n",
              "    </tr>\n",
              "    <tr>\n",
              "      <th>60</th>\n",
              "      <td>Group-4</td>\n",
              "      <td>0.50</td>\n",
              "      <td>0.000</td>\n",
              "      <td>2082.518066</td>\n",
              "      <td>21595176.0</td>\n",
              "    </tr>\n",
              "    <tr>\n",
              "      <th>61</th>\n",
              "      <td>Group-4</td>\n",
              "      <td>0.50</td>\n",
              "      <td>0.001</td>\n",
              "      <td>1925.276978</td>\n",
              "      <td>20939406.0</td>\n",
              "    </tr>\n",
              "    <tr>\n",
              "      <th>62</th>\n",
              "      <td>Group-4</td>\n",
              "      <td>0.50</td>\n",
              "      <td>0.010</td>\n",
              "      <td>2230.426758</td>\n",
              "      <td>22346018.0</td>\n",
              "    </tr>\n",
              "    <tr>\n",
              "      <th>63</th>\n",
              "      <td>Group-4</td>\n",
              "      <td>0.50</td>\n",
              "      <td>0.100</td>\n",
              "      <td>2063.185303</td>\n",
              "      <td>20996812.0</td>\n",
              "    </tr>\n",
              "  </tbody>\n",
              "</table>\n",
              "<p>64 rows × 5 columns</p>\n",
              "</div>"
            ],
            "text/plain": [
              "      Group  Drop-out rate  ...  Mean Absolute Error  Mean Squared Error\n",
              "0   Group-1           0.00  ...          1540.700928          22746176.0\n",
              "1   Group-1           0.00  ...          1611.899536          23337626.0\n",
              "2   Group-1           0.00  ...          1577.734619          22460522.0\n",
              "3   Group-1           0.00  ...          1875.980835          23631974.0\n",
              "4   Group-1           0.20  ...          2094.086670          26347418.0\n",
              "..      ...            ...  ...                  ...                 ...\n",
              "59  Group-4           0.35  ...          2090.271484          22018862.0\n",
              "60  Group-4           0.50  ...          2082.518066          21595176.0\n",
              "61  Group-4           0.50  ...          1925.276978          20939406.0\n",
              "62  Group-4           0.50  ...          2230.426758          22346018.0\n",
              "63  Group-4           0.50  ...          2063.185303          20996812.0\n",
              "\n",
              "[64 rows x 5 columns]"
            ]
          },
          "metadata": {
            "tags": []
          },
          "execution_count": 61
        }
      ]
    },
    {
      "cell_type": "code",
      "metadata": {
        "id": "yp0MrkHekUND",
        "colab_type": "code",
        "outputId": "c762fc05-476c-4410-9803-d6e59660e0c6",
        "colab": {
          "base_uri": "https://localhost:8080/",
          "height": 35
        }
      },
      "source": [
        "drp_reg_result.to_excel('hyper tuning parameter regularization and drop-out.xlsx', index=False)\n",
        "print('Saved process done.')"
      ],
      "execution_count": 62,
      "outputs": [
        {
          "output_type": "stream",
          "text": [
            "Saved process done.\n"
          ],
          "name": "stdout"
        }
      ]
    },
    {
      "cell_type": "code",
      "metadata": {
        "id": "4jcKeRHrkUjb",
        "colab_type": "code",
        "outputId": "01d63dc8-0418-44d8-8fb4-c2484fd85392",
        "colab": {
          "base_uri": "https://localhost:8080/",
          "height": 582
        }
      },
      "source": [
        "grp_result = drp_reg_result.groupby(['Drop-out rate', 'Regularizer rate'])[['Mean Absolute Error', 'Mean Squared Error']].mean()\n",
        "grp_result"
      ],
      "execution_count": 63,
      "outputs": [
        {
          "output_type": "execute_result",
          "data": {
            "text/html": [
              "<div>\n",
              "<style scoped>\n",
              "    .dataframe tbody tr th:only-of-type {\n",
              "        vertical-align: middle;\n",
              "    }\n",
              "\n",
              "    .dataframe tbody tr th {\n",
              "        vertical-align: top;\n",
              "    }\n",
              "\n",
              "    .dataframe thead th {\n",
              "        text-align: right;\n",
              "    }\n",
              "</style>\n",
              "<table border=\"1\" class=\"dataframe\">\n",
              "  <thead>\n",
              "    <tr style=\"text-align: right;\">\n",
              "      <th></th>\n",
              "      <th></th>\n",
              "      <th>Mean Absolute Error</th>\n",
              "      <th>Mean Squared Error</th>\n",
              "    </tr>\n",
              "    <tr>\n",
              "      <th>Drop-out rate</th>\n",
              "      <th>Regularizer rate</th>\n",
              "      <th></th>\n",
              "      <th></th>\n",
              "    </tr>\n",
              "  </thead>\n",
              "  <tbody>\n",
              "    <tr>\n",
              "      <th rowspan=\"4\" valign=\"top\">0.00</th>\n",
              "      <th>0.000</th>\n",
              "      <td>1517.268677</td>\n",
              "      <td>20745776.50</td>\n",
              "    </tr>\n",
              "    <tr>\n",
              "      <th>0.001</th>\n",
              "      <td>1446.084137</td>\n",
              "      <td>20589117.00</td>\n",
              "    </tr>\n",
              "    <tr>\n",
              "      <th>0.010</th>\n",
              "      <td>1493.656647</td>\n",
              "      <td>20706491.75</td>\n",
              "    </tr>\n",
              "    <tr>\n",
              "      <th>0.100</th>\n",
              "      <td>1684.681396</td>\n",
              "      <td>20982337.50</td>\n",
              "    </tr>\n",
              "    <tr>\n",
              "      <th rowspan=\"4\" valign=\"top\">0.20</th>\n",
              "      <th>0.000</th>\n",
              "      <td>2048.239105</td>\n",
              "      <td>23723344.00</td>\n",
              "    </tr>\n",
              "    <tr>\n",
              "      <th>0.001</th>\n",
              "      <td>2054.102478</td>\n",
              "      <td>23111842.50</td>\n",
              "    </tr>\n",
              "    <tr>\n",
              "      <th>0.010</th>\n",
              "      <td>2023.015320</td>\n",
              "      <td>23084158.50</td>\n",
              "    </tr>\n",
              "    <tr>\n",
              "      <th>0.100</th>\n",
              "      <td>2111.578705</td>\n",
              "      <td>24689851.50</td>\n",
              "    </tr>\n",
              "    <tr>\n",
              "      <th rowspan=\"4\" valign=\"top\">0.35</th>\n",
              "      <th>0.000</th>\n",
              "      <td>2164.916321</td>\n",
              "      <td>24617566.00</td>\n",
              "    </tr>\n",
              "    <tr>\n",
              "      <th>0.001</th>\n",
              "      <td>2135.159363</td>\n",
              "      <td>24454174.50</td>\n",
              "    </tr>\n",
              "    <tr>\n",
              "      <th>0.010</th>\n",
              "      <td>2149.632721</td>\n",
              "      <td>23918260.00</td>\n",
              "    </tr>\n",
              "    <tr>\n",
              "      <th>0.100</th>\n",
              "      <td>2264.205566</td>\n",
              "      <td>23961310.00</td>\n",
              "    </tr>\n",
              "    <tr>\n",
              "      <th rowspan=\"4\" valign=\"top\">0.50</th>\n",
              "      <th>0.000</th>\n",
              "      <td>2168.048340</td>\n",
              "      <td>24141316.00</td>\n",
              "    </tr>\n",
              "    <tr>\n",
              "      <th>0.001</th>\n",
              "      <td>2164.867401</td>\n",
              "      <td>24446141.00</td>\n",
              "    </tr>\n",
              "    <tr>\n",
              "      <th>0.010</th>\n",
              "      <td>2366.301636</td>\n",
              "      <td>24893305.50</td>\n",
              "    </tr>\n",
              "    <tr>\n",
              "      <th>0.100</th>\n",
              "      <td>2312.982300</td>\n",
              "      <td>24630832.50</td>\n",
              "    </tr>\n",
              "  </tbody>\n",
              "</table>\n",
              "</div>"
            ],
            "text/plain": [
              "                                Mean Absolute Error  Mean Squared Error\n",
              "Drop-out rate Regularizer rate                                         \n",
              "0.00          0.000                     1517.268677         20745776.50\n",
              "              0.001                     1446.084137         20589117.00\n",
              "              0.010                     1493.656647         20706491.75\n",
              "              0.100                     1684.681396         20982337.50\n",
              "0.20          0.000                     2048.239105         23723344.00\n",
              "              0.001                     2054.102478         23111842.50\n",
              "              0.010                     2023.015320         23084158.50\n",
              "              0.100                     2111.578705         24689851.50\n",
              "0.35          0.000                     2164.916321         24617566.00\n",
              "              0.001                     2135.159363         24454174.50\n",
              "              0.010                     2149.632721         23918260.00\n",
              "              0.100                     2264.205566         23961310.00\n",
              "0.50          0.000                     2168.048340         24141316.00\n",
              "              0.001                     2164.867401         24446141.00\n",
              "              0.010                     2366.301636         24893305.50\n",
              "              0.100                     2312.982300         24630832.50"
            ]
          },
          "metadata": {
            "tags": []
          },
          "execution_count": 63
        }
      ]
    },
    {
      "cell_type": "markdown",
      "metadata": {
        "id": "CHakBjNWGOJ3",
        "colab_type": "text"
      },
      "source": [
        "Refer to previous experiment, the better result comes with drop-out rate = 0 and regularizer rate = 0.01 (mae), 0.1 (mse)"
      ]
    },
    {
      "cell_type": "markdown",
      "metadata": {
        "id": "qfCWmXIq9q3K",
        "colab_type": "text"
      },
      "source": [
        "### Evaluate with test set"
      ]
    },
    {
      "cell_type": "markdown",
      "metadata": {
        "id": "V6mPtzdyGbi0",
        "colab_type": "text"
      },
      "source": [
        "After work on hyper tuning parameter, we can apply the best parameter to test set. And see whether a overfitting issue or not"
      ]
    },
    {
      "cell_type": "code",
      "metadata": {
        "id": "7TefQJNBG3BS",
        "colab_type": "code",
        "outputId": "69666ed8-d2a3-48bb-9ed6-215ce843a081",
        "colab": {
          "base_uri": "https://localhost:8080/",
          "height": 90
        }
      },
      "source": [
        "mae_log ,mse_log = [], []\n",
        "\n",
        "for train_features, train_target, validation_features, validation_target in train_val_split:\n",
        "\n",
        "    mlp = multilayer_perceptron(train_features.shape[1], .025, 'adam', 0.01, 0)\n",
        "    model, history = train_model(mlp, train_features, train_target, N_epoch)\n",
        "    loss, mae, mse = model.evaluate(validation_features, validation_target, verbose=1)\n",
        "    mae_log.append(mae)\n",
        "    mse_log.append(mse)"
      ],
      "execution_count": 64,
      "outputs": [
        {
          "output_type": "stream",
          "text": [
            "9/9 [==============================] - 0s 2ms/step - loss: 1807.4545 - mae: 1624.6710 - mse: 22707780.0000\n",
            "9/9 [==============================] - 0s 1ms/step - loss: 1725.4546 - mae: 1546.1896 - mse: 22180042.0000\n",
            "9/9 [==============================] - 0s 2ms/step - loss: 1601.7787 - mae: 1553.4589 - mse: 20831430.0000\n",
            "9/9 [==============================] - 0s 2ms/step - loss: 1387.6746 - mae: 1290.4468 - mse: 17100272.0000\n"
          ],
          "name": "stdout"
        }
      ]
    },
    {
      "cell_type": "code",
      "metadata": {
        "id": "oIDadaNQHdBt",
        "colab_type": "code",
        "outputId": "e1d6cc28-1a4e-4fca-da11-17ff95d45aae",
        "colab": {
          "base_uri": "https://localhost:8080/",
          "height": 193
        }
      },
      "source": [
        "grp_log = ['Group-'+str(i+1) for i in range(n_splits_target)]\n",
        "log = pd.DataFrame({\"Group\": grp_log, \"Mean Absolute Error\": mae_log, \"Mean Squared Error\": mse_log})\n",
        "print('Test result with validation set that obtained from train-validation-test split using Sorted Stratified K Fold Cross Validation')\n",
        "log"
      ],
      "execution_count": 65,
      "outputs": [
        {
          "output_type": "stream",
          "text": [
            "Test result with validation set that obtained from train-validation-test split using Sorted Stratified K Fold Cross Validation\n"
          ],
          "name": "stdout"
        },
        {
          "output_type": "execute_result",
          "data": {
            "text/html": [
              "<div>\n",
              "<style scoped>\n",
              "    .dataframe tbody tr th:only-of-type {\n",
              "        vertical-align: middle;\n",
              "    }\n",
              "\n",
              "    .dataframe tbody tr th {\n",
              "        vertical-align: top;\n",
              "    }\n",
              "\n",
              "    .dataframe thead th {\n",
              "        text-align: right;\n",
              "    }\n",
              "</style>\n",
              "<table border=\"1\" class=\"dataframe\">\n",
              "  <thead>\n",
              "    <tr style=\"text-align: right;\">\n",
              "      <th></th>\n",
              "      <th>Group</th>\n",
              "      <th>Mean Absolute Error</th>\n",
              "      <th>Mean Squared Error</th>\n",
              "    </tr>\n",
              "  </thead>\n",
              "  <tbody>\n",
              "    <tr>\n",
              "      <th>0</th>\n",
              "      <td>Group-1</td>\n",
              "      <td>1624.671021</td>\n",
              "      <td>22707780.0</td>\n",
              "    </tr>\n",
              "    <tr>\n",
              "      <th>1</th>\n",
              "      <td>Group-2</td>\n",
              "      <td>1546.189575</td>\n",
              "      <td>22180042.0</td>\n",
              "    </tr>\n",
              "    <tr>\n",
              "      <th>2</th>\n",
              "      <td>Group-3</td>\n",
              "      <td>1553.458862</td>\n",
              "      <td>20831430.0</td>\n",
              "    </tr>\n",
              "    <tr>\n",
              "      <th>3</th>\n",
              "      <td>Group-4</td>\n",
              "      <td>1290.446777</td>\n",
              "      <td>17100272.0</td>\n",
              "    </tr>\n",
              "  </tbody>\n",
              "</table>\n",
              "</div>"
            ],
            "text/plain": [
              "     Group  Mean Absolute Error  Mean Squared Error\n",
              "0  Group-1          1624.671021          22707780.0\n",
              "1  Group-2          1546.189575          22180042.0\n",
              "2  Group-3          1553.458862          20831430.0\n",
              "3  Group-4          1290.446777          17100272.0"
            ]
          },
          "metadata": {
            "tags": []
          },
          "execution_count": 65
        }
      ]
    },
    {
      "cell_type": "code",
      "metadata": {
        "id": "0Qpfe2CaIBkb",
        "colab_type": "code",
        "outputId": "8f27d251-e091-46bc-d622-d52f80a38c51",
        "colab": {
          "base_uri": "https://localhost:8080/",
          "height": 72
        }
      },
      "source": [
        "\n",
        "print(\"Minimum MAE =  \",log[\"Mean Absolute Error\"].min())\n",
        "print(\"Maximum MAE =  \",log[\"Mean Absolute Error\"].max())\n",
        "print(\"Average MAE =  \",log[\"Mean Absolute Error\"].mean())"
      ],
      "execution_count": 66,
      "outputs": [
        {
          "output_type": "stream",
          "text": [
            "Minimum MAE =   1290.44677734375\n",
            "Maximum MAE =   1624.6710205078125\n",
            "Average MAE =   1503.6915588378906\n"
          ],
          "name": "stdout"
        }
      ]
    },
    {
      "cell_type": "markdown",
      "metadata": {
        "id": "hCF8CyD8L9Eq",
        "colab_type": "text"
      },
      "source": [
        "Right now, we know that our model can get result with 'Mean Absolute Error' between 1416,74 and 1540,08. Now lets check with test set. (N_epoch=4000)\n",
        "\n",
        "> If you run the cell many times you can get different result. But the interval of MAE will not be much different"
      ]
    },
    {
      "cell_type": "code",
      "metadata": {
        "id": "vfOuCYX19wQi",
        "colab_type": "code",
        "outputId": "09498853-94cb-4c6a-d8c7-844cb2fd049a",
        "colab": {
          "base_uri": "https://localhost:8080/",
          "height": 53
        }
      },
      "source": [
        "test_target = target[normed_test_features.index]\n",
        "loss, mae, mse = model.evaluate(normed_test_features, test_target)\n",
        "\n",
        "print(\"MAE for testing set =  {:5.2f} (charges)\".format(mae))"
      ],
      "execution_count": 67,
      "outputs": [
        {
          "output_type": "stream",
          "text": [
            "9/9 [==============================] - 0s 2ms/step - loss: 1989.4995 - mae: 1651.0294 - mse: 24732178.0000\n",
            "MAE for testing set =  1651.03 (charges)\n"
          ],
          "name": "stdout"
        }
      ]
    },
    {
      "cell_type": "code",
      "metadata": {
        "id": "Fds06mu-Dr23",
        "colab_type": "code",
        "outputId": "ca395392-f301-4f00-f332-042dac04e7a6",
        "colab": {
          "base_uri": "https://localhost:8080/",
          "height": 283
        }
      },
      "source": [
        "test_predictions = model.predict(normed_test_features).flatten()\n",
        "\n",
        "a = plt.axes(aspect='equal')\n",
        "\n",
        "plt.scatter(test_target, test_predictions)\n",
        "\n",
        "plt.xlabel('True Values [charges]')\n",
        "plt.ylabel('Predictions [charges]')\n",
        "lims = [0, 6e4]\n",
        "plt.xlim(lims)\n",
        "plt.ylim(lims)\n",
        "\n",
        "_ = plt.plot(lims, lims)"
      ],
      "execution_count": 68,
      "outputs": [
        {
          "output_type": "display_data",
          "data": {
            "image/png": "[encoded data removed]",
            "text/plain": [
              "<Figure size 432x288 with 1 Axes>"
            ]
          },
          "metadata": {
            "tags": []
          }
        }
      ]
    },
    {
      "cell_type": "markdown",
      "metadata": {
        "id": "t7KrK5pJN6dR",
        "colab_type": "text"
      },
      "source": [
        "For this testing we get MAE of 1639,38.\n",
        "\n",
        "\n",
        "If we compare with result that we obtained from validation set, our model can predict data with MAE 1487,84. We get <b>difference of 151,54 from model validation</b>. That is good result <b>(not overfitting)</b>."
      ]
    },
    {
      "cell_type": "markdown",
      "metadata": {
        "id": "03uekFg_jYmm",
        "colab_type": "text"
      },
      "source": [
        "# Results and Conclusion"
      ]
    },
    {
      "cell_type": "code",
      "metadata": {
        "id": "y2mF2ioel1Xy",
        "colab_type": "code",
        "outputId": "f2095573-3dfc-4ae3-de46-209cb6a91ed4",
        "colab": {
          "base_uri": "https://localhost:8080/",
          "height": 181
        }
      },
      "source": [
        "dataset['charges'].describe()"
      ],
      "execution_count": 0,
      "outputs": [
        {
          "output_type": "execute_result",
          "data": {
            "text/plain": [
              "count     1338.000000\n",
              "mean     13270.422265\n",
              "std      12110.011237\n",
              "min       1121.873900\n",
              "25%       4740.287150\n",
              "50%       9382.033000\n",
              "75%      16639.912515\n",
              "max      63770.428010\n",
              "Name: charges, dtype: float64"
            ]
          },
          "metadata": {
            "tags": []
          },
          "execution_count": 183
        }
      ]
    },
    {
      "cell_type": "markdown",
      "metadata": {
        "id": "X_kgrGJpkGXT",
        "colab_type": "text"
      },
      "source": [
        "We have performed regression analysis model to predict health insurance cost should be paid for given features. We have shown in the above, several results related to our MAE for test data. We think from the range of `charges` category in the datasets, our predicted health insurance won't sufficiently good for person who has medical bill around 1000.\n",
        "\n",
        "As we plot the joint distribution, we can see at glance that there are so much irregularity to the data. If we look closely to some elements in that joint distrbution, there are some clusters related to BMI and charges. It can be inferred another model like clustering can make a group for a range of health insurance bill. This will be another project.\n",
        "\n"
      ]
    },
    {
      "cell_type": "code",
      "metadata": {
        "id": "ToNe8pJxmq9w",
        "colab_type": "code",
        "colab": {}
      },
      "source": [
        ""
      ],
      "execution_count": 0,
      "outputs": []
    }
  ]
}