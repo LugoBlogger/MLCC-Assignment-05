{
  "nbformat": 4,
  "nbformat_minor": 0,
  "metadata": {
    "colab": {
      "name": "medical-cost-forecast.ipynb",
      "provenance": [],
      "collapsed_sections": [],
      "toc_visible": true,
      "include_colab_link": true
    },
    "kernelspec": {
      "name": "python3",
      "display_name": "Python 3"
    }
  },
  "cells": [
    {
      "cell_type": "markdown",
      "metadata": {
        "id": "view-in-github",
        "colab_type": "text"
      },
      "source": [
        "<a href=\"https://colab.research.google.com/github/LugoBlogger/MLCC-Assignment-05/blob/arul%2Fmodelling/medical_cost_forecast.ipynb\" target=\"_parent\"><img src=\"https://colab.research.google.com/assets/colab-badge.svg\" alt=\"Open In Colab\"/></a>"
      ]
    },
    {
      "cell_type": "markdown",
      "metadata": {
        "id": "bLMC3Zb-Cksh",
        "colab_type": "text"
      },
      "source": [
        "# Introduction\n",
        "\n",
        "* motivation why we choose that dataset.\n",
        "* what we want to predict.\n",
        "* is it interesting enough or not."
      ]
    },
    {
      "cell_type": "code",
      "metadata": {
        "id": "gBCFS3gaE7wn",
        "colab_type": "code",
        "outputId": "66d2b9ee-36ae-483d-ade1-67bf12ec3875",
        "colab": {
          "base_uri": "https://localhost:8080/",
          "height": 34
        }
      },
      "source": [
        "# Use seaborn for pairplot\n",
        "!pip install -q seaborn\n",
        "\n",
        "# Use some functions from tensorflow_docs\n",
        "!pip install -q git+https://github.com/tensorflow/docs"
      ],
      "execution_count": 1,
      "outputs": [
        {
          "output_type": "stream",
          "text": [
            "  Building wheel for tensorflow-docs (setup.py) ... \u001b[?25l\u001b[?25hdone\n"
          ],
          "name": "stdout"
        }
      ]
    },
    {
      "cell_type": "code",
      "metadata": {
        "id": "ZKKYz5BnFeAf",
        "colab_type": "code",
        "colab": {
          "base_uri": "https://localhost:8080/",
          "height": 34
        },
        "outputId": "7429cbc2-b6db-4caa-acbc-5381e999a113"
      },
      "source": [
        "# Use tensorflow 2\n",
        "%tensorflow_version 2.x"
      ],
      "execution_count": 2,
      "outputs": [
        {
          "output_type": "stream",
          "text": [
            "TensorFlow 2.x selected.\n"
          ],
          "name": "stdout"
        }
      ]
    },
    {
      "cell_type": "code",
      "metadata": {
        "id": "sPXvoENYBlC9",
        "colab_type": "code",
        "colab": {}
      },
      "source": [
        "import time\n",
        "\n",
        "import matplotlib.pyplot as plt\n",
        "import numpy as np\n",
        "import pandas as pd\n",
        "import seaborn as sns"
      ],
      "execution_count": 0,
      "outputs": []
    },
    {
      "cell_type": "code",
      "metadata": {
        "id": "zBaTzo5YEHOz",
        "colab_type": "code",
        "outputId": "a3887cac-c616-4a27-b0c2-422fb5e01699",
        "colab": {
          "base_uri": "https://localhost:8080/",
          "height": 34
        }
      },
      "source": [
        "import tensorflow as tf\n",
        "\n",
        "from tensorflow import keras\n",
        "from tensorflow.keras import layers\n",
        "\n",
        "print(tf.__version__)"
      ],
      "execution_count": 4,
      "outputs": [
        {
          "output_type": "stream",
          "text": [
            "2.2.0-rc1\n"
          ],
          "name": "stdout"
        }
      ]
    },
    {
      "cell_type": "code",
      "metadata": {
        "id": "vLwn9MsbEOfY",
        "colab_type": "code",
        "colab": {}
      },
      "source": [
        "### this library is for callback functions\n",
        "import tensorflow_docs as tfdocs\n",
        "import tensorflow_docs.plots\n",
        "import tensorflow_docs.modeling"
      ],
      "execution_count": 0,
      "outputs": []
    },
    {
      "cell_type": "markdown",
      "metadata": {
        "id": "llvFDM09FyIu",
        "colab_type": "text"
      },
      "source": [
        "# Medical Cost Personal Datasets\n",
        "\n",
        "## Retrieve the dataset\n",
        "\n",
        "Manage the dataset into pandas' DataFrame."
      ]
    },
    {
      "cell_type": "code",
      "metadata": {
        "id": "Ca59a6eCGMsA",
        "colab_type": "code",
        "outputId": "f927b7e8-0ba5-49ce-8a9c-5b9451a2879f",
        "colab": {
          "base_uri": "https://localhost:8080/",
          "height": 402
        }
      },
      "source": [
        "dataset = pd.read_csv(\"https://raw.githubusercontent.com/LugoBlogger/MLCC-Assignment-05/master/datasets/insurance.csv\", header=0)\n",
        "dataset"
      ],
      "execution_count": 207,
      "outputs": [
        {
          "output_type": "execute_result",
          "data": {
            "text/html": [
              "<div>\n",
              "<style scoped>\n",
              "    .dataframe tbody tr th:only-of-type {\n",
              "        vertical-align: middle;\n",
              "    }\n",
              "\n",
              "    .dataframe tbody tr th {\n",
              "        vertical-align: top;\n",
              "    }\n",
              "\n",
              "    .dataframe thead th {\n",
              "        text-align: right;\n",
              "    }\n",
              "</style>\n",
              "<table border=\"1\" class=\"dataframe\">\n",
              "  <thead>\n",
              "    <tr style=\"text-align: right;\">\n",
              "      <th></th>\n",
              "      <th>age</th>\n",
              "      <th>sex</th>\n",
              "      <th>bmi</th>\n",
              "      <th>children</th>\n",
              "      <th>smoker</th>\n",
              "      <th>region</th>\n",
              "      <th>charges</th>\n",
              "    </tr>\n",
              "  </thead>\n",
              "  <tbody>\n",
              "    <tr>\n",
              "      <th>0</th>\n",
              "      <td>19</td>\n",
              "      <td>female</td>\n",
              "      <td>27.900</td>\n",
              "      <td>0</td>\n",
              "      <td>yes</td>\n",
              "      <td>southwest</td>\n",
              "      <td>16884.92400</td>\n",
              "    </tr>\n",
              "    <tr>\n",
              "      <th>1</th>\n",
              "      <td>18</td>\n",
              "      <td>male</td>\n",
              "      <td>33.770</td>\n",
              "      <td>1</td>\n",
              "      <td>no</td>\n",
              "      <td>southeast</td>\n",
              "      <td>1725.55230</td>\n",
              "    </tr>\n",
              "    <tr>\n",
              "      <th>2</th>\n",
              "      <td>28</td>\n",
              "      <td>male</td>\n",
              "      <td>33.000</td>\n",
              "      <td>3</td>\n",
              "      <td>no</td>\n",
              "      <td>southeast</td>\n",
              "      <td>4449.46200</td>\n",
              "    </tr>\n",
              "    <tr>\n",
              "      <th>3</th>\n",
              "      <td>33</td>\n",
              "      <td>male</td>\n",
              "      <td>22.705</td>\n",
              "      <td>0</td>\n",
              "      <td>no</td>\n",
              "      <td>northwest</td>\n",
              "      <td>21984.47061</td>\n",
              "    </tr>\n",
              "    <tr>\n",
              "      <th>4</th>\n",
              "      <td>32</td>\n",
              "      <td>male</td>\n",
              "      <td>28.880</td>\n",
              "      <td>0</td>\n",
              "      <td>no</td>\n",
              "      <td>northwest</td>\n",
              "      <td>3866.85520</td>\n",
              "    </tr>\n",
              "    <tr>\n",
              "      <th>...</th>\n",
              "      <td>...</td>\n",
              "      <td>...</td>\n",
              "      <td>...</td>\n",
              "      <td>...</td>\n",
              "      <td>...</td>\n",
              "      <td>...</td>\n",
              "      <td>...</td>\n",
              "    </tr>\n",
              "    <tr>\n",
              "      <th>1333</th>\n",
              "      <td>50</td>\n",
              "      <td>male</td>\n",
              "      <td>30.970</td>\n",
              "      <td>3</td>\n",
              "      <td>no</td>\n",
              "      <td>northwest</td>\n",
              "      <td>10600.54830</td>\n",
              "    </tr>\n",
              "    <tr>\n",
              "      <th>1334</th>\n",
              "      <td>18</td>\n",
              "      <td>female</td>\n",
              "      <td>31.920</td>\n",
              "      <td>0</td>\n",
              "      <td>no</td>\n",
              "      <td>northeast</td>\n",
              "      <td>2205.98080</td>\n",
              "    </tr>\n",
              "    <tr>\n",
              "      <th>1335</th>\n",
              "      <td>18</td>\n",
              "      <td>female</td>\n",
              "      <td>36.850</td>\n",
              "      <td>0</td>\n",
              "      <td>no</td>\n",
              "      <td>southeast</td>\n",
              "      <td>1629.83350</td>\n",
              "    </tr>\n",
              "    <tr>\n",
              "      <th>1336</th>\n",
              "      <td>21</td>\n",
              "      <td>female</td>\n",
              "      <td>25.800</td>\n",
              "      <td>0</td>\n",
              "      <td>no</td>\n",
              "      <td>southwest</td>\n",
              "      <td>2007.94500</td>\n",
              "    </tr>\n",
              "    <tr>\n",
              "      <th>1337</th>\n",
              "      <td>61</td>\n",
              "      <td>female</td>\n",
              "      <td>29.070</td>\n",
              "      <td>0</td>\n",
              "      <td>yes</td>\n",
              "      <td>northwest</td>\n",
              "      <td>29141.36030</td>\n",
              "    </tr>\n",
              "  </tbody>\n",
              "</table>\n",
              "<p>1338 rows × 7 columns</p>\n",
              "</div>"
            ],
            "text/plain": [
              "      age     sex     bmi  children smoker     region      charges\n",
              "0      19  female  27.900         0    yes  southwest  16884.92400\n",
              "1      18    male  33.770         1     no  southeast   1725.55230\n",
              "2      28    male  33.000         3     no  southeast   4449.46200\n",
              "3      33    male  22.705         0     no  northwest  21984.47061\n",
              "4      32    male  28.880         0     no  northwest   3866.85520\n",
              "...   ...     ...     ...       ...    ...        ...          ...\n",
              "1333   50    male  30.970         3     no  northwest  10600.54830\n",
              "1334   18  female  31.920         0     no  northeast   2205.98080\n",
              "1335   18  female  36.850         0     no  southeast   1629.83350\n",
              "1336   21  female  25.800         0     no  southwest   2007.94500\n",
              "1337   61  female  29.070         0    yes  northwest  29141.36030\n",
              "\n",
              "[1338 rows x 7 columns]"
            ]
          },
          "metadata": {
            "tags": []
          },
          "execution_count": 207
        }
      ]
    },
    {
      "cell_type": "markdown",
      "metadata": {
        "id": "i_o-MQJPQmEY",
        "colab_type": "text"
      },
      "source": [
        "## Clean the data\n",
        "\n",
        "Checking the dataset whether is clean or not."
      ]
    },
    {
      "cell_type": "code",
      "metadata": {
        "id": "UKBu_VRVKUSE",
        "colab_type": "code",
        "outputId": "33a06892-8dd1-4eb6-af1f-96490f704d67",
        "colab": {
          "base_uri": "https://localhost:8080/",
          "height": 151
        }
      },
      "source": [
        "dataset.isna().sum()"
      ],
      "execution_count": 208,
      "outputs": [
        {
          "output_type": "execute_result",
          "data": {
            "text/plain": [
              "age         0\n",
              "sex         0\n",
              "bmi         0\n",
              "children    0\n",
              "smoker      0\n",
              "region      0\n",
              "charges     0\n",
              "dtype: int64"
            ]
          },
          "metadata": {
            "tags": []
          },
          "execution_count": 208
        }
      ]
    },
    {
      "cell_type": "markdown",
      "metadata": {
        "id": "LzSz-tvQQ9L7",
        "colab_type": "text"
      },
      "source": [
        "Convert categorical columns into numeric with the following convention:\n",
        "\n",
        "* `sex`: male = 1, female = 2,\n",
        "\n",
        "* `smoker`: yes = 1, no = 0,\n",
        "\n",
        "* `region`: northeast = $\\displaystyle\\frac{\\pi}{4}$, northwest = $\\displaystyle\\frac{3\\pi}{4}$, southwest = $\\displaystyle\\frac{5\\pi}{4}$, southeast = $\\displaystyle\\frac{7\\pi}{4}$. We use the representation of direction by their angle on unit circle. If we compute the method `.mean`, it will make a sense (where is the region whose citizens are the most recorded)."
      ]
    },
    {
      "cell_type": "code",
      "metadata": {
        "id": "epUomxKVQiJu",
        "colab_type": "code",
        "outputId": "6f154994-0397-4b57-d237-f75002930e7f",
        "colab": {
          "base_uri": "https://localhost:8080/",
          "height": 402
        }
      },
      "source": [
        "dataset.loc[dataset['sex'] == 'male', 'sex'] = 1\n",
        "dataset.loc[dataset['sex'] == 'female', 'sex'] = 2\n",
        "\n",
        "dataset.loc[dataset['smoker'] == 'yes', 'smoker'] = 1\n",
        "dataset.loc[dataset['smoker'] == 'no', 'smoker'] = 0\n",
        "\n",
        "dataset.loc[dataset['region'] == 'northeast', 'region'] = np.pi/4\n",
        "dataset.loc[dataset['region'] == 'northwest', 'region'] = 3*np.pi/4\n",
        "dataset.loc[dataset['region'] == 'southwest', 'region'] = 5*np.pi/4\n",
        "dataset.loc[dataset['region'] == 'southeast', 'region'] = 7*np.pi/4\n",
        "\n",
        "dataset['region'] = pd.to_numeric(dataset['region'])\n",
        "\n",
        "dataset"
      ],
      "execution_count": 209,
      "outputs": [
        {
          "output_type": "execute_result",
          "data": {
            "text/html": [
              "<div>\n",
              "<style scoped>\n",
              "    .dataframe tbody tr th:only-of-type {\n",
              "        vertical-align: middle;\n",
              "    }\n",
              "\n",
              "    .dataframe tbody tr th {\n",
              "        vertical-align: top;\n",
              "    }\n",
              "\n",
              "    .dataframe thead th {\n",
              "        text-align: right;\n",
              "    }\n",
              "</style>\n",
              "<table border=\"1\" class=\"dataframe\">\n",
              "  <thead>\n",
              "    <tr style=\"text-align: right;\">\n",
              "      <th></th>\n",
              "      <th>age</th>\n",
              "      <th>sex</th>\n",
              "      <th>bmi</th>\n",
              "      <th>children</th>\n",
              "      <th>smoker</th>\n",
              "      <th>region</th>\n",
              "      <th>charges</th>\n",
              "    </tr>\n",
              "  </thead>\n",
              "  <tbody>\n",
              "    <tr>\n",
              "      <th>0</th>\n",
              "      <td>19</td>\n",
              "      <td>2</td>\n",
              "      <td>27.900</td>\n",
              "      <td>0</td>\n",
              "      <td>1</td>\n",
              "      <td>3.926991</td>\n",
              "      <td>16884.92400</td>\n",
              "    </tr>\n",
              "    <tr>\n",
              "      <th>1</th>\n",
              "      <td>18</td>\n",
              "      <td>1</td>\n",
              "      <td>33.770</td>\n",
              "      <td>1</td>\n",
              "      <td>0</td>\n",
              "      <td>5.497787</td>\n",
              "      <td>1725.55230</td>\n",
              "    </tr>\n",
              "    <tr>\n",
              "      <th>2</th>\n",
              "      <td>28</td>\n",
              "      <td>1</td>\n",
              "      <td>33.000</td>\n",
              "      <td>3</td>\n",
              "      <td>0</td>\n",
              "      <td>5.497787</td>\n",
              "      <td>4449.46200</td>\n",
              "    </tr>\n",
              "    <tr>\n",
              "      <th>3</th>\n",
              "      <td>33</td>\n",
              "      <td>1</td>\n",
              "      <td>22.705</td>\n",
              "      <td>0</td>\n",
              "      <td>0</td>\n",
              "      <td>2.356194</td>\n",
              "      <td>21984.47061</td>\n",
              "    </tr>\n",
              "    <tr>\n",
              "      <th>4</th>\n",
              "      <td>32</td>\n",
              "      <td>1</td>\n",
              "      <td>28.880</td>\n",
              "      <td>0</td>\n",
              "      <td>0</td>\n",
              "      <td>2.356194</td>\n",
              "      <td>3866.85520</td>\n",
              "    </tr>\n",
              "    <tr>\n",
              "      <th>...</th>\n",
              "      <td>...</td>\n",
              "      <td>...</td>\n",
              "      <td>...</td>\n",
              "      <td>...</td>\n",
              "      <td>...</td>\n",
              "      <td>...</td>\n",
              "      <td>...</td>\n",
              "    </tr>\n",
              "    <tr>\n",
              "      <th>1333</th>\n",
              "      <td>50</td>\n",
              "      <td>1</td>\n",
              "      <td>30.970</td>\n",
              "      <td>3</td>\n",
              "      <td>0</td>\n",
              "      <td>2.356194</td>\n",
              "      <td>10600.54830</td>\n",
              "    </tr>\n",
              "    <tr>\n",
              "      <th>1334</th>\n",
              "      <td>18</td>\n",
              "      <td>2</td>\n",
              "      <td>31.920</td>\n",
              "      <td>0</td>\n",
              "      <td>0</td>\n",
              "      <td>0.785398</td>\n",
              "      <td>2205.98080</td>\n",
              "    </tr>\n",
              "    <tr>\n",
              "      <th>1335</th>\n",
              "      <td>18</td>\n",
              "      <td>2</td>\n",
              "      <td>36.850</td>\n",
              "      <td>0</td>\n",
              "      <td>0</td>\n",
              "      <td>5.497787</td>\n",
              "      <td>1629.83350</td>\n",
              "    </tr>\n",
              "    <tr>\n",
              "      <th>1336</th>\n",
              "      <td>21</td>\n",
              "      <td>2</td>\n",
              "      <td>25.800</td>\n",
              "      <td>0</td>\n",
              "      <td>0</td>\n",
              "      <td>3.926991</td>\n",
              "      <td>2007.94500</td>\n",
              "    </tr>\n",
              "    <tr>\n",
              "      <th>1337</th>\n",
              "      <td>61</td>\n",
              "      <td>2</td>\n",
              "      <td>29.070</td>\n",
              "      <td>0</td>\n",
              "      <td>1</td>\n",
              "      <td>2.356194</td>\n",
              "      <td>29141.36030</td>\n",
              "    </tr>\n",
              "  </tbody>\n",
              "</table>\n",
              "<p>1338 rows × 7 columns</p>\n",
              "</div>"
            ],
            "text/plain": [
              "      age  sex     bmi  children  smoker    region      charges\n",
              "0      19    2  27.900         0       1  3.926991  16884.92400\n",
              "1      18    1  33.770         1       0  5.497787   1725.55230\n",
              "2      28    1  33.000         3       0  5.497787   4449.46200\n",
              "3      33    1  22.705         0       0  2.356194  21984.47061\n",
              "4      32    1  28.880         0       0  2.356194   3866.85520\n",
              "...   ...  ...     ...       ...     ...       ...          ...\n",
              "1333   50    1  30.970         3       0  2.356194  10600.54830\n",
              "1334   18    2  31.920         0       0  0.785398   2205.98080\n",
              "1335   18    2  36.850         0       0  5.497787   1629.83350\n",
              "1336   21    2  25.800         0       0  3.926991   2007.94500\n",
              "1337   61    2  29.070         0       1  2.356194  29141.36030\n",
              "\n",
              "[1338 rows x 7 columns]"
            ]
          },
          "metadata": {
            "tags": []
          },
          "execution_count": 209
        }
      ]
    },
    {
      "cell_type": "code",
      "metadata": {
        "id": "PuhKD20botvn",
        "colab_type": "code",
        "colab": {
          "base_uri": "https://localhost:8080/",
          "height": 195
        },
        "outputId": "70088a41-e134-4b6d-9fe8-28faf8f236db"
      },
      "source": [
        "target = dataset['charges']\n",
        "features = dataset.drop(columns='charges')\n",
        "\n",
        "features.head()"
      ],
      "execution_count": 210,
      "outputs": [
        {
          "output_type": "execute_result",
          "data": {
            "text/html": [
              "<div>\n",
              "<style scoped>\n",
              "    .dataframe tbody tr th:only-of-type {\n",
              "        vertical-align: middle;\n",
              "    }\n",
              "\n",
              "    .dataframe tbody tr th {\n",
              "        vertical-align: top;\n",
              "    }\n",
              "\n",
              "    .dataframe thead th {\n",
              "        text-align: right;\n",
              "    }\n",
              "</style>\n",
              "<table border=\"1\" class=\"dataframe\">\n",
              "  <thead>\n",
              "    <tr style=\"text-align: right;\">\n",
              "      <th></th>\n",
              "      <th>age</th>\n",
              "      <th>sex</th>\n",
              "      <th>bmi</th>\n",
              "      <th>children</th>\n",
              "      <th>smoker</th>\n",
              "      <th>region</th>\n",
              "    </tr>\n",
              "  </thead>\n",
              "  <tbody>\n",
              "    <tr>\n",
              "      <th>0</th>\n",
              "      <td>19</td>\n",
              "      <td>2</td>\n",
              "      <td>27.900</td>\n",
              "      <td>0</td>\n",
              "      <td>1</td>\n",
              "      <td>3.926991</td>\n",
              "    </tr>\n",
              "    <tr>\n",
              "      <th>1</th>\n",
              "      <td>18</td>\n",
              "      <td>1</td>\n",
              "      <td>33.770</td>\n",
              "      <td>1</td>\n",
              "      <td>0</td>\n",
              "      <td>5.497787</td>\n",
              "    </tr>\n",
              "    <tr>\n",
              "      <th>2</th>\n",
              "      <td>28</td>\n",
              "      <td>1</td>\n",
              "      <td>33.000</td>\n",
              "      <td>3</td>\n",
              "      <td>0</td>\n",
              "      <td>5.497787</td>\n",
              "    </tr>\n",
              "    <tr>\n",
              "      <th>3</th>\n",
              "      <td>33</td>\n",
              "      <td>1</td>\n",
              "      <td>22.705</td>\n",
              "      <td>0</td>\n",
              "      <td>0</td>\n",
              "      <td>2.356194</td>\n",
              "    </tr>\n",
              "    <tr>\n",
              "      <th>4</th>\n",
              "      <td>32</td>\n",
              "      <td>1</td>\n",
              "      <td>28.880</td>\n",
              "      <td>0</td>\n",
              "      <td>0</td>\n",
              "      <td>2.356194</td>\n",
              "    </tr>\n",
              "  </tbody>\n",
              "</table>\n",
              "</div>"
            ],
            "text/plain": [
              "   age  sex     bmi  children  smoker    region\n",
              "0   19    2  27.900         0       1  3.926991\n",
              "1   18    1  33.770         1       0  5.497787\n",
              "2   28    1  33.000         3       0  5.497787\n",
              "3   33    1  22.705         0       0  2.356194\n",
              "4   32    1  28.880         0       0  2.356194"
            ]
          },
          "metadata": {
            "tags": []
          },
          "execution_count": 210
        }
      ]
    },
    {
      "cell_type": "markdown",
      "metadata": {
        "id": "1k5TfULDV6f4",
        "colab_type": "text"
      },
      "source": [
        "## Split the data into a training set and a test set."
      ]
    },
    {
      "cell_type": "code",
      "metadata": {
        "id": "WGfC_GlDnYm4",
        "colab_type": "code",
        "colab": {}
      },
      "source": [
        "class SortedStratifiedKFold:\n",
        "    \n",
        "    \"\"\"\n",
        "    This is a class for split data into a few groups, which is each group has same distribution.\n",
        "    Usually this method regarded as Stratified K Fold Cross Validation. But I create another one\n",
        "    for continuous data at target's dataset with Sorted Stratified K Fold method. This method inspired\n",
        "    by article (https://scottclowe.com/2016-03-19-stratified-regression-partitions/).\n",
        "    \n",
        "    This method is useful to make sure validation and test performance gives depicts \n",
        "    the expected performance of the model with less bias and variance.\n",
        "    \"\"\"\n",
        "    \n",
        "    def __init__(self, n_splits):\n",
        "        self._n_splits = n_splits\n",
        "    \n",
        "    def split(self, X, y):\n",
        "        x = X.copy()\n",
        "        \n",
        "        # sorted target values\n",
        "        self._sorted_idx = y.sort_values().index\n",
        "        \n",
        "        self._groups = [list() for _ in range(self._n_splits)]\n",
        "        it = int(np.ceil(x.shape[0] / self._n_splits))\n",
        "        \n",
        "        for i in range(it):\n",
        "            c = i * self._n_splits\n",
        "            \n",
        "            if (len(y) % self._n_splits != 0) and i==(it-1):\n",
        "                rand_idx = np.random.permutation(range(len(y) % self._n_splits)) + c\n",
        "                \n",
        "                for j in range(len(rand_idx)):\n",
        "                    self._groups[j].append(self._sorted_idx[rand_idx[j]])\n",
        "                \n",
        "            else:\n",
        "                rand_idx = np.random.permutation(range(self._n_splits)) + c\n",
        "                \n",
        "                for j in range(self._n_splits):\n",
        "                    self._groups[j].append(self._sorted_idx[rand_idx[j]])\n",
        "                    \n",
        "                  \n",
        "        return [(x.iloc[list(set(y.index) - set(idx))], y.iloc[list(set(y.index) - set(idx))], \n",
        "                                 x.iloc[idx], y.iloc[idx]) for idx in self._groups]"
      ],
      "execution_count": 0,
      "outputs": []
    },
    {
      "cell_type": "markdown",
      "metadata": {
        "id": "vBT1_z9wqi6Q",
        "colab_type": "text"
      },
      "source": [
        "we divided the dataset into 5 groups to get 20% of data for test set"
      ]
    },
    {
      "cell_type": "code",
      "metadata": {
        "id": "C3CneLVqoQb4",
        "colab_type": "code",
        "colab": {
          "base_uri": "https://localhost:8080/",
          "height": 733
        },
        "outputId": "35aeab67-e840-42bf-adf8-959a606a871a"
      },
      "source": [
        "\n",
        "ssfk = SortedStratifiedKFold(n_splits=5)\n",
        "\n",
        "train_test_split = ssfk.split(features, target)\n",
        "train_features, train_target, test_features, test_target = train_test_split[0]\n",
        "\n",
        "plt.figure(figsize=(6,12))\n",
        "plt.subplot(211)\n",
        "train_target.hist().set_title('Train data distribution')\n",
        "plt.subplot(212)\n",
        "train_target.hist().set_title('Test data distribution')"
      ],
      "execution_count": 212,
      "outputs": [
        {
          "output_type": "execute_result",
          "data": {
            "text/plain": [
              "Text(0.5, 1.0, 'Test data distribution')"
            ]
          },
          "metadata": {
            "tags": []
          },
          "execution_count": 212
        },
        {
          "output_type": "display_data",
          "data": {
            "image/png": "[encoded data removed]",
            "text/plain": [
              "<Figure size 432x864 with 2 Axes>"
            ]
          },
          "metadata": {
            "tags": []
          }
        }
      ]
    },
    {
      "cell_type": "markdown",
      "metadata": {
        "id": "ZwYyBYWEW7eU",
        "colab_type": "text"
      },
      "source": [
        "## Inspect the data\n",
        "\n",
        "We look at the joint distribution of a few pairs of columns from the training set. The diagonal elements represent kerned density estimation (kde) for univariate variables for given columns. We include all the columns to inspect which variable has a correlation to another variable"
      ]
    },
    {
      "cell_type": "code",
      "metadata": {
        "id": "gcJVPodLtNkI",
        "colab_type": "code",
        "colab": {
          "base_uri": "https://localhost:8080/",
          "height": 195
        },
        "outputId": "afe3caae-01ce-49b9-88a8-577bd9d772b8"
      },
      "source": [
        "train_dataset = train_features.copy()\n",
        "train_dataset[train_target.name] = train_target.copy()\n",
        "train_dataset.head()"
      ],
      "execution_count": 213,
      "outputs": [
        {
          "output_type": "execute_result",
          "data": {
            "text/html": [
              "<div>\n",
              "<style scoped>\n",
              "    .dataframe tbody tr th:only-of-type {\n",
              "        vertical-align: middle;\n",
              "    }\n",
              "\n",
              "    .dataframe tbody tr th {\n",
              "        vertical-align: top;\n",
              "    }\n",
              "\n",
              "    .dataframe thead th {\n",
              "        text-align: right;\n",
              "    }\n",
              "</style>\n",
              "<table border=\"1\" class=\"dataframe\">\n",
              "  <thead>\n",
              "    <tr style=\"text-align: right;\">\n",
              "      <th></th>\n",
              "      <th>age</th>\n",
              "      <th>sex</th>\n",
              "      <th>bmi</th>\n",
              "      <th>children</th>\n",
              "      <th>smoker</th>\n",
              "      <th>region</th>\n",
              "      <th>charges</th>\n",
              "    </tr>\n",
              "  </thead>\n",
              "  <tbody>\n",
              "    <tr>\n",
              "      <th>0</th>\n",
              "      <td>19</td>\n",
              "      <td>2</td>\n",
              "      <td>27.900</td>\n",
              "      <td>0</td>\n",
              "      <td>1</td>\n",
              "      <td>3.926991</td>\n",
              "      <td>16884.92400</td>\n",
              "    </tr>\n",
              "    <tr>\n",
              "      <th>2</th>\n",
              "      <td>28</td>\n",
              "      <td>1</td>\n",
              "      <td>33.000</td>\n",
              "      <td>3</td>\n",
              "      <td>0</td>\n",
              "      <td>5.497787</td>\n",
              "      <td>4449.46200</td>\n",
              "    </tr>\n",
              "    <tr>\n",
              "      <th>3</th>\n",
              "      <td>33</td>\n",
              "      <td>1</td>\n",
              "      <td>22.705</td>\n",
              "      <td>0</td>\n",
              "      <td>0</td>\n",
              "      <td>2.356194</td>\n",
              "      <td>21984.47061</td>\n",
              "    </tr>\n",
              "    <tr>\n",
              "      <th>4</th>\n",
              "      <td>32</td>\n",
              "      <td>1</td>\n",
              "      <td>28.880</td>\n",
              "      <td>0</td>\n",
              "      <td>0</td>\n",
              "      <td>2.356194</td>\n",
              "      <td>3866.85520</td>\n",
              "    </tr>\n",
              "    <tr>\n",
              "      <th>6</th>\n",
              "      <td>46</td>\n",
              "      <td>2</td>\n",
              "      <td>33.440</td>\n",
              "      <td>1</td>\n",
              "      <td>0</td>\n",
              "      <td>5.497787</td>\n",
              "      <td>8240.58960</td>\n",
              "    </tr>\n",
              "  </tbody>\n",
              "</table>\n",
              "</div>"
            ],
            "text/plain": [
              "   age  sex     bmi  children  smoker    region      charges\n",
              "0   19    2  27.900         0       1  3.926991  16884.92400\n",
              "2   28    1  33.000         3       0  5.497787   4449.46200\n",
              "3   33    1  22.705         0       0  2.356194  21984.47061\n",
              "4   32    1  28.880         0       0  2.356194   3866.85520\n",
              "6   46    2  33.440         1       0  5.497787   8240.58960"
            ]
          },
          "metadata": {
            "tags": []
          },
          "execution_count": 213
        }
      ]
    },
    {
      "cell_type": "code",
      "metadata": {
        "id": "iK4789xEWxtj",
        "colab_type": "code",
        "outputId": "d18a48ca-93ce-4d83-b602-e266aa6d0ed2",
        "colab": {
          "base_uri": "https://localhost:8080/",
          "height": 683
        }
      },
      "source": [
        "sns.pairplot(train_dataset[['age', 'sex', 'bmi', 'children', 'smoker', \n",
        "                            'region', 'charges']], \n",
        "             diag_kind='kde', height=2);"
      ],
      "execution_count": 214,
      "outputs": [
        {
          "output_type": "display_data",
          "data": {
            "image/png": "[encoded data removed]",
            "text/plain": [
              "<Figure size 1008x1008 with 56 Axes>"
            ]
          },
          "metadata": {
            "tags": []
          }
        }
      ]
    },
    {
      "cell_type": "markdown",
      "metadata": {
        "id": "ZPzyen-Vd0Io",
        "colab_type": "text"
      },
      "source": [
        "If we look at the above table, we see that BMI and charges have an intriguing pattern.\n",
        "\n",
        "We also inspect at their statistical description:"
      ]
    },
    {
      "cell_type": "code",
      "metadata": {
        "id": "Q7FTmLoaXx4g",
        "colab_type": "code",
        "outputId": "14ab6f2b-f60f-43cd-a9ad-ed7328a88764",
        "colab": {
          "base_uri": "https://localhost:8080/",
          "height": 245
        }
      },
      "source": [
        "train_stats = train_dataset.describe()\n",
        "train_stats.pop('charges')\n",
        "\n",
        "# for pretty output\n",
        "train_stats = train_stats.transpose()\n",
        "train_stats"
      ],
      "execution_count": 215,
      "outputs": [
        {
          "output_type": "execute_result",
          "data": {
            "text/html": [
              "<div>\n",
              "<style scoped>\n",
              "    .dataframe tbody tr th:only-of-type {\n",
              "        vertical-align: middle;\n",
              "    }\n",
              "\n",
              "    .dataframe tbody tr th {\n",
              "        vertical-align: top;\n",
              "    }\n",
              "\n",
              "    .dataframe thead th {\n",
              "        text-align: right;\n",
              "    }\n",
              "</style>\n",
              "<table border=\"1\" class=\"dataframe\">\n",
              "  <thead>\n",
              "    <tr style=\"text-align: right;\">\n",
              "      <th></th>\n",
              "      <th>count</th>\n",
              "      <th>mean</th>\n",
              "      <th>std</th>\n",
              "      <th>min</th>\n",
              "      <th>25%</th>\n",
              "      <th>50%</th>\n",
              "      <th>75%</th>\n",
              "      <th>max</th>\n",
              "    </tr>\n",
              "  </thead>\n",
              "  <tbody>\n",
              "    <tr>\n",
              "      <th>age</th>\n",
              "      <td>1070.0</td>\n",
              "      <td>39.231776</td>\n",
              "      <td>14.082429</td>\n",
              "      <td>18.000000</td>\n",
              "      <td>27.000000</td>\n",
              "      <td>39.000000</td>\n",
              "      <td>51.000000</td>\n",
              "      <td>64.000000</td>\n",
              "    </tr>\n",
              "    <tr>\n",
              "      <th>sex</th>\n",
              "      <td>1070.0</td>\n",
              "      <td>1.488785</td>\n",
              "      <td>0.500108</td>\n",
              "      <td>1.000000</td>\n",
              "      <td>1.000000</td>\n",
              "      <td>1.000000</td>\n",
              "      <td>2.000000</td>\n",
              "      <td>2.000000</td>\n",
              "    </tr>\n",
              "    <tr>\n",
              "      <th>bmi</th>\n",
              "      <td>1070.0</td>\n",
              "      <td>30.667145</td>\n",
              "      <td>6.131904</td>\n",
              "      <td>15.960000</td>\n",
              "      <td>26.220000</td>\n",
              "      <td>30.400000</td>\n",
              "      <td>34.746250</td>\n",
              "      <td>53.130000</td>\n",
              "    </tr>\n",
              "    <tr>\n",
              "      <th>children</th>\n",
              "      <td>1070.0</td>\n",
              "      <td>1.097196</td>\n",
              "      <td>1.220304</td>\n",
              "      <td>0.000000</td>\n",
              "      <td>0.000000</td>\n",
              "      <td>1.000000</td>\n",
              "      <td>2.000000</td>\n",
              "      <td>5.000000</td>\n",
              "    </tr>\n",
              "    <tr>\n",
              "      <th>smoker</th>\n",
              "      <td>1070.0</td>\n",
              "      <td>0.201869</td>\n",
              "      <td>0.401583</td>\n",
              "      <td>0.000000</td>\n",
              "      <td>0.000000</td>\n",
              "      <td>0.000000</td>\n",
              "      <td>0.000000</td>\n",
              "      <td>1.000000</td>\n",
              "    </tr>\n",
              "    <tr>\n",
              "      <th>region</th>\n",
              "      <td>1070.0</td>\n",
              "      <td>3.175357</td>\n",
              "      <td>1.781489</td>\n",
              "      <td>0.785398</td>\n",
              "      <td>2.356194</td>\n",
              "      <td>3.926991</td>\n",
              "      <td>5.497787</td>\n",
              "      <td>5.497787</td>\n",
              "    </tr>\n",
              "  </tbody>\n",
              "</table>\n",
              "</div>"
            ],
            "text/plain": [
              "           count       mean        std  ...        50%        75%        max\n",
              "age       1070.0  39.231776  14.082429  ...  39.000000  51.000000  64.000000\n",
              "sex       1070.0   1.488785   0.500108  ...   1.000000   2.000000   2.000000\n",
              "bmi       1070.0  30.667145   6.131904  ...  30.400000  34.746250  53.130000\n",
              "children  1070.0   1.097196   1.220304  ...   1.000000   2.000000   5.000000\n",
              "smoker    1070.0   0.201869   0.401583  ...   0.000000   0.000000   1.000000\n",
              "region    1070.0   3.175357   1.781489  ...   3.926991   5.497787   5.497787\n",
              "\n",
              "[6 rows x 8 columns]"
            ]
          },
          "metadata": {
            "tags": []
          },
          "execution_count": 215
        }
      ]
    },
    {
      "cell_type": "markdown",
      "metadata": {
        "id": "2DjgkfdYpr9b",
        "colab_type": "text"
      },
      "source": [
        "### Normalize the data"
      ]
    },
    {
      "cell_type": "code",
      "metadata": {
        "id": "XJjXQ4wFpzTC",
        "colab_type": "code",
        "colab": {}
      },
      "source": [
        "def normalize(x_val):\n",
        "    return (x_val - train_stats['mean']) / train_stats['std']\n",
        "\n",
        "normed_train_features = normalize(train_features)\n",
        "normed_test_features = normalize(test_features)"
      ],
      "execution_count": 0,
      "outputs": []
    },
    {
      "cell_type": "code",
      "metadata": {
        "id": "jm9U0OUw7saq",
        "colab_type": "code",
        "outputId": "9ada88c5-30da-4a35-c2ee-9461f8fb3ccd",
        "colab": {
          "base_uri": "https://localhost:8080/",
          "height": 195
        }
      },
      "source": [
        "normed_train_features.head()"
      ],
      "execution_count": 217,
      "outputs": [
        {
          "output_type": "execute_result",
          "data": {
            "text/html": [
              "<div>\n",
              "<style scoped>\n",
              "    .dataframe tbody tr th:only-of-type {\n",
              "        vertical-align: middle;\n",
              "    }\n",
              "\n",
              "    .dataframe tbody tr th {\n",
              "        vertical-align: top;\n",
              "    }\n",
              "\n",
              "    .dataframe thead th {\n",
              "        text-align: right;\n",
              "    }\n",
              "</style>\n",
              "<table border=\"1\" class=\"dataframe\">\n",
              "  <thead>\n",
              "    <tr style=\"text-align: right;\">\n",
              "      <th></th>\n",
              "      <th>age</th>\n",
              "      <th>sex</th>\n",
              "      <th>bmi</th>\n",
              "      <th>children</th>\n",
              "      <th>smoker</th>\n",
              "      <th>region</th>\n",
              "    </tr>\n",
              "  </thead>\n",
              "  <tbody>\n",
              "    <tr>\n",
              "      <th>0</th>\n",
              "      <td>-1.436668</td>\n",
              "      <td>1.022209</td>\n",
              "      <td>-0.451270</td>\n",
              "      <td>-0.899117</td>\n",
              "      <td>1.987463</td>\n",
              "      <td>0.421913</td>\n",
              "    </tr>\n",
              "    <tr>\n",
              "      <th>2</th>\n",
              "      <td>-0.797574</td>\n",
              "      <td>-0.977359</td>\n",
              "      <td>0.380446</td>\n",
              "      <td>1.559287</td>\n",
              "      <td>-0.502684</td>\n",
              "      <td>1.303645</td>\n",
              "    </tr>\n",
              "    <tr>\n",
              "      <th>3</th>\n",
              "      <td>-0.442521</td>\n",
              "      <td>-0.977359</td>\n",
              "      <td>-1.298478</td>\n",
              "      <td>-0.899117</td>\n",
              "      <td>-0.502684</td>\n",
              "      <td>-0.459819</td>\n",
              "    </tr>\n",
              "    <tr>\n",
              "      <th>4</th>\n",
              "      <td>-0.513532</td>\n",
              "      <td>-0.977359</td>\n",
              "      <td>-0.291450</td>\n",
              "      <td>-0.899117</td>\n",
              "      <td>-0.502684</td>\n",
              "      <td>-0.459819</td>\n",
              "    </tr>\n",
              "    <tr>\n",
              "      <th>6</th>\n",
              "      <td>0.480615</td>\n",
              "      <td>1.022209</td>\n",
              "      <td>0.452201</td>\n",
              "      <td>-0.079649</td>\n",
              "      <td>-0.502684</td>\n",
              "      <td>1.303645</td>\n",
              "    </tr>\n",
              "  </tbody>\n",
              "</table>\n",
              "</div>"
            ],
            "text/plain": [
              "        age       sex       bmi  children    smoker    region\n",
              "0 -1.436668  1.022209 -0.451270 -0.899117  1.987463  0.421913\n",
              "2 -0.797574 -0.977359  0.380446  1.559287 -0.502684  1.303645\n",
              "3 -0.442521 -0.977359 -1.298478 -0.899117 -0.502684 -0.459819\n",
              "4 -0.513532 -0.977359 -0.291450 -0.899117 -0.502684 -0.459819\n",
              "6  0.480615  1.022209  0.452201 -0.079649 -0.502684  1.303645"
            ]
          },
          "metadata": {
            "tags": []
          },
          "execution_count": 217
        }
      ]
    },
    {
      "cell_type": "markdown",
      "metadata": {
        "id": "yGlBj4oFvEgw",
        "colab_type": "text"
      },
      "source": [
        "## Modelling Data\n"
      ]
    },
    {
      "cell_type": "markdown",
      "metadata": {
        "id": "vyYsP8L6v6nO",
        "colab_type": "text"
      },
      "source": [
        "### Construct the model\n",
        "In this model we use the multilayer perceptron model with two densely connected hidden layars (`layer.Dense(64)`), and an output layer that returns a single continuous value (`layer.Dense(1)`)."
      ]
    },
    {
      "cell_type": "code",
      "metadata": {
        "id": "Q18Ww5EswCdV",
        "colab_type": "code",
        "colab": {}
      },
      "source": [
        "def multilayer_perceptron(num_features, learning_rate, optimizers):\n",
        "    \n",
        "    num_perceptron=64\n",
        "    \n",
        "    # set optimizers\n",
        "    if optimizers=='adam':\n",
        "        opt = tf.keras.optimizers.Adam(lr=learning_rate)\n",
        "    elif optimizers=='rmsprop':\n",
        "        opt = tf.keras.optimizers.RMSprop(lr=learning_rate)\n",
        "    elif optimizers=='sgd':\n",
        "        opt = tf.keras.optimizers.SGD(lr=learning_rate)\n",
        "    \n",
        "    \n",
        "    model = tf.keras.models.Sequential()\n",
        "    model.add(tf.keras.layers.Dense(units=num_perceptron, activation='relu', input_shape=(num_features,)))\n",
        "    model.add(tf.keras.layers.Dense(units=num_perceptron, activation='relu'))\n",
        "    model.add(tf.keras.layers.Dense(units=1, activation='relu'))\n",
        "    \n",
        "        \n",
        "    model.compile(optimizer=opt, loss='mae', \n",
        "                  metrics=['mae', 'mse'])\n",
        "    \n",
        "    return model\n",
        "    \n",
        "    \n",
        "def train_model(model, features, target, epoch, validation_ratio):\n",
        "    \n",
        "    history = model.fit(x=features, y=target, epochs=epoch, validation_split=validation_ratio, verbose=0)\n",
        "    \n",
        "    hist = pd.DataFrame(history.history)\n",
        "    \n",
        "    return model, hist"
      ],
      "execution_count": 0,
      "outputs": []
    },
    {
      "cell_type": "markdown",
      "metadata": {
        "id": "rR5NmjFQ432e",
        "colab_type": "text"
      },
      "source": [
        "## Hypertuning Parameter"
      ]
    },
    {
      "cell_type": "markdown",
      "metadata": {
        "id": "X5i6-PDp4-ul",
        "colab_type": "text"
      },
      "source": [
        "### Optimizer with different learning rate"
      ]
    },
    {
      "cell_type": "code",
      "metadata": {
        "id": "AW6UbhPnFMzB",
        "colab_type": "code",
        "colab": {}
      },
      "source": [
        "normed_train_features = normed_train_features.reset_index()[features.columns]\n",
        "train_target = train_target.reset_index()['charges']\n",
        "\n",
        "ssfk = SortedStratifiedKFold(n_splits=4)\n",
        "train_val_split = ssfk.split(normed_train_features, train_target)\n"
      ],
      "execution_count": 0,
      "outputs": []
    },
    {
      "cell_type": "code",
      "metadata": {
        "id": "h_9N5Py6EhCa",
        "colab_type": "code",
        "colab": {
          "base_uri": "https://localhost:8080/",
          "height": 1000
        },
        "outputId": "ea81c78f-c4ce-4570-d2db-c948c0d3e3c4"
      },
      "source": [
        "\n",
        "i = 0\n",
        "plt.figure(figsize=(6, 24))\n",
        "for train_feature, train_target, test_feature, test_target in train_val_split:\n",
        "    i += 1\n",
        "    plt.subplot(4, 2, i)\n",
        "    train_target.hist()\n",
        "    \n",
        "    i += 1\n",
        "    plt.subplot(4, 2, i)\n",
        "    test_target.hist()"
      ],
      "execution_count": 219,
      "outputs": [
        {
          "output_type": "display_data",
          "data": {
            "image/png": "[encoded data removed]",
            "text/plain": [
              "<Figure size 432x1728 with 8 Axes>"
            ]
          },
          "metadata": {
            "tags": []
          }
        }
      ]
    },
    {
      "cell_type": "code",
      "metadata": {
        "id": "Ej91jGMYS5zX",
        "colab_type": "code",
        "colab": {
          "base_uri": "https://localhost:8080/",
          "height": 34
        },
        "outputId": "01a27ee0-da61-4811-b67c-8b79c6abb1a1"
      },
      "source": [
        "train_target.shape"
      ],
      "execution_count": 222,
      "outputs": [
        {
          "output_type": "execute_result",
          "data": {
            "text/plain": [
              "(803,)"
            ]
          },
          "metadata": {
            "tags": []
          },
          "execution_count": 222
        }
      ]
    },
    {
      "cell_type": "code",
      "metadata": {
        "id": "KsDpJX8QRJpB",
        "colab_type": "code",
        "colab": {
          "base_uri": "https://localhost:8080/",
          "height": 314
        },
        "outputId": "9a267cfc-d049-46f8-ecdd-fc31cfd8d0fd"
      },
      "source": [
        "learning_rates_list = [.001, .0025, .005, .0075, .01, .025, .05, .075, .1]\n",
        "result_report = pd.DataFrame({'Learning Rate': learning_rates_list})\n",
        "result_report"
      ],
      "execution_count": 223,
      "outputs": [
        {
          "output_type": "execute_result",
          "data": {
            "text/html": [
              "<div>\n",
              "<style scoped>\n",
              "    .dataframe tbody tr th:only-of-type {\n",
              "        vertical-align: middle;\n",
              "    }\n",
              "\n",
              "    .dataframe tbody tr th {\n",
              "        vertical-align: top;\n",
              "    }\n",
              "\n",
              "    .dataframe thead th {\n",
              "        text-align: right;\n",
              "    }\n",
              "</style>\n",
              "<table border=\"1\" class=\"dataframe\">\n",
              "  <thead>\n",
              "    <tr style=\"text-align: right;\">\n",
              "      <th></th>\n",
              "      <th>Learning Rate</th>\n",
              "    </tr>\n",
              "  </thead>\n",
              "  <tbody>\n",
              "    <tr>\n",
              "      <th>0</th>\n",
              "      <td>0.0010</td>\n",
              "    </tr>\n",
              "    <tr>\n",
              "      <th>1</th>\n",
              "      <td>0.0025</td>\n",
              "    </tr>\n",
              "    <tr>\n",
              "      <th>2</th>\n",
              "      <td>0.0050</td>\n",
              "    </tr>\n",
              "    <tr>\n",
              "      <th>3</th>\n",
              "      <td>0.0075</td>\n",
              "    </tr>\n",
              "    <tr>\n",
              "      <th>4</th>\n",
              "      <td>0.0100</td>\n",
              "    </tr>\n",
              "    <tr>\n",
              "      <th>5</th>\n",
              "      <td>0.0250</td>\n",
              "    </tr>\n",
              "    <tr>\n",
              "      <th>6</th>\n",
              "      <td>0.0500</td>\n",
              "    </tr>\n",
              "    <tr>\n",
              "      <th>7</th>\n",
              "      <td>0.0750</td>\n",
              "    </tr>\n",
              "    <tr>\n",
              "      <th>8</th>\n",
              "      <td>0.1000</td>\n",
              "    </tr>\n",
              "  </tbody>\n",
              "</table>\n",
              "</div>"
            ],
            "text/plain": [
              "   Learning Rate\n",
              "0         0.0010\n",
              "1         0.0025\n",
              "2         0.0050\n",
              "3         0.0075\n",
              "4         0.0100\n",
              "5         0.0250\n",
              "6         0.0500\n",
              "7         0.0750\n",
              "8         0.1000"
            ]
          },
          "metadata": {
            "tags": []
          },
          "execution_count": 223
        }
      ]
    },
    {
      "cell_type": "code",
      "metadata": {
        "id": "A6zIeOq15Fpb",
        "colab_type": "code",
        "colab": {
          "base_uri": "https://localhost:8080/",
          "height": 218
        },
        "outputId": "5bb6f6cc-516f-4f54-c375-1b5423d0f396"
      },
      "source": [
        "i = 0\n",
        "for train_features, train_target, validation_features, validation_target in train_val_split:\n",
        "\n",
        "  adam_mae, rmsprop_mae, sgd_mae = [], [], []\n",
        "  i += 1\n",
        "  print('Adam training process...')\n",
        "  for lr in learning_rates_list:\n",
        "    mlp = multilayer_perceptron(train_features.shape[1], lr, 'adam')\n",
        "    model, history = train_model(mlp, train_features, train_target, 4000)\n",
        "    loss, mae, mse = model.evaluate(validation_features, validation_target, verbose=0)\n",
        "    adam_mae.append(mae)\n",
        "\n",
        "  print('RMSprop training process...')\n",
        "  for lr in learning_rates_list:\n",
        "    mlp = multilayer_perceptron(train_features.shape[1], lr, 'rmsprop')\n",
        "    model, history = train_model(mlp, train_features, train_target, 4000)\n",
        "    loss, mae, mse = model.evaluate(validation_features, validation_target, verbose=0)\n",
        "    rmsprop_mae.append(mae)\n",
        "\n",
        "  print('SGD training process...')\n",
        "  for lr in learning_rates_list:\n",
        "    mlp = multilayer_perceptron(train_features.shape[1], lr, 'sgd')\n",
        "    model, history = train_model(mlp, train_features, train_target, 4000)\n",
        "    loss, mae, mse = model.evaluate(validation_features, validation_target, verbose=0)\n",
        "    sgd_mae.append(mae)\n",
        "\n",
        "  result_report['Adam-'+str(i)] = adam_mae\n",
        "  result_report['RMSprop-'+str(i)] = rmsprop_mae\n",
        "  result_report['SGD-'+str(i)] = sgd_mae"
      ],
      "execution_count": 228,
      "outputs": [
        {
          "output_type": "stream",
          "text": [
            "Adam training process...\n",
            "RMSprop training process...\n",
            "SGD training process...\n",
            "Adam training process...\n",
            "RMSprop training process...\n",
            "SGD training process...\n",
            "Adam training process...\n",
            "RMSprop training process...\n",
            "SGD training process...\n",
            "Adam training process...\n",
            "RMSprop training process...\n",
            "SGD training process...\n"
          ],
          "name": "stdout"
        }
      ]
    },
    {
      "cell_type": "code",
      "metadata": {
        "id": "nAUwaj33Uve_",
        "colab_type": "code",
        "colab": {
          "base_uri": "https://localhost:8080/",
          "height": 350
        },
        "outputId": "fe506832-af64-45c6-ece3-cb57c43f1f2f"
      },
      "source": [
        "result_report"
      ],
      "execution_count": 230,
      "outputs": [
        {
          "output_type": "execute_result",
          "data": {
            "text/html": [
              "<div>\n",
              "<style scoped>\n",
              "    .dataframe tbody tr th:only-of-type {\n",
              "        vertical-align: middle;\n",
              "    }\n",
              "\n",
              "    .dataframe tbody tr th {\n",
              "        vertical-align: top;\n",
              "    }\n",
              "\n",
              "    .dataframe thead th {\n",
              "        text-align: right;\n",
              "    }\n",
              "</style>\n",
              "<table border=\"1\" class=\"dataframe\">\n",
              "  <thead>\n",
              "    <tr style=\"text-align: right;\">\n",
              "      <th></th>\n",
              "      <th>Learning Rate</th>\n",
              "      <th>Adam-1</th>\n",
              "      <th>RMSprop-1</th>\n",
              "      <th>SGD-1</th>\n",
              "      <th>Adam-2</th>\n",
              "      <th>RMSprop-2</th>\n",
              "      <th>SGD-2</th>\n",
              "      <th>Adam-3</th>\n",
              "      <th>RMSprop-3</th>\n",
              "      <th>SGD-3</th>\n",
              "      <th>Adam-4</th>\n",
              "      <th>RMSprop-4</th>\n",
              "      <th>SGD-4</th>\n",
              "    </tr>\n",
              "  </thead>\n",
              "  <tbody>\n",
              "    <tr>\n",
              "      <th>0</th>\n",
              "      <td>0.0010</td>\n",
              "      <td>1458.143188</td>\n",
              "      <td>1520.175781</td>\n",
              "      <td>1883.308594</td>\n",
              "      <td>1528.725952</td>\n",
              "      <td>1558.559570</td>\n",
              "      <td>2371.051514</td>\n",
              "      <td>1637.156372</td>\n",
              "      <td>1663.007080</td>\n",
              "      <td>2049.893311</td>\n",
              "      <td>1127.586548</td>\n",
              "      <td>1097.733398</td>\n",
              "      <td>1460.407349</td>\n",
              "    </tr>\n",
              "    <tr>\n",
              "      <th>1</th>\n",
              "      <td>0.0025</td>\n",
              "      <td>1458.064331</td>\n",
              "      <td>1500.148560</td>\n",
              "      <td>2727.994873</td>\n",
              "      <td>1519.334961</td>\n",
              "      <td>1587.777344</td>\n",
              "      <td>2027.377808</td>\n",
              "      <td>1643.432251</td>\n",
              "      <td>1747.403198</td>\n",
              "      <td>2148.179443</td>\n",
              "      <td>1103.326172</td>\n",
              "      <td>1123.664307</td>\n",
              "      <td>1684.702026</td>\n",
              "    </tr>\n",
              "    <tr>\n",
              "      <th>2</th>\n",
              "      <td>0.0050</td>\n",
              "      <td>1483.021973</td>\n",
              "      <td>1507.040527</td>\n",
              "      <td>2769.117432</td>\n",
              "      <td>1591.852173</td>\n",
              "      <td>1686.428223</td>\n",
              "      <td>4432.504395</td>\n",
              "      <td>1673.974609</td>\n",
              "      <td>1819.202637</td>\n",
              "      <td>2642.294678</td>\n",
              "      <td>1079.315308</td>\n",
              "      <td>1078.089478</td>\n",
              "      <td>2323.706543</td>\n",
              "    </tr>\n",
              "    <tr>\n",
              "      <th>3</th>\n",
              "      <td>0.0075</td>\n",
              "      <td>1604.294922</td>\n",
              "      <td>1670.871460</td>\n",
              "      <td>2718.351074</td>\n",
              "      <td>1561.667358</td>\n",
              "      <td>1619.615601</td>\n",
              "      <td>3226.201416</td>\n",
              "      <td>1647.823486</td>\n",
              "      <td>1710.166138</td>\n",
              "      <td>3429.767822</td>\n",
              "      <td>1187.486816</td>\n",
              "      <td>1354.322998</td>\n",
              "      <td>2506.330322</td>\n",
              "    </tr>\n",
              "    <tr>\n",
              "      <th>4</th>\n",
              "      <td>0.0100</td>\n",
              "      <td>1469.069458</td>\n",
              "      <td>1583.524902</td>\n",
              "      <td>2497.881592</td>\n",
              "      <td>1719.432617</td>\n",
              "      <td>1777.004639</td>\n",
              "      <td>7135.844238</td>\n",
              "      <td>1694.716919</td>\n",
              "      <td>1866.908691</td>\n",
              "      <td>3505.865967</td>\n",
              "      <td>1418.779785</td>\n",
              "      <td>1345.738159</td>\n",
              "      <td>3440.203857</td>\n",
              "    </tr>\n",
              "    <tr>\n",
              "      <th>5</th>\n",
              "      <td>0.0250</td>\n",
              "      <td>1619.139282</td>\n",
              "      <td>1905.066650</td>\n",
              "      <td>7607.291992</td>\n",
              "      <td>1928.603271</td>\n",
              "      <td>2213.759277</td>\n",
              "      <td>11310.122070</td>\n",
              "      <td>2191.119873</td>\n",
              "      <td>2268.777832</td>\n",
              "      <td>12390.261719</td>\n",
              "      <td>2358.056152</td>\n",
              "      <td>2103.949219</td>\n",
              "      <td>7858.142090</td>\n",
              "    </tr>\n",
              "    <tr>\n",
              "      <th>6</th>\n",
              "      <td>0.0500</td>\n",
              "      <td>1943.076294</td>\n",
              "      <td>2190.281006</td>\n",
              "      <td>13354.930664</td>\n",
              "      <td>1892.720093</td>\n",
              "      <td>2436.568359</td>\n",
              "      <td>9843.088867</td>\n",
              "      <td>1731.343994</td>\n",
              "      <td>2176.463379</td>\n",
              "      <td>13145.859375</td>\n",
              "      <td>1301.197754</td>\n",
              "      <td>1622.472778</td>\n",
              "      <td>7352.003418</td>\n",
              "    </tr>\n",
              "    <tr>\n",
              "      <th>7</th>\n",
              "      <td>0.0750</td>\n",
              "      <td>1683.234741</td>\n",
              "      <td>1779.628662</td>\n",
              "      <td>9244.664062</td>\n",
              "      <td>1956.500977</td>\n",
              "      <td>2384.955811</td>\n",
              "      <td>9440.741211</td>\n",
              "      <td>1712.396362</td>\n",
              "      <td>2473.889160</td>\n",
              "      <td>9047.465820</td>\n",
              "      <td>1248.693604</td>\n",
              "      <td>2369.197754</td>\n",
              "      <td>9256.005859</td>\n",
              "    </tr>\n",
              "    <tr>\n",
              "      <th>8</th>\n",
              "      <td>0.1000</td>\n",
              "      <td>1765.589111</td>\n",
              "      <td>1885.554321</td>\n",
              "      <td>8899.640625</td>\n",
              "      <td>1795.631348</td>\n",
              "      <td>2343.979004</td>\n",
              "      <td>10785.481445</td>\n",
              "      <td>1674.635254</td>\n",
              "      <td>1982.307373</td>\n",
              "      <td>8696.228516</td>\n",
              "      <td>1219.947632</td>\n",
              "      <td>2062.276855</td>\n",
              "      <td>8765.383789</td>\n",
              "    </tr>\n",
              "  </tbody>\n",
              "</table>\n",
              "</div>"
            ],
            "text/plain": [
              "   Learning Rate       Adam-1  ...    RMSprop-4        SGD-4\n",
              "0         0.0010  1458.143188  ...  1097.733398  1460.407349\n",
              "1         0.0025  1458.064331  ...  1123.664307  1684.702026\n",
              "2         0.0050  1483.021973  ...  1078.089478  2323.706543\n",
              "3         0.0075  1604.294922  ...  1354.322998  2506.330322\n",
              "4         0.0100  1469.069458  ...  1345.738159  3440.203857\n",
              "5         0.0250  1619.139282  ...  2103.949219  7858.142090\n",
              "6         0.0500  1943.076294  ...  1622.472778  7352.003418\n",
              "7         0.0750  1683.234741  ...  2369.197754  9256.005859\n",
              "8         0.1000  1765.589111  ...  2062.276855  8765.383789\n",
              "\n",
              "[9 rows x 13 columns]"
            ]
          },
          "metadata": {
            "tags": []
          },
          "execution_count": 230
        }
      ]
    },
    {
      "cell_type": "code",
      "metadata": {
        "id": "wEP3q7y1Uvd4",
        "colab_type": "code",
        "colab": {
          "base_uri": "https://localhost:8080/",
          "height": 350
        },
        "outputId": "889f2af8-1cbe-4f71-9bc4-423aa05c6479"
      },
      "source": [
        "result_report['Adam-Avg'] = (result_report['Adam-1'] + result_report['Adam-2'] + result_report['Adam-3'] + result_report['Adam-4']) / 4\n",
        "result_report['RMSprop-Avg'] = (result_report['RMSprop-1'] + result_report['RMSprop-2'] + result_report['RMSprop-3'] + result_report['RMSprop-4']) / 4\n",
        "result_report['SGD-Avg'] = (result_report['SGD-1'] + result_report['SGD-2'] + result_report['SGD-3'] + result_report['SGD-4']) / 4\n",
        "result_report"
      ],
      "execution_count": 231,
      "outputs": [
        {
          "output_type": "execute_result",
          "data": {
            "text/html": [
              "<div>\n",
              "<style scoped>\n",
              "    .dataframe tbody tr th:only-of-type {\n",
              "        vertical-align: middle;\n",
              "    }\n",
              "\n",
              "    .dataframe tbody tr th {\n",
              "        vertical-align: top;\n",
              "    }\n",
              "\n",
              "    .dataframe thead th {\n",
              "        text-align: right;\n",
              "    }\n",
              "</style>\n",
              "<table border=\"1\" class=\"dataframe\">\n",
              "  <thead>\n",
              "    <tr style=\"text-align: right;\">\n",
              "      <th></th>\n",
              "      <th>Learning Rate</th>\n",
              "      <th>Adam-1</th>\n",
              "      <th>RMSprop-1</th>\n",
              "      <th>SGD-1</th>\n",
              "      <th>Adam-2</th>\n",
              "      <th>RMSprop-2</th>\n",
              "      <th>SGD-2</th>\n",
              "      <th>Adam-3</th>\n",
              "      <th>RMSprop-3</th>\n",
              "      <th>SGD-3</th>\n",
              "      <th>Adam-4</th>\n",
              "      <th>RMSprop-4</th>\n",
              "      <th>SGD-4</th>\n",
              "      <th>Adam-Avg</th>\n",
              "      <th>RMSprop-Avg</th>\n",
              "      <th>SGD-Avg</th>\n",
              "    </tr>\n",
              "  </thead>\n",
              "  <tbody>\n",
              "    <tr>\n",
              "      <th>0</th>\n",
              "      <td>0.0010</td>\n",
              "      <td>1458.143188</td>\n",
              "      <td>1520.175781</td>\n",
              "      <td>1883.308594</td>\n",
              "      <td>1528.725952</td>\n",
              "      <td>1558.559570</td>\n",
              "      <td>2371.051514</td>\n",
              "      <td>1637.156372</td>\n",
              "      <td>1663.007080</td>\n",
              "      <td>2049.893311</td>\n",
              "      <td>1127.586548</td>\n",
              "      <td>1097.733398</td>\n",
              "      <td>1460.407349</td>\n",
              "      <td>1437.903015</td>\n",
              "      <td>1459.868958</td>\n",
              "      <td>1941.165192</td>\n",
              "    </tr>\n",
              "    <tr>\n",
              "      <th>1</th>\n",
              "      <td>0.0025</td>\n",
              "      <td>1458.064331</td>\n",
              "      <td>1500.148560</td>\n",
              "      <td>2727.994873</td>\n",
              "      <td>1519.334961</td>\n",
              "      <td>1587.777344</td>\n",
              "      <td>2027.377808</td>\n",
              "      <td>1643.432251</td>\n",
              "      <td>1747.403198</td>\n",
              "      <td>2148.179443</td>\n",
              "      <td>1103.326172</td>\n",
              "      <td>1123.664307</td>\n",
              "      <td>1684.702026</td>\n",
              "      <td>1431.039429</td>\n",
              "      <td>1489.748352</td>\n",
              "      <td>2147.063538</td>\n",
              "    </tr>\n",
              "    <tr>\n",
              "      <th>2</th>\n",
              "      <td>0.0050</td>\n",
              "      <td>1483.021973</td>\n",
              "      <td>1507.040527</td>\n",
              "      <td>2769.117432</td>\n",
              "      <td>1591.852173</td>\n",
              "      <td>1686.428223</td>\n",
              "      <td>4432.504395</td>\n",
              "      <td>1673.974609</td>\n",
              "      <td>1819.202637</td>\n",
              "      <td>2642.294678</td>\n",
              "      <td>1079.315308</td>\n",
              "      <td>1078.089478</td>\n",
              "      <td>2323.706543</td>\n",
              "      <td>1457.041016</td>\n",
              "      <td>1522.690216</td>\n",
              "      <td>3041.905762</td>\n",
              "    </tr>\n",
              "    <tr>\n",
              "      <th>3</th>\n",
              "      <td>0.0075</td>\n",
              "      <td>1604.294922</td>\n",
              "      <td>1670.871460</td>\n",
              "      <td>2718.351074</td>\n",
              "      <td>1561.667358</td>\n",
              "      <td>1619.615601</td>\n",
              "      <td>3226.201416</td>\n",
              "      <td>1647.823486</td>\n",
              "      <td>1710.166138</td>\n",
              "      <td>3429.767822</td>\n",
              "      <td>1187.486816</td>\n",
              "      <td>1354.322998</td>\n",
              "      <td>2506.330322</td>\n",
              "      <td>1500.318146</td>\n",
              "      <td>1588.744049</td>\n",
              "      <td>2970.162659</td>\n",
              "    </tr>\n",
              "    <tr>\n",
              "      <th>4</th>\n",
              "      <td>0.0100</td>\n",
              "      <td>1469.069458</td>\n",
              "      <td>1583.524902</td>\n",
              "      <td>2497.881592</td>\n",
              "      <td>1719.432617</td>\n",
              "      <td>1777.004639</td>\n",
              "      <td>7135.844238</td>\n",
              "      <td>1694.716919</td>\n",
              "      <td>1866.908691</td>\n",
              "      <td>3505.865967</td>\n",
              "      <td>1418.779785</td>\n",
              "      <td>1345.738159</td>\n",
              "      <td>3440.203857</td>\n",
              "      <td>1575.499695</td>\n",
              "      <td>1643.294098</td>\n",
              "      <td>4144.948914</td>\n",
              "    </tr>\n",
              "    <tr>\n",
              "      <th>5</th>\n",
              "      <td>0.0250</td>\n",
              "      <td>1619.139282</td>\n",
              "      <td>1905.066650</td>\n",
              "      <td>7607.291992</td>\n",
              "      <td>1928.603271</td>\n",
              "      <td>2213.759277</td>\n",
              "      <td>11310.122070</td>\n",
              "      <td>2191.119873</td>\n",
              "      <td>2268.777832</td>\n",
              "      <td>12390.261719</td>\n",
              "      <td>2358.056152</td>\n",
              "      <td>2103.949219</td>\n",
              "      <td>7858.142090</td>\n",
              "      <td>2024.229645</td>\n",
              "      <td>2122.888245</td>\n",
              "      <td>9791.454468</td>\n",
              "    </tr>\n",
              "    <tr>\n",
              "      <th>6</th>\n",
              "      <td>0.0500</td>\n",
              "      <td>1943.076294</td>\n",
              "      <td>2190.281006</td>\n",
              "      <td>13354.930664</td>\n",
              "      <td>1892.720093</td>\n",
              "      <td>2436.568359</td>\n",
              "      <td>9843.088867</td>\n",
              "      <td>1731.343994</td>\n",
              "      <td>2176.463379</td>\n",
              "      <td>13145.859375</td>\n",
              "      <td>1301.197754</td>\n",
              "      <td>1622.472778</td>\n",
              "      <td>7352.003418</td>\n",
              "      <td>1717.084534</td>\n",
              "      <td>2106.446381</td>\n",
              "      <td>10923.970581</td>\n",
              "    </tr>\n",
              "    <tr>\n",
              "      <th>7</th>\n",
              "      <td>0.0750</td>\n",
              "      <td>1683.234741</td>\n",
              "      <td>1779.628662</td>\n",
              "      <td>9244.664062</td>\n",
              "      <td>1956.500977</td>\n",
              "      <td>2384.955811</td>\n",
              "      <td>9440.741211</td>\n",
              "      <td>1712.396362</td>\n",
              "      <td>2473.889160</td>\n",
              "      <td>9047.465820</td>\n",
              "      <td>1248.693604</td>\n",
              "      <td>2369.197754</td>\n",
              "      <td>9256.005859</td>\n",
              "      <td>1650.206421</td>\n",
              "      <td>2251.917847</td>\n",
              "      <td>9247.219238</td>\n",
              "    </tr>\n",
              "    <tr>\n",
              "      <th>8</th>\n",
              "      <td>0.1000</td>\n",
              "      <td>1765.589111</td>\n",
              "      <td>1885.554321</td>\n",
              "      <td>8899.640625</td>\n",
              "      <td>1795.631348</td>\n",
              "      <td>2343.979004</td>\n",
              "      <td>10785.481445</td>\n",
              "      <td>1674.635254</td>\n",
              "      <td>1982.307373</td>\n",
              "      <td>8696.228516</td>\n",
              "      <td>1219.947632</td>\n",
              "      <td>2062.276855</td>\n",
              "      <td>8765.383789</td>\n",
              "      <td>1613.950836</td>\n",
              "      <td>2068.529388</td>\n",
              "      <td>9286.683594</td>\n",
              "    </tr>\n",
              "  </tbody>\n",
              "</table>\n",
              "</div>"
            ],
            "text/plain": [
              "   Learning Rate       Adam-1  ...  RMSprop-Avg       SGD-Avg\n",
              "0         0.0010  1458.143188  ...  1459.868958   1941.165192\n",
              "1         0.0025  1458.064331  ...  1489.748352   2147.063538\n",
              "2         0.0050  1483.021973  ...  1522.690216   3041.905762\n",
              "3         0.0075  1604.294922  ...  1588.744049   2970.162659\n",
              "4         0.0100  1469.069458  ...  1643.294098   4144.948914\n",
              "5         0.0250  1619.139282  ...  2122.888245   9791.454468\n",
              "6         0.0500  1943.076294  ...  2106.446381  10923.970581\n",
              "7         0.0750  1683.234741  ...  2251.917847   9247.219238\n",
              "8         0.1000  1765.589111  ...  2068.529388   9286.683594\n",
              "\n",
              "[9 rows x 16 columns]"
            ]
          },
          "metadata": {
            "tags": []
          },
          "execution_count": 231
        }
      ]
    },
    {
      "cell_type": "code",
      "metadata": {
        "id": "DFjOFcRRIQaW",
        "colab_type": "code",
        "colab": {
          "base_uri": "https://localhost:8080/",
          "height": 34
        },
        "outputId": "30b821de-f776-498a-97ad-1028c201935a"
      },
      "source": [
        "result_report.to_excel('hyperparameter tuning learningrate and optimizer.xlsx', index=False)\n",
        "print('Saved process done.')"
      ],
      "execution_count": 233,
      "outputs": [
        {
          "output_type": "stream",
          "text": [
            "Saved process done.\n"
          ],
          "name": "stdout"
        }
      ]
    },
    {
      "cell_type": "code",
      "metadata": {
        "id": "IqzaBgO1IQZN",
        "colab_type": "code",
        "colab": {
          "base_uri": "https://localhost:8080/",
          "height": 312
        },
        "outputId": "09ad69f4-a419-41ed-996b-b5ed5cde4816"
      },
      "source": [
        "plt.plot(result_report['Learning Rate'], result_report['Adam-Avg'], label='Adam')\n",
        "plt.plot(result_report['Learning Rate'], result_report['RMSprop-Avg'], label='RMSProp')\n",
        "plt.plot(result_report['Learning Rate'], result_report['SGD-Avg'], label='SGD')\n",
        "\n",
        "plt.title('Training over different optimizers and learning rate')\n",
        "plt.xlabel('Learning Rate')\n",
        "plt.ylabel('Mean Absolute Error')\n",
        "plt.legend()"
      ],
      "execution_count": 236,
      "outputs": [
        {
          "output_type": "execute_result",
          "data": {
            "text/plain": [
              "<matplotlib.legend.Legend at 0x7f578f336198>"
            ]
          },
          "metadata": {
            "tags": []
          },
          "execution_count": 236
        },
        {
          "output_type": "display_data",
          "data": {
            "image/png": "[encoded data removed]",
            "text/plain": [
              "<Figure size 432x288 with 1 Axes>"
            ]
          },
          "metadata": {
            "tags": []
          }
        }
      ]
    },
    {
      "cell_type": "markdown",
      "metadata": {
        "id": "RlyAdHXWJ6od",
        "colab_type": "text"
      },
      "source": [
        "Small learning rate gives better result.\n",
        "\n",
        "Best parameter -> Adam optimizer with learning rate 0.025"
      ]
    },
    {
      "cell_type": "markdown",
      "metadata": {
        "id": "vy_CJQAVU5Eu",
        "colab_type": "text"
      },
      "source": [
        "#### Regularization & Drop Out"
      ]
    },
    {
      "cell_type": "code",
      "metadata": {
        "id": "e4bP_YKQVAR2",
        "colab_type": "code",
        "colab": {}
      },
      "source": [
        ""
      ],
      "execution_count": 0,
      "outputs": []
    },
    {
      "cell_type": "code",
      "metadata": {
        "id": "g6UjoR4LVAJU",
        "colab_type": "code",
        "colab": {}
      },
      "source": [
        ""
      ],
      "execution_count": 0,
      "outputs": []
    },
    {
      "cell_type": "markdown",
      "metadata": {
        "id": "qfCWmXIq9q3K",
        "colab_type": "text"
      },
      "source": [
        "### Evaluate with test set"
      ]
    },
    {
      "cell_type": "code",
      "metadata": {
        "id": "vfOuCYX19wQi",
        "colab_type": "code",
        "colab": {}
      },
      "source": [
        "normed_test_data_np_arr = np.asarray(normed_test_data, dtype=float)\n",
        "test_labels_np_arr = np.asarray(test_labels, dtype=float)\n",
        "\n",
        "loss, mae, mse = reg_model.evaluate(normed_test_data_np_arr, test_labels_np_arr, \n",
        "                                    verbose=2)\n",
        "\n",
        "print(\"Testing set Mean Abs Error: {:5.2f} (charges)\".format(mae))"
      ],
      "execution_count": 0,
      "outputs": []
    },
    {
      "cell_type": "markdown",
      "metadata": {
        "id": "-FkTXsNvzxnH",
        "colab_type": "text"
      },
      "source": [
        "## Regression model\n",
        "\n",
        "### Construct the model\n",
        "\n",
        "In this model we use the model with two densely connected hidden layars (`layer.Dense(64)`), and an output layer that returns a single continous value (`layer.Dense(1)`)."
      ]
    },
    {
      "cell_type": "code",
      "metadata": {
        "id": "U911cB9VqFZl",
        "colab_type": "code",
        "outputId": "523eb409-2e4e-409b-d76c-a57b9cfb76ba",
        "colab": {
          "base_uri": "https://localhost:8080/",
          "height": 35
        }
      },
      "source": [
        "train_dataset.keys()"
      ],
      "execution_count": 0,
      "outputs": [
        {
          "output_type": "execute_result",
          "data": {
            "text/plain": [
              "Index(['age', 'sex', 'bmi', 'children', 'smoker', 'region'], dtype='object')"
            ]
          },
          "metadata": {
            "tags": []
          },
          "execution_count": 57
        }
      ]
    },
    {
      "cell_type": "code",
      "metadata": {
        "id": "ZSftOajG0uEi",
        "colab_type": "code",
        "colab": {}
      },
      "source": [
        "# relu = rectifier linear unit activation function\n",
        "# The first argument of RMSprop algorithm is learning rate.\n",
        "# You can check the creator of RMSprop (Root Mean Square propagation) in \n",
        "# his lecture. Hinton is known as a \"Godfather of AI\"\n",
        "# https://www.youtube.com/watch?v=XhZahXzEuNo\n",
        "\n",
        "# mse and mae are metrics\n",
        "# mse = mean squared error\n",
        "# mae = mean absoulte error\n",
        "\n",
        "def construct_model():\n",
        "    reg_model = keras.Sequential([\n",
        "        layers.Dense(64, activation='relu', \n",
        "                     input_shape=[len(train_dataset.keys())]),\n",
        "        layers.Dense(64, activation='relu'),\n",
        "        layers.Dense(1)\n",
        "    ])\n",
        "\n",
        "    optimizer = tf.keras.optimizers.RMSprop(.001)\n",
        "\n",
        "    reg_model.compile(loss='mse', optimizer=optimizer,\n",
        "                  metrics=['mae', 'mse'])\n",
        "    \n",
        "    return reg_model"
      ],
      "execution_count": 0,
      "outputs": []
    },
    {
      "cell_type": "code",
      "metadata": {
        "id": "6eFVr16E3q4S",
        "colab_type": "code",
        "colab": {}
      },
      "source": [
        "reg_model = construct_model()"
      ],
      "execution_count": 0,
      "outputs": []
    },
    {
      "cell_type": "markdown",
      "metadata": {
        "id": "gOZfcxTx35HX",
        "colab_type": "text"
      },
      "source": [
        "### Inspect the regression model"
      ]
    },
    {
      "cell_type": "code",
      "metadata": {
        "id": "ZBopaN9c30uY",
        "colab_type": "code",
        "outputId": "ddb1c891-d9f2-4fca-caac-6e0eb98b45e0",
        "colab": {
          "base_uri": "https://localhost:8080/",
          "height": 271
        }
      },
      "source": [
        "reg_model.summary()"
      ],
      "execution_count": 0,
      "outputs": [
        {
          "output_type": "stream",
          "text": [
            "Model: \"sequential_2\"\n",
            "_________________________________________________________________\n",
            "Layer (type)                 Output Shape              Param #   \n",
            "=================================================================\n",
            "dense_6 (Dense)              (None, 64)                448       \n",
            "_________________________________________________________________\n",
            "dense_7 (Dense)              (None, 64)                4160      \n",
            "_________________________________________________________________\n",
            "dense_8 (Dense)              (None, 1)                 65        \n",
            "=================================================================\n",
            "Total params: 4,673\n",
            "Trainable params: 4,673\n",
            "Non-trainable params: 0\n",
            "_________________________________________________________________\n"
          ],
          "name": "stdout"
        }
      ]
    },
    {
      "cell_type": "markdown",
      "metadata": {
        "id": "_5ymap9w4IFt",
        "colab_type": "text"
      },
      "source": [
        "Now we try out the regression model by taking a batch of 5 samples from the training data and call `reg_model.predict()`.\n",
        "\n",
        "> **Note**\n",
        ">\n",
        ">In offline platform, we have to cast the format of `normed_train_data` into numpy array."
      ]
    },
    {
      "cell_type": "code",
      "metadata": {
        "id": "8yzpnang4BtY",
        "colab_type": "code",
        "outputId": "1b426496-3b05-4344-fad3-e136907c246e",
        "colab": {
          "base_uri": "https://localhost:8080/",
          "height": 108
        }
      },
      "source": [
        "example_batch = normed_train_data[:5]\n",
        "example_result = reg_model.predict(example_batch)\n",
        "example_result"
      ],
      "execution_count": 0,
      "outputs": [
        {
          "output_type": "execute_result",
          "data": {
            "text/plain": [
              "array([[-0.33743232],\n",
              "       [-0.15567961],\n",
              "       [-0.3412    ],\n",
              "       [-0.44432744],\n",
              "       [-0.00998501]], dtype=float32)"
            ]
          },
          "metadata": {
            "tags": []
          },
          "execution_count": 61
        }
      ]
    },
    {
      "cell_type": "markdown",
      "metadata": {
        "id": "4AXmJiq742cI",
        "colab_type": "text"
      },
      "source": [
        "Quick check on the shape and data type shows that the regression model seems to be working. \n",
        "\n",
        "### Train the regression model\n",
        "\n",
        "We will train the regression model for 2000 epochs, and record the training and validation accuracy in the `history` object.\n",
        "\n",
        "> **Note**\n",
        ">\n",
        ">In offline platform, we have to cast the format of `normed_train_data` and `train_label` into numpy array.\n"
      ]
    },
    {
      "cell_type": "code",
      "metadata": {
        "id": "eCh0Rv7R4roj",
        "colab_type": "code",
        "outputId": "06d8104d-afab-44b2-ad17-cc6208211450",
        "colab": {
          "base_uri": "https://localhost:8080/",
          "height": 1000
        }
      },
      "source": [
        "EPOCHS = 4000\n",
        "\n",
        "# the validation_split will split for the data for validation\n",
        "# from the last samples of normed_train_data. This smaller\n",
        "# splitted data will be used in the validation process.\n",
        "\n",
        "start_compute = time.time()\n",
        "\n",
        "history = reg_model.fit(\n",
        "    normed_train_data, train_labels, epochs=EPOCHS,\n",
        "    validation_split=0.2, verbose=0,\n",
        "    callbacks=[tfdocs.modeling.EpochDots()]\n",
        ")\n",
        "\n",
        "print('Approximation computational time: {:.2f} s'.format(time.time() \n",
        "                                                         - start_compute))"
      ],
      "execution_count": 0,
      "outputs": [
        {
          "output_type": "stream",
          "text": [
            "\n",
            "Epoch: 0, loss:328287425.7944,  mae:13307.9336,  mse:328287392.0000,  val_loss:323582397.9065,  val_mae:12969.2461,  val_mse:323582400.0000,  \n",
            "....................................................................................................\n",
            "Epoch: 100, loss:34385614.2804,  mae:3895.6562,  mse:34385616.0000,  val_loss:30368397.3458,  val_mae:3667.2400,  val_mse:30368400.0000,  \n",
            "....................................................................................................\n",
            "Epoch: 200, loss:31212977.5327,  mae:3586.3752,  mse:31212978.0000,  val_loss:28467005.7850,  val_mae:3474.4321,  val_mse:28467006.0000,  \n",
            "....................................................................................................\n",
            "Epoch: 300, loss:27162034.5421,  mae:3136.7605,  mse:27162034.0000,  val_loss:25866958.2430,  val_mae:3163.5667,  val_mse:25866960.0000,  \n",
            "....................................................................................................\n",
            "Epoch: 400, loss:24536018.6168,  mae:2954.8369,  mse:24536016.0000,  val_loss:23725177.6822,  val_mae:2996.3418,  val_mse:23725178.0000,  \n",
            "....................................................................................................\n",
            "Epoch: 500, loss:23361817.0280,  mae:2872.4424,  mse:23361816.0000,  val_loss:22510921.4486,  val_mae:2895.5059,  val_mse:22510922.0000,  \n",
            "....................................................................................................\n",
            "Epoch: 600, loss:22710738.9907,  mae:2808.1741,  mse:22710740.0000,  val_loss:21898630.8785,  val_mae:2862.7458,  val_mse:21898630.0000,  \n",
            "....................................................................................................\n",
            "Epoch: 700, loss:22250374.6822,  mae:2769.4536,  mse:22250374.0000,  val_loss:21481235.1869,  val_mae:2829.6416,  val_mse:21481236.0000,  \n",
            "....................................................................................................\n",
            "Epoch: 800, loss:21776203.7103,  mae:2714.8120,  mse:21776202.0000,  val_loss:21144195.5607,  val_mae:2796.5569,  val_mse:21144194.0000,  \n",
            "....................................................................................................\n",
            "Epoch: 900, loss:21289030.0374,  mae:2671.2063,  mse:21289030.0000,  val_loss:20813708.7103,  val_mae:2757.8987,  val_mse:20813710.0000,  \n",
            "....................................................................................................\n",
            "Epoch: 1000, loss:20751779.9556,  mae:2609.1023,  mse:20751778.0000,  val_loss:20457120.6636,  val_mae:2721.0422,  val_mse:20457120.0000,  \n",
            "....................................................................................................\n",
            "Epoch: 1100, loss:20160778.3084,  mae:2539.2859,  mse:20160778.0000,  val_loss:19966589.1963,  val_mae:2639.5549,  val_mse:19966590.0000,  \n",
            "....................................................................................................\n",
            "Epoch: 1200, loss:19648886.6449,  mae:2489.8770,  mse:19648886.0000,  val_loss:19534519.9720,  val_mae:2593.3379,  val_mse:19534520.0000,  \n",
            "....................................................................................................\n",
            "Epoch: 1300, loss:19266097.1121,  mae:2443.5264,  mse:19266098.0000,  val_loss:19229086.8972,  val_mae:2535.4612,  val_mse:19229086.0000,  \n",
            "....................................................................................................\n",
            "Epoch: 1400, loss:18992581.6636,  mae:2404.8352,  mse:18992584.0000,  val_loss:19091228.5327,  val_mae:2505.6855,  val_mse:19091228.0000,  \n",
            "....................................................................................................\n",
            "Epoch: 1500, loss:18802998.5514,  mae:2423.6201,  mse:18803000.0000,  val_loss:18983147.8037,  val_mae:2501.4067,  val_mse:18983148.0000,  \n",
            "....................................................................................................\n",
            "Epoch: 1600, loss:18632925.3738,  mae:2371.8284,  mse:18632928.0000,  val_loss:18941376.4486,  val_mae:2486.6875,  val_mse:18941376.0000,  \n",
            "....................................................................................................\n",
            "Epoch: 1700, loss:18457482.8084,  mae:2413.6177,  mse:18457484.0000,  val_loss:18954866.0467,  val_mae:2461.7332,  val_mse:18954868.0000,  \n",
            "....................................................................................................\n",
            "Epoch: 1800, loss:18338544.4159,  mae:2361.0369,  mse:18338544.0000,  val_loss:19016880.4019,  val_mae:2446.0442,  val_mse:19016882.0000,  \n",
            "....................................................................................................\n",
            "Epoch: 1900, loss:18212548.5607,  mae:2328.9983,  mse:18212546.0000,  val_loss:19122816.5607,  val_mae:2467.9187,  val_mse:19122818.0000,  \n",
            "....................................................................................................\n",
            "Epoch: 2000, loss:18105904.4299,  mae:2316.5117,  mse:18105906.0000,  val_loss:19169922.2617,  val_mae:2460.3420,  val_mse:19169922.0000,  \n",
            "....................................................................................................\n",
            "Epoch: 2100, loss:17944330.4860,  mae:2322.0259,  mse:17944330.0000,  val_loss:19207765.6542,  val_mae:2469.2324,  val_mse:19207764.0000,  \n",
            "....................................................................................................\n",
            "Epoch: 2200, loss:17825433.2991,  mae:2305.2905,  mse:17825432.0000,  val_loss:19306943.6916,  val_mae:2468.4380,  val_mse:19306944.0000,  \n",
            "....................................................................................................\n",
            "Epoch: 2300, loss:17719520.5701,  mae:2290.4485,  mse:17719522.0000,  val_loss:19442293.6822,  val_mae:2490.1182,  val_mse:19442294.0000,  \n",
            "....................................................................................................\n",
            "Epoch: 2400, loss:17608070.2243,  mae:2279.3352,  mse:17608068.0000,  val_loss:19452415.4206,  val_mae:2481.7607,  val_mse:19452416.0000,  \n",
            "....................................................................................................\n",
            "Epoch: 2500, loss:17494353.5981,  mae:2273.4966,  mse:17494354.0000,  val_loss:19483299.5607,  val_mae:2494.6799,  val_mse:19483300.0000,  \n",
            "....................................................................................................\n",
            "Epoch: 2600, loss:17377484.4766,  mae:2272.2615,  mse:17377484.0000,  val_loss:19487659.8879,  val_mae:2457.3650,  val_mse:19487660.0000,  \n",
            "....................................................................................................\n",
            "Epoch: 2700, loss:17234043.2617,  mae:2245.2039,  mse:17234044.0000,  val_loss:19542602.1495,  val_mae:2488.1006,  val_mse:19542602.0000,  \n",
            "....................................................................................................\n",
            "Epoch: 2800, loss:17108733.4907,  mae:2250.2200,  mse:17108734.0000,  val_loss:19574478.6355,  val_mae:2474.1016,  val_mse:19574478.0000,  \n",
            "....................................................................................................\n",
            "Epoch: 2900, loss:16978221.2150,  mae:2236.6204,  mse:16978220.0000,  val_loss:19603899.8505,  val_mae:2488.0879,  val_mse:19603900.0000,  \n",
            "....................................................................................................\n",
            "Epoch: 3000, loss:16843776.2103,  mae:2261.5110,  mse:16843778.0000,  val_loss:19652600.4112,  val_mae:2468.8450,  val_mse:19652600.0000,  \n",
            "....................................................................................................\n",
            "Epoch: 3100, loss:16732596.5654,  mae:2222.6074,  mse:16732595.0000,  val_loss:19712152.8131,  val_mae:2493.1843,  val_mse:19712154.0000,  \n",
            "....................................................................................................\n",
            "Epoch: 3200, loss:16642363.1495,  mae:2213.6038,  mse:16642364.0000,  val_loss:19736033.1589,  val_mae:2500.3313,  val_mse:19736032.0000,  \n",
            "....................................................................................................\n",
            "Epoch: 3300, loss:16533796.0467,  mae:2232.2131,  mse:16533795.0000,  val_loss:19776054.6262,  val_mae:2451.6262,  val_mse:19776054.0000,  \n",
            "....................................................................................................\n",
            "Epoch: 3400, loss:16452338.1939,  mae:2216.9385,  mse:16452338.0000,  val_loss:19839954.1215,  val_mae:2469.8625,  val_mse:19839954.0000,  \n",
            "....................................................................................................\n",
            "Epoch: 3500, loss:16361555.4299,  mae:2200.2368,  mse:16361557.0000,  val_loss:19920953.2056,  val_mae:2488.3228,  val_mse:19920954.0000,  \n",
            "....................................................................................................\n",
            "Epoch: 3600, loss:16238422.8879,  mae:2195.3567,  mse:16238421.0000,  val_loss:20045249.9720,  val_mae:2511.7295,  val_mse:20045250.0000,  \n",
            "....................................................................................................\n",
            "Epoch: 3700, loss:16137134.3458,  mae:2215.5752,  mse:16137135.0000,  val_loss:20136071.0748,  val_mae:2505.5808,  val_mse:20136070.0000,  \n",
            "....................................................................................................\n",
            "Epoch: 3800, loss:16034859.8505,  mae:2202.9016,  mse:16034861.0000,  val_loss:20281287.3271,  val_mae:2496.6379,  val_mse:20281286.0000,  \n",
            "....................................................................................................\n",
            "Epoch: 3900, loss:15941434.7290,  mae:2172.8674,  mse:15941435.0000,  val_loss:20365889.1028,  val_mae:2514.4890,  val_mse:20365890.0000,  \n",
            "....................................................................................................Approximation computational time: 211.41 s\n"
          ],
          "name": "stdout"
        }
      ]
    },
    {
      "cell_type": "markdown",
      "metadata": {
        "id": "r7kvjvqn8neK",
        "colab_type": "text"
      },
      "source": [
        "We visualize the regression model's training progress using the progress that stored in the `history` object."
      ]
    },
    {
      "cell_type": "code",
      "metadata": {
        "id": "xqa9cs1o80On",
        "colab_type": "code",
        "outputId": "f37c992f-e0cb-4412-8f30-18fb533c689f",
        "colab": {
          "base_uri": "https://localhost:8080/",
          "height": 206
        }
      },
      "source": [
        "hist = pd.DataFrame(history.history)\n",
        "hist['epoch'] = history.epoch\n",
        "hist.tail()"
      ],
      "execution_count": 0,
      "outputs": [
        {
          "output_type": "execute_result",
          "data": {
            "text/html": [
              "<div>\n",
              "<style scoped>\n",
              "    .dataframe tbody tr th:only-of-type {\n",
              "        vertical-align: middle;\n",
              "    }\n",
              "\n",
              "    .dataframe tbody tr th {\n",
              "        vertical-align: top;\n",
              "    }\n",
              "\n",
              "    .dataframe thead th {\n",
              "        text-align: right;\n",
              "    }\n",
              "</style>\n",
              "<table border=\"1\" class=\"dataframe\">\n",
              "  <thead>\n",
              "    <tr style=\"text-align: right;\">\n",
              "      <th></th>\n",
              "      <th>loss</th>\n",
              "      <th>mae</th>\n",
              "      <th>mse</th>\n",
              "      <th>val_loss</th>\n",
              "      <th>val_mae</th>\n",
              "      <th>val_mse</th>\n",
              "      <th>epoch</th>\n",
              "    </tr>\n",
              "  </thead>\n",
              "  <tbody>\n",
              "    <tr>\n",
              "      <th>3995</th>\n",
              "      <td>1.585593e+07</td>\n",
              "      <td>2172.849121</td>\n",
              "      <td>15855931.0</td>\n",
              "      <td>2.043693e+07</td>\n",
              "      <td>2506.919678</td>\n",
              "      <td>20436928.0</td>\n",
              "      <td>3995</td>\n",
              "    </tr>\n",
              "    <tr>\n",
              "      <th>3996</th>\n",
              "      <td>1.586093e+07</td>\n",
              "      <td>2175.238281</td>\n",
              "      <td>15860937.0</td>\n",
              "      <td>2.044698e+07</td>\n",
              "      <td>2523.964844</td>\n",
              "      <td>20446984.0</td>\n",
              "      <td>3996</td>\n",
              "    </tr>\n",
              "    <tr>\n",
              "      <th>3997</th>\n",
              "      <td>1.584793e+07</td>\n",
              "      <td>2183.042969</td>\n",
              "      <td>15847924.0</td>\n",
              "      <td>2.046164e+07</td>\n",
              "      <td>2531.564209</td>\n",
              "      <td>20461640.0</td>\n",
              "      <td>3997</td>\n",
              "    </tr>\n",
              "    <tr>\n",
              "      <th>3998</th>\n",
              "      <td>1.585962e+07</td>\n",
              "      <td>2178.803711</td>\n",
              "      <td>15859617.0</td>\n",
              "      <td>2.045297e+07</td>\n",
              "      <td>2529.616455</td>\n",
              "      <td>20452974.0</td>\n",
              "      <td>3998</td>\n",
              "    </tr>\n",
              "    <tr>\n",
              "      <th>3999</th>\n",
              "      <td>1.584975e+07</td>\n",
              "      <td>2194.208008</td>\n",
              "      <td>15849754.0</td>\n",
              "      <td>2.043116e+07</td>\n",
              "      <td>2509.615967</td>\n",
              "      <td>20431160.0</td>\n",
              "      <td>3999</td>\n",
              "    </tr>\n",
              "  </tbody>\n",
              "</table>\n",
              "</div>"
            ],
            "text/plain": [
              "              loss          mae         mse  ...      val_mae     val_mse  epoch\n",
              "3995  1.585593e+07  2172.849121  15855931.0  ...  2506.919678  20436928.0   3995\n",
              "3996  1.586093e+07  2175.238281  15860937.0  ...  2523.964844  20446984.0   3996\n",
              "3997  1.584793e+07  2183.042969  15847924.0  ...  2531.564209  20461640.0   3997\n",
              "3998  1.585962e+07  2178.803711  15859617.0  ...  2529.616455  20452974.0   3998\n",
              "3999  1.584975e+07  2194.208008  15849754.0  ...  2509.615967  20431160.0   3999\n",
              "\n",
              "[5 rows x 7 columns]"
            ]
          },
          "metadata": {
            "tags": []
          },
          "execution_count": 63
        }
      ]
    },
    {
      "cell_type": "code",
      "metadata": {
        "id": "VswpdL3G8-CW",
        "colab_type": "code",
        "colab": {}
      },
      "source": [
        "plotter = tfdocs.plots.HistoryPlotter(smoothing_std=2)"
      ],
      "execution_count": 0,
      "outputs": []
    },
    {
      "cell_type": "code",
      "metadata": {
        "id": "tA4Exe-l9GgP",
        "colab_type": "code",
        "outputId": "35b3fa95-2a92-41d9-e4bd-c1914d937ed3",
        "colab": {
          "base_uri": "https://localhost:8080/",
          "height": 283
        }
      },
      "source": [
        "plotter.plot({'Basic': history}, metric='mae')\n",
        "plt.ylim([2e3, 3e3])\n",
        "plt.ylabel('MAE [charges]');"
      ],
      "execution_count": 0,
      "outputs": [
        {
          "output_type": "display_data",
          "data": {
            "image/png": "[encoded data removed]",
            "text/plain": [
              "<Figure size 432x288 with 1 Axes>"
            ]
          },
          "metadata": {
            "tags": []
          }
        }
      ]
    },
    {
      "cell_type": "code",
      "metadata": {
        "id": "KkbE7Kqz9S59",
        "colab_type": "code",
        "outputId": "a875aa4c-7186-48ca-eadb-c753652ed50c",
        "colab": {
          "base_uri": "https://localhost:8080/",
          "height": 308
        }
      },
      "source": [
        "plotter.plot({'Basic': history}, metric='mse')\n",
        "plt.ylim([1.5e7, 4e7])\n",
        "plt.ylabel('MSE [charges^2]')"
      ],
      "execution_count": 0,
      "outputs": [
        {
          "output_type": "execute_result",
          "data": {
            "text/plain": [
              "Text(0, 0.5, 'MSE [charges^2]')"
            ]
          },
          "metadata": {
            "tags": []
          },
          "execution_count": 66
        },
        {
          "output_type": "display_data",
          "data": {
            "image/png": "[encoded data removed]",
            "text/plain": [
              "<Figure size 432x288 with 1 Axes>"
            ]
          },
          "metadata": {
            "tags": []
          }
        }
      ]
    },
    {
      "cell_type": "markdown",
      "metadata": {
        "id": "vHD0cA4v-u25",
        "colab_type": "text"
      },
      "source": [
        "In the graphs above, we can notice that there is a little decreasing on the long run of epochs. Since we are constrained by time. We conclude that \n",
        "MSE might not be converge. From two metrics above we also easily notice that their value is really big numbers even though we have normalize the datasets.\n",
        "\n",
        "The next step, we want to see how well that regression model generalizes the `test` set.\n",
        "\n",
        "> **Note**\n",
        ">\n",
        ">Sometimes, we have to cast the format of `normed_test_data` and `test_label` into numpy array. The correct procure is\n",
        ">\n",
        "> `x_array = np.asarray(x_list)`\n",
        "\n"
      ]
    },
    {
      "cell_type": "code",
      "metadata": {
        "id": "ld6pvqJM9yJp",
        "colab_type": "code",
        "outputId": "230543db-754d-489b-b7a7-c2de595fc7ed",
        "colab": {
          "base_uri": "https://localhost:8080/",
          "height": 53
        }
      },
      "source": [
        "normed_test_data_np_arr = np.asarray(normed_test_data, dtype=float)\n",
        "test_labels_np_arr = np.asarray(test_labels, dtype=float)\n",
        "\n",
        "loss, mae, mse = reg_model.evaluate(normed_test_data_np_arr, test_labels_np_arr, \n",
        "                                    verbose=2)\n",
        "\n",
        "print(\"Testing set Mean Abs Error: {:5.2f} (charges)\".format(mae))"
      ],
      "execution_count": 0,
      "outputs": [
        {
          "output_type": "stream",
          "text": [
            "268/268 - 0s - loss: 23027157.4254 - mae: 2711.8274 - mse: 23027156.0000\n",
            "Testing set Mean Abs Error: 2711.83 (charges)\n"
          ],
          "name": "stdout"
        }
      ]
    },
    {
      "cell_type": "markdown",
      "metadata": {
        "id": "rBHc2nAwIyP_",
        "colab_type": "text"
      },
      "source": [
        "### Make prediction\n",
        "\n",
        "Finally, we predict the charges of medical cost using data in the testing set."
      ]
    },
    {
      "cell_type": "code",
      "metadata": {
        "id": "Fds06mu-Dr23",
        "colab_type": "code",
        "outputId": "becac38a-4a0b-4c27-dfc7-b71b591cc51a",
        "colab": {
          "base_uri": "https://localhost:8080/",
          "height": 283
        }
      },
      "source": [
        "test_predictions = reg_model.predict(normed_test_data_np_arr).flatten()\n",
        "\n",
        "a = plt.axes(aspect='equal')\n",
        "\n",
        "plt.scatter(test_labels, test_predictions)\n",
        "\n",
        "plt.xlabel('True Values [charges]')\n",
        "plt.ylabel('Predictions [charges]')\n",
        "lims = [0, 6e4]\n",
        "plt.xlim(lims)\n",
        "plt.ylim(lims)\n",
        "\n",
        "_ = plt.plot(lims, lims)"
      ],
      "execution_count": 0,
      "outputs": [
        {
          "output_type": "display_data",
          "data": {
            "image/png": "[encoded data removed]",
            "text/plain": [
              "<Figure size 432x288 with 1 Axes>"
            ]
          },
          "metadata": {
            "tags": []
          }
        }
      ]
    },
    {
      "cell_type": "markdown",
      "metadata": {
        "id": "0FGdqjnbJ4Nu",
        "colab_type": "text"
      },
      "source": [
        "We see on the graph there are some points are not align with the diagonal line. It means the regression model has a big error on predicting that data.\n",
        "\n",
        "The next step is taking an inspection at the error distribution."
      ]
    },
    {
      "cell_type": "code",
      "metadata": {
        "id": "w8mXWtfmJw8R",
        "colab_type": "code",
        "outputId": "5094980b-efe1-475a-a01a-e467f62c990f",
        "colab": {
          "base_uri": "https://localhost:8080/",
          "height": 282
        }
      },
      "source": [
        "error = test_predictions - test_labels\n",
        "\n",
        "plt.hist(error, bins=25)\n",
        "plt.xlabel('Prediction Error [charges]')\n",
        "_ = plt.ylabel('Count')"
      ],
      "execution_count": 0,
      "outputs": [
        {
          "output_type": "display_data",
          "data": {
            "image/png": "[encoded data removed]",
            "text/plain": [
              "<Figure size 432x288 with 1 Axes>"
            ]
          },
          "metadata": {
            "tags": []
          }
        }
      ]
    },
    {
      "cell_type": "markdown",
      "metadata": {
        "id": "YI6MyHCiKmhs",
        "colab_type": "text"
      },
      "source": [
        "This error is not quite gaussian, because our number of data is relatively small.\n",
        "\n",
        "## Conclusion"
      ]
    },
    {
      "cell_type": "code",
      "metadata": {
        "id": "J0HRN5XPKbdw",
        "colab_type": "code",
        "colab": {}
      },
      "source": [
        ""
      ],
      "execution_count": 0,
      "outputs": []
    }
  ]
}