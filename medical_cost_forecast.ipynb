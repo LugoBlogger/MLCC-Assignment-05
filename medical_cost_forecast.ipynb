{
  "nbformat": 4,
  "nbformat_minor": 0,
  "metadata": {
    "colab": {
      "name": "medical-cost-forecast.ipynb",
      "provenance": [],
      "collapsed_sections": [],
      "toc_visible": true,
      "include_colab_link": true
    },
    "kernelspec": {
      "name": "python3",
      "display_name": "Python 3"
    }
  },
  "cells": [
    {
      "cell_type": "markdown",
      "metadata": {
        "id": "view-in-github",
        "colab_type": "text"
      },
      "source": [
        "<a href=\"https://colab.research.google.com/github/LugoBlogger/MLCC-Assignment-05/blob/arul%2Fmodelling/medical_cost_forecast.ipynb\" target=\"_parent\"><img src=\"https://colab.research.google.com/assets/colab-badge.svg\" alt=\"Open In Colab\"/></a>"
      ]
    },
    {
      "cell_type": "markdown",
      "metadata": {
        "id": "bLMC3Zb-Cksh",
        "colab_type": "text"
      },
      "source": [
        "# Introduction\n",
        "\n",
        "In this notebook, we will predict health insurance cost that someone should pay annually by the given features.\n",
        "For the complete introduction, see the slides."
      ]
    },
    {
      "cell_type": "code",
      "metadata": {
        "id": "gBCFS3gaE7wn",
        "colab_type": "code",
        "outputId": "8520d203-603c-46aa-8a45-34736fe158ab",
        "colab": {
          "base_uri": "https://localhost:8080/",
          "height": 35
        }
      },
      "source": [
        "# Use seaborn for pairplot\n",
        "!pip install -q seaborn\n",
        "\n",
        "# Use some functions from tensorflow_docs\n",
        "!pip install -q git+https://github.com/tensorflow/docs"
      ],
      "execution_count": 1,
      "outputs": [
        {
          "output_type": "stream",
          "text": [
            "  Building wheel for tensorflow-docs (setup.py) ... \u001b[?25l\u001b[?25hdone\n"
          ],
          "name": "stdout"
        }
      ]
    },
    {
      "cell_type": "code",
      "metadata": {
        "id": "ZKKYz5BnFeAf",
        "colab_type": "code",
        "colab": {}
      },
      "source": [
        "# Use tensorflow 2\n",
        "%tensorflow_version 2.x"
      ],
      "execution_count": 0,
      "outputs": []
    },
    {
      "cell_type": "code",
      "metadata": {
        "id": "sPXvoENYBlC9",
        "colab_type": "code",
        "colab": {}
      },
      "source": [
        "import time\n",
        "\n",
        "import matplotlib.pyplot as plt\n",
        "import numpy as np\n",
        "import pandas as pd\n",
        "import seaborn as sns"
      ],
      "execution_count": 0,
      "outputs": []
    },
    {
      "cell_type": "code",
      "metadata": {
        "id": "zBaTzo5YEHOz",
        "colab_type": "code",
        "outputId": "02b40a59-0396-4175-ef51-731b5bb4d6b6",
        "colab": {
          "base_uri": "https://localhost:8080/",
          "height": 35
        }
      },
      "source": [
        "import tensorflow as tf\n",
        "\n",
        "from tensorflow import keras\n",
        "from tensorflow.keras import layers\n",
        "\n",
        "print(tf.__version__)"
      ],
      "execution_count": 4,
      "outputs": [
        {
          "output_type": "stream",
          "text": [
            "2.2.0-rc1\n"
          ],
          "name": "stdout"
        }
      ]
    },
    {
      "cell_type": "code",
      "metadata": {
        "id": "vLwn9MsbEOfY",
        "colab_type": "code",
        "colab": {}
      },
      "source": [
        "### this library is for callback functions\n",
        "import tensorflow_docs as tfdocs\n",
        "import tensorflow_docs.plots\n",
        "import tensorflow_docs.modeling"
      ],
      "execution_count": 0,
      "outputs": []
    },
    {
      "cell_type": "markdown",
      "metadata": {
        "id": "llvFDM09FyIu",
        "colab_type": "text"
      },
      "source": [
        "# Medical Cost Personal Datasets\n",
        "\n",
        "## Retrieve the dataset\n",
        "\n",
        "Manage the dataset into pandas' DataFrame."
      ]
    },
    {
      "cell_type": "code",
      "metadata": {
        "id": "Ca59a6eCGMsA",
        "colab_type": "code",
        "outputId": "1cb7c2bd-1d3b-4ce0-f2b5-7dd2a21f5a98",
        "colab": {
          "base_uri": "https://localhost:8080/",
          "height": 424
        }
      },
      "source": [
        "dataset = pd.read_csv(\"https://raw.githubusercontent.com/LugoBlogger/MLCC-Assignment-05/master/datasets/insurance.csv\", header=0)\n",
        "dataset"
      ],
      "execution_count": 100,
      "outputs": [
        {
          "output_type": "execute_result",
          "data": {
            "text/html": [
              "<div>\n",
              "<style scoped>\n",
              "    .dataframe tbody tr th:only-of-type {\n",
              "        vertical-align: middle;\n",
              "    }\n",
              "\n",
              "    .dataframe tbody tr th {\n",
              "        vertical-align: top;\n",
              "    }\n",
              "\n",
              "    .dataframe thead th {\n",
              "        text-align: right;\n",
              "    }\n",
              "</style>\n",
              "<table border=\"1\" class=\"dataframe\">\n",
              "  <thead>\n",
              "    <tr style=\"text-align: right;\">\n",
              "      <th></th>\n",
              "      <th>age</th>\n",
              "      <th>sex</th>\n",
              "      <th>bmi</th>\n",
              "      <th>children</th>\n",
              "      <th>smoker</th>\n",
              "      <th>region</th>\n",
              "      <th>charges</th>\n",
              "    </tr>\n",
              "  </thead>\n",
              "  <tbody>\n",
              "    <tr>\n",
              "      <th>0</th>\n",
              "      <td>19</td>\n",
              "      <td>female</td>\n",
              "      <td>27.900</td>\n",
              "      <td>0</td>\n",
              "      <td>yes</td>\n",
              "      <td>southwest</td>\n",
              "      <td>16884.92400</td>\n",
              "    </tr>\n",
              "    <tr>\n",
              "      <th>1</th>\n",
              "      <td>18</td>\n",
              "      <td>male</td>\n",
              "      <td>33.770</td>\n",
              "      <td>1</td>\n",
              "      <td>no</td>\n",
              "      <td>southeast</td>\n",
              "      <td>1725.55230</td>\n",
              "    </tr>\n",
              "    <tr>\n",
              "      <th>2</th>\n",
              "      <td>28</td>\n",
              "      <td>male</td>\n",
              "      <td>33.000</td>\n",
              "      <td>3</td>\n",
              "      <td>no</td>\n",
              "      <td>southeast</td>\n",
              "      <td>4449.46200</td>\n",
              "    </tr>\n",
              "    <tr>\n",
              "      <th>3</th>\n",
              "      <td>33</td>\n",
              "      <td>male</td>\n",
              "      <td>22.705</td>\n",
              "      <td>0</td>\n",
              "      <td>no</td>\n",
              "      <td>northwest</td>\n",
              "      <td>21984.47061</td>\n",
              "    </tr>\n",
              "    <tr>\n",
              "      <th>4</th>\n",
              "      <td>32</td>\n",
              "      <td>male</td>\n",
              "      <td>28.880</td>\n",
              "      <td>0</td>\n",
              "      <td>no</td>\n",
              "      <td>northwest</td>\n",
              "      <td>3866.85520</td>\n",
              "    </tr>\n",
              "    <tr>\n",
              "      <th>...</th>\n",
              "      <td>...</td>\n",
              "      <td>...</td>\n",
              "      <td>...</td>\n",
              "      <td>...</td>\n",
              "      <td>...</td>\n",
              "      <td>...</td>\n",
              "      <td>...</td>\n",
              "    </tr>\n",
              "    <tr>\n",
              "      <th>1333</th>\n",
              "      <td>50</td>\n",
              "      <td>male</td>\n",
              "      <td>30.970</td>\n",
              "      <td>3</td>\n",
              "      <td>no</td>\n",
              "      <td>northwest</td>\n",
              "      <td>10600.54830</td>\n",
              "    </tr>\n",
              "    <tr>\n",
              "      <th>1334</th>\n",
              "      <td>18</td>\n",
              "      <td>female</td>\n",
              "      <td>31.920</td>\n",
              "      <td>0</td>\n",
              "      <td>no</td>\n",
              "      <td>northeast</td>\n",
              "      <td>2205.98080</td>\n",
              "    </tr>\n",
              "    <tr>\n",
              "      <th>1335</th>\n",
              "      <td>18</td>\n",
              "      <td>female</td>\n",
              "      <td>36.850</td>\n",
              "      <td>0</td>\n",
              "      <td>no</td>\n",
              "      <td>southeast</td>\n",
              "      <td>1629.83350</td>\n",
              "    </tr>\n",
              "    <tr>\n",
              "      <th>1336</th>\n",
              "      <td>21</td>\n",
              "      <td>female</td>\n",
              "      <td>25.800</td>\n",
              "      <td>0</td>\n",
              "      <td>no</td>\n",
              "      <td>southwest</td>\n",
              "      <td>2007.94500</td>\n",
              "    </tr>\n",
              "    <tr>\n",
              "      <th>1337</th>\n",
              "      <td>61</td>\n",
              "      <td>female</td>\n",
              "      <td>29.070</td>\n",
              "      <td>0</td>\n",
              "      <td>yes</td>\n",
              "      <td>northwest</td>\n",
              "      <td>29141.36030</td>\n",
              "    </tr>\n",
              "  </tbody>\n",
              "</table>\n",
              "<p>1338 rows × 7 columns</p>\n",
              "</div>"
            ],
            "text/plain": [
              "      age     sex     bmi  children smoker     region      charges\n",
              "0      19  female  27.900         0    yes  southwest  16884.92400\n",
              "1      18    male  33.770         1     no  southeast   1725.55230\n",
              "2      28    male  33.000         3     no  southeast   4449.46200\n",
              "3      33    male  22.705         0     no  northwest  21984.47061\n",
              "4      32    male  28.880         0     no  northwest   3866.85520\n",
              "...   ...     ...     ...       ...    ...        ...          ...\n",
              "1333   50    male  30.970         3     no  northwest  10600.54830\n",
              "1334   18  female  31.920         0     no  northeast   2205.98080\n",
              "1335   18  female  36.850         0     no  southeast   1629.83350\n",
              "1336   21  female  25.800         0     no  southwest   2007.94500\n",
              "1337   61  female  29.070         0    yes  northwest  29141.36030\n",
              "\n",
              "[1338 rows x 7 columns]"
            ]
          },
          "metadata": {
            "tags": []
          },
          "execution_count": 100
        }
      ]
    },
    {
      "cell_type": "markdown",
      "metadata": {
        "id": "i_o-MQJPQmEY",
        "colab_type": "text"
      },
      "source": [
        "## Clean the data\n",
        "\n",
        "Checking the dataset whether its contains some undefined measurement or not."
      ]
    },
    {
      "cell_type": "code",
      "metadata": {
        "id": "UKBu_VRVKUSE",
        "colab_type": "code",
        "outputId": "48ed7186-475c-4429-e39e-063643dd1afd",
        "colab": {
          "base_uri": "https://localhost:8080/",
          "height": 162
        }
      },
      "source": [
        "dataset.isna().sum()"
      ],
      "execution_count": 101,
      "outputs": [
        {
          "output_type": "execute_result",
          "data": {
            "text/plain": [
              "age         0\n",
              "sex         0\n",
              "bmi         0\n",
              "children    0\n",
              "smoker      0\n",
              "region      0\n",
              "charges     0\n",
              "dtype: int64"
            ]
          },
          "metadata": {
            "tags": []
          },
          "execution_count": 101
        }
      ]
    },
    {
      "cell_type": "markdown",
      "metadata": {
        "id": "LzSz-tvQQ9L7",
        "colab_type": "text"
      },
      "source": [
        "Convert categorical columns into numeric with the following convention:\n",
        "\n",
        "* `sex`: male = 1, female = 2,\n",
        "\n",
        "* `smoker`: yes = 1, no = 0,\n",
        "\n",
        "* `region`: northeast = $\\displaystyle\\frac{\\pi}{4}$, northwest = $\\displaystyle\\frac{3\\pi}{4}$, southwest = $\\displaystyle\\frac{5\\pi}{4}$, southeast = $\\displaystyle\\frac{7\\pi}{4}$. We use the representation of direction by their angle on unit circle. If we compute the method `.mean`, it will make a sense (where is the region whose citizens are the most recorded)."
      ]
    },
    {
      "cell_type": "code",
      "metadata": {
        "id": "epUomxKVQiJu",
        "colab_type": "code",
        "outputId": "04358ed3-b725-4d0f-bd71-be32d79ada25",
        "colab": {
          "base_uri": "https://localhost:8080/",
          "height": 424
        }
      },
      "source": [
        "dataset.loc[dataset['sex'] == 'male', 'sex'] = 1\n",
        "dataset.loc[dataset['sex'] == 'female', 'sex'] = 2\n",
        "\n",
        "dataset.loc[dataset['smoker'] == 'yes', 'smoker'] = 1\n",
        "dataset.loc[dataset['smoker'] == 'no', 'smoker'] = 0\n",
        "\n",
        "dataset.loc[dataset['region'] == 'northeast', 'region'] = np.pi/4\n",
        "dataset.loc[dataset['region'] == 'northwest', 'region'] = 3*np.pi/4\n",
        "dataset.loc[dataset['region'] == 'southwest', 'region'] = 5*np.pi/4\n",
        "dataset.loc[dataset['region'] == 'southeast', 'region'] = 7*np.pi/4\n",
        "\n",
        "dataset['region'] = pd.to_numeric(dataset['region'])\n",
        "\n",
        "dataset"
      ],
      "execution_count": 102,
      "outputs": [
        {
          "output_type": "execute_result",
          "data": {
            "text/html": [
              "<div>\n",
              "<style scoped>\n",
              "    .dataframe tbody tr th:only-of-type {\n",
              "        vertical-align: middle;\n",
              "    }\n",
              "\n",
              "    .dataframe tbody tr th {\n",
              "        vertical-align: top;\n",
              "    }\n",
              "\n",
              "    .dataframe thead th {\n",
              "        text-align: right;\n",
              "    }\n",
              "</style>\n",
              "<table border=\"1\" class=\"dataframe\">\n",
              "  <thead>\n",
              "    <tr style=\"text-align: right;\">\n",
              "      <th></th>\n",
              "      <th>age</th>\n",
              "      <th>sex</th>\n",
              "      <th>bmi</th>\n",
              "      <th>children</th>\n",
              "      <th>smoker</th>\n",
              "      <th>region</th>\n",
              "      <th>charges</th>\n",
              "    </tr>\n",
              "  </thead>\n",
              "  <tbody>\n",
              "    <tr>\n",
              "      <th>0</th>\n",
              "      <td>19</td>\n",
              "      <td>2</td>\n",
              "      <td>27.900</td>\n",
              "      <td>0</td>\n",
              "      <td>1</td>\n",
              "      <td>3.926991</td>\n",
              "      <td>16884.92400</td>\n",
              "    </tr>\n",
              "    <tr>\n",
              "      <th>1</th>\n",
              "      <td>18</td>\n",
              "      <td>1</td>\n",
              "      <td>33.770</td>\n",
              "      <td>1</td>\n",
              "      <td>0</td>\n",
              "      <td>5.497787</td>\n",
              "      <td>1725.55230</td>\n",
              "    </tr>\n",
              "    <tr>\n",
              "      <th>2</th>\n",
              "      <td>28</td>\n",
              "      <td>1</td>\n",
              "      <td>33.000</td>\n",
              "      <td>3</td>\n",
              "      <td>0</td>\n",
              "      <td>5.497787</td>\n",
              "      <td>4449.46200</td>\n",
              "    </tr>\n",
              "    <tr>\n",
              "      <th>3</th>\n",
              "      <td>33</td>\n",
              "      <td>1</td>\n",
              "      <td>22.705</td>\n",
              "      <td>0</td>\n",
              "      <td>0</td>\n",
              "      <td>2.356194</td>\n",
              "      <td>21984.47061</td>\n",
              "    </tr>\n",
              "    <tr>\n",
              "      <th>4</th>\n",
              "      <td>32</td>\n",
              "      <td>1</td>\n",
              "      <td>28.880</td>\n",
              "      <td>0</td>\n",
              "      <td>0</td>\n",
              "      <td>2.356194</td>\n",
              "      <td>3866.85520</td>\n",
              "    </tr>\n",
              "    <tr>\n",
              "      <th>...</th>\n",
              "      <td>...</td>\n",
              "      <td>...</td>\n",
              "      <td>...</td>\n",
              "      <td>...</td>\n",
              "      <td>...</td>\n",
              "      <td>...</td>\n",
              "      <td>...</td>\n",
              "    </tr>\n",
              "    <tr>\n",
              "      <th>1333</th>\n",
              "      <td>50</td>\n",
              "      <td>1</td>\n",
              "      <td>30.970</td>\n",
              "      <td>3</td>\n",
              "      <td>0</td>\n",
              "      <td>2.356194</td>\n",
              "      <td>10600.54830</td>\n",
              "    </tr>\n",
              "    <tr>\n",
              "      <th>1334</th>\n",
              "      <td>18</td>\n",
              "      <td>2</td>\n",
              "      <td>31.920</td>\n",
              "      <td>0</td>\n",
              "      <td>0</td>\n",
              "      <td>0.785398</td>\n",
              "      <td>2205.98080</td>\n",
              "    </tr>\n",
              "    <tr>\n",
              "      <th>1335</th>\n",
              "      <td>18</td>\n",
              "      <td>2</td>\n",
              "      <td>36.850</td>\n",
              "      <td>0</td>\n",
              "      <td>0</td>\n",
              "      <td>5.497787</td>\n",
              "      <td>1629.83350</td>\n",
              "    </tr>\n",
              "    <tr>\n",
              "      <th>1336</th>\n",
              "      <td>21</td>\n",
              "      <td>2</td>\n",
              "      <td>25.800</td>\n",
              "      <td>0</td>\n",
              "      <td>0</td>\n",
              "      <td>3.926991</td>\n",
              "      <td>2007.94500</td>\n",
              "    </tr>\n",
              "    <tr>\n",
              "      <th>1337</th>\n",
              "      <td>61</td>\n",
              "      <td>2</td>\n",
              "      <td>29.070</td>\n",
              "      <td>0</td>\n",
              "      <td>1</td>\n",
              "      <td>2.356194</td>\n",
              "      <td>29141.36030</td>\n",
              "    </tr>\n",
              "  </tbody>\n",
              "</table>\n",
              "<p>1338 rows × 7 columns</p>\n",
              "</div>"
            ],
            "text/plain": [
              "      age  sex     bmi  children  smoker    region      charges\n",
              "0      19    2  27.900         0       1  3.926991  16884.92400\n",
              "1      18    1  33.770         1       0  5.497787   1725.55230\n",
              "2      28    1  33.000         3       0  5.497787   4449.46200\n",
              "3      33    1  22.705         0       0  2.356194  21984.47061\n",
              "4      32    1  28.880         0       0  2.356194   3866.85520\n",
              "...   ...  ...     ...       ...     ...       ...          ...\n",
              "1333   50    1  30.970         3       0  2.356194  10600.54830\n",
              "1334   18    2  31.920         0       0  0.785398   2205.98080\n",
              "1335   18    2  36.850         0       0  5.497787   1629.83350\n",
              "1336   21    2  25.800         0       0  3.926991   2007.94500\n",
              "1337   61    2  29.070         0       1  2.356194  29141.36030\n",
              "\n",
              "[1338 rows x 7 columns]"
            ]
          },
          "metadata": {
            "tags": []
          },
          "execution_count": 102
        }
      ]
    },
    {
      "cell_type": "code",
      "metadata": {
        "id": "PuhKD20botvn",
        "colab_type": "code",
        "outputId": "5b0ad007-3000-4b1a-a655-bbbf0bd7083a",
        "colab": {
          "base_uri": "https://localhost:8080/",
          "height": 206
        }
      },
      "source": [
        "target = dataset['charges']\n",
        "features = dataset.drop(columns='charges')\n",
        "\n",
        "features.head()"
      ],
      "execution_count": 103,
      "outputs": [
        {
          "output_type": "execute_result",
          "data": {
            "text/html": [
              "<div>\n",
              "<style scoped>\n",
              "    .dataframe tbody tr th:only-of-type {\n",
              "        vertical-align: middle;\n",
              "    }\n",
              "\n",
              "    .dataframe tbody tr th {\n",
              "        vertical-align: top;\n",
              "    }\n",
              "\n",
              "    .dataframe thead th {\n",
              "        text-align: right;\n",
              "    }\n",
              "</style>\n",
              "<table border=\"1\" class=\"dataframe\">\n",
              "  <thead>\n",
              "    <tr style=\"text-align: right;\">\n",
              "      <th></th>\n",
              "      <th>age</th>\n",
              "      <th>sex</th>\n",
              "      <th>bmi</th>\n",
              "      <th>children</th>\n",
              "      <th>smoker</th>\n",
              "      <th>region</th>\n",
              "    </tr>\n",
              "  </thead>\n",
              "  <tbody>\n",
              "    <tr>\n",
              "      <th>0</th>\n",
              "      <td>19</td>\n",
              "      <td>2</td>\n",
              "      <td>27.900</td>\n",
              "      <td>0</td>\n",
              "      <td>1</td>\n",
              "      <td>3.926991</td>\n",
              "    </tr>\n",
              "    <tr>\n",
              "      <th>1</th>\n",
              "      <td>18</td>\n",
              "      <td>1</td>\n",
              "      <td>33.770</td>\n",
              "      <td>1</td>\n",
              "      <td>0</td>\n",
              "      <td>5.497787</td>\n",
              "    </tr>\n",
              "    <tr>\n",
              "      <th>2</th>\n",
              "      <td>28</td>\n",
              "      <td>1</td>\n",
              "      <td>33.000</td>\n",
              "      <td>3</td>\n",
              "      <td>0</td>\n",
              "      <td>5.497787</td>\n",
              "    </tr>\n",
              "    <tr>\n",
              "      <th>3</th>\n",
              "      <td>33</td>\n",
              "      <td>1</td>\n",
              "      <td>22.705</td>\n",
              "      <td>0</td>\n",
              "      <td>0</td>\n",
              "      <td>2.356194</td>\n",
              "    </tr>\n",
              "    <tr>\n",
              "      <th>4</th>\n",
              "      <td>32</td>\n",
              "      <td>1</td>\n",
              "      <td>28.880</td>\n",
              "      <td>0</td>\n",
              "      <td>0</td>\n",
              "      <td>2.356194</td>\n",
              "    </tr>\n",
              "  </tbody>\n",
              "</table>\n",
              "</div>"
            ],
            "text/plain": [
              "   age  sex     bmi  children  smoker    region\n",
              "0   19    2  27.900         0       1  3.926991\n",
              "1   18    1  33.770         1       0  5.497787\n",
              "2   28    1  33.000         3       0  5.497787\n",
              "3   33    1  22.705         0       0  2.356194\n",
              "4   32    1  28.880         0       0  2.356194"
            ]
          },
          "metadata": {
            "tags": []
          },
          "execution_count": 103
        }
      ]
    },
    {
      "cell_type": "markdown",
      "metadata": {
        "id": "1k5TfULDV6f4",
        "colab_type": "text"
      },
      "source": [
        "## Split the data into a training set and a test set."
      ]
    },
    {
      "cell_type": "code",
      "metadata": {
        "id": "WGfC_GlDnYm4",
        "colab_type": "code",
        "colab": {}
      },
      "source": [
        "class SortedStratifiedKFold:\n",
        "    \n",
        "    \"\"\"\n",
        "    This is a class for split data into a few groups, which is each group has same distribution.\n",
        "    Usually this method regarded as Stratified K Fold Cross Validation. But I create another one\n",
        "    for continuous data at target's dataset with Sorted Stratified K Fold method. This method inspired\n",
        "    by article (https://scottclowe.com/2016-03-19-stratified-regression-partitions/).\n",
        "    \n",
        "    This method is useful to make sure validation and test performance gives depicts \n",
        "    the expected performance of the model with less bias and variance.\n",
        "    \"\"\"\n",
        "    \n",
        "    def __init__(self, n_splits):\n",
        "        self._n_splits = n_splits\n",
        "    \n",
        "    def split(self, X, y):\n",
        "        x = X.copy()\n",
        "        \n",
        "        # sorted target values\n",
        "        self._sorted_idx = y.sort_values().index\n",
        "        \n",
        "        self._groups = [list() for _ in range(self._n_splits)]\n",
        "        it = int(np.ceil(x.shape[0] / self._n_splits))\n",
        "        \n",
        "        for i in range(it):\n",
        "            c = i * self._n_splits\n",
        "            \n",
        "            if (len(y) % self._n_splits != 0) and i==(it-1):\n",
        "                rand_idx = np.random.permutation(range(len(y) % self._n_splits)) + c\n",
        "                \n",
        "                for j in range(len(rand_idx)):\n",
        "                    self._groups[j].append(self._sorted_idx[rand_idx[j]])\n",
        "                \n",
        "            else:\n",
        "                rand_idx = np.random.permutation(range(self._n_splits)) + c\n",
        "                \n",
        "                for j in range(self._n_splits):\n",
        "                    self._groups[j].append(self._sorted_idx[rand_idx[j]])\n",
        "                    \n",
        "                  \n",
        "        return [(x.iloc[list(set(y.index) - set(idx))], y.iloc[list(set(y.index) - set(idx))], \n",
        "                                 x.iloc[idx], y.iloc[idx]) for idx in self._groups]"
      ],
      "execution_count": 0,
      "outputs": []
    },
    {
      "cell_type": "markdown",
      "metadata": {
        "id": "vBT1_z9wqi6Q",
        "colab_type": "text"
      },
      "source": [
        "We divided the dataset into 5 groups to get 20% of data for test set"
      ]
    },
    {
      "cell_type": "code",
      "metadata": {
        "id": "C3CneLVqoQb4",
        "colab_type": "code",
        "outputId": "6860960d-a7f2-4000-e7a5-b75cf67c5051",
        "colab": {
          "base_uri": "https://localhost:8080/",
          "height": 404
        }
      },
      "source": [
        "n_splits = 5\n",
        "\n",
        "ssfk = SortedStratifiedKFold(n_splits=n_splits)\n",
        "\n",
        "train_test_split = ssfk.split(features, target)\n",
        "train_features, train_target, test_features, test_target = train_test_split[0]\n",
        "\n",
        "plt.figure(figsize=(18,6))\n",
        "plt.subplot(121)\n",
        "train_target.hist().set_title('Train target data distribution')\n",
        "plt.xlabel('charges')\n",
        "plt.ylabel('freq.')\n",
        "\n",
        "plt.subplot(122)\n",
        "test_target.hist().set_title('Test target data distribution')\n",
        "plt.xlabel('charges')\n",
        "plt.ylabel('freq.');"
      ],
      "execution_count": 105,
      "outputs": [
        {
          "output_type": "display_data",
          "data": {
            "image/png": "[encoded data removed]",
            "text/plain": [
              "<Figure size 1296x432 with 2 Axes>"
            ]
          },
          "metadata": {
            "tags": []
          }
        }
      ]
    },
    {
      "cell_type": "code",
      "metadata": {
        "id": "7zgpbigsMt7G",
        "colab_type": "code",
        "colab": {
          "base_uri": "https://localhost:8080/",
          "height": 235
        },
        "outputId": "eb6856f3-da11-45aa-e48e-8f79e924cd57"
      },
      "source": [
        "test_target"
      ],
      "execution_count": 106,
      "outputs": [
        {
          "output_type": "execute_result",
          "data": {
            "text/plain": [
              "1244     1135.94070\n",
              "194      1137.46970\n",
              "487      1253.93600\n",
              "513      1256.29900\n",
              "478      1534.30450\n",
              "           ...     \n",
              "94      47291.05500\n",
              "328     47928.03000\n",
              "901     48673.55880\n",
              "1146    52590.82939\n",
              "543     63770.42801\n",
              "Name: charges, Length: 268, dtype: float64"
            ]
          },
          "metadata": {
            "tags": []
          },
          "execution_count": 106
        }
      ]
    },
    {
      "cell_type": "markdown",
      "metadata": {
        "id": "ZwYyBYWEW7eU",
        "colab_type": "text"
      },
      "source": [
        "## Inspect the data\n",
        "\n",
        "We look at the joint distribution of a few pairs of columns from the training set. The diagonal elements represent kernel density estimation (kde) for univariate variables for given columns. We include all the columns to inspect which variable has a correlation to another variable"
      ]
    },
    {
      "cell_type": "code",
      "metadata": {
        "id": "gcJVPodLtNkI",
        "colab_type": "code",
        "outputId": "858bb6f4-4a5f-4509-a00a-f7118856b5c3",
        "colab": {
          "base_uri": "https://localhost:8080/",
          "height": 206
        }
      },
      "source": [
        "train_dataset = train_features.copy()\n",
        "train_dataset[train_target.name] = train_target.copy()\n",
        "train_dataset.head()"
      ],
      "execution_count": 107,
      "outputs": [
        {
          "output_type": "execute_result",
          "data": {
            "text/html": [
              "<div>\n",
              "<style scoped>\n",
              "    .dataframe tbody tr th:only-of-type {\n",
              "        vertical-align: middle;\n",
              "    }\n",
              "\n",
              "    .dataframe tbody tr th {\n",
              "        vertical-align: top;\n",
              "    }\n",
              "\n",
              "    .dataframe thead th {\n",
              "        text-align: right;\n",
              "    }\n",
              "</style>\n",
              "<table border=\"1\" class=\"dataframe\">\n",
              "  <thead>\n",
              "    <tr style=\"text-align: right;\">\n",
              "      <th></th>\n",
              "      <th>age</th>\n",
              "      <th>sex</th>\n",
              "      <th>bmi</th>\n",
              "      <th>children</th>\n",
              "      <th>smoker</th>\n",
              "      <th>region</th>\n",
              "      <th>charges</th>\n",
              "    </tr>\n",
              "  </thead>\n",
              "  <tbody>\n",
              "    <tr>\n",
              "      <th>1</th>\n",
              "      <td>18</td>\n",
              "      <td>1</td>\n",
              "      <td>33.77</td>\n",
              "      <td>1</td>\n",
              "      <td>0</td>\n",
              "      <td>5.497787</td>\n",
              "      <td>1725.5523</td>\n",
              "    </tr>\n",
              "    <tr>\n",
              "      <th>2</th>\n",
              "      <td>28</td>\n",
              "      <td>1</td>\n",
              "      <td>33.00</td>\n",
              "      <td>3</td>\n",
              "      <td>0</td>\n",
              "      <td>5.497787</td>\n",
              "      <td>4449.4620</td>\n",
              "    </tr>\n",
              "    <tr>\n",
              "      <th>4</th>\n",
              "      <td>32</td>\n",
              "      <td>1</td>\n",
              "      <td>28.88</td>\n",
              "      <td>0</td>\n",
              "      <td>0</td>\n",
              "      <td>2.356194</td>\n",
              "      <td>3866.8552</td>\n",
              "    </tr>\n",
              "    <tr>\n",
              "      <th>5</th>\n",
              "      <td>31</td>\n",
              "      <td>2</td>\n",
              "      <td>25.74</td>\n",
              "      <td>0</td>\n",
              "      <td>0</td>\n",
              "      <td>5.497787</td>\n",
              "      <td>3756.6216</td>\n",
              "    </tr>\n",
              "    <tr>\n",
              "      <th>7</th>\n",
              "      <td>37</td>\n",
              "      <td>2</td>\n",
              "      <td>27.74</td>\n",
              "      <td>3</td>\n",
              "      <td>0</td>\n",
              "      <td>2.356194</td>\n",
              "      <td>7281.5056</td>\n",
              "    </tr>\n",
              "  </tbody>\n",
              "</table>\n",
              "</div>"
            ],
            "text/plain": [
              "   age  sex    bmi  children  smoker    region    charges\n",
              "1   18    1  33.77         1       0  5.497787  1725.5523\n",
              "2   28    1  33.00         3       0  5.497787  4449.4620\n",
              "4   32    1  28.88         0       0  2.356194  3866.8552\n",
              "5   31    2  25.74         0       0  5.497787  3756.6216\n",
              "7   37    2  27.74         3       0  2.356194  7281.5056"
            ]
          },
          "metadata": {
            "tags": []
          },
          "execution_count": 107
        }
      ]
    },
    {
      "cell_type": "code",
      "metadata": {
        "id": "iK4789xEWxtj",
        "colab_type": "code",
        "outputId": "2ce84a58-7ffc-48b7-cab3-ad824a733644",
        "colab": {
          "base_uri": "https://localhost:8080/",
          "height": 1000
        }
      },
      "source": [
        "sns.pairplot(train_dataset[['age', 'sex', 'bmi', 'children', 'smoker', \n",
        "                            'region', 'charges']], \n",
        "             diag_kind='kde', height=2);"
      ],
      "execution_count": 108,
      "outputs": [
        {
          "output_type": "display_data",
          "data": {
            "image/png": "[encoded data removed]",
            "text/plain": [
              "<Figure size 1008x1008 with 56 Axes>"
            ]
          },
          "metadata": {
            "tags": []
          }
        }
      ]
    },
    {
      "cell_type": "markdown",
      "metadata": {
        "id": "ZPzyen-Vd0Io",
        "colab_type": "text"
      },
      "source": [
        "If we look at the above table, we can easily notice how categorical and numerical data behave. For continous ones, they are correlated like many clusters, but for the discrete ones, they grouped and distributed by their categories.\n",
        "\n",
        "We also inspect at their statistical description:"
      ]
    },
    {
      "cell_type": "code",
      "metadata": {
        "id": "Q7FTmLoaXx4g",
        "colab_type": "code",
        "outputId": "ac61367e-ad49-41de-d253-d482bdb30f3d",
        "colab": {
          "base_uri": "https://localhost:8080/",
          "height": 237
        }
      },
      "source": [
        "train_stats = train_dataset.describe()\n",
        "train_stats.pop('charges')\n",
        "\n",
        "# for pretty output\n",
        "train_stats = train_stats.transpose()\n",
        "train_stats"
      ],
      "execution_count": 109,
      "outputs": [
        {
          "output_type": "execute_result",
          "data": {
            "text/html": [
              "<div>\n",
              "<style scoped>\n",
              "    .dataframe tbody tr th:only-of-type {\n",
              "        vertical-align: middle;\n",
              "    }\n",
              "\n",
              "    .dataframe tbody tr th {\n",
              "        vertical-align: top;\n",
              "    }\n",
              "\n",
              "    .dataframe thead th {\n",
              "        text-align: right;\n",
              "    }\n",
              "</style>\n",
              "<table border=\"1\" class=\"dataframe\">\n",
              "  <thead>\n",
              "    <tr style=\"text-align: right;\">\n",
              "      <th></th>\n",
              "      <th>count</th>\n",
              "      <th>mean</th>\n",
              "      <th>std</th>\n",
              "      <th>min</th>\n",
              "      <th>25%</th>\n",
              "      <th>50%</th>\n",
              "      <th>75%</th>\n",
              "      <th>max</th>\n",
              "    </tr>\n",
              "  </thead>\n",
              "  <tbody>\n",
              "    <tr>\n",
              "      <th>age</th>\n",
              "      <td>1070.0</td>\n",
              "      <td>39.227103</td>\n",
              "      <td>13.937916</td>\n",
              "      <td>18.000000</td>\n",
              "      <td>27.000000</td>\n",
              "      <td>39.000000</td>\n",
              "      <td>51.000000</td>\n",
              "      <td>64.000000</td>\n",
              "    </tr>\n",
              "    <tr>\n",
              "      <th>sex</th>\n",
              "      <td>1070.0</td>\n",
              "      <td>1.498131</td>\n",
              "      <td>0.500230</td>\n",
              "      <td>1.000000</td>\n",
              "      <td>1.000000</td>\n",
              "      <td>1.000000</td>\n",
              "      <td>2.000000</td>\n",
              "      <td>2.000000</td>\n",
              "    </tr>\n",
              "    <tr>\n",
              "      <th>bmi</th>\n",
              "      <td>1070.0</td>\n",
              "      <td>30.672664</td>\n",
              "      <td>6.150087</td>\n",
              "      <td>15.960000</td>\n",
              "      <td>26.336250</td>\n",
              "      <td>30.495000</td>\n",
              "      <td>34.693750</td>\n",
              "      <td>53.130000</td>\n",
              "    </tr>\n",
              "    <tr>\n",
              "      <th>children</th>\n",
              "      <td>1070.0</td>\n",
              "      <td>1.098131</td>\n",
              "      <td>1.202078</td>\n",
              "      <td>0.000000</td>\n",
              "      <td>0.000000</td>\n",
              "      <td>1.000000</td>\n",
              "      <td>2.000000</td>\n",
              "      <td>5.000000</td>\n",
              "    </tr>\n",
              "    <tr>\n",
              "      <th>smoker</th>\n",
              "      <td>1070.0</td>\n",
              "      <td>0.202804</td>\n",
              "      <td>0.402276</td>\n",
              "      <td>0.000000</td>\n",
              "      <td>0.000000</td>\n",
              "      <td>0.000000</td>\n",
              "      <td>0.000000</td>\n",
              "      <td>1.000000</td>\n",
              "    </tr>\n",
              "    <tr>\n",
              "      <th>region</th>\n",
              "      <td>1070.0</td>\n",
              "      <td>3.228207</td>\n",
              "      <td>1.766684</td>\n",
              "      <td>0.785398</td>\n",
              "      <td>2.356194</td>\n",
              "      <td>3.926991</td>\n",
              "      <td>5.497787</td>\n",
              "      <td>5.497787</td>\n",
              "    </tr>\n",
              "  </tbody>\n",
              "</table>\n",
              "</div>"
            ],
            "text/plain": [
              "           count       mean        std  ...        50%        75%        max\n",
              "age       1070.0  39.227103  13.937916  ...  39.000000  51.000000  64.000000\n",
              "sex       1070.0   1.498131   0.500230  ...   1.000000   2.000000   2.000000\n",
              "bmi       1070.0  30.672664   6.150087  ...  30.495000  34.693750  53.130000\n",
              "children  1070.0   1.098131   1.202078  ...   1.000000   2.000000   5.000000\n",
              "smoker    1070.0   0.202804   0.402276  ...   0.000000   0.000000   1.000000\n",
              "region    1070.0   3.228207   1.766684  ...   3.926991   5.497787   5.497787\n",
              "\n",
              "[6 rows x 8 columns]"
            ]
          },
          "metadata": {
            "tags": []
          },
          "execution_count": 109
        }
      ]
    },
    {
      "cell_type": "markdown",
      "metadata": {
        "id": "2DjgkfdYpr9b",
        "colab_type": "text"
      },
      "source": [
        "## Normalize the data"
      ]
    },
    {
      "cell_type": "code",
      "metadata": {
        "id": "XJjXQ4wFpzTC",
        "colab_type": "code",
        "colab": {}
      },
      "source": [
        "def normalize(x_val):\n",
        "    return (x_val - train_stats['mean']) / train_stats['std']\n",
        "\n",
        "normed_train_features = normalize(train_features)\n",
        "normed_test_features = normalize(test_features)"
      ],
      "execution_count": 0,
      "outputs": []
    },
    {
      "cell_type": "code",
      "metadata": {
        "id": "jm9U0OUw7saq",
        "colab_type": "code",
        "outputId": "e61e9da7-63cc-4875-ee12-15cdd4dea199",
        "colab": {
          "base_uri": "https://localhost:8080/",
          "height": 206
        }
      },
      "source": [
        "normed_train_features.head()"
      ],
      "execution_count": 111,
      "outputs": [
        {
          "output_type": "execute_result",
          "data": {
            "text/html": [
              "<div>\n",
              "<style scoped>\n",
              "    .dataframe tbody tr th:only-of-type {\n",
              "        vertical-align: middle;\n",
              "    }\n",
              "\n",
              "    .dataframe tbody tr th {\n",
              "        vertical-align: top;\n",
              "    }\n",
              "\n",
              "    .dataframe thead th {\n",
              "        text-align: right;\n",
              "    }\n",
              "</style>\n",
              "<table border=\"1\" class=\"dataframe\">\n",
              "  <thead>\n",
              "    <tr style=\"text-align: right;\">\n",
              "      <th></th>\n",
              "      <th>age</th>\n",
              "      <th>sex</th>\n",
              "      <th>bmi</th>\n",
              "      <th>children</th>\n",
              "      <th>smoker</th>\n",
              "      <th>region</th>\n",
              "    </tr>\n",
              "  </thead>\n",
              "  <tbody>\n",
              "    <tr>\n",
              "      <th>1</th>\n",
              "      <td>-1.522975</td>\n",
              "      <td>-0.995803</td>\n",
              "      <td>0.503625</td>\n",
              "      <td>-0.081634</td>\n",
              "      <td>-0.504141</td>\n",
              "      <td>1.284655</td>\n",
              "    </tr>\n",
              "    <tr>\n",
              "      <th>2</th>\n",
              "      <td>-0.805508</td>\n",
              "      <td>-0.995803</td>\n",
              "      <td>0.378423</td>\n",
              "      <td>1.582151</td>\n",
              "      <td>-0.504141</td>\n",
              "      <td>1.284655</td>\n",
              "    </tr>\n",
              "    <tr>\n",
              "      <th>4</th>\n",
              "      <td>-0.518521</td>\n",
              "      <td>-0.995803</td>\n",
              "      <td>-0.291486</td>\n",
              "      <td>-0.913527</td>\n",
              "      <td>-0.504141</td>\n",
              "      <td>-0.493587</td>\n",
              "    </tr>\n",
              "    <tr>\n",
              "      <th>5</th>\n",
              "      <td>-0.590268</td>\n",
              "      <td>1.003276</td>\n",
              "      <td>-0.802048</td>\n",
              "      <td>-0.913527</td>\n",
              "      <td>-0.504141</td>\n",
              "      <td>1.284655</td>\n",
              "    </tr>\n",
              "    <tr>\n",
              "      <th>7</th>\n",
              "      <td>-0.159787</td>\n",
              "      <td>1.003276</td>\n",
              "      <td>-0.476849</td>\n",
              "      <td>1.582151</td>\n",
              "      <td>-0.504141</td>\n",
              "      <td>-0.493587</td>\n",
              "    </tr>\n",
              "  </tbody>\n",
              "</table>\n",
              "</div>"
            ],
            "text/plain": [
              "        age       sex       bmi  children    smoker    region\n",
              "1 -1.522975 -0.995803  0.503625 -0.081634 -0.504141  1.284655\n",
              "2 -0.805508 -0.995803  0.378423  1.582151 -0.504141  1.284655\n",
              "4 -0.518521 -0.995803 -0.291486 -0.913527 -0.504141 -0.493587\n",
              "5 -0.590268  1.003276 -0.802048 -0.913527 -0.504141  1.284655\n",
              "7 -0.159787  1.003276 -0.476849  1.582151 -0.504141 -0.493587"
            ]
          },
          "metadata": {
            "tags": []
          },
          "execution_count": 111
        }
      ]
    },
    {
      "cell_type": "markdown",
      "metadata": {
        "id": "4SuB__1GJFJL",
        "colab_type": "text"
      },
      "source": [
        "# Modelling Data"
      ]
    },
    {
      "cell_type": "markdown",
      "metadata": {
        "id": "yGlBj4oFvEgw",
        "colab_type": "text"
      },
      "source": [
        "## Construct the model\n",
        "In this model we use the multilayer perceptron model with two densely connected hidden layars (`layer.Dense(64)`), and an output layer that returns a single continuous value (`layer.Dense(1)`).\n"
      ]
    },
    {
      "cell_type": "code",
      "metadata": {
        "id": "Q18Ww5EswCdV",
        "colab_type": "code",
        "colab": {}
      },
      "source": [
        "def multilayer_perceptron(num_features, learning_rate, optimizers, regularizer_rate=0, dropout_rate=0):\n",
        "    \n",
        "    num_perceptron=64\n",
        "    \n",
        "    # set optimizers\n",
        "    if optimizers=='adam':\n",
        "        opt = tf.keras.optimizers.Adam(lr=learning_rate)\n",
        "    elif optimizers=='rmsprop':\n",
        "        opt = tf.keras.optimizers.RMSprop(lr=learning_rate)\n",
        "    elif optimizers=='sgd':\n",
        "        opt = tf.keras.optimizers.SGD(lr=learning_rate)\n",
        "    \n",
        "    \n",
        "    model = tf.keras.models.Sequential()\n",
        "    model.add(tf.keras.layers.Dense(units=num_perceptron, activation='relu', \n",
        "                                    kernel_regularizer=tf.keras.regularizers.l2(regularizer_rate), \n",
        "                                    input_shape=(num_features,)))\n",
        "    model.add(tf.keras.layers.Dropout(dropout_rate))\n",
        "    model.add(tf.keras.layers.Dense(units=num_perceptron, \n",
        "                                    kernel_regularizer=tf.keras.regularizers.l2(regularizer_rate), \n",
        "                                    activation='relu'))\n",
        "    model.add(tf.keras.layers.Dropout(dropout_rate))\n",
        "    model.add(tf.keras.layers.Dense(units=1, activation='relu'))\n",
        "    \n",
        "        \n",
        "    model.compile(optimizer=opt, loss='mae', \n",
        "                  metrics=['mae', 'mse'])\n",
        "    \n",
        "    return model\n",
        "    \n",
        "    \n",
        "def train_model(model, features, target, epoch):\n",
        "    \n",
        "    history = model.fit(x=features, y=target, epochs=epoch, verbose=0)\n",
        "    \n",
        "    hist = pd.DataFrame(history.history)\n",
        "    \n",
        "    return model, hist"
      ],
      "execution_count": 0,
      "outputs": []
    },
    {
      "cell_type": "markdown",
      "metadata": {
        "id": "rR5NmjFQ432e",
        "colab_type": "text"
      },
      "source": [
        "## Hypertuning Parameter"
      ]
    },
    {
      "cell_type": "markdown",
      "metadata": {
        "id": "X5i6-PDp4-ul",
        "colab_type": "text"
      },
      "source": [
        "### Optimizer with different learning rate"
      ]
    },
    {
      "cell_type": "code",
      "metadata": {
        "id": "AW6UbhPnFMzB",
        "colab_type": "code",
        "colab": {}
      },
      "source": [
        "normed_train_features = normed_train_features.reset_index()[features.columns]\n",
        "train_target = train_target.reset_index()['charges']\n",
        "\n",
        "ssfk = SortedStratifiedKFold(n_splits=n_splits)\n",
        "\n",
        "# train_val_split contains for elements of tuples \n",
        "# (train_feature, train_target, test_feature, test_target) because we use \n",
        "# n_splits = 5\n",
        "\n",
        "train_val_split = ssfk.split(normed_train_features, train_target)"
      ],
      "execution_count": 0,
      "outputs": []
    },
    {
      "cell_type": "code",
      "metadata": {
        "id": "h_9N5Py6EhCa",
        "colab_type": "code",
        "outputId": "d8e2c935-0819-4677-bf74-b1c6796fa3c1",
        "colab": {
          "base_uri": "https://localhost:8080/",
          "height": 1000
        }
      },
      "source": [
        "plt.figure(figsize=(16, 30))\n",
        "for i, (train_feature, train_target, test_feature, test_target) in enumerate(train_val_split):\n",
        "    plt.subplot(5, 2, 2*i + 1)\n",
        "    train_target.hist().set_title(\"train target data distribution\")\n",
        "    plt.xlabel('charges')\n",
        "    plt.ylabel('freq.')\n",
        "    \n",
        "    plt.subplot(5, 2, 2*(i+1))\n",
        "    test_target.hist().set_title(\"test target data distribution\")\n",
        "    plt.xlabel('charges')\n",
        "    plt.ylabel('freq.')\n",
        "\n",
        "plt.subplots_adjust(hspace=0.3)"
      ],
      "execution_count": 114,
      "outputs": [
        {
          "output_type": "display_data",
          "data": {
            "image/png": "[encoded data removed]",
            "text/plain": [
              "<Figure size 1152x2160 with 10 Axes>"
            ]
          },
          "metadata": {
            "tags": []
          }
        }
      ]
    },
    {
      "cell_type": "code",
      "metadata": {
        "id": "Ej91jGMYS5zX",
        "colab_type": "code",
        "outputId": "9741a39b-be13-4bec-804b-2c28c6e429ee",
        "colab": {
          "base_uri": "https://localhost:8080/",
          "height": 35
        }
      },
      "source": [
        "train_target.shape"
      ],
      "execution_count": 115,
      "outputs": [
        {
          "output_type": "execute_result",
          "data": {
            "text/plain": [
              "(856,)"
            ]
          },
          "metadata": {
            "tags": []
          },
          "execution_count": 115
        }
      ]
    },
    {
      "cell_type": "code",
      "metadata": {
        "id": "KsDpJX8QRJpB",
        "colab_type": "code",
        "outputId": "f3cf03e7-0b72-4676-f771-8a1d6ede0e9c",
        "colab": {
          "base_uri": "https://localhost:8080/",
          "height": 331
        }
      },
      "source": [
        "learning_rates_list = [.001, .0025, .005, .0075, .01, .025, .05, .075, .1]\n",
        "result_report = pd.DataFrame({'Learning Rate': learning_rates_list})\n",
        "result_report"
      ],
      "execution_count": 116,
      "outputs": [
        {
          "output_type": "execute_result",
          "data": {
            "text/html": [
              "<div>\n",
              "<style scoped>\n",
              "    .dataframe tbody tr th:only-of-type {\n",
              "        vertical-align: middle;\n",
              "    }\n",
              "\n",
              "    .dataframe tbody tr th {\n",
              "        vertical-align: top;\n",
              "    }\n",
              "\n",
              "    .dataframe thead th {\n",
              "        text-align: right;\n",
              "    }\n",
              "</style>\n",
              "<table border=\"1\" class=\"dataframe\">\n",
              "  <thead>\n",
              "    <tr style=\"text-align: right;\">\n",
              "      <th></th>\n",
              "      <th>Learning Rate</th>\n",
              "    </tr>\n",
              "  </thead>\n",
              "  <tbody>\n",
              "    <tr>\n",
              "      <th>0</th>\n",
              "      <td>0.0010</td>\n",
              "    </tr>\n",
              "    <tr>\n",
              "      <th>1</th>\n",
              "      <td>0.0025</td>\n",
              "    </tr>\n",
              "    <tr>\n",
              "      <th>2</th>\n",
              "      <td>0.0050</td>\n",
              "    </tr>\n",
              "    <tr>\n",
              "      <th>3</th>\n",
              "      <td>0.0075</td>\n",
              "    </tr>\n",
              "    <tr>\n",
              "      <th>4</th>\n",
              "      <td>0.0100</td>\n",
              "    </tr>\n",
              "    <tr>\n",
              "      <th>5</th>\n",
              "      <td>0.0250</td>\n",
              "    </tr>\n",
              "    <tr>\n",
              "      <th>6</th>\n",
              "      <td>0.0500</td>\n",
              "    </tr>\n",
              "    <tr>\n",
              "      <th>7</th>\n",
              "      <td>0.0750</td>\n",
              "    </tr>\n",
              "    <tr>\n",
              "      <th>8</th>\n",
              "      <td>0.1000</td>\n",
              "    </tr>\n",
              "  </tbody>\n",
              "</table>\n",
              "</div>"
            ],
            "text/plain": [
              "   Learning Rate\n",
              "0         0.0010\n",
              "1         0.0025\n",
              "2         0.0050\n",
              "3         0.0075\n",
              "4         0.0100\n",
              "5         0.0250\n",
              "6         0.0500\n",
              "7         0.0750\n",
              "8         0.1000"
            ]
          },
          "metadata": {
            "tags": []
          },
          "execution_count": 116
        }
      ]
    },
    {
      "cell_type": "code",
      "metadata": {
        "id": "A6zIeOq15Fpb",
        "colab_type": "code",
        "outputId": "929b6483-8ff9-4dd5-bf7e-b837120024bd",
        "colab": {
          "base_uri": "https://localhost:8080/",
          "height": 1000
        }
      },
      "source": [
        "start_compute = time.time()\n",
        "\n",
        "#N_epoch = 4000\n",
        "N_epoch = 40\n",
        "\n",
        "for i, (train_features, train_target, \n",
        "        validation_features, validation_target) in enumerate(train_val_split):\n",
        "\n",
        "    print('n_split:', i+1)\n",
        "\n",
        "    adam_mae, rmsprop_mae, sgd_mae = [], [], []\n",
        "    print('    Adam training process...')\n",
        "    for lr in learning_rates_list:\n",
        "        mlp = multilayer_perceptron(train_features.shape[1], lr, 'adam')\n",
        "        model, history = train_model(mlp, train_features, train_target, N_epoch)\n",
        "        loss, mae, mse = model.evaluate(validation_features, validation_target, verbose=1)\n",
        "        adam_mae.append(mae)\n",
        "\n",
        "    print('    RMSprop training process...')\n",
        "    for lr in learning_rates_list:\n",
        "        mlp = multilayer_perceptron(train_features.shape[1], lr, 'rmsprop')\n",
        "        model, history = train_model(mlp, train_features, train_target, N_epoch)\n",
        "        loss, mae, mse = model.evaluate(validation_features, validation_target, verbose=1)\n",
        "        rmsprop_mae.append(mae)\n",
        "\n",
        "    print('    SGD training process...')\n",
        "    for lr in learning_rates_list:\n",
        "        mlp = multilayer_perceptron(train_features.shape[1], lr, 'sgd')\n",
        "        model, history = train_model(mlp, train_features, train_target, N_epoch)\n",
        "        loss, mae, mse = model.evaluate(validation_features, validation_target, verbose=1)\n",
        "        sgd_mae.append(mae)\n",
        "\n",
        "    result_report['Adam-'+str(i+1)] = adam_mae\n",
        "    result_report['RMSprop-'+str(i+1)] = rmsprop_mae\n",
        "    result_report['SGD-'+str(i+1)] = sgd_mae\n",
        "\n",
        "print(\"Approximation computational time: {:.2f}\".format(time.time() - start_compute))"
      ],
      "execution_count": 117,
      "outputs": [
        {
          "output_type": "stream",
          "text": [
            "n_split: 1\n",
            "    Adam training process...\n",
            "7/7 [==============================] - 0s 2ms/step - loss: 4566.0093 - mae: 3885.7371 - mse: 62451636.0000\n",
            "7/7 [==============================] - 0s 2ms/step - loss: 3432.6868 - mae: 3279.9131 - mse: 42895724.0000\n",
            "7/7 [==============================] - 0s 1ms/step - loss: 3021.4575 - mae: 2972.9966 - mse: 39784940.0000\n",
            "7/7 [==============================] - 0s 2ms/step - loss: 2847.3372 - mae: 2800.5996 - mse: 36373300.0000\n",
            "7/7 [==============================] - 0s 1ms/step - loss: 2725.7720 - mae: 2577.7751 - mse: 31735252.0000\n",
            "7/7 [==============================] - 0s 2ms/step - loss: 2431.8418 - mae: 2257.9448 - mse: 30040858.0000\n",
            "7/7 [==============================] - 0s 2ms/step - loss: 2560.0833 - mae: 2332.9678 - mse: 31440106.0000\n",
            "7/7 [==============================] - 0s 2ms/step - loss: 2497.5715 - mae: 2284.8665 - mse: 31320696.0000\n",
            "7/7 [==============================] - 0s 2ms/step - loss: 2522.6838 - mae: 2294.8679 - mse: 31559206.0000\n",
            "    RMSprop training process...\n",
            "7/7 [==============================] - 0s 2ms/step - loss: 9508.7139 - mae: 8313.3330 - mse: 188034000.0000\n",
            "7/7 [==============================] - 0s 2ms/step - loss: 4033.7375 - mae: 3549.0361 - mse: 48296156.0000\n",
            "7/7 [==============================] - 0s 2ms/step - loss: 3198.5291 - mae: 3161.3394 - mse: 45465924.0000\n",
            "7/7 [==============================] - 0s 2ms/step - loss: 2880.4753 - mae: 2835.8081 - mse: 36697084.0000\n",
            "7/7 [==============================] - 0s 2ms/step - loss: 2601.3477 - mae: 2483.2410 - mse: 30724522.0000\n",
            "7/7 [==============================] - 0s 2ms/step - loss: 2573.1443 - mae: 2394.2371 - mse: 30800570.0000\n",
            "7/7 [==============================] - 0s 2ms/step - loss: 2734.1155 - mae: 2552.9778 - mse: 31840668.0000\n",
            "7/7 [==============================] - 0s 2ms/step - loss: 2572.4397 - mae: 2418.1147 - mse: 30786742.0000\n",
            "7/7 [==============================] - 0s 2ms/step - loss: 3148.6335 - mae: 2790.6028 - mse: 37572700.0000\n",
            "    SGD training process...\n",
            "7/7 [==============================] - 0s 2ms/step - loss: 14524.4531 - mae: 13229.1445 - mse: 322926304.0000\n",
            "7/7 [==============================] - 0s 2ms/step - loss: 2732.9558 - mae: 2527.5630 - mse: 32443184.0000\n",
            "7/7 [==============================] - 0s 2ms/step - loss: 2854.9670 - mae: 2655.2825 - mse: 32673574.0000\n",
            "7/7 [==============================] - 0s 2ms/step - loss: 3295.0061 - mae: 3143.3035 - mse: 29608560.0000\n",
            "7/7 [==============================] - 0s 1ms/step - loss: 4578.4722 - mae: 4239.7485 - mse: 50139044.0000\n",
            "7/7 [==============================] - 0s 2ms/step - loss: 6718.0146 - mae: 6133.1826 - mse: 86945528.0000\n",
            "7/7 [==============================] - 0s 1ms/step - loss: 7334.1069 - mae: 6620.6738 - mse: 99863160.0000\n",
            "7/7 [==============================] - 0s 3ms/step - loss: 14540.6943 - mae: 13245.3086 - mse: 323355648.0000\n",
            "7/7 [==============================] - 0s 2ms/step - loss: 14538.8955 - mae: 13243.6914 - mse: 323222400.0000\n",
            "n_split: 2\n",
            "    Adam training process...\n",
            "7/7 [==============================] - 0s 2ms/step - loss: 5525.9136 - mae: 4655.2720 - mse: 89492440.0000\n",
            "7/7 [==============================] - 0s 1ms/step - loss: 3526.3347 - mae: 3275.8040 - mse: 39181856.0000\n",
            "7/7 [==============================] - 0s 2ms/step - loss: 2770.8848 - mae: 2807.4316 - mse: 36585744.0000\n",
            "7/7 [==============================] - 0s 2ms/step - loss: 2765.1484 - mae: 2699.5386 - mse: 31912634.0000\n",
            "7/7 [==============================] - 0s 2ms/step - loss: 2708.9412 - mae: 2643.4922 - mse: 31504648.0000\n",
            "7/7 [==============================] - 0s 2ms/step - loss: 2411.6487 - mae: 2289.3152 - mse: 29155318.0000\n",
            "7/7 [==============================] - 0s 2ms/step - loss: 2309.7754 - mae: 2224.5032 - mse: 27168088.0000\n",
            "7/7 [==============================] - 0s 3ms/step - loss: 2459.9224 - mae: 2344.1252 - mse: 28619558.0000\n",
            "7/7 [==============================] - 0s 2ms/step - loss: 2319.0916 - mae: 2203.6233 - mse: 27964188.0000\n",
            "    RMSprop training process...\n",
            "7/7 [==============================] - 0s 2ms/step - loss: 10233.4043 - mae: 9011.1924 - mse: 203177392.0000\n",
            "7/7 [==============================] - 0s 2ms/step - loss: 4059.6206 - mae: 3597.2043 - mse: 48439976.0000\n",
            "7/7 [==============================] - 0s 1ms/step - loss: 2819.8384 - mae: 2826.3359 - mse: 36517844.0000\n",
            "7/7 [==============================] - 0s 2ms/step - loss: 2752.1821 - mae: 2761.2263 - mse: 34303152.0000\n",
            "7/7 [==============================] - 0s 2ms/step - loss: 2507.7207 - mae: 2448.4885 - mse: 29632012.0000\n",
            "7/7 [==============================] - 0s 2ms/step - loss: 2516.5598 - mae: 2371.5039 - mse: 29501152.0000\n",
            "7/7 [==============================] - 0s 2ms/step - loss: 2436.9180 - mae: 2337.1489 - mse: 29431710.0000\n",
            "7/7 [==============================] - 0s 2ms/step - loss: 2490.7991 - mae: 2411.4333 - mse: 28200840.0000\n",
            "7/7 [==============================] - 0s 2ms/step - loss: 2814.3391 - mae: 2619.1355 - mse: 31961542.0000\n",
            "    SGD training process...\n",
            "7/7 [==============================] - 0s 2ms/step - loss: 14381.2588 - mae: 13091.4365 - mse: 317489376.0000\n",
            "7/7 [==============================] - 0s 2ms/step - loss: 2926.4436 - mae: 2765.7786 - mse: 33545842.0000\n",
            "7/7 [==============================] - 0s 1ms/step - loss: 3263.6023 - mae: 3197.2971 - mse: 30703540.0000\n",
            "7/7 [==============================] - 0s 2ms/step - loss: 2802.8801 - mae: 2636.7419 - mse: 30768274.0000\n",
            "7/7 [==============================] - 0s 2ms/step - loss: 5615.4712 - mae: 5201.5933 - mse: 64005492.0000\n",
            "7/7 [==============================] - 0s 2ms/step - loss: 7737.7915 - mae: 7302.7046 - mse: 114047216.0000\n",
            "7/7 [==============================] - 0s 2ms/step - loss: 14541.4131 - mae: 13251.6074 - mse: 321821792.0000\n",
            "7/7 [==============================] - 0s 2ms/step - loss: 14538.6592 - mae: 13248.9980 - mse: 321738592.0000\n",
            "7/7 [==============================] - 0s 2ms/step - loss: 14485.9150 - mae: 13196.1680 - mse: 320357728.0000\n",
            "n_split: 3\n",
            "    Adam training process...\n",
            "7/7 [==============================] - 0s 2ms/step - loss: 4888.1211 - mae: 4053.8213 - mse: 72700208.0000\n",
            "7/7 [==============================] - 0s 2ms/step - loss: 3157.6233 - mae: 3029.4915 - mse: 34395524.0000\n",
            "7/7 [==============================] - 0s 2ms/step - loss: 2691.1130 - mae: 2744.0315 - mse: 36123140.0000\n",
            "7/7 [==============================] - 0s 2ms/step - loss: 2488.0168 - mae: 2523.9343 - mse: 29571728.0000\n",
            "7/7 [==============================] - 0s 2ms/step - loss: 2420.9041 - mae: 2415.0457 - mse: 25285782.0000\n",
            "7/7 [==============================] - 0s 2ms/step - loss: 1897.9420 - mae: 1807.4685 - mse: 18175316.0000\n",
            "7/7 [==============================] - 0s 2ms/step - loss: 2081.0059 - mae: 1927.0626 - mse: 20307600.0000\n",
            "7/7 [==============================] - 0s 2ms/step - loss: 1993.4061 - mae: 1920.5620 - mse: 18435470.0000\n",
            "7/7 [==============================] - 0s 2ms/step - loss: 2014.3594 - mae: 1914.4901 - mse: 19433068.0000\n",
            "    RMSprop training process...\n",
            "7/7 [==============================] - 0s 2ms/step - loss: 9781.0391 - mae: 8558.0605 - mse: 195548176.0000\n",
            "7/7 [==============================] - 0s 2ms/step - loss: 14497.0000 - mae: 13223.5410 - mse: 317822432.0000\n",
            "7/7 [==============================] - 0s 2ms/step - loss: 2791.6343 - mae: 2835.7771 - mse: 39007632.0000\n",
            "7/7 [==============================] - 0s 2ms/step - loss: 2366.5559 - mae: 2378.8157 - mse: 25614412.0000\n",
            "7/7 [==============================] - 0s 2ms/step - loss: 2176.2122 - mae: 2158.6438 - mse: 21240184.0000\n",
            "7/7 [==============================] - 0s 3ms/step - loss: 1714.3939 - mae: 1661.1993 - mse: 17401766.0000\n",
            "7/7 [==============================] - 0s 1ms/step - loss: 2002.4365 - mae: 1924.8876 - mse: 18578744.0000\n",
            "7/7 [==============================] - 0s 2ms/step - loss: 2226.5964 - mae: 2117.8569 - mse: 20825918.0000\n",
            "7/7 [==============================] - 0s 1ms/step - loss: 2074.4546 - mae: 1974.9150 - mse: 19676852.0000\n",
            "    SGD training process...\n",
            "7/7 [==============================] - 0s 2ms/step - loss: 14335.7207 - mae: 13062.1084 - mse: 313587680.0000\n",
            "7/7 [==============================] - 0s 2ms/step - loss: 2086.5613 - mae: 1993.6025 - mse: 19404784.0000\n",
            "7/7 [==============================] - 0s 2ms/step - loss: 2163.4387 - mae: 2026.7147 - mse: 20386302.0000\n",
            "7/7 [==============================] - 0s 2ms/step - loss: 3129.4263 - mae: 2898.8396 - mse: 27598498.0000\n",
            "7/7 [==============================] - 0s 2ms/step - loss: 4201.9033 - mae: 3874.4304 - mse: 39973088.0000\n",
            "7/7 [==============================] - 0s 1ms/step - loss: 3192.5747 - mae: 3004.0164 - mse: 27824542.0000\n",
            "7/7 [==============================] - 0s 1ms/step - loss: 13396.3838 - mae: 12079.5645 - mse: 299938400.0000\n",
            "7/7 [==============================] - 0s 2ms/step - loss: 14496.8613 - mae: 13223.3975 - mse: 317815552.0000\n",
            "7/7 [==============================] - 0s 2ms/step - loss: 14466.5166 - mae: 13192.1426 - mse: 317201920.0000\n",
            "n_split: 4\n",
            "    Adam training process...\n",
            "7/7 [==============================] - 0s 3ms/step - loss: 5108.5381 - mae: 4321.7847 - mse: 77745576.0000\n",
            "7/7 [==============================] - 0s 2ms/step - loss: 3598.9800 - mae: 3222.2664 - mse: 40471304.0000\n",
            "7/7 [==============================] - 0s 2ms/step - loss: 2597.9761 - mae: 2606.3003 - mse: 34021112.0000\n",
            "7/7 [==============================] - 0s 2ms/step - loss: 14537.2207 - mae: 13251.6357 - mse: 320698624.0000\n",
            "7/7 [==============================] - 0s 2ms/step - loss: 2652.9412 - mae: 2580.6179 - mse: 29268086.0000\n",
            "7/7 [==============================] - 0s 2ms/step - loss: 2455.9019 - mae: 2312.2251 - mse: 28103604.0000\n",
            "7/7 [==============================] - 0s 2ms/step - loss: 2471.1946 - mae: 2313.8142 - mse: 28628910.0000\n",
            "7/7 [==============================] - 0s 2ms/step - loss: 2567.5193 - mae: 2389.8682 - mse: 30008056.0000\n",
            "7/7 [==============================] - 0s 1ms/step - loss: 2564.8191 - mae: 2431.7971 - mse: 28522242.0000\n",
            "    RMSprop training process...\n",
            "7/7 [==============================] - 0s 1ms/step - loss: 9762.8662 - mae: 8562.3203 - mse: 192151712.0000\n",
            "7/7 [==============================] - 0s 2ms/step - loss: 4173.7080 - mae: 3608.0505 - mse: 53311860.0000\n",
            "7/7 [==============================] - 0s 2ms/step - loss: 2722.9331 - mae: 2709.1335 - mse: 35287052.0000\n",
            "7/7 [==============================] - 0s 2ms/step - loss: 2602.4194 - mae: 2608.9229 - mse: 33576904.0000\n",
            "7/7 [==============================] - 0s 2ms/step - loss: 2519.8066 - mae: 2444.6189 - mse: 27534198.0000\n",
            "7/7 [==============================] - 0s 2ms/step - loss: 2646.2227 - mae: 2522.2664 - mse: 26650682.0000\n",
            "7/7 [==============================] - 0s 2ms/step - loss: 2476.5991 - mae: 2323.7214 - mse: 27524622.0000\n",
            "7/7 [==============================] - 0s 2ms/step - loss: 2719.3511 - mae: 2581.3350 - mse: 28689912.0000\n",
            "7/7 [==============================] - 0s 2ms/step - loss: 2198.0237 - mae: 2158.1606 - mse: 22722718.0000\n",
            "    SGD training process...\n",
            "7/7 [==============================] - 0s 2ms/step - loss: 14337.6250 - mae: 13053.4834 - mse: 315158400.0000\n",
            "7/7 [==============================] - 0s 1ms/step - loss: 2520.0220 - mae: 2411.9609 - mse: 28272954.0000\n",
            "7/7 [==============================] - 0s 2ms/step - loss: 2883.8669 - mae: 2752.2019 - mse: 26522504.0000\n",
            "7/7 [==============================] - 0s 2ms/step - loss: 3786.8396 - mae: 3441.4060 - mse: 41766920.0000\n",
            "7/7 [==============================] - 0s 2ms/step - loss: 3352.7009 - mae: 3101.1174 - mse: 34191452.0000\n",
            "7/7 [==============================] - 0s 2ms/step - loss: 8318.0391 - mae: 7605.4727 - mse: 117132640.0000\n",
            "7/7 [==============================] - 0s 2ms/step - loss: 8397.2822 - mae: 7208.3838 - mse: 160193488.0000\n",
            "7/7 [==============================] - 0s 2ms/step - loss: 14534.4404 - mae: 13248.8145 - mse: 320618336.0000\n",
            "7/7 [==============================] - 0s 1ms/step - loss: 14484.7725 - mae: 13197.9062 - mse: 319537344.0000\n",
            "n_split: 5\n",
            "    Adam training process...\n",
            "7/7 [==============================] - 0s 2ms/step - loss: 4956.7310 - mae: 4068.1028 - mse: 78346144.0000\n",
            "7/7 [==============================] - 0s 2ms/step - loss: 3232.4692 - mae: 3173.4668 - mse: 45677600.0000\n",
            "7/7 [==============================] - 0s 2ms/step - loss: 2758.2896 - mae: 2756.7974 - mse: 38387888.0000\n",
            "7/7 [==============================] - 0s 2ms/step - loss: 2643.7600 - mae: 2608.2288 - mse: 33099870.0000\n",
            "7/7 [==============================] - 0s 2ms/step - loss: 2514.5312 - mae: 2446.6401 - mse: 29233454.0000\n",
            "7/7 [==============================] - 0s 2ms/step - loss: 2055.6665 - mae: 1887.7094 - mse: 21355400.0000\n",
            "7/7 [==============================] - 0s 2ms/step - loss: 2067.8093 - mae: 1865.8624 - mse: 22122268.0000\n",
            "7/7 [==============================] - 0s 2ms/step - loss: 2105.8833 - mae: 1914.6017 - mse: 21556298.0000\n",
            "7/7 [==============================] - 0s 1ms/step - loss: 1679.5625 - mae: 1583.5610 - mse: 19636758.0000\n",
            "    RMSprop training process...\n",
            "7/7 [==============================] - 0s 2ms/step - loss: 10190.5469 - mae: 8955.3740 - mse: 205172672.0000\n",
            "7/7 [==============================] - 0s 2ms/step - loss: 3557.5105 - mae: 3194.6096 - mse: 38307856.0000\n",
            "7/7 [==============================] - 0s 2ms/step - loss: 2928.6106 - mae: 2911.0601 - mse: 40765056.0000\n",
            "7/7 [==============================] - 0s 2ms/step - loss: 2656.3210 - mae: 2629.8735 - mse: 34250996.0000\n",
            "7/7 [==============================] - 0s 2ms/step - loss: 2443.1165 - mae: 2371.2576 - mse: 27361240.0000\n",
            "7/7 [==============================] - 0s 2ms/step - loss: 2016.3770 - mae: 1831.5535 - mse: 21299320.0000\n",
            "7/7 [==============================] - 0s 1ms/step - loss: 2152.1248 - mae: 2038.5381 - mse: 22019186.0000\n",
            "7/7 [==============================] - 0s 1ms/step - loss: 2273.1421 - mae: 2095.6379 - mse: 23144944.0000\n",
            "7/7 [==============================] - 0s 2ms/step - loss: 1881.0459 - mae: 1744.1221 - mse: 20401310.0000\n",
            "    SGD training process...\n",
            "7/7 [==============================] - 0s 2ms/step - loss: 14518.6982 - mae: 13227.3740 - mse: 321025408.0000\n",
            "7/7 [==============================] - 0s 2ms/step - loss: 2439.6216 - mae: 2319.8435 - mse: 23128002.0000\n",
            "7/7 [==============================] - 0s 2ms/step - loss: 2171.7605 - mae: 1962.0605 - mse: 22876468.0000\n",
            "7/7 [==============================] - 0s 2ms/step - loss: 3616.3762 - mae: 3454.5771 - mse: 34223496.0000\n",
            "7/7 [==============================] - 0s 2ms/step - loss: 3804.1484 - mae: 3569.2129 - mse: 34228336.0000\n",
            "7/7 [==============================] - 0s 2ms/step - loss: 4226.1870 - mae: 3797.7595 - mse: 42270412.0000\n",
            "7/7 [==============================] - 0s 1ms/step - loss: 10705.2344 - mae: 9688.7246 - mse: 197064352.0000\n",
            "7/7 [==============================] - 0s 2ms/step - loss: 14522.7451 - mae: 13232.1426 - mse: 320894816.0000\n",
            "7/7 [==============================] - 0s 2ms/step - loss: 14512.3389 - mae: 13222.1289 - mse: 320665792.0000\n",
            "Approximation computational time: 225.52\n"
          ],
          "name": "stdout"
        }
      ]
    },
    {
      "cell_type": "code",
      "metadata": {
        "id": "nAUwaj33Uve_",
        "colab_type": "code",
        "outputId": "cfd137cc-5254-4d45-9b44-bee77caddf2e",
        "colab": {
          "base_uri": "https://localhost:8080/",
          "height": 369
        }
      },
      "source": [
        "result_report     # mae each method"
      ],
      "execution_count": 118,
      "outputs": [
        {
          "output_type": "execute_result",
          "data": {
            "text/html": [
              "<div>\n",
              "<style scoped>\n",
              "    .dataframe tbody tr th:only-of-type {\n",
              "        vertical-align: middle;\n",
              "    }\n",
              "\n",
              "    .dataframe tbody tr th {\n",
              "        vertical-align: top;\n",
              "    }\n",
              "\n",
              "    .dataframe thead th {\n",
              "        text-align: right;\n",
              "    }\n",
              "</style>\n",
              "<table border=\"1\" class=\"dataframe\">\n",
              "  <thead>\n",
              "    <tr style=\"text-align: right;\">\n",
              "      <th></th>\n",
              "      <th>Learning Rate</th>\n",
              "      <th>Adam-1</th>\n",
              "      <th>RMSprop-1</th>\n",
              "      <th>SGD-1</th>\n",
              "      <th>Adam-2</th>\n",
              "      <th>RMSprop-2</th>\n",
              "      <th>SGD-2</th>\n",
              "      <th>Adam-3</th>\n",
              "      <th>RMSprop-3</th>\n",
              "      <th>SGD-3</th>\n",
              "      <th>Adam-4</th>\n",
              "      <th>RMSprop-4</th>\n",
              "      <th>SGD-4</th>\n",
              "      <th>Adam-5</th>\n",
              "      <th>RMSprop-5</th>\n",
              "      <th>SGD-5</th>\n",
              "    </tr>\n",
              "  </thead>\n",
              "  <tbody>\n",
              "    <tr>\n",
              "      <th>0</th>\n",
              "      <td>0.0010</td>\n",
              "      <td>3885.737061</td>\n",
              "      <td>8313.333008</td>\n",
              "      <td>13229.144531</td>\n",
              "      <td>4655.271973</td>\n",
              "      <td>9011.192383</td>\n",
              "      <td>13091.436523</td>\n",
              "      <td>4053.821289</td>\n",
              "      <td>8558.060547</td>\n",
              "      <td>13062.108398</td>\n",
              "      <td>4321.784668</td>\n",
              "      <td>8562.320312</td>\n",
              "      <td>13053.483398</td>\n",
              "      <td>4068.102783</td>\n",
              "      <td>8955.374023</td>\n",
              "      <td>13227.374023</td>\n",
              "    </tr>\n",
              "    <tr>\n",
              "      <th>1</th>\n",
              "      <td>0.0025</td>\n",
              "      <td>3279.913086</td>\n",
              "      <td>3549.036133</td>\n",
              "      <td>2527.562988</td>\n",
              "      <td>3275.803955</td>\n",
              "      <td>3597.204346</td>\n",
              "      <td>2765.778564</td>\n",
              "      <td>3029.491455</td>\n",
              "      <td>13223.541016</td>\n",
              "      <td>1993.602539</td>\n",
              "      <td>3222.266357</td>\n",
              "      <td>3608.050537</td>\n",
              "      <td>2411.960938</td>\n",
              "      <td>3173.466797</td>\n",
              "      <td>3194.609619</td>\n",
              "      <td>2319.843506</td>\n",
              "    </tr>\n",
              "    <tr>\n",
              "      <th>2</th>\n",
              "      <td>0.0050</td>\n",
              "      <td>2972.996582</td>\n",
              "      <td>3161.339355</td>\n",
              "      <td>2655.282471</td>\n",
              "      <td>2807.431641</td>\n",
              "      <td>2826.335938</td>\n",
              "      <td>3197.297119</td>\n",
              "      <td>2744.031494</td>\n",
              "      <td>2835.777100</td>\n",
              "      <td>2026.714722</td>\n",
              "      <td>2606.300293</td>\n",
              "      <td>2709.133545</td>\n",
              "      <td>2752.201904</td>\n",
              "      <td>2756.797363</td>\n",
              "      <td>2911.060059</td>\n",
              "      <td>1962.060547</td>\n",
              "    </tr>\n",
              "    <tr>\n",
              "      <th>3</th>\n",
              "      <td>0.0075</td>\n",
              "      <td>2800.599609</td>\n",
              "      <td>2835.808105</td>\n",
              "      <td>3143.303467</td>\n",
              "      <td>2699.538574</td>\n",
              "      <td>2761.226318</td>\n",
              "      <td>2636.741943</td>\n",
              "      <td>2523.934326</td>\n",
              "      <td>2378.815674</td>\n",
              "      <td>2898.839600</td>\n",
              "      <td>13251.635742</td>\n",
              "      <td>2608.922852</td>\n",
              "      <td>3441.406006</td>\n",
              "      <td>2608.228760</td>\n",
              "      <td>2629.873535</td>\n",
              "      <td>3454.577148</td>\n",
              "    </tr>\n",
              "    <tr>\n",
              "      <th>4</th>\n",
              "      <td>0.0100</td>\n",
              "      <td>2577.775146</td>\n",
              "      <td>2483.240967</td>\n",
              "      <td>4239.748535</td>\n",
              "      <td>2643.492188</td>\n",
              "      <td>2448.488525</td>\n",
              "      <td>5201.593262</td>\n",
              "      <td>2415.045654</td>\n",
              "      <td>2158.643799</td>\n",
              "      <td>3874.430420</td>\n",
              "      <td>2580.617920</td>\n",
              "      <td>2444.618896</td>\n",
              "      <td>3101.117432</td>\n",
              "      <td>2446.640137</td>\n",
              "      <td>2371.257568</td>\n",
              "      <td>3569.212891</td>\n",
              "    </tr>\n",
              "    <tr>\n",
              "      <th>5</th>\n",
              "      <td>0.0250</td>\n",
              "      <td>2257.944824</td>\n",
              "      <td>2394.237061</td>\n",
              "      <td>6133.182617</td>\n",
              "      <td>2289.315186</td>\n",
              "      <td>2371.503906</td>\n",
              "      <td>7302.704590</td>\n",
              "      <td>1807.468506</td>\n",
              "      <td>1661.199341</td>\n",
              "      <td>3004.016357</td>\n",
              "      <td>2312.225098</td>\n",
              "      <td>2522.266357</td>\n",
              "      <td>7605.472656</td>\n",
              "      <td>1887.709351</td>\n",
              "      <td>1831.553467</td>\n",
              "      <td>3797.759521</td>\n",
              "    </tr>\n",
              "    <tr>\n",
              "      <th>6</th>\n",
              "      <td>0.0500</td>\n",
              "      <td>2332.967773</td>\n",
              "      <td>2552.977783</td>\n",
              "      <td>6620.673828</td>\n",
              "      <td>2224.503174</td>\n",
              "      <td>2337.148926</td>\n",
              "      <td>13251.607422</td>\n",
              "      <td>1927.062622</td>\n",
              "      <td>1924.887573</td>\n",
              "      <td>12079.564453</td>\n",
              "      <td>2313.814209</td>\n",
              "      <td>2323.721436</td>\n",
              "      <td>7208.383789</td>\n",
              "      <td>1865.862427</td>\n",
              "      <td>2038.538086</td>\n",
              "      <td>9688.724609</td>\n",
              "    </tr>\n",
              "    <tr>\n",
              "      <th>7</th>\n",
              "      <td>0.0750</td>\n",
              "      <td>2284.866455</td>\n",
              "      <td>2418.114746</td>\n",
              "      <td>13245.308594</td>\n",
              "      <td>2344.125244</td>\n",
              "      <td>2411.433350</td>\n",
              "      <td>13248.998047</td>\n",
              "      <td>1920.562012</td>\n",
              "      <td>2117.856934</td>\n",
              "      <td>13223.397461</td>\n",
              "      <td>2389.868164</td>\n",
              "      <td>2581.334961</td>\n",
              "      <td>13248.814453</td>\n",
              "      <td>1914.601685</td>\n",
              "      <td>2095.637939</td>\n",
              "      <td>13232.142578</td>\n",
              "    </tr>\n",
              "    <tr>\n",
              "      <th>8</th>\n",
              "      <td>0.1000</td>\n",
              "      <td>2294.867920</td>\n",
              "      <td>2790.602783</td>\n",
              "      <td>13243.691406</td>\n",
              "      <td>2203.623291</td>\n",
              "      <td>2619.135498</td>\n",
              "      <td>13196.167969</td>\n",
              "      <td>1914.490112</td>\n",
              "      <td>1974.915039</td>\n",
              "      <td>13192.142578</td>\n",
              "      <td>2431.797119</td>\n",
              "      <td>2158.160645</td>\n",
              "      <td>13197.906250</td>\n",
              "      <td>1583.561035</td>\n",
              "      <td>1744.122070</td>\n",
              "      <td>13222.128906</td>\n",
              "    </tr>\n",
              "  </tbody>\n",
              "</table>\n",
              "</div>"
            ],
            "text/plain": [
              "   Learning Rate       Adam-1  ...    RMSprop-5         SGD-5\n",
              "0         0.0010  3885.737061  ...  8955.374023  13227.374023\n",
              "1         0.0025  3279.913086  ...  3194.609619   2319.843506\n",
              "2         0.0050  2972.996582  ...  2911.060059   1962.060547\n",
              "3         0.0075  2800.599609  ...  2629.873535   3454.577148\n",
              "4         0.0100  2577.775146  ...  2371.257568   3569.212891\n",
              "5         0.0250  2257.944824  ...  1831.553467   3797.759521\n",
              "6         0.0500  2332.967773  ...  2038.538086   9688.724609\n",
              "7         0.0750  2284.866455  ...  2095.637939  13232.142578\n",
              "8         0.1000  2294.867920  ...  1744.122070  13222.128906\n",
              "\n",
              "[9 rows x 16 columns]"
            ]
          },
          "metadata": {
            "tags": []
          },
          "execution_count": 118
        }
      ]
    },
    {
      "cell_type": "code",
      "metadata": {
        "id": "Bnn0RxmKT0-U",
        "colab_type": "code",
        "colab": {
          "base_uri": "https://localhost:8080/",
          "height": 108
        },
        "outputId": "c44b7d8a-7f76-4ec0-d2e3-218b067dc2bc"
      },
      "source": [
        "Adam_RMSpropAvg_SGDAvg_Str = np.array([['Adam-{:d}'.format(i+1), \n",
        "                               'RMSprop-{:d}'.format(i+1),\n",
        "                               'SGD-{:d}'.format(i+1)] for i in range(n_splits)], dtype=str)\n",
        "Adam_RMSpropAvg_SGDAvg_Str"
      ],
      "execution_count": 151,
      "outputs": [
        {
          "output_type": "execute_result",
          "data": {
            "text/plain": [
              "array([['Adam-1', 'RMSprop-1', 'SGD-1'],\n",
              "       ['Adam-2', 'RMSprop-2', 'SGD-2'],\n",
              "       ['Adam-3', 'RMSprop-3', 'SGD-3'],\n",
              "       ['Adam-4', 'RMSprop-4', 'SGD-4'],\n",
              "       ['Adam-5', 'RMSprop-5', 'SGD-5']], dtype='<U9')"
            ]
          },
          "metadata": {
            "tags": []
          },
          "execution_count": 151
        }
      ]
    },
    {
      "cell_type": "code",
      "metadata": {
        "id": "1gjDGR8yb-Nx",
        "colab_type": "code",
        "colab": {
          "base_uri": "https://localhost:8080/",
          "height": 369
        },
        "outputId": "4e86c659-033e-47c6-d014-05a63edc943f"
      },
      "source": [
        "result_report['Adam-Avg'] = \\\n",
        "    sum(result_report[idx] \n",
        "        for idx in Adam_RMSpropAvg_SGDAvg_Str[:,0]) / n_splits\n",
        "\n",
        "result_report['RMSprop-Avg'] = \\\n",
        "    sum(result_report[idx] \n",
        "        for idx in Adam_RMSpropAvg_SGDAvg_Str[:,1]) / n_splits\n",
        "\n",
        "result_report['SGD-Avg'] = \\\n",
        "    sum(result_report[idx] \n",
        "        for idx in Adam_RMSpropAvg_SGDAvg_Str[:,2]) / n_splits\n",
        "\n",
        "result_report"
      ],
      "execution_count": 152,
      "outputs": [
        {
          "output_type": "execute_result",
          "data": {
            "text/html": [
              "<div>\n",
              "<style scoped>\n",
              "    .dataframe tbody tr th:only-of-type {\n",
              "        vertical-align: middle;\n",
              "    }\n",
              "\n",
              "    .dataframe tbody tr th {\n",
              "        vertical-align: top;\n",
              "    }\n",
              "\n",
              "    .dataframe thead th {\n",
              "        text-align: right;\n",
              "    }\n",
              "</style>\n",
              "<table border=\"1\" class=\"dataframe\">\n",
              "  <thead>\n",
              "    <tr style=\"text-align: right;\">\n",
              "      <th></th>\n",
              "      <th>Learning Rate</th>\n",
              "      <th>Adam-1</th>\n",
              "      <th>RMSprop-1</th>\n",
              "      <th>SGD-1</th>\n",
              "      <th>Adam-2</th>\n",
              "      <th>RMSprop-2</th>\n",
              "      <th>SGD-2</th>\n",
              "      <th>Adam-3</th>\n",
              "      <th>RMSprop-3</th>\n",
              "      <th>SGD-3</th>\n",
              "      <th>Adam-4</th>\n",
              "      <th>RMSprop-4</th>\n",
              "      <th>SGD-4</th>\n",
              "      <th>Adam-5</th>\n",
              "      <th>RMSprop-5</th>\n",
              "      <th>SGD-5</th>\n",
              "      <th>Adam-Avg</th>\n",
              "      <th>RMSprop-Avg</th>\n",
              "      <th>SGD-Avg</th>\n",
              "    </tr>\n",
              "  </thead>\n",
              "  <tbody>\n",
              "    <tr>\n",
              "      <th>0</th>\n",
              "      <td>0.0010</td>\n",
              "      <td>3885.737061</td>\n",
              "      <td>8313.333008</td>\n",
              "      <td>13229.144531</td>\n",
              "      <td>4655.271973</td>\n",
              "      <td>9011.192383</td>\n",
              "      <td>13091.436523</td>\n",
              "      <td>4053.821289</td>\n",
              "      <td>8558.060547</td>\n",
              "      <td>13062.108398</td>\n",
              "      <td>4321.784668</td>\n",
              "      <td>8562.320312</td>\n",
              "      <td>13053.483398</td>\n",
              "      <td>4068.102783</td>\n",
              "      <td>8955.374023</td>\n",
              "      <td>13227.374023</td>\n",
              "      <td>4196.943555</td>\n",
              "      <td>8680.056055</td>\n",
              "      <td>13132.709375</td>\n",
              "    </tr>\n",
              "    <tr>\n",
              "      <th>1</th>\n",
              "      <td>0.0025</td>\n",
              "      <td>3279.913086</td>\n",
              "      <td>3549.036133</td>\n",
              "      <td>2527.562988</td>\n",
              "      <td>3275.803955</td>\n",
              "      <td>3597.204346</td>\n",
              "      <td>2765.778564</td>\n",
              "      <td>3029.491455</td>\n",
              "      <td>13223.541016</td>\n",
              "      <td>1993.602539</td>\n",
              "      <td>3222.266357</td>\n",
              "      <td>3608.050537</td>\n",
              "      <td>2411.960938</td>\n",
              "      <td>3173.466797</td>\n",
              "      <td>3194.609619</td>\n",
              "      <td>2319.843506</td>\n",
              "      <td>3196.188330</td>\n",
              "      <td>5434.488330</td>\n",
              "      <td>2403.749707</td>\n",
              "    </tr>\n",
              "    <tr>\n",
              "      <th>2</th>\n",
              "      <td>0.0050</td>\n",
              "      <td>2972.996582</td>\n",
              "      <td>3161.339355</td>\n",
              "      <td>2655.282471</td>\n",
              "      <td>2807.431641</td>\n",
              "      <td>2826.335938</td>\n",
              "      <td>3197.297119</td>\n",
              "      <td>2744.031494</td>\n",
              "      <td>2835.777100</td>\n",
              "      <td>2026.714722</td>\n",
              "      <td>2606.300293</td>\n",
              "      <td>2709.133545</td>\n",
              "      <td>2752.201904</td>\n",
              "      <td>2756.797363</td>\n",
              "      <td>2911.060059</td>\n",
              "      <td>1962.060547</td>\n",
              "      <td>2777.511475</td>\n",
              "      <td>2888.729199</td>\n",
              "      <td>2518.711353</td>\n",
              "    </tr>\n",
              "    <tr>\n",
              "      <th>3</th>\n",
              "      <td>0.0075</td>\n",
              "      <td>2800.599609</td>\n",
              "      <td>2835.808105</td>\n",
              "      <td>3143.303467</td>\n",
              "      <td>2699.538574</td>\n",
              "      <td>2761.226318</td>\n",
              "      <td>2636.741943</td>\n",
              "      <td>2523.934326</td>\n",
              "      <td>2378.815674</td>\n",
              "      <td>2898.839600</td>\n",
              "      <td>13251.635742</td>\n",
              "      <td>2608.922852</td>\n",
              "      <td>3441.406006</td>\n",
              "      <td>2608.228760</td>\n",
              "      <td>2629.873535</td>\n",
              "      <td>3454.577148</td>\n",
              "      <td>4776.787402</td>\n",
              "      <td>2642.929297</td>\n",
              "      <td>3114.973633</td>\n",
              "    </tr>\n",
              "    <tr>\n",
              "      <th>4</th>\n",
              "      <td>0.0100</td>\n",
              "      <td>2577.775146</td>\n",
              "      <td>2483.240967</td>\n",
              "      <td>4239.748535</td>\n",
              "      <td>2643.492188</td>\n",
              "      <td>2448.488525</td>\n",
              "      <td>5201.593262</td>\n",
              "      <td>2415.045654</td>\n",
              "      <td>2158.643799</td>\n",
              "      <td>3874.430420</td>\n",
              "      <td>2580.617920</td>\n",
              "      <td>2444.618896</td>\n",
              "      <td>3101.117432</td>\n",
              "      <td>2446.640137</td>\n",
              "      <td>2371.257568</td>\n",
              "      <td>3569.212891</td>\n",
              "      <td>2532.714209</td>\n",
              "      <td>2381.249951</td>\n",
              "      <td>3997.220508</td>\n",
              "    </tr>\n",
              "    <tr>\n",
              "      <th>5</th>\n",
              "      <td>0.0250</td>\n",
              "      <td>2257.944824</td>\n",
              "      <td>2394.237061</td>\n",
              "      <td>6133.182617</td>\n",
              "      <td>2289.315186</td>\n",
              "      <td>2371.503906</td>\n",
              "      <td>7302.704590</td>\n",
              "      <td>1807.468506</td>\n",
              "      <td>1661.199341</td>\n",
              "      <td>3004.016357</td>\n",
              "      <td>2312.225098</td>\n",
              "      <td>2522.266357</td>\n",
              "      <td>7605.472656</td>\n",
              "      <td>1887.709351</td>\n",
              "      <td>1831.553467</td>\n",
              "      <td>3797.759521</td>\n",
              "      <td>2110.932593</td>\n",
              "      <td>2156.152026</td>\n",
              "      <td>5568.627148</td>\n",
              "    </tr>\n",
              "    <tr>\n",
              "      <th>6</th>\n",
              "      <td>0.0500</td>\n",
              "      <td>2332.967773</td>\n",
              "      <td>2552.977783</td>\n",
              "      <td>6620.673828</td>\n",
              "      <td>2224.503174</td>\n",
              "      <td>2337.148926</td>\n",
              "      <td>13251.607422</td>\n",
              "      <td>1927.062622</td>\n",
              "      <td>1924.887573</td>\n",
              "      <td>12079.564453</td>\n",
              "      <td>2313.814209</td>\n",
              "      <td>2323.721436</td>\n",
              "      <td>7208.383789</td>\n",
              "      <td>1865.862427</td>\n",
              "      <td>2038.538086</td>\n",
              "      <td>9688.724609</td>\n",
              "      <td>2132.842041</td>\n",
              "      <td>2235.454761</td>\n",
              "      <td>9769.790820</td>\n",
              "    </tr>\n",
              "    <tr>\n",
              "      <th>7</th>\n",
              "      <td>0.0750</td>\n",
              "      <td>2284.866455</td>\n",
              "      <td>2418.114746</td>\n",
              "      <td>13245.308594</td>\n",
              "      <td>2344.125244</td>\n",
              "      <td>2411.433350</td>\n",
              "      <td>13248.998047</td>\n",
              "      <td>1920.562012</td>\n",
              "      <td>2117.856934</td>\n",
              "      <td>13223.397461</td>\n",
              "      <td>2389.868164</td>\n",
              "      <td>2581.334961</td>\n",
              "      <td>13248.814453</td>\n",
              "      <td>1914.601685</td>\n",
              "      <td>2095.637939</td>\n",
              "      <td>13232.142578</td>\n",
              "      <td>2170.804712</td>\n",
              "      <td>2324.875586</td>\n",
              "      <td>13239.732227</td>\n",
              "    </tr>\n",
              "    <tr>\n",
              "      <th>8</th>\n",
              "      <td>0.1000</td>\n",
              "      <td>2294.867920</td>\n",
              "      <td>2790.602783</td>\n",
              "      <td>13243.691406</td>\n",
              "      <td>2203.623291</td>\n",
              "      <td>2619.135498</td>\n",
              "      <td>13196.167969</td>\n",
              "      <td>1914.490112</td>\n",
              "      <td>1974.915039</td>\n",
              "      <td>13192.142578</td>\n",
              "      <td>2431.797119</td>\n",
              "      <td>2158.160645</td>\n",
              "      <td>13197.906250</td>\n",
              "      <td>1583.561035</td>\n",
              "      <td>1744.122070</td>\n",
              "      <td>13222.128906</td>\n",
              "      <td>2085.667896</td>\n",
              "      <td>2257.387207</td>\n",
              "      <td>13210.407422</td>\n",
              "    </tr>\n",
              "  </tbody>\n",
              "</table>\n",
              "</div>"
            ],
            "text/plain": [
              "   Learning Rate       Adam-1  ...  RMSprop-Avg       SGD-Avg\n",
              "0         0.0010  3885.737061  ...  8680.056055  13132.709375\n",
              "1         0.0025  3279.913086  ...  5434.488330   2403.749707\n",
              "2         0.0050  2972.996582  ...  2888.729199   2518.711353\n",
              "3         0.0075  2800.599609  ...  2642.929297   3114.973633\n",
              "4         0.0100  2577.775146  ...  2381.249951   3997.220508\n",
              "5         0.0250  2257.944824  ...  2156.152026   5568.627148\n",
              "6         0.0500  2332.967773  ...  2235.454761   9769.790820\n",
              "7         0.0750  2284.866455  ...  2324.875586  13239.732227\n",
              "8         0.1000  2294.867920  ...  2257.387207  13210.407422\n",
              "\n",
              "[9 rows x 19 columns]"
            ]
          },
          "metadata": {
            "tags": []
          },
          "execution_count": 152
        }
      ]
    },
    {
      "cell_type": "code",
      "metadata": {
        "id": "DFjOFcRRIQaW",
        "colab_type": "code",
        "outputId": "7b5f4307-e517-461a-f704-73f2d33d31ea",
        "colab": {
          "base_uri": "https://localhost:8080/",
          "height": 35
        }
      },
      "source": [
        "result_report.to_excel('hyper tuning parameter learningrate and optimizer.xlsx', index=False)\n",
        "print('Saved process done.')"
      ],
      "execution_count": 153,
      "outputs": [
        {
          "output_type": "stream",
          "text": [
            "Saved process done.\n"
          ],
          "name": "stdout"
        }
      ]
    },
    {
      "cell_type": "code",
      "metadata": {
        "id": "IqzaBgO1IQZN",
        "colab_type": "code",
        "outputId": "b0bdf21a-3af3-435b-8e71-b1e0dd7d193e",
        "colab": {
          "base_uri": "https://localhost:8080/",
          "height": 295
        }
      },
      "source": [
        "plt.plot(result_report['Learning Rate'], result_report['Adam-Avg'], label='Adam')\n",
        "plt.plot(result_report['Learning Rate'], result_report['RMSprop-Avg'], label='RMSProp')\n",
        "plt.plot(result_report['Learning Rate'], result_report['SGD-Avg'], label='SGD')\n",
        "\n",
        "plt.title('Training over different optimizers and learning rate')\n",
        "plt.xlabel('Learning Rate')\n",
        "plt.ylabel('Mean Absolute Error')\n",
        "plt.legend();"
      ],
      "execution_count": 155,
      "outputs": [
        {
          "output_type": "display_data",
          "data": {
            "image/png": "[encoded data removed]",
            "text/plain": [
              "<Figure size 432x288 with 1 Axes>"
            ]
          },
          "metadata": {
            "tags": []
          }
        }
      ]
    },
    {
      "cell_type": "markdown",
      "metadata": {
        "id": "RlyAdHXWJ6od",
        "colab_type": "text"
      },
      "source": [
        "Small learning rate gives better result.\n",
        "\n",
        "Best parameter -> Adam optimizer with learning rate 0.025"
      ]
    },
    {
      "cell_type": "markdown",
      "metadata": {
        "id": "vy_CJQAVU5Eu",
        "colab_type": "text"
      },
      "source": [
        "### Regularization & Drop Out\n",
        "\n",
        "<b>Regularizers</b> allow you to apply penalties on layer parameters or layer activity during optimization. These penalties are summed into the loss function that the network optimizes.\n",
        "\n",
        "<b>Dropout</b> is one of the most effective and most commonly used regularization techniques for neural networks. The intuitive explanation for dropout is that because individual nodes in the network cannot rely on the output of the others, each node must output features that are useful on their own.\n",
        "\n",
        "We can combined both of them to avoid overfitting.\n"
      ]
    },
    {
      "cell_type": "code",
      "metadata": {
        "id": "l2fWeO4VZi1b",
        "colab_type": "code",
        "colab": {}
      },
      "source": [
        "regularizer_rates = [0, .001, .01, .1]\n",
        "dropout_rates = [0, .2, .35, .5]"
      ],
      "execution_count": 0,
      "outputs": []
    },
    {
      "cell_type": "code",
      "metadata": {
        "id": "e4bP_YKQVAR2",
        "colab_type": "code",
        "outputId": "bc4ae615-6bbe-4825-c9ff-1a9d9c781296",
        "colab": {
          "base_uri": "https://localhost:8080/",
          "height": 1000
        }
      },
      "source": [
        "drp_log, reg_log, mae_log ,mse_log = [], [], [], []\n",
        "\n",
        "for i, (train_features, train_target, \n",
        "        validation_features, validation_target) in enumerate(train_val_split):\n",
        "  \n",
        "    for dropout_rate in dropout_rates:\n",
        "        print('dropout_rate: {:.2f}'.format(dropout_rate))\n",
        "        for regularizer_rate in regularizer_rates:\n",
        "            print('     regularizer_rate: {:.2f}'.format(regularizer_rate))\n",
        "            mlp = multilayer_perceptron(train_features.shape[1], .025, 'adam', regularizer_rate, dropout_rate)\n",
        "            model, history = train_model(mlp, train_features, train_target, N_epoch)\n",
        "            loss, mae, mse = model.evaluate(validation_features, validation_target, verbose=1)\n",
        "            drp_log.append(dropout_rate)\n",
        "            reg_log.append(regularizer_rate)\n",
        "            mae_log.append(mae)\n",
        "            mse_log.append(mse)\n",
        "        print(\"\")\n",
        "\n",
        "    print('    Done for group-{:d}'.format(i+1))\n"
      ],
      "execution_count": 161,
      "outputs": [
        {
          "output_type": "stream",
          "text": [
            "dropout_rate: 0.00\n",
            "     regularizer_rate: 0.00\n",
            "7/7 [==============================] - 0s 1ms/step - loss: 2441.6497 - mae: 2241.0486 - mse: 30383838.0000\n",
            "     regularizer_rate: 0.00\n",
            "7/7 [==============================] - 0s 2ms/step - loss: 2338.7234 - mae: 2164.6750 - mse: 28622438.0000\n",
            "     regularizer_rate: 0.01\n",
            "7/7 [==============================] - 0s 2ms/step - loss: 2130.9846 - mae: 1923.4298 - mse: 28348622.0000\n",
            "     regularizer_rate: 0.10\n",
            "7/7 [==============================] - 0s 2ms/step - loss: 2873.9028 - mae: 2397.3435 - mse: 30763468.0000\n",
            "\n",
            "dropout_rate: 0.20\n",
            "     regularizer_rate: 0.00\n",
            "7/7 [==============================] - 0s 2ms/step - loss: 2595.8479 - mae: 2401.6494 - mse: 30566896.0000\n",
            "     regularizer_rate: 0.00\n",
            "7/7 [==============================] - 0s 2ms/step - loss: 2610.5139 - mae: 2392.8730 - mse: 31025570.0000\n",
            "     regularizer_rate: 0.01\n",
            "7/7 [==============================] - 0s 2ms/step - loss: 2811.2974 - mae: 2496.2275 - mse: 31553416.0000\n",
            "     regularizer_rate: 0.10\n",
            "7/7 [==============================] - 0s 2ms/step - loss: 2954.4746 - mae: 2529.4685 - mse: 31412128.0000\n",
            "\n",
            "dropout_rate: 0.35\n",
            "     regularizer_rate: 0.00\n",
            "7/7 [==============================] - 0s 2ms/step - loss: 2822.6597 - mae: 2648.1062 - mse: 31368460.0000\n",
            "     regularizer_rate: 0.00\n",
            "7/7 [==============================] - 0s 2ms/step - loss: 2667.4880 - mae: 2469.9270 - mse: 30751508.0000\n",
            "     regularizer_rate: 0.01\n",
            "7/7 [==============================] - 0s 2ms/step - loss: 2680.8201 - mae: 2431.4385 - mse: 30044418.0000\n",
            "     regularizer_rate: 0.10\n",
            "7/7 [==============================] - 0s 2ms/step - loss: 3079.1152 - mae: 2615.7913 - mse: 33667652.0000\n",
            "\n",
            "dropout_rate: 0.50\n",
            "     regularizer_rate: 0.00\n",
            "7/7 [==============================] - 0s 2ms/step - loss: 2891.9631 - mae: 2683.7893 - mse: 32698172.0000\n",
            "     regularizer_rate: 0.00\n",
            "7/7 [==============================] - 0s 2ms/step - loss: 2832.5935 - mae: 2589.0151 - mse: 32590146.0000\n",
            "     regularizer_rate: 0.01\n",
            "7/7 [==============================] - 0s 2ms/step - loss: 2834.8743 - mae: 2583.8047 - mse: 31984620.0000\n",
            "     regularizer_rate: 0.10\n",
            "7/7 [==============================] - 0s 2ms/step - loss: 3452.1284 - mae: 2968.2649 - mse: 35567780.0000\n",
            "\n",
            "    Done for group- 1\n",
            "dropout_rate: 0.00\n",
            "     regularizer_rate: 0.00\n",
            "7/7 [==============================] - 0s 2ms/step - loss: 2365.9246 - mae: 2274.9131 - mse: 28137632.0000\n",
            "     regularizer_rate: 0.00\n",
            "7/7 [==============================] - 0s 1ms/step - loss: 2041.1549 - mae: 2015.7047 - mse: 26011640.0000\n",
            "     regularizer_rate: 0.01\n",
            "7/7 [==============================] - 0s 2ms/step - loss: 1871.0836 - mae: 1787.4521 - mse: 25161440.0000\n",
            "     regularizer_rate: 0.10\n",
            "7/7 [==============================] - 0s 2ms/step - loss: 2293.1863 - mae: 2000.3878 - mse: 25797914.0000\n",
            "\n",
            "dropout_rate: 0.20\n",
            "     regularizer_rate: 0.00\n",
            "7/7 [==============================] - 0s 2ms/step - loss: 2493.7661 - mae: 2411.5615 - mse: 29686342.0000\n",
            "     regularizer_rate: 0.00\n",
            "7/7 [==============================] - 0s 2ms/step - loss: 2350.1785 - mae: 2256.1445 - mse: 27681922.0000\n",
            "     regularizer_rate: 0.01\n",
            "7/7 [==============================] - 0s 2ms/step - loss: 2497.2712 - mae: 2346.4985 - mse: 28643824.0000\n",
            "     regularizer_rate: 0.10\n",
            "7/7 [==============================] - 0s 2ms/step - loss: 3063.9790 - mae: 2762.5801 - mse: 28946022.0000\n",
            "\n",
            "dropout_rate: 0.35\n",
            "     regularizer_rate: 0.00\n",
            "7/7 [==============================] - 0s 2ms/step - loss: 2679.4319 - mae: 2538.9138 - mse: 30973950.0000\n",
            "     regularizer_rate: 0.00\n",
            "7/7 [==============================] - 0s 2ms/step - loss: 2589.6511 - mae: 2469.9182 - mse: 29689464.0000\n",
            "     regularizer_rate: 0.01\n",
            "7/7 [==============================] - 0s 2ms/step - loss: 2680.5061 - mae: 2507.6165 - mse: 30201028.0000\n",
            "     regularizer_rate: 0.10\n",
            "7/7 [==============================] - 0s 2ms/step - loss: 2901.3357 - mae: 2576.4111 - mse: 30323822.0000\n",
            "\n",
            "dropout_rate: 0.50\n",
            "     regularizer_rate: 0.00\n",
            "7/7 [==============================] - 0s 1ms/step - loss: 2879.4858 - mae: 2741.5610 - mse: 32049616.0000\n",
            "     regularizer_rate: 0.00\n",
            "7/7 [==============================] - 0s 2ms/step - loss: 2753.1265 - mae: 2610.9492 - mse: 30963306.0000\n",
            "     regularizer_rate: 0.01\n",
            "7/7 [==============================] - 0s 2ms/step - loss: 2938.2681 - mae: 2680.2112 - mse: 32895468.0000\n",
            "     regularizer_rate: 0.10\n",
            "7/7 [==============================] - 0s 2ms/step - loss: 3323.4683 - mae: 2915.2517 - mse: 32702282.0000\n",
            "\n",
            "    Done for group- 2\n",
            "dropout_rate: 0.00\n",
            "     regularizer_rate: 0.00\n",
            "7/7 [==============================] - 0s 1ms/step - loss: 1983.4576 - mae: 1850.1647 - mse: 19292694.0000\n",
            "     regularizer_rate: 0.00\n",
            "7/7 [==============================] - 0s 1ms/step - loss: 1319.2804 - mae: 1291.8690 - mse: 15987826.0000\n",
            "     regularizer_rate: 0.01\n",
            "7/7 [==============================] - 0s 1ms/step - loss: 1536.9515 - mae: 1425.9009 - mse: 16532712.0000\n",
            "     regularizer_rate: 0.10\n",
            "7/7 [==============================] - 0s 2ms/step - loss: 2280.4900 - mae: 1953.8458 - mse: 19150004.0000\n",
            "\n",
            "dropout_rate: 0.20\n",
            "     regularizer_rate: 0.00\n",
            "7/7 [==============================] - 0s 2ms/step - loss: 2126.8306 - mae: 1984.2887 - mse: 20082836.0000\n",
            "     regularizer_rate: 0.00\n",
            "7/7 [==============================] - 0s 2ms/step - loss: 2211.3857 - mae: 2096.6091 - mse: 20060230.0000\n",
            "     regularizer_rate: 0.01\n",
            "7/7 [==============================] - 0s 2ms/step - loss: 2088.8250 - mae: 1931.8706 - mse: 18771714.0000\n",
            "     regularizer_rate: 0.10\n",
            "7/7 [==============================] - 0s 2ms/step - loss: 2610.4988 - mae: 2217.7419 - mse: 21985816.0000\n",
            "\n",
            "dropout_rate: 0.35\n",
            "     regularizer_rate: 0.00\n",
            "7/7 [==============================] - 0s 2ms/step - loss: 2222.2144 - mae: 2126.7800 - mse: 19743472.0000\n",
            "     regularizer_rate: 0.00\n",
            "7/7 [==============================] - 0s 2ms/step - loss: 2277.9216 - mae: 2161.6438 - mse: 19234526.0000\n",
            "     regularizer_rate: 0.01\n",
            "7/7 [==============================] - 0s 2ms/step - loss: 2146.2949 - mae: 1956.9849 - mse: 19537374.0000\n",
            "     regularizer_rate: 0.10\n",
            "7/7 [==============================] - 0s 2ms/step - loss: 2643.5273 - mae: 2290.4919 - mse: 21449618.0000\n",
            "\n",
            "dropout_rate: 0.50\n",
            "     regularizer_rate: 0.00\n",
            "7/7 [==============================] - 0s 2ms/step - loss: 2872.3501 - mae: 2574.7563 - mse: 26789166.0000\n",
            "     regularizer_rate: 0.00\n",
            "7/7 [==============================] - 0s 2ms/step - loss: 2369.0903 - mae: 2252.1187 - mse: 21048636.0000\n",
            "     regularizer_rate: 0.01\n",
            "7/7 [==============================] - 0s 2ms/step - loss: 2340.0740 - mae: 2159.0686 - mse: 20877156.0000\n",
            "     regularizer_rate: 0.10\n",
            "7/7 [==============================] - 0s 2ms/step - loss: 2733.1394 - mae: 2344.4236 - mse: 21894470.0000\n",
            "\n",
            "    Done for group- 3\n",
            "dropout_rate: 0.00\n",
            "     regularizer_rate: 0.00\n",
            "7/7 [==============================] - 0s 2ms/step - loss: 2493.5540 - mae: 2343.7756 - mse: 28095162.0000\n",
            "     regularizer_rate: 0.00\n",
            "7/7 [==============================] - 0s 2ms/step - loss: 1902.6885 - mae: 1853.9578 - mse: 24113150.0000\n",
            "     regularizer_rate: 0.01\n",
            "7/7 [==============================] - 0s 2ms/step - loss: 1972.6986 - mae: 1843.5315 - mse: 24371880.0000\n",
            "     regularizer_rate: 0.10\n",
            "7/7 [==============================] - 0s 2ms/step - loss: 2818.6077 - mae: 2416.0640 - mse: 28195282.0000\n",
            "\n",
            "dropout_rate: 0.20\n",
            "     regularizer_rate: 0.00\n",
            "7/7 [==============================] - 0s 2ms/step - loss: 2563.6790 - mae: 2429.3303 - mse: 28330012.0000\n",
            "     regularizer_rate: 0.00\n",
            "7/7 [==============================] - 0s 2ms/step - loss: 2641.9133 - mae: 2495.0208 - mse: 29243670.0000\n",
            "     regularizer_rate: 0.01\n",
            "7/7 [==============================] - 0s 2ms/step - loss: 2812.2039 - mae: 2589.1313 - mse: 29595564.0000\n",
            "     regularizer_rate: 0.10\n",
            "7/7 [==============================] - 0s 2ms/step - loss: 2849.5630 - mae: 2490.2937 - mse: 27736048.0000\n",
            "\n",
            "dropout_rate: 0.35\n",
            "     regularizer_rate: 0.00\n",
            "7/7 [==============================] - 0s 2ms/step - loss: 2696.1902 - mae: 2580.3538 - mse: 28058784.0000\n",
            "     regularizer_rate: 0.00\n",
            "7/7 [==============================] - 0s 1ms/step - loss: 2681.5886 - mae: 2531.1411 - mse: 28884250.0000\n",
            "     regularizer_rate: 0.01\n",
            "7/7 [==============================] - 0s 2ms/step - loss: 2861.3596 - mae: 2609.8662 - mse: 28332534.0000\n",
            "     regularizer_rate: 0.10\n",
            "7/7 [==============================] - 0s 2ms/step - loss: 2964.9563 - mae: 2590.1799 - mse: 28429478.0000\n",
            "\n",
            "dropout_rate: 0.50\n",
            "     regularizer_rate: 0.00\n",
            "7/7 [==============================] - 0s 2ms/step - loss: 2775.5999 - mae: 2643.5457 - mse: 29318878.0000\n",
            "     regularizer_rate: 0.00\n",
            "7/7 [==============================] - 0s 1ms/step - loss: 2903.3547 - mae: 2736.2644 - mse: 29951728.0000\n",
            "     regularizer_rate: 0.01\n",
            "7/7 [==============================] - 0s 2ms/step - loss: 3168.1467 - mae: 2897.4832 - mse: 31879708.0000\n",
            "     regularizer_rate: 0.10\n",
            "7/7 [==============================] - 0s 2ms/step - loss: 2942.6125 - mae: 2586.8108 - mse: 28219976.0000\n",
            "\n",
            "    Done for group- 4\n",
            "dropout_rate: 0.00\n",
            "     regularizer_rate: 0.00\n",
            "7/7 [==============================] - 0s 2ms/step - loss: 2028.5042 - mae: 1828.1531 - mse: 21837326.0000\n",
            "     regularizer_rate: 0.00\n",
            "7/7 [==============================] - 0s 2ms/step - loss: 2000.8080 - mae: 1785.0552 - mse: 21786830.0000\n",
            "     regularizer_rate: 0.01\n",
            "7/7 [==============================] - 0s 2ms/step - loss: 1804.5424 - mae: 1595.9076 - mse: 21015164.0000\n",
            "     regularizer_rate: 0.10\n",
            "7/7 [==============================] - 0s 1ms/step - loss: 2416.8083 - mae: 1979.3773 - mse: 21664356.0000\n",
            "\n",
            "dropout_rate: 0.20\n",
            "     regularizer_rate: 0.00\n",
            "7/7 [==============================] - 0s 2ms/step - loss: 2416.7974 - mae: 2240.4077 - mse: 23156032.0000\n",
            "     regularizer_rate: 0.00\n",
            "7/7 [==============================] - 0s 2ms/step - loss: 2385.9080 - mae: 2196.6147 - mse: 23263922.0000\n",
            "     regularizer_rate: 0.01\n",
            "7/7 [==============================] - 0s 2ms/step - loss: 2386.4265 - mae: 2140.3982 - mse: 21518240.0000\n",
            "     regularizer_rate: 0.10\n",
            "7/7 [==============================] - 0s 2ms/step - loss: 2652.2224 - mae: 2226.1497 - mse: 23730420.0000\n",
            "\n",
            "dropout_rate: 0.35\n",
            "     regularizer_rate: 0.00\n",
            "7/7 [==============================] - 0s 2ms/step - loss: 2359.6472 - mae: 2142.0828 - mse: 23566336.0000\n",
            "     regularizer_rate: 0.00\n",
            "7/7 [==============================] - 0s 2ms/step - loss: 2218.4265 - mae: 2033.5842 - mse: 22399258.0000\n",
            "     regularizer_rate: 0.01\n",
            "7/7 [==============================] - 0s 2ms/step - loss: 2409.7988 - mae: 2171.0193 - mse: 23077356.0000\n",
            "     regularizer_rate: 0.10\n",
            "7/7 [==============================] - 0s 2ms/step - loss: 2603.3962 - mae: 2192.4648 - mse: 23315350.0000\n",
            "\n",
            "dropout_rate: 0.50\n",
            "     regularizer_rate: 0.00\n",
            "7/7 [==============================] - 0s 2ms/step - loss: 2455.5447 - mae: 2243.1411 - mse: 23981716.0000\n",
            "     regularizer_rate: 0.00\n",
            "7/7 [==============================] - 0s 2ms/step - loss: 2554.3923 - mae: 2245.4390 - mse: 25831792.0000\n",
            "     regularizer_rate: 0.01\n",
            "7/7 [==============================] - 0s 2ms/step - loss: 2625.5022 - mae: 2316.2529 - mse: 25073128.0000\n",
            "     regularizer_rate: 0.10\n",
            "7/7 [==============================] - 0s 1ms/step - loss: 2797.7673 - mae: 2381.7163 - mse: 23818700.0000\n",
            "\n",
            "    Done for group- 5\n"
          ],
          "name": "stdout"
        }
      ]
    },
    {
      "cell_type": "code",
      "metadata": {
        "id": "GXiUj5CfCZkm",
        "colab_type": "code",
        "outputId": "c8502ffa-5fbc-4dcc-850b-ea46f87cc480",
        "colab": {
          "base_uri": "https://localhost:8080/",
          "height": 35
        }
      },
      "source": [
        "grp_2d = [[\"Group-{:d}\".format(i+1)]*16 for i in range(n_splits)]\n",
        "grp = [g for grp1 in grp_2d for g in grp1]\n",
        "len(grp)"
      ],
      "execution_count": 171,
      "outputs": [
        {
          "output_type": "execute_result",
          "data": {
            "text/plain": [
              "80"
            ]
          },
          "metadata": {
            "tags": []
          },
          "execution_count": 171
        }
      ]
    },
    {
      "cell_type": "code",
      "metadata": {
        "id": "c6WoRQSWGMqj",
        "colab_type": "code",
        "outputId": "b8b6982c-12f0-4b14-f2fe-879f13d212d0",
        "colab": {
          "base_uri": "https://localhost:8080/",
          "height": 424
        }
      },
      "source": [
        "drp_reg_result = pd.DataFrame({\"Group\": grp, \"Drop-out rate\": drp_log, \"Regularizer rate\": reg_log,\n",
        "                               \"Mean Absolute Error\": mae_log, \"Mean Squared Error\": mse_log})\n",
        "drp_reg_result"
      ],
      "execution_count": 172,
      "outputs": [
        {
          "output_type": "execute_result",
          "data": {
            "text/html": [
              "<div>\n",
              "<style scoped>\n",
              "    .dataframe tbody tr th:only-of-type {\n",
              "        vertical-align: middle;\n",
              "    }\n",
              "\n",
              "    .dataframe tbody tr th {\n",
              "        vertical-align: top;\n",
              "    }\n",
              "\n",
              "    .dataframe thead th {\n",
              "        text-align: right;\n",
              "    }\n",
              "</style>\n",
              "<table border=\"1\" class=\"dataframe\">\n",
              "  <thead>\n",
              "    <tr style=\"text-align: right;\">\n",
              "      <th></th>\n",
              "      <th>Group</th>\n",
              "      <th>Drop-out rate</th>\n",
              "      <th>Regularizer rate</th>\n",
              "      <th>Mean Absolute Error</th>\n",
              "      <th>Mean Squared Error</th>\n",
              "    </tr>\n",
              "  </thead>\n",
              "  <tbody>\n",
              "    <tr>\n",
              "      <th>0</th>\n",
              "      <td>Group-1</td>\n",
              "      <td>0.00</td>\n",
              "      <td>0.000</td>\n",
              "      <td>2241.048584</td>\n",
              "      <td>30383838.0</td>\n",
              "    </tr>\n",
              "    <tr>\n",
              "      <th>1</th>\n",
              "      <td>Group-1</td>\n",
              "      <td>0.00</td>\n",
              "      <td>0.001</td>\n",
              "      <td>2164.675049</td>\n",
              "      <td>28622438.0</td>\n",
              "    </tr>\n",
              "    <tr>\n",
              "      <th>2</th>\n",
              "      <td>Group-1</td>\n",
              "      <td>0.00</td>\n",
              "      <td>0.010</td>\n",
              "      <td>1923.429810</td>\n",
              "      <td>28348622.0</td>\n",
              "    </tr>\n",
              "    <tr>\n",
              "      <th>3</th>\n",
              "      <td>Group-1</td>\n",
              "      <td>0.00</td>\n",
              "      <td>0.100</td>\n",
              "      <td>2397.343506</td>\n",
              "      <td>30763468.0</td>\n",
              "    </tr>\n",
              "    <tr>\n",
              "      <th>4</th>\n",
              "      <td>Group-1</td>\n",
              "      <td>0.20</td>\n",
              "      <td>0.000</td>\n",
              "      <td>2401.649414</td>\n",
              "      <td>30566896.0</td>\n",
              "    </tr>\n",
              "    <tr>\n",
              "      <th>...</th>\n",
              "      <td>...</td>\n",
              "      <td>...</td>\n",
              "      <td>...</td>\n",
              "      <td>...</td>\n",
              "      <td>...</td>\n",
              "    </tr>\n",
              "    <tr>\n",
              "      <th>75</th>\n",
              "      <td>Group-5</td>\n",
              "      <td>0.35</td>\n",
              "      <td>0.100</td>\n",
              "      <td>2192.464844</td>\n",
              "      <td>23315350.0</td>\n",
              "    </tr>\n",
              "    <tr>\n",
              "      <th>76</th>\n",
              "      <td>Group-5</td>\n",
              "      <td>0.50</td>\n",
              "      <td>0.000</td>\n",
              "      <td>2243.141113</td>\n",
              "      <td>23981716.0</td>\n",
              "    </tr>\n",
              "    <tr>\n",
              "      <th>77</th>\n",
              "      <td>Group-5</td>\n",
              "      <td>0.50</td>\n",
              "      <td>0.001</td>\n",
              "      <td>2245.438965</td>\n",
              "      <td>25831792.0</td>\n",
              "    </tr>\n",
              "    <tr>\n",
              "      <th>78</th>\n",
              "      <td>Group-5</td>\n",
              "      <td>0.50</td>\n",
              "      <td>0.010</td>\n",
              "      <td>2316.252930</td>\n",
              "      <td>25073128.0</td>\n",
              "    </tr>\n",
              "    <tr>\n",
              "      <th>79</th>\n",
              "      <td>Group-5</td>\n",
              "      <td>0.50</td>\n",
              "      <td>0.100</td>\n",
              "      <td>2381.716309</td>\n",
              "      <td>23818700.0</td>\n",
              "    </tr>\n",
              "  </tbody>\n",
              "</table>\n",
              "<p>80 rows × 5 columns</p>\n",
              "</div>"
            ],
            "text/plain": [
              "      Group  Drop-out rate  ...  Mean Absolute Error  Mean Squared Error\n",
              "0   Group-1           0.00  ...          2241.048584          30383838.0\n",
              "1   Group-1           0.00  ...          2164.675049          28622438.0\n",
              "2   Group-1           0.00  ...          1923.429810          28348622.0\n",
              "3   Group-1           0.00  ...          2397.343506          30763468.0\n",
              "4   Group-1           0.20  ...          2401.649414          30566896.0\n",
              "..      ...            ...  ...                  ...                 ...\n",
              "75  Group-5           0.35  ...          2192.464844          23315350.0\n",
              "76  Group-5           0.50  ...          2243.141113          23981716.0\n",
              "77  Group-5           0.50  ...          2245.438965          25831792.0\n",
              "78  Group-5           0.50  ...          2316.252930          25073128.0\n",
              "79  Group-5           0.50  ...          2381.716309          23818700.0\n",
              "\n",
              "[80 rows x 5 columns]"
            ]
          },
          "metadata": {
            "tags": []
          },
          "execution_count": 172
        }
      ]
    },
    {
      "cell_type": "code",
      "metadata": {
        "id": "yp0MrkHekUND",
        "colab_type": "code",
        "outputId": "fba6ed14-36ce-4e08-8188-53fdcd3f1f6c",
        "colab": {
          "base_uri": "https://localhost:8080/",
          "height": 35
        }
      },
      "source": [
        "drp_reg_result.to_excel('hyper tuning parameter regularization and drop-out.xlsx', index=False)\n",
        "print('Saved process done.')"
      ],
      "execution_count": 173,
      "outputs": [
        {
          "output_type": "stream",
          "text": [
            "Saved process done.\n"
          ],
          "name": "stdout"
        }
      ]
    },
    {
      "cell_type": "code",
      "metadata": {
        "id": "4jcKeRHrkUjb",
        "colab_type": "code",
        "outputId": "59cd7700-f4b2-4aed-9e6c-55ec9c697e62",
        "colab": {
          "base_uri": "https://localhost:8080/",
          "height": 582
        }
      },
      "source": [
        "grp_result = drp_reg_result.groupby(['Drop-out rate', 'Regularizer rate'])[['Mean Absolute Error', 'Mean Squared Error']].mean()\n",
        "grp_result"
      ],
      "execution_count": 174,
      "outputs": [
        {
          "output_type": "execute_result",
          "data": {
            "text/html": [
              "<div>\n",
              "<style scoped>\n",
              "    .dataframe tbody tr th:only-of-type {\n",
              "        vertical-align: middle;\n",
              "    }\n",
              "\n",
              "    .dataframe tbody tr th {\n",
              "        vertical-align: top;\n",
              "    }\n",
              "\n",
              "    .dataframe thead th {\n",
              "        text-align: right;\n",
              "    }\n",
              "</style>\n",
              "<table border=\"1\" class=\"dataframe\">\n",
              "  <thead>\n",
              "    <tr style=\"text-align: right;\">\n",
              "      <th></th>\n",
              "      <th></th>\n",
              "      <th>Mean Absolute Error</th>\n",
              "      <th>Mean Squared Error</th>\n",
              "    </tr>\n",
              "    <tr>\n",
              "      <th>Drop-out rate</th>\n",
              "      <th>Regularizer rate</th>\n",
              "      <th></th>\n",
              "      <th></th>\n",
              "    </tr>\n",
              "  </thead>\n",
              "  <tbody>\n",
              "    <tr>\n",
              "      <th rowspan=\"4\" valign=\"top\">0.00</th>\n",
              "      <th>0.000</th>\n",
              "      <td>2107.611011</td>\n",
              "      <td>25549330.4</td>\n",
              "    </tr>\n",
              "    <tr>\n",
              "      <th>0.001</th>\n",
              "      <td>1822.252344</td>\n",
              "      <td>23304376.8</td>\n",
              "    </tr>\n",
              "    <tr>\n",
              "      <th>0.010</th>\n",
              "      <td>1715.244385</td>\n",
              "      <td>23085963.6</td>\n",
              "    </tr>\n",
              "    <tr>\n",
              "      <th>0.100</th>\n",
              "      <td>2149.403687</td>\n",
              "      <td>25114204.8</td>\n",
              "    </tr>\n",
              "    <tr>\n",
              "      <th rowspan=\"4\" valign=\"top\">0.20</th>\n",
              "      <th>0.000</th>\n",
              "      <td>2293.447534</td>\n",
              "      <td>26364423.6</td>\n",
              "    </tr>\n",
              "    <tr>\n",
              "      <th>0.001</th>\n",
              "      <td>2287.452441</td>\n",
              "      <td>26255062.8</td>\n",
              "    </tr>\n",
              "    <tr>\n",
              "      <th>0.010</th>\n",
              "      <td>2300.825244</td>\n",
              "      <td>26016551.6</td>\n",
              "    </tr>\n",
              "    <tr>\n",
              "      <th>0.100</th>\n",
              "      <td>2445.246777</td>\n",
              "      <td>26762086.8</td>\n",
              "    </tr>\n",
              "    <tr>\n",
              "      <th rowspan=\"4\" valign=\"top\">0.35</th>\n",
              "      <th>0.000</th>\n",
              "      <td>2407.247314</td>\n",
              "      <td>26742200.4</td>\n",
              "    </tr>\n",
              "    <tr>\n",
              "      <th>0.001</th>\n",
              "      <td>2333.242871</td>\n",
              "      <td>26191801.2</td>\n",
              "    </tr>\n",
              "    <tr>\n",
              "      <th>0.010</th>\n",
              "      <td>2335.385059</td>\n",
              "      <td>26238542.0</td>\n",
              "    </tr>\n",
              "    <tr>\n",
              "      <th>0.100</th>\n",
              "      <td>2453.067822</td>\n",
              "      <td>27437184.0</td>\n",
              "    </tr>\n",
              "    <tr>\n",
              "      <th rowspan=\"4\" valign=\"top\">0.50</th>\n",
              "      <th>0.000</th>\n",
              "      <td>2577.358691</td>\n",
              "      <td>28967509.6</td>\n",
              "    </tr>\n",
              "    <tr>\n",
              "      <th>0.001</th>\n",
              "      <td>2486.757275</td>\n",
              "      <td>28077121.6</td>\n",
              "    </tr>\n",
              "    <tr>\n",
              "      <th>0.010</th>\n",
              "      <td>2527.364111</td>\n",
              "      <td>28542016.0</td>\n",
              "    </tr>\n",
              "    <tr>\n",
              "      <th>0.100</th>\n",
              "      <td>2639.293457</td>\n",
              "      <td>28440641.6</td>\n",
              "    </tr>\n",
              "  </tbody>\n",
              "</table>\n",
              "</div>"
            ],
            "text/plain": [
              "                                Mean Absolute Error  Mean Squared Error\n",
              "Drop-out rate Regularizer rate                                         \n",
              "0.00          0.000                     2107.611011          25549330.4\n",
              "              0.001                     1822.252344          23304376.8\n",
              "              0.010                     1715.244385          23085963.6\n",
              "              0.100                     2149.403687          25114204.8\n",
              "0.20          0.000                     2293.447534          26364423.6\n",
              "              0.001                     2287.452441          26255062.8\n",
              "              0.010                     2300.825244          26016551.6\n",
              "              0.100                     2445.246777          26762086.8\n",
              "0.35          0.000                     2407.247314          26742200.4\n",
              "              0.001                     2333.242871          26191801.2\n",
              "              0.010                     2335.385059          26238542.0\n",
              "              0.100                     2453.067822          27437184.0\n",
              "0.50          0.000                     2577.358691          28967509.6\n",
              "              0.001                     2486.757275          28077121.6\n",
              "              0.010                     2527.364111          28542016.0\n",
              "              0.100                     2639.293457          28440641.6"
            ]
          },
          "metadata": {
            "tags": []
          },
          "execution_count": 174
        }
      ]
    },
    {
      "cell_type": "markdown",
      "metadata": {
        "id": "CHakBjNWGOJ3",
        "colab_type": "text"
      },
      "source": [
        "Refer to previous experiment, the better result comes with drop-out rate = 0 and regularizer rate = 0.01 (mae), 0.1 (mse)"
      ]
    },
    {
      "cell_type": "markdown",
      "metadata": {
        "id": "qfCWmXIq9q3K",
        "colab_type": "text"
      },
      "source": [
        "### Evaluate with test set"
      ]
    },
    {
      "cell_type": "markdown",
      "metadata": {
        "id": "V6mPtzdyGbi0",
        "colab_type": "text"
      },
      "source": [
        "After work on hyper tuning parameter, we can apply the best parameter to test set. And see whether a overfitting issue or not"
      ]
    },
    {
      "cell_type": "code",
      "metadata": {
        "id": "7TefQJNBG3BS",
        "colab_type": "code",
        "colab": {
          "base_uri": "https://localhost:8080/",
          "height": 108
        },
        "outputId": "661e1e1e-73cb-499e-9869-05a3a85d7eaa"
      },
      "source": [
        "mae_log ,mse_log = [], []\n",
        "\n",
        "for train_features, train_target, validation_features, validation_target in train_val_split:\n",
        "\n",
        "    mlp = multilayer_perceptron(train_features.shape[1], .025, 'adam', 0.01, 0)\n",
        "    model, history = train_model(mlp, train_features, train_target, N_epoch)\n",
        "    loss, mae, mse = model.evaluate(validation_features, validation_target, verbose=1)\n",
        "    mae_log.append(mae)\n",
        "    mse_log.append(mse)"
      ],
      "execution_count": 176,
      "outputs": [
        {
          "output_type": "stream",
          "text": [
            "7/7 [==============================] - 0s 2ms/step - loss: 1953.9530 - mae: 1753.2065 - mse: 27742098.0000\n",
            "7/7 [==============================] - 0s 2ms/step - loss: 1853.3478 - mae: 1763.7159 - mse: 25310854.0000\n",
            "7/7 [==============================] - 0s 2ms/step - loss: 1526.3708 - mae: 1405.5571 - mse: 16371304.0000\n",
            "7/7 [==============================] - 0s 2ms/step - loss: 2368.8538 - mae: 2170.2588 - mse: 25846686.0000\n",
            "7/7 [==============================] - 0s 2ms/step - loss: 1718.6458 - mae: 1530.6906 - mse: 20062406.0000\n"
          ],
          "name": "stdout"
        }
      ]
    },
    {
      "cell_type": "code",
      "metadata": {
        "id": "oIDadaNQHdBt",
        "colab_type": "code",
        "outputId": "7d59920e-1386-4e70-b809-aec5743a771b",
        "colab": {
          "base_uri": "https://localhost:8080/",
          "height": 224
        }
      },
      "source": [
        "grp_log = ['Group-'+str(i+1) for i in range(n_splits)]\n",
        "log = pd.DataFrame({\"Group\": grp_log, \"Mean Absolute Error\": mae_log, \"Mean Squared Error\": mse_log})\n",
        "print('Test result with validation set that obtained from train-validation-test split using Sorted Stratified K Fold Cross Validation')\n",
        "log"
      ],
      "execution_count": 179,
      "outputs": [
        {
          "output_type": "stream",
          "text": [
            "Test result with validation set that obtained from train-validation-test split using Sorted Stratified K Fold Cross Validation\n"
          ],
          "name": "stdout"
        },
        {
          "output_type": "execute_result",
          "data": {
            "text/html": [
              "<div>\n",
              "<style scoped>\n",
              "    .dataframe tbody tr th:only-of-type {\n",
              "        vertical-align: middle;\n",
              "    }\n",
              "\n",
              "    .dataframe tbody tr th {\n",
              "        vertical-align: top;\n",
              "    }\n",
              "\n",
              "    .dataframe thead th {\n",
              "        text-align: right;\n",
              "    }\n",
              "</style>\n",
              "<table border=\"1\" class=\"dataframe\">\n",
              "  <thead>\n",
              "    <tr style=\"text-align: right;\">\n",
              "      <th></th>\n",
              "      <th>Group</th>\n",
              "      <th>Mean Absolute Error</th>\n",
              "      <th>Mean Squared Error</th>\n",
              "    </tr>\n",
              "  </thead>\n",
              "  <tbody>\n",
              "    <tr>\n",
              "      <th>0</th>\n",
              "      <td>Group-1</td>\n",
              "      <td>1753.206543</td>\n",
              "      <td>27742098.0</td>\n",
              "    </tr>\n",
              "    <tr>\n",
              "      <th>1</th>\n",
              "      <td>Group-2</td>\n",
              "      <td>1763.715942</td>\n",
              "      <td>25310854.0</td>\n",
              "    </tr>\n",
              "    <tr>\n",
              "      <th>2</th>\n",
              "      <td>Group-3</td>\n",
              "      <td>1405.557129</td>\n",
              "      <td>16371304.0</td>\n",
              "    </tr>\n",
              "    <tr>\n",
              "      <th>3</th>\n",
              "      <td>Group-4</td>\n",
              "      <td>2170.258789</td>\n",
              "      <td>25846686.0</td>\n",
              "    </tr>\n",
              "    <tr>\n",
              "      <th>4</th>\n",
              "      <td>Group-5</td>\n",
              "      <td>1530.690552</td>\n",
              "      <td>20062406.0</td>\n",
              "    </tr>\n",
              "  </tbody>\n",
              "</table>\n",
              "</div>"
            ],
            "text/plain": [
              "     Group  Mean Absolute Error  Mean Squared Error\n",
              "0  Group-1          1753.206543          27742098.0\n",
              "1  Group-2          1763.715942          25310854.0\n",
              "2  Group-3          1405.557129          16371304.0\n",
              "3  Group-4          2170.258789          25846686.0\n",
              "4  Group-5          1530.690552          20062406.0"
            ]
          },
          "metadata": {
            "tags": []
          },
          "execution_count": 179
        }
      ]
    },
    {
      "cell_type": "code",
      "metadata": {
        "id": "0Qpfe2CaIBkb",
        "colab_type": "code",
        "outputId": "b4ca8924-b1cc-49f7-d393-41619e6cf060",
        "colab": {
          "base_uri": "https://localhost:8080/",
          "height": 72
        }
      },
      "source": [
        "\n",
        "print(\"Minimum MAE =  \",log[\"Mean Absolute Error\"].min())\n",
        "print(\"Maximum MAE =  \",log[\"Mean Absolute Error\"].max())\n",
        "print(\"Average MAE =  \",log[\"Mean Absolute Error\"].mean())"
      ],
      "execution_count": 180,
      "outputs": [
        {
          "output_type": "stream",
          "text": [
            "Minimum MAE =   1405.55712890625\n",
            "Maximum MAE =   2170.2587890625\n",
            "Average MAE =   1724.685791015625\n"
          ],
          "name": "stdout"
        }
      ]
    },
    {
      "cell_type": "markdown",
      "metadata": {
        "id": "hCF8CyD8L9Eq",
        "colab_type": "text"
      },
      "source": [
        "Right now, we know that our model can get result with 'Mean Absolute Error' between 1416,74 and 1540,08. Now lets check with test set. (N_epoch=4000)\n",
        "\n",
        "> If you run the cell many times you can get different result. But the interval of MAE will not be much different"
      ]
    },
    {
      "cell_type": "code",
      "metadata": {
        "id": "vfOuCYX19wQi",
        "colab_type": "code",
        "outputId": "02205b0a-94e2-4268-a65f-adac75c0d174",
        "colab": {
          "base_uri": "https://localhost:8080/",
          "height": 53
        }
      },
      "source": [
        "test_target = target[normed_test_features.index]\n",
        "loss, mae, mse = model.evaluate(normed_test_features, test_target)\n",
        "\n",
        "print(\"MAE for testing set =  {:5.2f} (charges)\".format(mae))"
      ],
      "execution_count": 181,
      "outputs": [
        {
          "output_type": "stream",
          "text": [
            "9/9 [==============================] - 0s 1ms/step - loss: 1687.9614 - mae: 1563.4626 - mse: 18696028.0000\n",
            "MAE for testing set =  1563.46 (charges)\n"
          ],
          "name": "stdout"
        }
      ]
    },
    {
      "cell_type": "code",
      "metadata": {
        "id": "Fds06mu-Dr23",
        "colab_type": "code",
        "outputId": "16720852-d37e-4a92-a364-6e0aceada272",
        "colab": {
          "base_uri": "https://localhost:8080/",
          "height": 283
        }
      },
      "source": [
        "test_predictions = model.predict(normed_test_features).flatten()\n",
        "\n",
        "a = plt.axes(aspect='equal')\n",
        "\n",
        "plt.scatter(test_target, test_predictions)\n",
        "\n",
        "plt.xlabel('True Values [charges]')\n",
        "plt.ylabel('Predictions [charges]')\n",
        "lims = [0, 6e4]\n",
        "plt.xlim(lims)\n",
        "plt.ylim(lims)\n",
        "\n",
        "_ = plt.plot(lims, lims)"
      ],
      "execution_count": 182,
      "outputs": [
        {
          "output_type": "display_data",
          "data": {
            "image/png": "[encoded data removed]",
            "text/plain": [
              "<Figure size 432x288 with 1 Axes>"
            ]
          },
          "metadata": {
            "tags": []
          }
        }
      ]
    },
    {
      "cell_type": "markdown",
      "metadata": {
        "id": "t7KrK5pJN6dR",
        "colab_type": "text"
      },
      "source": [
        "For this testing we get MAE of 1639,38.\n",
        "\n",
        "\n",
        "If we compare with result that we obtained from validation set, our model can predict data with MAE 1487,84. We get <b>difference of 151,54 from model validation</b>. That is good result <b>(not overfitting)</b>."
      ]
    },
    {
      "cell_type": "markdown",
      "metadata": {
        "id": "03uekFg_jYmm",
        "colab_type": "text"
      },
      "source": [
        "# Results and Conclusion"
      ]
    },
    {
      "cell_type": "code",
      "metadata": {
        "id": "y2mF2ioel1Xy",
        "colab_type": "code",
        "colab": {
          "base_uri": "https://localhost:8080/",
          "height": 181
        },
        "outputId": "f2095573-3dfc-4ae3-de46-209cb6a91ed4"
      },
      "source": [
        "dataset['charges'].describe()"
      ],
      "execution_count": 183,
      "outputs": [
        {
          "output_type": "execute_result",
          "data": {
            "text/plain": [
              "count     1338.000000\n",
              "mean     13270.422265\n",
              "std      12110.011237\n",
              "min       1121.873900\n",
              "25%       4740.287150\n",
              "50%       9382.033000\n",
              "75%      16639.912515\n",
              "max      63770.428010\n",
              "Name: charges, dtype: float64"
            ]
          },
          "metadata": {
            "tags": []
          },
          "execution_count": 183
        }
      ]
    },
    {
      "cell_type": "markdown",
      "metadata": {
        "id": "X_kgrGJpkGXT",
        "colab_type": "text"
      },
      "source": [
        "We have performed regression analysis model to predict health insurance cost should be paid for given features. We have shown in the above, several results related to our MAE for test data. We think from the range of `charges` category in the datasets, our predicted health insurance won't sufficiently good for person who has medical bill around 1000.\n",
        "\n",
        "As we plot the joint distribution, we can see at glance that there are so much irregularity to the data. If we look closely to some elements in that joint distrbution, there are some clusters related to BMI and charges. It can be inferred another model like clustering can make a group for a range of health insurance bill. This will be another project.\n",
        "\n"
      ]
    },
    {
      "cell_type": "code",
      "metadata": {
        "id": "ToNe8pJxmq9w",
        "colab_type": "code",
        "colab": {}
      },
      "source": [
        ""
      ],
      "execution_count": 0,
      "outputs": []
    }
  ]
}