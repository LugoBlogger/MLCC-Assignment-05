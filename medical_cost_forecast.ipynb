{
  "nbformat": 4,
  "nbformat_minor": 0,
  "metadata": {
    "colab": {
      "name": "medical-cost-forecast.ipynb",
      "provenance": [],
      "collapsed_sections": [],
      "include_colab_link": true
    },
    "kernelspec": {
      "name": "python3",
      "display_name": "Python 3"
    }
  },
  "cells": [
    {
      "cell_type": "markdown",
      "metadata": {
        "id": "view-in-github",
        "colab_type": "text"
      },
      "source": [
        "<a href=\"https://colab.research.google.com/github/LugoBlogger/MLCC-Assignment-05/blob/arul%2Fmodelling/medical_cost_forecast.ipynb\" target=\"_parent\"><img src=\"https://colab.research.google.com/assets/colab-badge.svg\" alt=\"Open In Colab\"/></a>"
      ]
    },
    {
      "cell_type": "markdown",
      "metadata": {
        "id": "bLMC3Zb-Cksh",
        "colab_type": "text"
      },
      "source": [
        "# Introduction\n",
        "\n",
        "* motivation why we choose that dataset.\n",
        "* what we want to predict.\n",
        "* is it interesting enough or not."
      ]
    },
    {
      "cell_type": "code",
      "metadata": {
        "id": "gBCFS3gaE7wn",
        "colab_type": "code",
        "outputId": "a93af33c-3058-41be-bccc-ee5f22504f71",
        "colab": {
          "base_uri": "https://localhost:8080/",
          "height": 34
        }
      },
      "source": [
        "# Use seaborn for pairplot\n",
        "!pip install -q seaborn\n",
        "\n",
        "# Use some functions from tensorflow_docs\n",
        "!pip install -q git+https://github.com/tensorflow/docs"
      ],
      "execution_count": 3,
      "outputs": [
        {
          "output_type": "stream",
          "text": [
            "  Building wheel for tensorflow-docs (setup.py) ... \u001b[?25l\u001b[?25hdone\n"
          ],
          "name": "stdout"
        }
      ]
    },
    {
      "cell_type": "code",
      "metadata": {
        "id": "ZKKYz5BnFeAf",
        "colab_type": "code",
        "colab": {}
      },
      "source": [
        "# Use tensorflow 2\n",
        "%tensorflow_version 2.x"
      ],
      "execution_count": 0,
      "outputs": []
    },
    {
      "cell_type": "code",
      "metadata": {
        "id": "sPXvoENYBlC9",
        "colab_type": "code",
        "colab": {}
      },
      "source": [
        "import time\n",
        "\n",
        "import matplotlib.pyplot as plt\n",
        "import numpy as np\n",
        "import pandas as pd\n",
        "import seaborn as sns"
      ],
      "execution_count": 0,
      "outputs": []
    },
    {
      "cell_type": "code",
      "metadata": {
        "id": "zBaTzo5YEHOz",
        "colab_type": "code",
        "outputId": "24de436b-0f6d-4c64-d183-01ed089ed65b",
        "colab": {
          "base_uri": "https://localhost:8080/",
          "height": 34
        }
      },
      "source": [
        "import tensorflow as tf\n",
        "\n",
        "from tensorflow import keras\n",
        "from tensorflow.keras import layers\n",
        "\n",
        "print(tf.__version__)"
      ],
      "execution_count": 6,
      "outputs": [
        {
          "output_type": "stream",
          "text": [
            "2.2.0-rc1\n"
          ],
          "name": "stdout"
        }
      ]
    },
    {
      "cell_type": "code",
      "metadata": {
        "id": "vLwn9MsbEOfY",
        "colab_type": "code",
        "colab": {}
      },
      "source": [
        "### this library is for callback functions\n",
        "import tensorflow_docs as tfdocs\n",
        "import tensorflow_docs.plots\n",
        "import tensorflow_docs.modeling"
      ],
      "execution_count": 0,
      "outputs": []
    },
    {
      "cell_type": "markdown",
      "metadata": {
        "id": "llvFDM09FyIu",
        "colab_type": "text"
      },
      "source": [
        "# Medical Cost Personal Datasets\n",
        "\n",
        "## Retrieve the dataset\n",
        "\n",
        "Manage the dataset into pandas' DataFrame."
      ]
    },
    {
      "cell_type": "code",
      "metadata": {
        "id": "Ca59a6eCGMsA",
        "colab_type": "code",
        "outputId": "e3e6f15a-2377-4ba0-db51-2a2e66f57ea8",
        "colab": {
          "base_uri": "https://localhost:8080/",
          "height": 402
        }
      },
      "source": [
        "dataset = pd.read_csv(\"https://raw.githubusercontent.com/LugoBlogger/MLCC-Assignment-05/master/datasets/insurance.csv\", header=0)\n",
        "dataset"
      ],
      "execution_count": 8,
      "outputs": [
        {
          "output_type": "execute_result",
          "data": {
            "text/html": [
              "<div>\n",
              "<style scoped>\n",
              "    .dataframe tbody tr th:only-of-type {\n",
              "        vertical-align: middle;\n",
              "    }\n",
              "\n",
              "    .dataframe tbody tr th {\n",
              "        vertical-align: top;\n",
              "    }\n",
              "\n",
              "    .dataframe thead th {\n",
              "        text-align: right;\n",
              "    }\n",
              "</style>\n",
              "<table border=\"1\" class=\"dataframe\">\n",
              "  <thead>\n",
              "    <tr style=\"text-align: right;\">\n",
              "      <th></th>\n",
              "      <th>age</th>\n",
              "      <th>sex</th>\n",
              "      <th>bmi</th>\n",
              "      <th>children</th>\n",
              "      <th>smoker</th>\n",
              "      <th>region</th>\n",
              "      <th>charges</th>\n",
              "    </tr>\n",
              "  </thead>\n",
              "  <tbody>\n",
              "    <tr>\n",
              "      <th>0</th>\n",
              "      <td>19</td>\n",
              "      <td>female</td>\n",
              "      <td>27.900</td>\n",
              "      <td>0</td>\n",
              "      <td>yes</td>\n",
              "      <td>southwest</td>\n",
              "      <td>16884.92400</td>\n",
              "    </tr>\n",
              "    <tr>\n",
              "      <th>1</th>\n",
              "      <td>18</td>\n",
              "      <td>male</td>\n",
              "      <td>33.770</td>\n",
              "      <td>1</td>\n",
              "      <td>no</td>\n",
              "      <td>southeast</td>\n",
              "      <td>1725.55230</td>\n",
              "    </tr>\n",
              "    <tr>\n",
              "      <th>2</th>\n",
              "      <td>28</td>\n",
              "      <td>male</td>\n",
              "      <td>33.000</td>\n",
              "      <td>3</td>\n",
              "      <td>no</td>\n",
              "      <td>southeast</td>\n",
              "      <td>4449.46200</td>\n",
              "    </tr>\n",
              "    <tr>\n",
              "      <th>3</th>\n",
              "      <td>33</td>\n",
              "      <td>male</td>\n",
              "      <td>22.705</td>\n",
              "      <td>0</td>\n",
              "      <td>no</td>\n",
              "      <td>northwest</td>\n",
              "      <td>21984.47061</td>\n",
              "    </tr>\n",
              "    <tr>\n",
              "      <th>4</th>\n",
              "      <td>32</td>\n",
              "      <td>male</td>\n",
              "      <td>28.880</td>\n",
              "      <td>0</td>\n",
              "      <td>no</td>\n",
              "      <td>northwest</td>\n",
              "      <td>3866.85520</td>\n",
              "    </tr>\n",
              "    <tr>\n",
              "      <th>...</th>\n",
              "      <td>...</td>\n",
              "      <td>...</td>\n",
              "      <td>...</td>\n",
              "      <td>...</td>\n",
              "      <td>...</td>\n",
              "      <td>...</td>\n",
              "      <td>...</td>\n",
              "    </tr>\n",
              "    <tr>\n",
              "      <th>1333</th>\n",
              "      <td>50</td>\n",
              "      <td>male</td>\n",
              "      <td>30.970</td>\n",
              "      <td>3</td>\n",
              "      <td>no</td>\n",
              "      <td>northwest</td>\n",
              "      <td>10600.54830</td>\n",
              "    </tr>\n",
              "    <tr>\n",
              "      <th>1334</th>\n",
              "      <td>18</td>\n",
              "      <td>female</td>\n",
              "      <td>31.920</td>\n",
              "      <td>0</td>\n",
              "      <td>no</td>\n",
              "      <td>northeast</td>\n",
              "      <td>2205.98080</td>\n",
              "    </tr>\n",
              "    <tr>\n",
              "      <th>1335</th>\n",
              "      <td>18</td>\n",
              "      <td>female</td>\n",
              "      <td>36.850</td>\n",
              "      <td>0</td>\n",
              "      <td>no</td>\n",
              "      <td>southeast</td>\n",
              "      <td>1629.83350</td>\n",
              "    </tr>\n",
              "    <tr>\n",
              "      <th>1336</th>\n",
              "      <td>21</td>\n",
              "      <td>female</td>\n",
              "      <td>25.800</td>\n",
              "      <td>0</td>\n",
              "      <td>no</td>\n",
              "      <td>southwest</td>\n",
              "      <td>2007.94500</td>\n",
              "    </tr>\n",
              "    <tr>\n",
              "      <th>1337</th>\n",
              "      <td>61</td>\n",
              "      <td>female</td>\n",
              "      <td>29.070</td>\n",
              "      <td>0</td>\n",
              "      <td>yes</td>\n",
              "      <td>northwest</td>\n",
              "      <td>29141.36030</td>\n",
              "    </tr>\n",
              "  </tbody>\n",
              "</table>\n",
              "<p>1338 rows × 7 columns</p>\n",
              "</div>"
            ],
            "text/plain": [
              "      age     sex     bmi  children smoker     region      charges\n",
              "0      19  female  27.900         0    yes  southwest  16884.92400\n",
              "1      18    male  33.770         1     no  southeast   1725.55230\n",
              "2      28    male  33.000         3     no  southeast   4449.46200\n",
              "3      33    male  22.705         0     no  northwest  21984.47061\n",
              "4      32    male  28.880         0     no  northwest   3866.85520\n",
              "...   ...     ...     ...       ...    ...        ...          ...\n",
              "1333   50    male  30.970         3     no  northwest  10600.54830\n",
              "1334   18  female  31.920         0     no  northeast   2205.98080\n",
              "1335   18  female  36.850         0     no  southeast   1629.83350\n",
              "1336   21  female  25.800         0     no  southwest   2007.94500\n",
              "1337   61  female  29.070         0    yes  northwest  29141.36030\n",
              "\n",
              "[1338 rows x 7 columns]"
            ]
          },
          "metadata": {
            "tags": []
          },
          "execution_count": 8
        }
      ]
    },
    {
      "cell_type": "markdown",
      "metadata": {
        "id": "i_o-MQJPQmEY",
        "colab_type": "text"
      },
      "source": [
        "## Clean the data\n",
        "\n",
        "Checking the dataset whether is clean or not."
      ]
    },
    {
      "cell_type": "code",
      "metadata": {
        "id": "UKBu_VRVKUSE",
        "colab_type": "code",
        "outputId": "7b69241e-5370-4036-e960-005bfaab2b13",
        "colab": {
          "base_uri": "https://localhost:8080/",
          "height": 151
        }
      },
      "source": [
        "dataset.isna().sum()"
      ],
      "execution_count": 9,
      "outputs": [
        {
          "output_type": "execute_result",
          "data": {
            "text/plain": [
              "age         0\n",
              "sex         0\n",
              "bmi         0\n",
              "children    0\n",
              "smoker      0\n",
              "region      0\n",
              "charges     0\n",
              "dtype: int64"
            ]
          },
          "metadata": {
            "tags": []
          },
          "execution_count": 9
        }
      ]
    },
    {
      "cell_type": "markdown",
      "metadata": {
        "id": "LzSz-tvQQ9L7",
        "colab_type": "text"
      },
      "source": [
        "Convert categorical columns into numeric with the following convention:\n",
        "\n",
        "* `sex`: male = 1, female = 2,\n",
        "\n",
        "* `smoker`: yes = 1, no = 0,\n",
        "\n",
        "* `region`: northeast = $\\displaystyle\\frac{\\pi}{4}$, northwest = $\\displaystyle\\frac{3\\pi}{4}$, southwest = $\\displaystyle\\frac{5\\pi}{4}$, southeast = $\\displaystyle\\frac{7\\pi}{4}$. We use the representation of direction by their angle on unit circle. If we compute the method `.mean`, it will make a sense (where is the region whose citizens are the most recorded)."
      ]
    },
    {
      "cell_type": "code",
      "metadata": {
        "id": "epUomxKVQiJu",
        "colab_type": "code",
        "outputId": "2eae5a06-056c-414e-d324-d6b1435c6742",
        "colab": {
          "base_uri": "https://localhost:8080/",
          "height": 402
        }
      },
      "source": [
        "dataset.loc[dataset['sex'] == 'male', 'sex'] = 1\n",
        "dataset.loc[dataset['sex'] == 'female', 'sex'] = 2\n",
        "\n",
        "dataset.loc[dataset['smoker'] == 'yes', 'smoker'] = 1\n",
        "dataset.loc[dataset['smoker'] == 'no', 'smoker'] = 0\n",
        "\n",
        "dataset.loc[dataset['region'] == 'northeast', 'region'] = np.pi/4\n",
        "dataset.loc[dataset['region'] == 'northwest', 'region'] = 3*np.pi/4\n",
        "dataset.loc[dataset['region'] == 'southwest', 'region'] = 5*np.pi/4\n",
        "dataset.loc[dataset['region'] == 'southeast', 'region'] = 7*np.pi/4\n",
        "\n",
        "dataset['region'] = pd.to_numeric(dataset['region'])\n",
        "\n",
        "dataset"
      ],
      "execution_count": 10,
      "outputs": [
        {
          "output_type": "execute_result",
          "data": {
            "text/html": [
              "<div>\n",
              "<style scoped>\n",
              "    .dataframe tbody tr th:only-of-type {\n",
              "        vertical-align: middle;\n",
              "    }\n",
              "\n",
              "    .dataframe tbody tr th {\n",
              "        vertical-align: top;\n",
              "    }\n",
              "\n",
              "    .dataframe thead th {\n",
              "        text-align: right;\n",
              "    }\n",
              "</style>\n",
              "<table border=\"1\" class=\"dataframe\">\n",
              "  <thead>\n",
              "    <tr style=\"text-align: right;\">\n",
              "      <th></th>\n",
              "      <th>age</th>\n",
              "      <th>sex</th>\n",
              "      <th>bmi</th>\n",
              "      <th>children</th>\n",
              "      <th>smoker</th>\n",
              "      <th>region</th>\n",
              "      <th>charges</th>\n",
              "    </tr>\n",
              "  </thead>\n",
              "  <tbody>\n",
              "    <tr>\n",
              "      <th>0</th>\n",
              "      <td>19</td>\n",
              "      <td>2</td>\n",
              "      <td>27.900</td>\n",
              "      <td>0</td>\n",
              "      <td>1</td>\n",
              "      <td>3.926991</td>\n",
              "      <td>16884.92400</td>\n",
              "    </tr>\n",
              "    <tr>\n",
              "      <th>1</th>\n",
              "      <td>18</td>\n",
              "      <td>1</td>\n",
              "      <td>33.770</td>\n",
              "      <td>1</td>\n",
              "      <td>0</td>\n",
              "      <td>5.497787</td>\n",
              "      <td>1725.55230</td>\n",
              "    </tr>\n",
              "    <tr>\n",
              "      <th>2</th>\n",
              "      <td>28</td>\n",
              "      <td>1</td>\n",
              "      <td>33.000</td>\n",
              "      <td>3</td>\n",
              "      <td>0</td>\n",
              "      <td>5.497787</td>\n",
              "      <td>4449.46200</td>\n",
              "    </tr>\n",
              "    <tr>\n",
              "      <th>3</th>\n",
              "      <td>33</td>\n",
              "      <td>1</td>\n",
              "      <td>22.705</td>\n",
              "      <td>0</td>\n",
              "      <td>0</td>\n",
              "      <td>2.356194</td>\n",
              "      <td>21984.47061</td>\n",
              "    </tr>\n",
              "    <tr>\n",
              "      <th>4</th>\n",
              "      <td>32</td>\n",
              "      <td>1</td>\n",
              "      <td>28.880</td>\n",
              "      <td>0</td>\n",
              "      <td>0</td>\n",
              "      <td>2.356194</td>\n",
              "      <td>3866.85520</td>\n",
              "    </tr>\n",
              "    <tr>\n",
              "      <th>...</th>\n",
              "      <td>...</td>\n",
              "      <td>...</td>\n",
              "      <td>...</td>\n",
              "      <td>...</td>\n",
              "      <td>...</td>\n",
              "      <td>...</td>\n",
              "      <td>...</td>\n",
              "    </tr>\n",
              "    <tr>\n",
              "      <th>1333</th>\n",
              "      <td>50</td>\n",
              "      <td>1</td>\n",
              "      <td>30.970</td>\n",
              "      <td>3</td>\n",
              "      <td>0</td>\n",
              "      <td>2.356194</td>\n",
              "      <td>10600.54830</td>\n",
              "    </tr>\n",
              "    <tr>\n",
              "      <th>1334</th>\n",
              "      <td>18</td>\n",
              "      <td>2</td>\n",
              "      <td>31.920</td>\n",
              "      <td>0</td>\n",
              "      <td>0</td>\n",
              "      <td>0.785398</td>\n",
              "      <td>2205.98080</td>\n",
              "    </tr>\n",
              "    <tr>\n",
              "      <th>1335</th>\n",
              "      <td>18</td>\n",
              "      <td>2</td>\n",
              "      <td>36.850</td>\n",
              "      <td>0</td>\n",
              "      <td>0</td>\n",
              "      <td>5.497787</td>\n",
              "      <td>1629.83350</td>\n",
              "    </tr>\n",
              "    <tr>\n",
              "      <th>1336</th>\n",
              "      <td>21</td>\n",
              "      <td>2</td>\n",
              "      <td>25.800</td>\n",
              "      <td>0</td>\n",
              "      <td>0</td>\n",
              "      <td>3.926991</td>\n",
              "      <td>2007.94500</td>\n",
              "    </tr>\n",
              "    <tr>\n",
              "      <th>1337</th>\n",
              "      <td>61</td>\n",
              "      <td>2</td>\n",
              "      <td>29.070</td>\n",
              "      <td>0</td>\n",
              "      <td>1</td>\n",
              "      <td>2.356194</td>\n",
              "      <td>29141.36030</td>\n",
              "    </tr>\n",
              "  </tbody>\n",
              "</table>\n",
              "<p>1338 rows × 7 columns</p>\n",
              "</div>"
            ],
            "text/plain": [
              "      age  sex     bmi  children  smoker    region      charges\n",
              "0      19    2  27.900         0       1  3.926991  16884.92400\n",
              "1      18    1  33.770         1       0  5.497787   1725.55230\n",
              "2      28    1  33.000         3       0  5.497787   4449.46200\n",
              "3      33    1  22.705         0       0  2.356194  21984.47061\n",
              "4      32    1  28.880         0       0  2.356194   3866.85520\n",
              "...   ...  ...     ...       ...     ...       ...          ...\n",
              "1333   50    1  30.970         3       0  2.356194  10600.54830\n",
              "1334   18    2  31.920         0       0  0.785398   2205.98080\n",
              "1335   18    2  36.850         0       0  5.497787   1629.83350\n",
              "1336   21    2  25.800         0       0  3.926991   2007.94500\n",
              "1337   61    2  29.070         0       1  2.356194  29141.36030\n",
              "\n",
              "[1338 rows x 7 columns]"
            ]
          },
          "metadata": {
            "tags": []
          },
          "execution_count": 10
        }
      ]
    },
    {
      "cell_type": "code",
      "metadata": {
        "id": "PuhKD20botvn",
        "colab_type": "code",
        "outputId": "cd873a0c-2ac2-4e3f-d409-3f5ea6b553d4",
        "colab": {
          "base_uri": "https://localhost:8080/",
          "height": 195
        }
      },
      "source": [
        "target = dataset['charges']\n",
        "features = dataset.drop(columns='charges')\n",
        "\n",
        "features.head()"
      ],
      "execution_count": 11,
      "outputs": [
        {
          "output_type": "execute_result",
          "data": {
            "text/html": [
              "<div>\n",
              "<style scoped>\n",
              "    .dataframe tbody tr th:only-of-type {\n",
              "        vertical-align: middle;\n",
              "    }\n",
              "\n",
              "    .dataframe tbody tr th {\n",
              "        vertical-align: top;\n",
              "    }\n",
              "\n",
              "    .dataframe thead th {\n",
              "        text-align: right;\n",
              "    }\n",
              "</style>\n",
              "<table border=\"1\" class=\"dataframe\">\n",
              "  <thead>\n",
              "    <tr style=\"text-align: right;\">\n",
              "      <th></th>\n",
              "      <th>age</th>\n",
              "      <th>sex</th>\n",
              "      <th>bmi</th>\n",
              "      <th>children</th>\n",
              "      <th>smoker</th>\n",
              "      <th>region</th>\n",
              "    </tr>\n",
              "  </thead>\n",
              "  <tbody>\n",
              "    <tr>\n",
              "      <th>0</th>\n",
              "      <td>19</td>\n",
              "      <td>2</td>\n",
              "      <td>27.900</td>\n",
              "      <td>0</td>\n",
              "      <td>1</td>\n",
              "      <td>3.926991</td>\n",
              "    </tr>\n",
              "    <tr>\n",
              "      <th>1</th>\n",
              "      <td>18</td>\n",
              "      <td>1</td>\n",
              "      <td>33.770</td>\n",
              "      <td>1</td>\n",
              "      <td>0</td>\n",
              "      <td>5.497787</td>\n",
              "    </tr>\n",
              "    <tr>\n",
              "      <th>2</th>\n",
              "      <td>28</td>\n",
              "      <td>1</td>\n",
              "      <td>33.000</td>\n",
              "      <td>3</td>\n",
              "      <td>0</td>\n",
              "      <td>5.497787</td>\n",
              "    </tr>\n",
              "    <tr>\n",
              "      <th>3</th>\n",
              "      <td>33</td>\n",
              "      <td>1</td>\n",
              "      <td>22.705</td>\n",
              "      <td>0</td>\n",
              "      <td>0</td>\n",
              "      <td>2.356194</td>\n",
              "    </tr>\n",
              "    <tr>\n",
              "      <th>4</th>\n",
              "      <td>32</td>\n",
              "      <td>1</td>\n",
              "      <td>28.880</td>\n",
              "      <td>0</td>\n",
              "      <td>0</td>\n",
              "      <td>2.356194</td>\n",
              "    </tr>\n",
              "  </tbody>\n",
              "</table>\n",
              "</div>"
            ],
            "text/plain": [
              "   age  sex     bmi  children  smoker    region\n",
              "0   19    2  27.900         0       1  3.926991\n",
              "1   18    1  33.770         1       0  5.497787\n",
              "2   28    1  33.000         3       0  5.497787\n",
              "3   33    1  22.705         0       0  2.356194\n",
              "4   32    1  28.880         0       0  2.356194"
            ]
          },
          "metadata": {
            "tags": []
          },
          "execution_count": 11
        }
      ]
    },
    {
      "cell_type": "markdown",
      "metadata": {
        "id": "1k5TfULDV6f4",
        "colab_type": "text"
      },
      "source": [
        "## Split the data into a training set and a test set."
      ]
    },
    {
      "cell_type": "code",
      "metadata": {
        "id": "WGfC_GlDnYm4",
        "colab_type": "code",
        "colab": {}
      },
      "source": [
        "class SortedStratifiedKFold:\n",
        "    \n",
        "    \"\"\"\n",
        "    This is a class for split data into a few groups, which is each group has same distribution.\n",
        "    Usually this method regarded as Stratified K Fold Cross Validation. But I create another one\n",
        "    for continuous data at target's dataset with Sorted Stratified K Fold method. This method inspired\n",
        "    by article (https://scottclowe.com/2016-03-19-stratified-regression-partitions/).\n",
        "    \n",
        "    This method is useful to make sure validation and test performance gives depicts \n",
        "    the expected performance of the model with less bias and variance.\n",
        "    \"\"\"\n",
        "    \n",
        "    def __init__(self, n_splits):\n",
        "        self._n_splits = n_splits\n",
        "    \n",
        "    def split(self, X, y):\n",
        "        x = X.copy()\n",
        "        \n",
        "        # sorted target values\n",
        "        self._sorted_idx = y.sort_values().index\n",
        "        \n",
        "        self._groups = [list() for _ in range(self._n_splits)]\n",
        "        it = int(np.ceil(x.shape[0] / self._n_splits))\n",
        "        \n",
        "        for i in range(it):\n",
        "            c = i * self._n_splits\n",
        "            \n",
        "            if (len(y) % self._n_splits != 0) and i==(it-1):\n",
        "                rand_idx = np.random.permutation(range(len(y) % self._n_splits)) + c\n",
        "                \n",
        "                for j in range(len(rand_idx)):\n",
        "                    self._groups[j].append(self._sorted_idx[rand_idx[j]])\n",
        "                \n",
        "            else:\n",
        "                rand_idx = np.random.permutation(range(self._n_splits)) + c\n",
        "                \n",
        "                for j in range(self._n_splits):\n",
        "                    self._groups[j].append(self._sorted_idx[rand_idx[j]])\n",
        "                    \n",
        "                  \n",
        "        return [(x.iloc[list(set(y.index) - set(idx))], y.iloc[list(set(y.index) - set(idx))], \n",
        "                                 x.iloc[idx], y.iloc[idx]) for idx in self._groups]"
      ],
      "execution_count": 0,
      "outputs": []
    },
    {
      "cell_type": "markdown",
      "metadata": {
        "id": "vBT1_z9wqi6Q",
        "colab_type": "text"
      },
      "source": [
        "we divided the dataset into 5 groups to get 20% of data for test set"
      ]
    },
    {
      "cell_type": "code",
      "metadata": {
        "id": "C3CneLVqoQb4",
        "colab_type": "code",
        "outputId": "14e5d3ae-a8f0-4801-8659-0235877685dd",
        "colab": {
          "base_uri": "https://localhost:8080/",
          "height": 733
        }
      },
      "source": [
        "\n",
        "ssfk = SortedStratifiedKFold(n_splits=5)\n",
        "\n",
        "train_test_split = ssfk.split(features, target)\n",
        "train_features, train_target, test_features, test_target = train_test_split[0]\n",
        "\n",
        "plt.figure(figsize=(6,12))\n",
        "plt.subplot(211)\n",
        "train_target.hist().set_title('Train data distribution')\n",
        "plt.subplot(212)\n",
        "train_target.hist().set_title('Test data distribution')"
      ],
      "execution_count": 13,
      "outputs": [
        {
          "output_type": "execute_result",
          "data": {
            "text/plain": [
              "Text(0.5, 1.0, 'Test data distribution')"
            ]
          },
          "metadata": {
            "tags": []
          },
          "execution_count": 13
        },
        {
          "output_type": "display_data",
          "data": {
            "image/png": "[encoded data removed]",
            "text/plain": [
              "<Figure size 432x864 with 2 Axes>"
            ]
          },
          "metadata": {
            "tags": []
          }
        }
      ]
    },
    {
      "cell_type": "markdown",
      "metadata": {
        "id": "ZwYyBYWEW7eU",
        "colab_type": "text"
      },
      "source": [
        "## Inspect the data\n",
        "\n",
        "We look at the joint distribution of a few pairs of columns from the training set. The diagonal elements represent kerned density estimation (kde) for univariate variables for given columns. We include all the columns to inspect which variable has a correlation to another variable"
      ]
    },
    {
      "cell_type": "code",
      "metadata": {
        "id": "gcJVPodLtNkI",
        "colab_type": "code",
        "outputId": "15117da8-a76f-4b46-e56c-8adfb895da7c",
        "colab": {
          "base_uri": "https://localhost:8080/",
          "height": 195
        }
      },
      "source": [
        "train_dataset = train_features.copy()\n",
        "train_dataset[train_target.name] = train_target.copy()\n",
        "train_dataset.head()"
      ],
      "execution_count": 14,
      "outputs": [
        {
          "output_type": "execute_result",
          "data": {
            "text/html": [
              "<div>\n",
              "<style scoped>\n",
              "    .dataframe tbody tr th:only-of-type {\n",
              "        vertical-align: middle;\n",
              "    }\n",
              "\n",
              "    .dataframe tbody tr th {\n",
              "        vertical-align: top;\n",
              "    }\n",
              "\n",
              "    .dataframe thead th {\n",
              "        text-align: right;\n",
              "    }\n",
              "</style>\n",
              "<table border=\"1\" class=\"dataframe\">\n",
              "  <thead>\n",
              "    <tr style=\"text-align: right;\">\n",
              "      <th></th>\n",
              "      <th>age</th>\n",
              "      <th>sex</th>\n",
              "      <th>bmi</th>\n",
              "      <th>children</th>\n",
              "      <th>smoker</th>\n",
              "      <th>region</th>\n",
              "      <th>charges</th>\n",
              "    </tr>\n",
              "  </thead>\n",
              "  <tbody>\n",
              "    <tr>\n",
              "      <th>0</th>\n",
              "      <td>19</td>\n",
              "      <td>2</td>\n",
              "      <td>27.90</td>\n",
              "      <td>0</td>\n",
              "      <td>1</td>\n",
              "      <td>3.926991</td>\n",
              "      <td>16884.9240</td>\n",
              "    </tr>\n",
              "    <tr>\n",
              "      <th>1</th>\n",
              "      <td>18</td>\n",
              "      <td>1</td>\n",
              "      <td>33.77</td>\n",
              "      <td>1</td>\n",
              "      <td>0</td>\n",
              "      <td>5.497787</td>\n",
              "      <td>1725.5523</td>\n",
              "    </tr>\n",
              "    <tr>\n",
              "      <th>2</th>\n",
              "      <td>28</td>\n",
              "      <td>1</td>\n",
              "      <td>33.00</td>\n",
              "      <td>3</td>\n",
              "      <td>0</td>\n",
              "      <td>5.497787</td>\n",
              "      <td>4449.4620</td>\n",
              "    </tr>\n",
              "    <tr>\n",
              "      <th>5</th>\n",
              "      <td>31</td>\n",
              "      <td>2</td>\n",
              "      <td>25.74</td>\n",
              "      <td>0</td>\n",
              "      <td>0</td>\n",
              "      <td>5.497787</td>\n",
              "      <td>3756.6216</td>\n",
              "    </tr>\n",
              "    <tr>\n",
              "      <th>6</th>\n",
              "      <td>46</td>\n",
              "      <td>2</td>\n",
              "      <td>33.44</td>\n",
              "      <td>1</td>\n",
              "      <td>0</td>\n",
              "      <td>5.497787</td>\n",
              "      <td>8240.5896</td>\n",
              "    </tr>\n",
              "  </tbody>\n",
              "</table>\n",
              "</div>"
            ],
            "text/plain": [
              "   age  sex    bmi  children  smoker    region     charges\n",
              "0   19    2  27.90         0       1  3.926991  16884.9240\n",
              "1   18    1  33.77         1       0  5.497787   1725.5523\n",
              "2   28    1  33.00         3       0  5.497787   4449.4620\n",
              "5   31    2  25.74         0       0  5.497787   3756.6216\n",
              "6   46    2  33.44         1       0  5.497787   8240.5896"
            ]
          },
          "metadata": {
            "tags": []
          },
          "execution_count": 14
        }
      ]
    },
    {
      "cell_type": "code",
      "metadata": {
        "id": "iK4789xEWxtj",
        "colab_type": "code",
        "outputId": "53fd6108-7c8d-4f8d-c56b-d7b8e2a47f45",
        "colab": {
          "base_uri": "https://localhost:8080/",
          "height": 1000
        }
      },
      "source": [
        "sns.pairplot(train_dataset[['age', 'sex', 'bmi', 'children', 'smoker', \n",
        "                            'region', 'charges']], \n",
        "             diag_kind='kde', height=2);"
      ],
      "execution_count": 15,
      "outputs": [
        {
          "output_type": "display_data",
          "data": {
            "image/png": "[encoded data removed]",
            "text/plain": [
              "<Figure size 1008x1008 with 56 Axes>"
            ]
          },
          "metadata": {
            "tags": []
          }
        }
      ]
    },
    {
      "cell_type": "markdown",
      "metadata": {
        "id": "ZPzyen-Vd0Io",
        "colab_type": "text"
      },
      "source": [
        "If we look at the above table, we see that BMI and charges have an intriguing pattern.\n",
        "\n",
        "We also inspect at their statistical description:"
      ]
    },
    {
      "cell_type": "code",
      "metadata": {
        "id": "Q7FTmLoaXx4g",
        "colab_type": "code",
        "outputId": "cad5c6e5-9b0b-4974-8c0a-686525611bbb",
        "colab": {
          "base_uri": "https://localhost:8080/",
          "height": 225
        }
      },
      "source": [
        "train_stats = train_dataset.describe()\n",
        "train_stats.pop('charges')\n",
        "\n",
        "# for pretty output\n",
        "train_stats = train_stats.transpose()\n",
        "train_stats"
      ],
      "execution_count": 16,
      "outputs": [
        {
          "output_type": "execute_result",
          "data": {
            "text/html": [
              "<div>\n",
              "<style scoped>\n",
              "    .dataframe tbody tr th:only-of-type {\n",
              "        vertical-align: middle;\n",
              "    }\n",
              "\n",
              "    .dataframe tbody tr th {\n",
              "        vertical-align: top;\n",
              "    }\n",
              "\n",
              "    .dataframe thead th {\n",
              "        text-align: right;\n",
              "    }\n",
              "</style>\n",
              "<table border=\"1\" class=\"dataframe\">\n",
              "  <thead>\n",
              "    <tr style=\"text-align: right;\">\n",
              "      <th></th>\n",
              "      <th>count</th>\n",
              "      <th>mean</th>\n",
              "      <th>std</th>\n",
              "      <th>min</th>\n",
              "      <th>25%</th>\n",
              "      <th>50%</th>\n",
              "      <th>75%</th>\n",
              "      <th>max</th>\n",
              "    </tr>\n",
              "  </thead>\n",
              "  <tbody>\n",
              "    <tr>\n",
              "      <th>age</th>\n",
              "      <td>1070.0</td>\n",
              "      <td>39.142056</td>\n",
              "      <td>14.047241</td>\n",
              "      <td>18.000000</td>\n",
              "      <td>26.000000</td>\n",
              "      <td>39.000000</td>\n",
              "      <td>51.000000</td>\n",
              "      <td>64.000000</td>\n",
              "    </tr>\n",
              "    <tr>\n",
              "      <th>sex</th>\n",
              "      <td>1070.0</td>\n",
              "      <td>1.491589</td>\n",
              "      <td>0.500163</td>\n",
              "      <td>1.000000</td>\n",
              "      <td>1.000000</td>\n",
              "      <td>1.000000</td>\n",
              "      <td>2.000000</td>\n",
              "      <td>2.000000</td>\n",
              "    </tr>\n",
              "    <tr>\n",
              "      <th>bmi</th>\n",
              "      <td>1070.0</td>\n",
              "      <td>30.737290</td>\n",
              "      <td>6.027030</td>\n",
              "      <td>15.960000</td>\n",
              "      <td>26.400000</td>\n",
              "      <td>30.497500</td>\n",
              "      <td>34.693750</td>\n",
              "      <td>53.130000</td>\n",
              "    </tr>\n",
              "    <tr>\n",
              "      <th>children</th>\n",
              "      <td>1070.0</td>\n",
              "      <td>1.103738</td>\n",
              "      <td>1.204717</td>\n",
              "      <td>0.000000</td>\n",
              "      <td>0.000000</td>\n",
              "      <td>1.000000</td>\n",
              "      <td>2.000000</td>\n",
              "      <td>5.000000</td>\n",
              "    </tr>\n",
              "    <tr>\n",
              "      <th>smoker</th>\n",
              "      <td>1070.0</td>\n",
              "      <td>0.209346</td>\n",
              "      <td>0.407032</td>\n",
              "      <td>0.000000</td>\n",
              "      <td>0.000000</td>\n",
              "      <td>0.000000</td>\n",
              "      <td>0.000000</td>\n",
              "      <td>1.000000</td>\n",
              "    </tr>\n",
              "    <tr>\n",
              "      <th>region</th>\n",
              "      <td>1070.0</td>\n",
              "      <td>3.198846</td>\n",
              "      <td>1.767881</td>\n",
              "      <td>0.785398</td>\n",
              "      <td>2.356194</td>\n",
              "      <td>3.926991</td>\n",
              "      <td>5.497787</td>\n",
              "      <td>5.497787</td>\n",
              "    </tr>\n",
              "  </tbody>\n",
              "</table>\n",
              "</div>"
            ],
            "text/plain": [
              "           count       mean        std  ...        50%        75%        max\n",
              "age       1070.0  39.142056  14.047241  ...  39.000000  51.000000  64.000000\n",
              "sex       1070.0   1.491589   0.500163  ...   1.000000   2.000000   2.000000\n",
              "bmi       1070.0  30.737290   6.027030  ...  30.497500  34.693750  53.130000\n",
              "children  1070.0   1.103738   1.204717  ...   1.000000   2.000000   5.000000\n",
              "smoker    1070.0   0.209346   0.407032  ...   0.000000   0.000000   1.000000\n",
              "region    1070.0   3.198846   1.767881  ...   3.926991   5.497787   5.497787\n",
              "\n",
              "[6 rows x 8 columns]"
            ]
          },
          "metadata": {
            "tags": []
          },
          "execution_count": 16
        }
      ]
    },
    {
      "cell_type": "markdown",
      "metadata": {
        "id": "2DjgkfdYpr9b",
        "colab_type": "text"
      },
      "source": [
        "### Normalize the data"
      ]
    },
    {
      "cell_type": "code",
      "metadata": {
        "id": "XJjXQ4wFpzTC",
        "colab_type": "code",
        "colab": {}
      },
      "source": [
        "def normalize(x_val):\n",
        "    return (x_val - train_stats['mean']) / train_stats['std']\n",
        "\n",
        "normed_train_features = normalize(train_features)\n",
        "normed_test_features = normalize(test_features)"
      ],
      "execution_count": 0,
      "outputs": []
    },
    {
      "cell_type": "code",
      "metadata": {
        "id": "jm9U0OUw7saq",
        "colab_type": "code",
        "outputId": "ffd07ea3-28f2-4a08-f0f2-b5be41ca2d9f",
        "colab": {
          "base_uri": "https://localhost:8080/",
          "height": 195
        }
      },
      "source": [
        "normed_train_features.head()"
      ],
      "execution_count": 18,
      "outputs": [
        {
          "output_type": "execute_result",
          "data": {
            "text/html": [
              "<div>\n",
              "<style scoped>\n",
              "    .dataframe tbody tr th:only-of-type {\n",
              "        vertical-align: middle;\n",
              "    }\n",
              "\n",
              "    .dataframe tbody tr th {\n",
              "        vertical-align: top;\n",
              "    }\n",
              "\n",
              "    .dataframe thead th {\n",
              "        text-align: right;\n",
              "    }\n",
              "</style>\n",
              "<table border=\"1\" class=\"dataframe\">\n",
              "  <thead>\n",
              "    <tr style=\"text-align: right;\">\n",
              "      <th></th>\n",
              "      <th>age</th>\n",
              "      <th>sex</th>\n",
              "      <th>bmi</th>\n",
              "      <th>children</th>\n",
              "      <th>smoker</th>\n",
              "      <th>region</th>\n",
              "    </tr>\n",
              "  </thead>\n",
              "  <tbody>\n",
              "    <tr>\n",
              "      <th>0</th>\n",
              "      <td>-1.433880</td>\n",
              "      <td>1.016491</td>\n",
              "      <td>-0.470761</td>\n",
              "      <td>-0.916181</td>\n",
              "      <td>1.942487</td>\n",
              "      <td>0.411874</td>\n",
              "    </tr>\n",
              "    <tr>\n",
              "      <th>1</th>\n",
              "      <td>-1.505068</td>\n",
              "      <td>-0.982857</td>\n",
              "      <td>0.503185</td>\n",
              "      <td>-0.086110</td>\n",
              "      <td>-0.514323</td>\n",
              "      <td>1.300394</td>\n",
              "    </tr>\n",
              "    <tr>\n",
              "      <th>2</th>\n",
              "      <td>-0.793185</td>\n",
              "      <td>-0.982857</td>\n",
              "      <td>0.375427</td>\n",
              "      <td>1.574031</td>\n",
              "      <td>-0.514323</td>\n",
              "      <td>1.300394</td>\n",
              "    </tr>\n",
              "    <tr>\n",
              "      <th>5</th>\n",
              "      <td>-0.579620</td>\n",
              "      <td>1.016491</td>\n",
              "      <td>-0.829146</td>\n",
              "      <td>-0.916181</td>\n",
              "      <td>-0.514323</td>\n",
              "      <td>1.300394</td>\n",
              "    </tr>\n",
              "    <tr>\n",
              "      <th>6</th>\n",
              "      <td>0.488206</td>\n",
              "      <td>1.016491</td>\n",
              "      <td>0.448432</td>\n",
              "      <td>-0.086110</td>\n",
              "      <td>-0.514323</td>\n",
              "      <td>1.300394</td>\n",
              "    </tr>\n",
              "  </tbody>\n",
              "</table>\n",
              "</div>"
            ],
            "text/plain": [
              "        age       sex       bmi  children    smoker    region\n",
              "0 -1.433880  1.016491 -0.470761 -0.916181  1.942487  0.411874\n",
              "1 -1.505068 -0.982857  0.503185 -0.086110 -0.514323  1.300394\n",
              "2 -0.793185 -0.982857  0.375427  1.574031 -0.514323  1.300394\n",
              "5 -0.579620  1.016491 -0.829146 -0.916181 -0.514323  1.300394\n",
              "6  0.488206  1.016491  0.448432 -0.086110 -0.514323  1.300394"
            ]
          },
          "metadata": {
            "tags": []
          },
          "execution_count": 18
        }
      ]
    },
    {
      "cell_type": "markdown",
      "metadata": {
        "id": "yGlBj4oFvEgw",
        "colab_type": "text"
      },
      "source": [
        "## Modelling Data\n"
      ]
    },
    {
      "cell_type": "markdown",
      "metadata": {
        "id": "vyYsP8L6v6nO",
        "colab_type": "text"
      },
      "source": [
        "### Construct the model\n",
        "In this model we use the multilayer perceptron model with two densely connected hidden layars (`layer.Dense(64)`), and an output layer that returns a single continuous value (`layer.Dense(1)`)."
      ]
    },
    {
      "cell_type": "code",
      "metadata": {
        "id": "Q18Ww5EswCdV",
        "colab_type": "code",
        "colab": {}
      },
      "source": [
        "def multilayer_perceptron(num_features, learning_rate, optimizers, regularizer_rate=0, dropout_rate=0):\n",
        "    \n",
        "    num_perceptron=64\n",
        "    \n",
        "    # set optimizers\n",
        "    if optimizers=='adam':\n",
        "        opt = tf.keras.optimizers.Adam(lr=learning_rate)\n",
        "    elif optimizers=='rmsprop':\n",
        "        opt = tf.keras.optimizers.RMSprop(lr=learning_rate)\n",
        "    elif optimizers=='sgd':\n",
        "        opt = tf.keras.optimizers.SGD(lr=learning_rate)\n",
        "    \n",
        "    \n",
        "    model = tf.keras.models.Sequential()\n",
        "    model.add(tf.keras.layers.Dense(units=num_perceptron, activation='relu', \n",
        "                                    kernel_regularizer=tf.keras.regularizers.l2(regularizer_rate), \n",
        "                                    input_shape=(num_features,)))\n",
        "    model.add(tf.keras.layers.Dropout(dropout_rate))\n",
        "    model.add(tf.keras.layers.Dense(units=num_perceptron, \n",
        "                                    kernel_regularizer=tf.keras.regularizers.l2(regularizer_rate), \n",
        "                                    activation='relu'))\n",
        "    model.add(tf.keras.layers.Dropout(dropout_rate))\n",
        "    model.add(tf.keras.layers.Dense(units=1, activation='relu'))\n",
        "    \n",
        "        \n",
        "    model.compile(optimizer=opt, loss='mae', \n",
        "                  metrics=['mae', 'mse'])\n",
        "    \n",
        "    return model\n",
        "    \n",
        "    \n",
        "def train_model(model, features, target, epoch):\n",
        "    \n",
        "    history = model.fit(x=features, y=target, epochs=epoch, verbose=0)\n",
        "    \n",
        "    hist = pd.DataFrame(history.history)\n",
        "    \n",
        "    return model, hist"
      ],
      "execution_count": 0,
      "outputs": []
    },
    {
      "cell_type": "markdown",
      "metadata": {
        "id": "rR5NmjFQ432e",
        "colab_type": "text"
      },
      "source": [
        "## Hypertuning Parameter"
      ]
    },
    {
      "cell_type": "markdown",
      "metadata": {
        "id": "X5i6-PDp4-ul",
        "colab_type": "text"
      },
      "source": [
        "### Optimizer with different learning rate"
      ]
    },
    {
      "cell_type": "code",
      "metadata": {
        "id": "AW6UbhPnFMzB",
        "colab_type": "code",
        "colab": {}
      },
      "source": [
        "normed_train_features = normed_train_features.reset_index()[features.columns]\n",
        "train_target = train_target.reset_index()['charges']\n",
        "\n",
        "ssfk = SortedStratifiedKFold(n_splits=4)\n",
        "train_val_split = ssfk.split(normed_train_features, train_target)\n"
      ],
      "execution_count": 0,
      "outputs": []
    },
    {
      "cell_type": "code",
      "metadata": {
        "id": "h_9N5Py6EhCa",
        "colab_type": "code",
        "outputId": "66b882fb-ca30-42ee-dce4-5bab08811407",
        "colab": {
          "base_uri": "https://localhost:8080/",
          "height": 1000
        }
      },
      "source": [
        "\n",
        "i = 0\n",
        "plt.figure(figsize=(6, 24))\n",
        "for train_feature, train_target, test_feature, test_target in train_val_split:\n",
        "    i += 1\n",
        "    plt.subplot(4, 2, i)\n",
        "    train_target.hist()\n",
        "    \n",
        "    i += 1\n",
        "    plt.subplot(4, 2, i)\n",
        "    test_target.hist()"
      ],
      "execution_count": 21,
      "outputs": [
        {
          "output_type": "display_data",
          "data": {
            "image/png": "[encoded data removed]",
            "text/plain": [
              "<Figure size 432x1728 with 8 Axes>"
            ]
          },
          "metadata": {
            "tags": []
          }
        }
      ]
    },
    {
      "cell_type": "code",
      "metadata": {
        "id": "Ej91jGMYS5zX",
        "colab_type": "code",
        "outputId": "26b15fc8-e9fd-4c65-9f24-fd58270c78f1",
        "colab": {
          "base_uri": "https://localhost:8080/",
          "height": 34
        }
      },
      "source": [
        "train_target.shape"
      ],
      "execution_count": 22,
      "outputs": [
        {
          "output_type": "execute_result",
          "data": {
            "text/plain": [
              "(803,)"
            ]
          },
          "metadata": {
            "tags": []
          },
          "execution_count": 22
        }
      ]
    },
    {
      "cell_type": "code",
      "metadata": {
        "id": "KsDpJX8QRJpB",
        "colab_type": "code",
        "outputId": "9a267cfc-d049-46f8-ecdd-fc31cfd8d0fd",
        "colab": {
          "base_uri": "https://localhost:8080/",
          "height": 314
        }
      },
      "source": [
        "learning_rates_list = [.001, .0025, .005, .0075, .01, .025, .05, .075, .1]\n",
        "result_report = pd.DataFrame({'Learning Rate': learning_rates_list})\n",
        "result_report"
      ],
      "execution_count": 0,
      "outputs": [
        {
          "output_type": "execute_result",
          "data": {
            "text/html": [
              "<div>\n",
              "<style scoped>\n",
              "    .dataframe tbody tr th:only-of-type {\n",
              "        vertical-align: middle;\n",
              "    }\n",
              "\n",
              "    .dataframe tbody tr th {\n",
              "        vertical-align: top;\n",
              "    }\n",
              "\n",
              "    .dataframe thead th {\n",
              "        text-align: right;\n",
              "    }\n",
              "</style>\n",
              "<table border=\"1\" class=\"dataframe\">\n",
              "  <thead>\n",
              "    <tr style=\"text-align: right;\">\n",
              "      <th></th>\n",
              "      <th>Learning Rate</th>\n",
              "    </tr>\n",
              "  </thead>\n",
              "  <tbody>\n",
              "    <tr>\n",
              "      <th>0</th>\n",
              "      <td>0.0010</td>\n",
              "    </tr>\n",
              "    <tr>\n",
              "      <th>1</th>\n",
              "      <td>0.0025</td>\n",
              "    </tr>\n",
              "    <tr>\n",
              "      <th>2</th>\n",
              "      <td>0.0050</td>\n",
              "    </tr>\n",
              "    <tr>\n",
              "      <th>3</th>\n",
              "      <td>0.0075</td>\n",
              "    </tr>\n",
              "    <tr>\n",
              "      <th>4</th>\n",
              "      <td>0.0100</td>\n",
              "    </tr>\n",
              "    <tr>\n",
              "      <th>5</th>\n",
              "      <td>0.0250</td>\n",
              "    </tr>\n",
              "    <tr>\n",
              "      <th>6</th>\n",
              "      <td>0.0500</td>\n",
              "    </tr>\n",
              "    <tr>\n",
              "      <th>7</th>\n",
              "      <td>0.0750</td>\n",
              "    </tr>\n",
              "    <tr>\n",
              "      <th>8</th>\n",
              "      <td>0.1000</td>\n",
              "    </tr>\n",
              "  </tbody>\n",
              "</table>\n",
              "</div>"
            ],
            "text/plain": [
              "   Learning Rate\n",
              "0         0.0010\n",
              "1         0.0025\n",
              "2         0.0050\n",
              "3         0.0075\n",
              "4         0.0100\n",
              "5         0.0250\n",
              "6         0.0500\n",
              "7         0.0750\n",
              "8         0.1000"
            ]
          },
          "metadata": {
            "tags": []
          },
          "execution_count": 223
        }
      ]
    },
    {
      "cell_type": "code",
      "metadata": {
        "id": "A6zIeOq15Fpb",
        "colab_type": "code",
        "outputId": "5bb6f6cc-516f-4f54-c375-1b5423d0f396",
        "colab": {
          "base_uri": "https://localhost:8080/",
          "height": 218
        }
      },
      "source": [
        "i = 0\n",
        "for train_features, train_target, validation_features, validation_target in train_val_split:\n",
        "\n",
        "  adam_mae, rmsprop_mae, sgd_mae = [], [], []\n",
        "  i += 1\n",
        "  print('Adam training process...')\n",
        "  for lr in learning_rates_list:\n",
        "    mlp = multilayer_perceptron(train_features.shape[1], lr, 'adam')\n",
        "    model, history = train_model(mlp, train_features, train_target, 4000)\n",
        "    loss, mae, mse = model.evaluate(validation_features, validation_target, verbose=0)\n",
        "    adam_mae.append(mae)\n",
        "\n",
        "  print('RMSprop training process...')\n",
        "  for lr in learning_rates_list:\n",
        "    mlp = multilayer_perceptron(train_features.shape[1], lr, 'rmsprop')\n",
        "    model, history = train_model(mlp, train_features, train_target, 4000)\n",
        "    loss, mae, mse = model.evaluate(validation_features, validation_target, verbose=0)\n",
        "    rmsprop_mae.append(mae)\n",
        "\n",
        "  print('SGD training process...')\n",
        "  for lr in learning_rates_list:\n",
        "    mlp = multilayer_perceptron(train_features.shape[1], lr, 'sgd')\n",
        "    model, history = train_model(mlp, train_features, train_target, 4000)\n",
        "    loss, mae, mse = model.evaluate(validation_features, validation_target, verbose=0)\n",
        "    sgd_mae.append(mae)\n",
        "\n",
        "  result_report['Adam-'+str(i)] = adam_mae\n",
        "  result_report['RMSprop-'+str(i)] = rmsprop_mae\n",
        "  result_report['SGD-'+str(i)] = sgd_mae"
      ],
      "execution_count": 0,
      "outputs": [
        {
          "output_type": "stream",
          "text": [
            "Adam training process...\n",
            "RMSprop training process...\n",
            "SGD training process...\n",
            "Adam training process...\n",
            "RMSprop training process...\n",
            "SGD training process...\n",
            "Adam training process...\n",
            "RMSprop training process...\n",
            "SGD training process...\n",
            "Adam training process...\n",
            "RMSprop training process...\n",
            "SGD training process...\n"
          ],
          "name": "stdout"
        }
      ]
    },
    {
      "cell_type": "code",
      "metadata": {
        "id": "nAUwaj33Uve_",
        "colab_type": "code",
        "outputId": "fe506832-af64-45c6-ece3-cb57c43f1f2f",
        "colab": {
          "base_uri": "https://localhost:8080/",
          "height": 350
        }
      },
      "source": [
        "result_report"
      ],
      "execution_count": 0,
      "outputs": [
        {
          "output_type": "execute_result",
          "data": {
            "text/html": [
              "<div>\n",
              "<style scoped>\n",
              "    .dataframe tbody tr th:only-of-type {\n",
              "        vertical-align: middle;\n",
              "    }\n",
              "\n",
              "    .dataframe tbody tr th {\n",
              "        vertical-align: top;\n",
              "    }\n",
              "\n",
              "    .dataframe thead th {\n",
              "        text-align: right;\n",
              "    }\n",
              "</style>\n",
              "<table border=\"1\" class=\"dataframe\">\n",
              "  <thead>\n",
              "    <tr style=\"text-align: right;\">\n",
              "      <th></th>\n",
              "      <th>Learning Rate</th>\n",
              "      <th>Adam-1</th>\n",
              "      <th>RMSprop-1</th>\n",
              "      <th>SGD-1</th>\n",
              "      <th>Adam-2</th>\n",
              "      <th>RMSprop-2</th>\n",
              "      <th>SGD-2</th>\n",
              "      <th>Adam-3</th>\n",
              "      <th>RMSprop-3</th>\n",
              "      <th>SGD-3</th>\n",
              "      <th>Adam-4</th>\n",
              "      <th>RMSprop-4</th>\n",
              "      <th>SGD-4</th>\n",
              "    </tr>\n",
              "  </thead>\n",
              "  <tbody>\n",
              "    <tr>\n",
              "      <th>0</th>\n",
              "      <td>0.0010</td>\n",
              "      <td>1458.143188</td>\n",
              "      <td>1520.175781</td>\n",
              "      <td>1883.308594</td>\n",
              "      <td>1528.725952</td>\n",
              "      <td>1558.559570</td>\n",
              "      <td>2371.051514</td>\n",
              "      <td>1637.156372</td>\n",
              "      <td>1663.007080</td>\n",
              "      <td>2049.893311</td>\n",
              "      <td>1127.586548</td>\n",
              "      <td>1097.733398</td>\n",
              "      <td>1460.407349</td>\n",
              "    </tr>\n",
              "    <tr>\n",
              "      <th>1</th>\n",
              "      <td>0.0025</td>\n",
              "      <td>1458.064331</td>\n",
              "      <td>1500.148560</td>\n",
              "      <td>2727.994873</td>\n",
              "      <td>1519.334961</td>\n",
              "      <td>1587.777344</td>\n",
              "      <td>2027.377808</td>\n",
              "      <td>1643.432251</td>\n",
              "      <td>1747.403198</td>\n",
              "      <td>2148.179443</td>\n",
              "      <td>1103.326172</td>\n",
              "      <td>1123.664307</td>\n",
              "      <td>1684.702026</td>\n",
              "    </tr>\n",
              "    <tr>\n",
              "      <th>2</th>\n",
              "      <td>0.0050</td>\n",
              "      <td>1483.021973</td>\n",
              "      <td>1507.040527</td>\n",
              "      <td>2769.117432</td>\n",
              "      <td>1591.852173</td>\n",
              "      <td>1686.428223</td>\n",
              "      <td>4432.504395</td>\n",
              "      <td>1673.974609</td>\n",
              "      <td>1819.202637</td>\n",
              "      <td>2642.294678</td>\n",
              "      <td>1079.315308</td>\n",
              "      <td>1078.089478</td>\n",
              "      <td>2323.706543</td>\n",
              "    </tr>\n",
              "    <tr>\n",
              "      <th>3</th>\n",
              "      <td>0.0075</td>\n",
              "      <td>1604.294922</td>\n",
              "      <td>1670.871460</td>\n",
              "      <td>2718.351074</td>\n",
              "      <td>1561.667358</td>\n",
              "      <td>1619.615601</td>\n",
              "      <td>3226.201416</td>\n",
              "      <td>1647.823486</td>\n",
              "      <td>1710.166138</td>\n",
              "      <td>3429.767822</td>\n",
              "      <td>1187.486816</td>\n",
              "      <td>1354.322998</td>\n",
              "      <td>2506.330322</td>\n",
              "    </tr>\n",
              "    <tr>\n",
              "      <th>4</th>\n",
              "      <td>0.0100</td>\n",
              "      <td>1469.069458</td>\n",
              "      <td>1583.524902</td>\n",
              "      <td>2497.881592</td>\n",
              "      <td>1719.432617</td>\n",
              "      <td>1777.004639</td>\n",
              "      <td>7135.844238</td>\n",
              "      <td>1694.716919</td>\n",
              "      <td>1866.908691</td>\n",
              "      <td>3505.865967</td>\n",
              "      <td>1418.779785</td>\n",
              "      <td>1345.738159</td>\n",
              "      <td>3440.203857</td>\n",
              "    </tr>\n",
              "    <tr>\n",
              "      <th>5</th>\n",
              "      <td>0.0250</td>\n",
              "      <td>1619.139282</td>\n",
              "      <td>1905.066650</td>\n",
              "      <td>7607.291992</td>\n",
              "      <td>1928.603271</td>\n",
              "      <td>2213.759277</td>\n",
              "      <td>11310.122070</td>\n",
              "      <td>2191.119873</td>\n",
              "      <td>2268.777832</td>\n",
              "      <td>12390.261719</td>\n",
              "      <td>2358.056152</td>\n",
              "      <td>2103.949219</td>\n",
              "      <td>7858.142090</td>\n",
              "    </tr>\n",
              "    <tr>\n",
              "      <th>6</th>\n",
              "      <td>0.0500</td>\n",
              "      <td>1943.076294</td>\n",
              "      <td>2190.281006</td>\n",
              "      <td>13354.930664</td>\n",
              "      <td>1892.720093</td>\n",
              "      <td>2436.568359</td>\n",
              "      <td>9843.088867</td>\n",
              "      <td>1731.343994</td>\n",
              "      <td>2176.463379</td>\n",
              "      <td>13145.859375</td>\n",
              "      <td>1301.197754</td>\n",
              "      <td>1622.472778</td>\n",
              "      <td>7352.003418</td>\n",
              "    </tr>\n",
              "    <tr>\n",
              "      <th>7</th>\n",
              "      <td>0.0750</td>\n",
              "      <td>1683.234741</td>\n",
              "      <td>1779.628662</td>\n",
              "      <td>9244.664062</td>\n",
              "      <td>1956.500977</td>\n",
              "      <td>2384.955811</td>\n",
              "      <td>9440.741211</td>\n",
              "      <td>1712.396362</td>\n",
              "      <td>2473.889160</td>\n",
              "      <td>9047.465820</td>\n",
              "      <td>1248.693604</td>\n",
              "      <td>2369.197754</td>\n",
              "      <td>9256.005859</td>\n",
              "    </tr>\n",
              "    <tr>\n",
              "      <th>8</th>\n",
              "      <td>0.1000</td>\n",
              "      <td>1765.589111</td>\n",
              "      <td>1885.554321</td>\n",
              "      <td>8899.640625</td>\n",
              "      <td>1795.631348</td>\n",
              "      <td>2343.979004</td>\n",
              "      <td>10785.481445</td>\n",
              "      <td>1674.635254</td>\n",
              "      <td>1982.307373</td>\n",
              "      <td>8696.228516</td>\n",
              "      <td>1219.947632</td>\n",
              "      <td>2062.276855</td>\n",
              "      <td>8765.383789</td>\n",
              "    </tr>\n",
              "  </tbody>\n",
              "</table>\n",
              "</div>"
            ],
            "text/plain": [
              "   Learning Rate       Adam-1  ...    RMSprop-4        SGD-4\n",
              "0         0.0010  1458.143188  ...  1097.733398  1460.407349\n",
              "1         0.0025  1458.064331  ...  1123.664307  1684.702026\n",
              "2         0.0050  1483.021973  ...  1078.089478  2323.706543\n",
              "3         0.0075  1604.294922  ...  1354.322998  2506.330322\n",
              "4         0.0100  1469.069458  ...  1345.738159  3440.203857\n",
              "5         0.0250  1619.139282  ...  2103.949219  7858.142090\n",
              "6         0.0500  1943.076294  ...  1622.472778  7352.003418\n",
              "7         0.0750  1683.234741  ...  2369.197754  9256.005859\n",
              "8         0.1000  1765.589111  ...  2062.276855  8765.383789\n",
              "\n",
              "[9 rows x 13 columns]"
            ]
          },
          "metadata": {
            "tags": []
          },
          "execution_count": 230
        }
      ]
    },
    {
      "cell_type": "code",
      "metadata": {
        "id": "wEP3q7y1Uvd4",
        "colab_type": "code",
        "outputId": "889f2af8-1cbe-4f71-9bc4-423aa05c6479",
        "colab": {
          "base_uri": "https://localhost:8080/",
          "height": 350
        }
      },
      "source": [
        "result_report['Adam-Avg'] = (result_report['Adam-1'] + result_report['Adam-2'] + result_report['Adam-3'] + result_report['Adam-4']) / 4\n",
        "result_report['RMSprop-Avg'] = (result_report['RMSprop-1'] + result_report['RMSprop-2'] + result_report['RMSprop-3'] + result_report['RMSprop-4']) / 4\n",
        "result_report['SGD-Avg'] = (result_report['SGD-1'] + result_report['SGD-2'] + result_report['SGD-3'] + result_report['SGD-4']) / 4\n",
        "result_report"
      ],
      "execution_count": 0,
      "outputs": [
        {
          "output_type": "execute_result",
          "data": {
            "text/html": [
              "<div>\n",
              "<style scoped>\n",
              "    .dataframe tbody tr th:only-of-type {\n",
              "        vertical-align: middle;\n",
              "    }\n",
              "\n",
              "    .dataframe tbody tr th {\n",
              "        vertical-align: top;\n",
              "    }\n",
              "\n",
              "    .dataframe thead th {\n",
              "        text-align: right;\n",
              "    }\n",
              "</style>\n",
              "<table border=\"1\" class=\"dataframe\">\n",
              "  <thead>\n",
              "    <tr style=\"text-align: right;\">\n",
              "      <th></th>\n",
              "      <th>Learning Rate</th>\n",
              "      <th>Adam-1</th>\n",
              "      <th>RMSprop-1</th>\n",
              "      <th>SGD-1</th>\n",
              "      <th>Adam-2</th>\n",
              "      <th>RMSprop-2</th>\n",
              "      <th>SGD-2</th>\n",
              "      <th>Adam-3</th>\n",
              "      <th>RMSprop-3</th>\n",
              "      <th>SGD-3</th>\n",
              "      <th>Adam-4</th>\n",
              "      <th>RMSprop-4</th>\n",
              "      <th>SGD-4</th>\n",
              "      <th>Adam-Avg</th>\n",
              "      <th>RMSprop-Avg</th>\n",
              "      <th>SGD-Avg</th>\n",
              "    </tr>\n",
              "  </thead>\n",
              "  <tbody>\n",
              "    <tr>\n",
              "      <th>0</th>\n",
              "      <td>0.0010</td>\n",
              "      <td>1458.143188</td>\n",
              "      <td>1520.175781</td>\n",
              "      <td>1883.308594</td>\n",
              "      <td>1528.725952</td>\n",
              "      <td>1558.559570</td>\n",
              "      <td>2371.051514</td>\n",
              "      <td>1637.156372</td>\n",
              "      <td>1663.007080</td>\n",
              "      <td>2049.893311</td>\n",
              "      <td>1127.586548</td>\n",
              "      <td>1097.733398</td>\n",
              "      <td>1460.407349</td>\n",
              "      <td>1437.903015</td>\n",
              "      <td>1459.868958</td>\n",
              "      <td>1941.165192</td>\n",
              "    </tr>\n",
              "    <tr>\n",
              "      <th>1</th>\n",
              "      <td>0.0025</td>\n",
              "      <td>1458.064331</td>\n",
              "      <td>1500.148560</td>\n",
              "      <td>2727.994873</td>\n",
              "      <td>1519.334961</td>\n",
              "      <td>1587.777344</td>\n",
              "      <td>2027.377808</td>\n",
              "      <td>1643.432251</td>\n",
              "      <td>1747.403198</td>\n",
              "      <td>2148.179443</td>\n",
              "      <td>1103.326172</td>\n",
              "      <td>1123.664307</td>\n",
              "      <td>1684.702026</td>\n",
              "      <td>1431.039429</td>\n",
              "      <td>1489.748352</td>\n",
              "      <td>2147.063538</td>\n",
              "    </tr>\n",
              "    <tr>\n",
              "      <th>2</th>\n",
              "      <td>0.0050</td>\n",
              "      <td>1483.021973</td>\n",
              "      <td>1507.040527</td>\n",
              "      <td>2769.117432</td>\n",
              "      <td>1591.852173</td>\n",
              "      <td>1686.428223</td>\n",
              "      <td>4432.504395</td>\n",
              "      <td>1673.974609</td>\n",
              "      <td>1819.202637</td>\n",
              "      <td>2642.294678</td>\n",
              "      <td>1079.315308</td>\n",
              "      <td>1078.089478</td>\n",
              "      <td>2323.706543</td>\n",
              "      <td>1457.041016</td>\n",
              "      <td>1522.690216</td>\n",
              "      <td>3041.905762</td>\n",
              "    </tr>\n",
              "    <tr>\n",
              "      <th>3</th>\n",
              "      <td>0.0075</td>\n",
              "      <td>1604.294922</td>\n",
              "      <td>1670.871460</td>\n",
              "      <td>2718.351074</td>\n",
              "      <td>1561.667358</td>\n",
              "      <td>1619.615601</td>\n",
              "      <td>3226.201416</td>\n",
              "      <td>1647.823486</td>\n",
              "      <td>1710.166138</td>\n",
              "      <td>3429.767822</td>\n",
              "      <td>1187.486816</td>\n",
              "      <td>1354.322998</td>\n",
              "      <td>2506.330322</td>\n",
              "      <td>1500.318146</td>\n",
              "      <td>1588.744049</td>\n",
              "      <td>2970.162659</td>\n",
              "    </tr>\n",
              "    <tr>\n",
              "      <th>4</th>\n",
              "      <td>0.0100</td>\n",
              "      <td>1469.069458</td>\n",
              "      <td>1583.524902</td>\n",
              "      <td>2497.881592</td>\n",
              "      <td>1719.432617</td>\n",
              "      <td>1777.004639</td>\n",
              "      <td>7135.844238</td>\n",
              "      <td>1694.716919</td>\n",
              "      <td>1866.908691</td>\n",
              "      <td>3505.865967</td>\n",
              "      <td>1418.779785</td>\n",
              "      <td>1345.738159</td>\n",
              "      <td>3440.203857</td>\n",
              "      <td>1575.499695</td>\n",
              "      <td>1643.294098</td>\n",
              "      <td>4144.948914</td>\n",
              "    </tr>\n",
              "    <tr>\n",
              "      <th>5</th>\n",
              "      <td>0.0250</td>\n",
              "      <td>1619.139282</td>\n",
              "      <td>1905.066650</td>\n",
              "      <td>7607.291992</td>\n",
              "      <td>1928.603271</td>\n",
              "      <td>2213.759277</td>\n",
              "      <td>11310.122070</td>\n",
              "      <td>2191.119873</td>\n",
              "      <td>2268.777832</td>\n",
              "      <td>12390.261719</td>\n",
              "      <td>2358.056152</td>\n",
              "      <td>2103.949219</td>\n",
              "      <td>7858.142090</td>\n",
              "      <td>2024.229645</td>\n",
              "      <td>2122.888245</td>\n",
              "      <td>9791.454468</td>\n",
              "    </tr>\n",
              "    <tr>\n",
              "      <th>6</th>\n",
              "      <td>0.0500</td>\n",
              "      <td>1943.076294</td>\n",
              "      <td>2190.281006</td>\n",
              "      <td>13354.930664</td>\n",
              "      <td>1892.720093</td>\n",
              "      <td>2436.568359</td>\n",
              "      <td>9843.088867</td>\n",
              "      <td>1731.343994</td>\n",
              "      <td>2176.463379</td>\n",
              "      <td>13145.859375</td>\n",
              "      <td>1301.197754</td>\n",
              "      <td>1622.472778</td>\n",
              "      <td>7352.003418</td>\n",
              "      <td>1717.084534</td>\n",
              "      <td>2106.446381</td>\n",
              "      <td>10923.970581</td>\n",
              "    </tr>\n",
              "    <tr>\n",
              "      <th>7</th>\n",
              "      <td>0.0750</td>\n",
              "      <td>1683.234741</td>\n",
              "      <td>1779.628662</td>\n",
              "      <td>9244.664062</td>\n",
              "      <td>1956.500977</td>\n",
              "      <td>2384.955811</td>\n",
              "      <td>9440.741211</td>\n",
              "      <td>1712.396362</td>\n",
              "      <td>2473.889160</td>\n",
              "      <td>9047.465820</td>\n",
              "      <td>1248.693604</td>\n",
              "      <td>2369.197754</td>\n",
              "      <td>9256.005859</td>\n",
              "      <td>1650.206421</td>\n",
              "      <td>2251.917847</td>\n",
              "      <td>9247.219238</td>\n",
              "    </tr>\n",
              "    <tr>\n",
              "      <th>8</th>\n",
              "      <td>0.1000</td>\n",
              "      <td>1765.589111</td>\n",
              "      <td>1885.554321</td>\n",
              "      <td>8899.640625</td>\n",
              "      <td>1795.631348</td>\n",
              "      <td>2343.979004</td>\n",
              "      <td>10785.481445</td>\n",
              "      <td>1674.635254</td>\n",
              "      <td>1982.307373</td>\n",
              "      <td>8696.228516</td>\n",
              "      <td>1219.947632</td>\n",
              "      <td>2062.276855</td>\n",
              "      <td>8765.383789</td>\n",
              "      <td>1613.950836</td>\n",
              "      <td>2068.529388</td>\n",
              "      <td>9286.683594</td>\n",
              "    </tr>\n",
              "  </tbody>\n",
              "</table>\n",
              "</div>"
            ],
            "text/plain": [
              "   Learning Rate       Adam-1  ...  RMSprop-Avg       SGD-Avg\n",
              "0         0.0010  1458.143188  ...  1459.868958   1941.165192\n",
              "1         0.0025  1458.064331  ...  1489.748352   2147.063538\n",
              "2         0.0050  1483.021973  ...  1522.690216   3041.905762\n",
              "3         0.0075  1604.294922  ...  1588.744049   2970.162659\n",
              "4         0.0100  1469.069458  ...  1643.294098   4144.948914\n",
              "5         0.0250  1619.139282  ...  2122.888245   9791.454468\n",
              "6         0.0500  1943.076294  ...  2106.446381  10923.970581\n",
              "7         0.0750  1683.234741  ...  2251.917847   9247.219238\n",
              "8         0.1000  1765.589111  ...  2068.529388   9286.683594\n",
              "\n",
              "[9 rows x 16 columns]"
            ]
          },
          "metadata": {
            "tags": []
          },
          "execution_count": 231
        }
      ]
    },
    {
      "cell_type": "code",
      "metadata": {
        "id": "DFjOFcRRIQaW",
        "colab_type": "code",
        "outputId": "30b821de-f776-498a-97ad-1028c201935a",
        "colab": {
          "base_uri": "https://localhost:8080/",
          "height": 34
        }
      },
      "source": [
        "result_report.to_excel('hyper tuning parameter learningrate and optimizer.xlsx', index=False)\n",
        "print('Saved process done.')"
      ],
      "execution_count": 0,
      "outputs": [
        {
          "output_type": "stream",
          "text": [
            "Saved process done.\n"
          ],
          "name": "stdout"
        }
      ]
    },
    {
      "cell_type": "code",
      "metadata": {
        "id": "IqzaBgO1IQZN",
        "colab_type": "code",
        "outputId": "09ad69f4-a419-41ed-996b-b5ed5cde4816",
        "colab": {
          "base_uri": "https://localhost:8080/",
          "height": 312
        }
      },
      "source": [
        "plt.plot(result_report['Learning Rate'], result_report['Adam-Avg'], label='Adam')\n",
        "plt.plot(result_report['Learning Rate'], result_report['RMSprop-Avg'], label='RMSProp')\n",
        "plt.plot(result_report['Learning Rate'], result_report['SGD-Avg'], label='SGD')\n",
        "\n",
        "plt.title('Training over different optimizers and learning rate')\n",
        "plt.xlabel('Learning Rate')\n",
        "plt.ylabel('Mean Absolute Error')\n",
        "plt.legend()"
      ],
      "execution_count": 0,
      "outputs": [
        {
          "output_type": "execute_result",
          "data": {
            "text/plain": [
              "<matplotlib.legend.Legend at 0x7f578f336198>"
            ]
          },
          "metadata": {
            "tags": []
          },
          "execution_count": 236
        },
        {
          "output_type": "display_data",
          "data": {
            "image/png": "[encoded data removed]",
            "text/plain": [
              "<Figure size 432x288 with 1 Axes>"
            ]
          },
          "metadata": {
            "tags": []
          }
        }
      ]
    },
    {
      "cell_type": "markdown",
      "metadata": {
        "id": "RlyAdHXWJ6od",
        "colab_type": "text"
      },
      "source": [
        "Small learning rate gives better result.\n",
        "\n",
        "Best parameter -> Adam optimizer with learning rate 0.025"
      ]
    },
    {
      "cell_type": "markdown",
      "metadata": {
        "id": "vy_CJQAVU5Eu",
        "colab_type": "text"
      },
      "source": [
        "### Regularization & Drop Out\n",
        "\n",
        "<b>Regularizers</b> allow you to apply penalties on layer parameters or layer activity during optimization. These penalties are summed into the loss function that the network optimizes.\n",
        "\n",
        "<b>Dropout</b> is one of the most effective and most commonly used regularization techniques for neural networks. The intuitive explanation for dropout is that because individual nodes in the network cannot rely on the output of the others, each node must output features that are useful on their own.\n",
        "\n",
        "We can combined both of them to avoid overfitting.\n"
      ]
    },
    {
      "cell_type": "code",
      "metadata": {
        "id": "l2fWeO4VZi1b",
        "colab_type": "code",
        "colab": {}
      },
      "source": [
        "regularizer_rates = [0, .001, .01, .1]\n",
        "dropout_rates = [0, .2, .35, .5]"
      ],
      "execution_count": 0,
      "outputs": []
    },
    {
      "cell_type": "code",
      "metadata": {
        "id": "e4bP_YKQVAR2",
        "colab_type": "code",
        "colab": {
          "base_uri": "https://localhost:8080/",
          "height": 353
        },
        "outputId": "c23fd3f5-614e-46bf-ea7d-9ce1ba8ce796"
      },
      "source": [
        "i = 1\n",
        "drp_log, reg_log, mae_log ,mse_log = [], [], [], []\n",
        "\n",
        "for train_features, train_target, validation_features, validation_target in train_val_split:\n",
        "  \n",
        "  for dropout_rate in dropout_rates:\n",
        "    print('.......')\n",
        "    for regularizer_rate in regularizer_rates:\n",
        "       mlp = multilayer_perceptron(train_features.shape[1], .025, 'adam', regularizer_rate, dropout_rate)\n",
        "       model, history = train_model(mlp, train_features, train_target, 4000)\n",
        "       loss, mae, mse = model.evaluate(validation_features, validation_target, verbose=0)\n",
        "       drp_log.append(dropout_rate)\n",
        "       reg_log.append(regularizer_rate)\n",
        "       mae_log.append(mae)\n",
        "       mse_log.append(mse)\n",
        "\n",
        "  print('Done for group-',str(i))\n",
        "  i += 1\n"
      ],
      "execution_count": 25,
      "outputs": [
        {
          "output_type": "stream",
          "text": [
            ".......\n",
            ".......\n",
            ".......\n",
            ".......\n",
            "Done for group- 1\n",
            ".......\n",
            ".......\n",
            ".......\n",
            ".......\n",
            "Done for group- 2\n",
            ".......\n",
            ".......\n",
            ".......\n",
            ".......\n",
            "Done for group- 3\n",
            ".......\n",
            ".......\n",
            ".......\n",
            ".......\n",
            "Done for group- 4\n"
          ],
          "name": "stdout"
        }
      ]
    },
    {
      "cell_type": "code",
      "metadata": {
        "id": "GXiUj5CfCZkm",
        "colab_type": "code",
        "colab": {
          "base_uri": "https://localhost:8080/",
          "height": 34
        },
        "outputId": "83d0ea44-4d2d-40d6-ec33-faec752770f6"
      },
      "source": [
        "grp = [\"Group-1\"]*16 + [\"Group-2\"]*16 + [\"Group-3\"]*16 + [\"Group-4\"]*16\n",
        "len(grp)"
      ],
      "execution_count": 36,
      "outputs": [
        {
          "output_type": "execute_result",
          "data": {
            "text/plain": [
              "64"
            ]
          },
          "metadata": {
            "tags": []
          },
          "execution_count": 36
        }
      ]
    },
    {
      "cell_type": "code",
      "metadata": {
        "id": "c6WoRQSWGMqj",
        "colab_type": "code",
        "colab": {
          "base_uri": "https://localhost:8080/",
          "height": 402
        },
        "outputId": "18520a16-00f3-4699-f922-edf9fb3d41d2"
      },
      "source": [
        "drp_reg_result = pd.DataFrame({\"Group\": grp, \"Drop-out rate\": drp_log, \"Regularizer rate\": reg_log,\n",
        "                               \"Mean Absolute Error\": mae_log, \"Mean Squared Error\": mse_log})\n",
        "drp_reg_result"
      ],
      "execution_count": 37,
      "outputs": [
        {
          "output_type": "execute_result",
          "data": {
            "text/html": [
              "<div>\n",
              "<style scoped>\n",
              "    .dataframe tbody tr th:only-of-type {\n",
              "        vertical-align: middle;\n",
              "    }\n",
              "\n",
              "    .dataframe tbody tr th {\n",
              "        vertical-align: top;\n",
              "    }\n",
              "\n",
              "    .dataframe thead th {\n",
              "        text-align: right;\n",
              "    }\n",
              "</style>\n",
              "<table border=\"1\" class=\"dataframe\">\n",
              "  <thead>\n",
              "    <tr style=\"text-align: right;\">\n",
              "      <th></th>\n",
              "      <th>Group</th>\n",
              "      <th>Drop-out rate</th>\n",
              "      <th>Regularizer rate</th>\n",
              "      <th>Mean Absolute Error</th>\n",
              "      <th>Mean Squared Error</th>\n",
              "    </tr>\n",
              "  </thead>\n",
              "  <tbody>\n",
              "    <tr>\n",
              "      <th>0</th>\n",
              "      <td>Group-1</td>\n",
              "      <td>0.00</td>\n",
              "      <td>0.000</td>\n",
              "      <td>1704.239746</td>\n",
              "      <td>25148408.0</td>\n",
              "    </tr>\n",
              "    <tr>\n",
              "      <th>1</th>\n",
              "      <td>Group-1</td>\n",
              "      <td>0.00</td>\n",
              "      <td>0.001</td>\n",
              "      <td>1574.438232</td>\n",
              "      <td>25726460.0</td>\n",
              "    </tr>\n",
              "    <tr>\n",
              "      <th>2</th>\n",
              "      <td>Group-1</td>\n",
              "      <td>0.00</td>\n",
              "      <td>0.010</td>\n",
              "      <td>1532.303589</td>\n",
              "      <td>25289728.0</td>\n",
              "    </tr>\n",
              "    <tr>\n",
              "      <th>3</th>\n",
              "      <td>Group-1</td>\n",
              "      <td>0.00</td>\n",
              "      <td>0.100</td>\n",
              "      <td>1521.789795</td>\n",
              "      <td>24813542.0</td>\n",
              "    </tr>\n",
              "    <tr>\n",
              "      <th>4</th>\n",
              "      <td>Group-1</td>\n",
              "      <td>0.20</td>\n",
              "      <td>0.000</td>\n",
              "      <td>2127.277100</td>\n",
              "      <td>28151118.0</td>\n",
              "    </tr>\n",
              "    <tr>\n",
              "      <th>...</th>\n",
              "      <td>...</td>\n",
              "      <td>...</td>\n",
              "      <td>...</td>\n",
              "      <td>...</td>\n",
              "      <td>...</td>\n",
              "    </tr>\n",
              "    <tr>\n",
              "      <th>59</th>\n",
              "      <td>Group-4</td>\n",
              "      <td>0.35</td>\n",
              "      <td>0.100</td>\n",
              "      <td>2295.309814</td>\n",
              "      <td>24410332.0</td>\n",
              "    </tr>\n",
              "    <tr>\n",
              "      <th>60</th>\n",
              "      <td>Group-4</td>\n",
              "      <td>0.50</td>\n",
              "      <td>0.000</td>\n",
              "      <td>2114.799072</td>\n",
              "      <td>23403926.0</td>\n",
              "    </tr>\n",
              "    <tr>\n",
              "      <th>61</th>\n",
              "      <td>Group-4</td>\n",
              "      <td>0.50</td>\n",
              "      <td>0.001</td>\n",
              "      <td>1960.350220</td>\n",
              "      <td>22033832.0</td>\n",
              "    </tr>\n",
              "    <tr>\n",
              "      <th>62</th>\n",
              "      <td>Group-4</td>\n",
              "      <td>0.50</td>\n",
              "      <td>0.010</td>\n",
              "      <td>2018.504395</td>\n",
              "      <td>21881678.0</td>\n",
              "    </tr>\n",
              "    <tr>\n",
              "      <th>63</th>\n",
              "      <td>Group-4</td>\n",
              "      <td>0.50</td>\n",
              "      <td>0.100</td>\n",
              "      <td>2072.195801</td>\n",
              "      <td>21821398.0</td>\n",
              "    </tr>\n",
              "  </tbody>\n",
              "</table>\n",
              "<p>64 rows × 5 columns</p>\n",
              "</div>"
            ],
            "text/plain": [
              "      Group  Drop-out rate  ...  Mean Absolute Error  Mean Squared Error\n",
              "0   Group-1           0.00  ...          1704.239746          25148408.0\n",
              "1   Group-1           0.00  ...          1574.438232          25726460.0\n",
              "2   Group-1           0.00  ...          1532.303589          25289728.0\n",
              "3   Group-1           0.00  ...          1521.789795          24813542.0\n",
              "4   Group-1           0.20  ...          2127.277100          28151118.0\n",
              "..      ...            ...  ...                  ...                 ...\n",
              "59  Group-4           0.35  ...          2295.309814          24410332.0\n",
              "60  Group-4           0.50  ...          2114.799072          23403926.0\n",
              "61  Group-4           0.50  ...          1960.350220          22033832.0\n",
              "62  Group-4           0.50  ...          2018.504395          21881678.0\n",
              "63  Group-4           0.50  ...          2072.195801          21821398.0\n",
              "\n",
              "[64 rows x 5 columns]"
            ]
          },
          "metadata": {
            "tags": []
          },
          "execution_count": 37
        }
      ]
    },
    {
      "cell_type": "code",
      "metadata": {
        "id": "yp0MrkHekUND",
        "colab_type": "code",
        "colab": {
          "base_uri": "https://localhost:8080/",
          "height": 34
        },
        "outputId": "ea53c3c3-e3eb-4f34-b5d9-0afb52249d61"
      },
      "source": [
        "drp_reg_result.to_excel('hyper tuning parameter regularization and drop-out.xlsx', index=False)\n",
        "print('Saved process done.')"
      ],
      "execution_count": 38,
      "outputs": [
        {
          "output_type": "stream",
          "text": [
            "Saved process done.\n"
          ],
          "name": "stdout"
        }
      ]
    },
    {
      "cell_type": "code",
      "metadata": {
        "id": "4jcKeRHrkUjb",
        "colab_type": "code",
        "colab": {
          "base_uri": "https://localhost:8080/",
          "height": 550
        },
        "outputId": "6031c9e4-c87a-4e4b-cb21-9e91d8ddd6da"
      },
      "source": [
        "grp_result = drp_reg_result.groupby(['Drop-out rate', 'Regularizer rate'])[['Mean Absolute Error', 'Mean Squared Error']].mean()\n",
        "grp_result"
      ],
      "execution_count": 46,
      "outputs": [
        {
          "output_type": "execute_result",
          "data": {
            "text/html": [
              "<div>\n",
              "<style scoped>\n",
              "    .dataframe tbody tr th:only-of-type {\n",
              "        vertical-align: middle;\n",
              "    }\n",
              "\n",
              "    .dataframe tbody tr th {\n",
              "        vertical-align: top;\n",
              "    }\n",
              "\n",
              "    .dataframe thead th {\n",
              "        text-align: right;\n",
              "    }\n",
              "</style>\n",
              "<table border=\"1\" class=\"dataframe\">\n",
              "  <thead>\n",
              "    <tr style=\"text-align: right;\">\n",
              "      <th></th>\n",
              "      <th></th>\n",
              "      <th>Mean Absolute Error</th>\n",
              "      <th>Mean Squared Error</th>\n",
              "    </tr>\n",
              "    <tr>\n",
              "      <th>Drop-out rate</th>\n",
              "      <th>Regularizer rate</th>\n",
              "      <th></th>\n",
              "      <th></th>\n",
              "    </tr>\n",
              "  </thead>\n",
              "  <tbody>\n",
              "    <tr>\n",
              "      <th rowspan=\"4\" valign=\"top\">0.00</th>\n",
              "      <th>0.000</th>\n",
              "      <td>1694.574493</td>\n",
              "      <td>31464296.0</td>\n",
              "    </tr>\n",
              "    <tr>\n",
              "      <th>0.001</th>\n",
              "      <td>1566.558960</td>\n",
              "      <td>22612818.0</td>\n",
              "    </tr>\n",
              "    <tr>\n",
              "      <th>0.010</th>\n",
              "      <td>1539.876160</td>\n",
              "      <td>22667506.0</td>\n",
              "    </tr>\n",
              "    <tr>\n",
              "      <th>0.100</th>\n",
              "      <td>1561.972656</td>\n",
              "      <td>21718349.0</td>\n",
              "    </tr>\n",
              "    <tr>\n",
              "      <th rowspan=\"4\" valign=\"top\">0.20</th>\n",
              "      <th>0.000</th>\n",
              "      <td>1934.855377</td>\n",
              "      <td>23710436.5</td>\n",
              "    </tr>\n",
              "    <tr>\n",
              "      <th>0.001</th>\n",
              "      <td>1826.466309</td>\n",
              "      <td>22503157.5</td>\n",
              "    </tr>\n",
              "    <tr>\n",
              "      <th>0.010</th>\n",
              "      <td>1922.687927</td>\n",
              "      <td>22964797.5</td>\n",
              "    </tr>\n",
              "    <tr>\n",
              "      <th>0.100</th>\n",
              "      <td>2279.097046</td>\n",
              "      <td>26272783.0</td>\n",
              "    </tr>\n",
              "    <tr>\n",
              "      <th rowspan=\"4\" valign=\"top\">0.35</th>\n",
              "      <th>0.000</th>\n",
              "      <td>2028.263489</td>\n",
              "      <td>24560441.5</td>\n",
              "    </tr>\n",
              "    <tr>\n",
              "      <th>0.001</th>\n",
              "      <td>2085.476593</td>\n",
              "      <td>25030113.0</td>\n",
              "    </tr>\n",
              "    <tr>\n",
              "      <th>0.010</th>\n",
              "      <td>2243.391571</td>\n",
              "      <td>25471856.5</td>\n",
              "    </tr>\n",
              "    <tr>\n",
              "      <th>0.100</th>\n",
              "      <td>2197.897217</td>\n",
              "      <td>25249228.0</td>\n",
              "    </tr>\n",
              "    <tr>\n",
              "      <th rowspan=\"4\" valign=\"top\">0.50</th>\n",
              "      <th>0.000</th>\n",
              "      <td>2115.166199</td>\n",
              "      <td>25045874.5</td>\n",
              "    </tr>\n",
              "    <tr>\n",
              "      <th>0.001</th>\n",
              "      <td>2177.113068</td>\n",
              "      <td>25701427.5</td>\n",
              "    </tr>\n",
              "    <tr>\n",
              "      <th>0.010</th>\n",
              "      <td>2135.597351</td>\n",
              "      <td>25074145.0</td>\n",
              "    </tr>\n",
              "    <tr>\n",
              "      <th>0.100</th>\n",
              "      <td>2209.479431</td>\n",
              "      <td>24979922.0</td>\n",
              "    </tr>\n",
              "  </tbody>\n",
              "</table>\n",
              "</div>"
            ],
            "text/plain": [
              "                                Mean Absolute Error  Mean Squared Error\n",
              "Drop-out rate Regularizer rate                                         \n",
              "0.00          0.000                     1694.574493          31464296.0\n",
              "              0.001                     1566.558960          22612818.0\n",
              "              0.010                     1539.876160          22667506.0\n",
              "              0.100                     1561.972656          21718349.0\n",
              "0.20          0.000                     1934.855377          23710436.5\n",
              "              0.001                     1826.466309          22503157.5\n",
              "              0.010                     1922.687927          22964797.5\n",
              "              0.100                     2279.097046          26272783.0\n",
              "0.35          0.000                     2028.263489          24560441.5\n",
              "              0.001                     2085.476593          25030113.0\n",
              "              0.010                     2243.391571          25471856.5\n",
              "              0.100                     2197.897217          25249228.0\n",
              "0.50          0.000                     2115.166199          25045874.5\n",
              "              0.001                     2177.113068          25701427.5\n",
              "              0.010                     2135.597351          25074145.0\n",
              "              0.100                     2209.479431          24979922.0"
            ]
          },
          "metadata": {
            "tags": []
          },
          "execution_count": 46
        }
      ]
    },
    {
      "cell_type": "markdown",
      "metadata": {
        "id": "CHakBjNWGOJ3",
        "colab_type": "text"
      },
      "source": [
        "Refer to previous experiment, the better result comes with drop-out rate = 0 and regularizer rate = 0.01 (mae), 0.1 (mse)"
      ]
    },
    {
      "cell_type": "markdown",
      "metadata": {
        "id": "qfCWmXIq9q3K",
        "colab_type": "text"
      },
      "source": [
        "### Evaluate with test set"
      ]
    },
    {
      "cell_type": "markdown",
      "metadata": {
        "id": "V6mPtzdyGbi0",
        "colab_type": "text"
      },
      "source": [
        "After work on hyper tuning parameter, we can apply the best parameter to test set. And see whether a overfitting issue or not"
      ]
    },
    {
      "cell_type": "code",
      "metadata": {
        "id": "7TefQJNBG3BS",
        "colab_type": "code",
        "colab": {}
      },
      "source": [
        "mae_log ,mse_log = [], []\n",
        "\n",
        "for train_features, train_target, validation_features, validation_target in train_val_split:\n",
        "\n",
        "  mlp = multilayer_perceptron(train_features.shape[1], .025, 'adam', 0.01, 0)\n",
        "  model, history = train_model(mlp, train_features, train_target, 4000)\n",
        "  loss, mae, mse = model.evaluate(validation_features, validation_target, verbose=0)\n",
        "  mae_log.append(mae)\n",
        "  mse_log.append(mse)"
      ],
      "execution_count": 0,
      "outputs": []
    },
    {
      "cell_type": "code",
      "metadata": {
        "id": "oIDadaNQHdBt",
        "colab_type": "code",
        "colab": {
          "base_uri": "https://localhost:8080/",
          "height": 182
        },
        "outputId": "8362a9d0-4dcd-405c-e6dc-969fcdfe7144"
      },
      "source": [
        "grp_log = ['Group-'+str(i) for i in range(1, 5)]\n",
        "log = pd.DataFrame({\"Group\": grp_log, \"Mean Absolute Error\": mae_log, \"Mean Squared Error\": mse_log})\n",
        "print('Test result with validation set that obtained from train-validation-test split using Sorted Stratified K Fold Cross Validation')\n",
        "log"
      ],
      "execution_count": 68,
      "outputs": [
        {
          "output_type": "stream",
          "text": [
            "Test result with validation set that obtained from train-validation-test split using Sorted Stratified K Fold Cross Validation\n"
          ],
          "name": "stdout"
        },
        {
          "output_type": "execute_result",
          "data": {
            "text/html": [
              "<div>\n",
              "<style scoped>\n",
              "    .dataframe tbody tr th:only-of-type {\n",
              "        vertical-align: middle;\n",
              "    }\n",
              "\n",
              "    .dataframe tbody tr th {\n",
              "        vertical-align: top;\n",
              "    }\n",
              "\n",
              "    .dataframe thead th {\n",
              "        text-align: right;\n",
              "    }\n",
              "</style>\n",
              "<table border=\"1\" class=\"dataframe\">\n",
              "  <thead>\n",
              "    <tr style=\"text-align: right;\">\n",
              "      <th></th>\n",
              "      <th>Group</th>\n",
              "      <th>Mean Absolute Error</th>\n",
              "      <th>Mean Squared Error</th>\n",
              "    </tr>\n",
              "  </thead>\n",
              "  <tbody>\n",
              "    <tr>\n",
              "      <th>0</th>\n",
              "      <td>Group-1</td>\n",
              "      <td>1510.414185</td>\n",
              "      <td>24642996.0</td>\n",
              "    </tr>\n",
              "    <tr>\n",
              "      <th>1</th>\n",
              "      <td>Group-2</td>\n",
              "      <td>1484.146973</td>\n",
              "      <td>24508814.0</td>\n",
              "    </tr>\n",
              "    <tr>\n",
              "      <th>2</th>\n",
              "      <td>Group-3</td>\n",
              "      <td>1540.083862</td>\n",
              "      <td>20895390.0</td>\n",
              "    </tr>\n",
              "    <tr>\n",
              "      <th>3</th>\n",
              "      <td>Group-4</td>\n",
              "      <td>1416.736450</td>\n",
              "      <td>20536362.0</td>\n",
              "    </tr>\n",
              "  </tbody>\n",
              "</table>\n",
              "</div>"
            ],
            "text/plain": [
              "     Group  Mean Absolute Error  Mean Squared Error\n",
              "0  Group-1          1510.414185          24642996.0\n",
              "1  Group-2          1484.146973          24508814.0\n",
              "2  Group-3          1540.083862          20895390.0\n",
              "3  Group-4          1416.736450          20536362.0"
            ]
          },
          "metadata": {
            "tags": []
          },
          "execution_count": 68
        }
      ]
    },
    {
      "cell_type": "code",
      "metadata": {
        "id": "0Qpfe2CaIBkb",
        "colab_type": "code",
        "colab": {
          "base_uri": "https://localhost:8080/",
          "height": 67
        },
        "outputId": "3716650d-4909-473f-9d56-94bbe78c5f67"
      },
      "source": [
        "\n",
        "print(\"Minimum MAE =  \",log[\"Mean Absolute Error\"].min())\n",
        "print(\"Maximum MAE =  \",log[\"Mean Absolute Error\"].max())\n",
        "print(\"Average MAE =  \",log[\"Mean Absolute Error\"].mean())"
      ],
      "execution_count": 69,
      "outputs": [
        {
          "output_type": "stream",
          "text": [
            "Minimum MAE =   1416.7364501953125\n",
            "Maximum MAE =   1540.0838623046875\n",
            "Average MAE =   1487.8453674316406\n"
          ],
          "name": "stdout"
        }
      ]
    },
    {
      "cell_type": "markdown",
      "metadata": {
        "id": "hCF8CyD8L9Eq",
        "colab_type": "text"
      },
      "source": [
        "Right now, we know that our model can get result with 'Mean Absolute Error' between 1416,74 and 1540,08. Now lets check with test set.\n",
        "\n",
        "> If you run the cell many times you can get different result. But the interval of MAE will not be much different"
      ]
    },
    {
      "cell_type": "code",
      "metadata": {
        "id": "vfOuCYX19wQi",
        "colab_type": "code",
        "colab": {
          "base_uri": "https://localhost:8080/",
          "height": 50
        },
        "outputId": "4475874c-5d15-4884-9e67-09cc4d880e3c"
      },
      "source": [
        "test_target = target[normed_test_features.index]\n",
        "loss, mae, mse = model.evaluate(normed_test_features, test_target)\n",
        "\n",
        "print(\"MAE for testing set =  {:5.2f} (charges)\".format(mae))"
      ],
      "execution_count": 71,
      "outputs": [
        {
          "output_type": "stream",
          "text": [
            "9/9 [==============================] - 0s 1ms/step - loss: 1790.9459 - mae: 1639.3760 - mse: 22526778.0000\n",
            "MAE for testing set =  1639.38 (charges)\n"
          ],
          "name": "stdout"
        }
      ]
    },
    {
      "cell_type": "code",
      "metadata": {
        "id": "Fds06mu-Dr23",
        "colab_type": "code",
        "outputId": "9a9ebd1a-8a33-49b1-8177-8122a0e6c9ce",
        "colab": {
          "base_uri": "https://localhost:8080/",
          "height": 283
        }
      },
      "source": [
        "test_predictions = model.predict(normed_test_features).flatten()\n",
        "\n",
        "a = plt.axes(aspect='equal')\n",
        "\n",
        "plt.scatter(test_target, test_predictions)\n",
        "\n",
        "plt.xlabel('True Values [charges]')\n",
        "plt.ylabel('Predictions [charges]')\n",
        "lims = [0, 6e4]\n",
        "plt.xlim(lims)\n",
        "plt.ylim(lims)\n",
        "\n",
        "_ = plt.plot(lims, lims)"
      ],
      "execution_count": 76,
      "outputs": [
        {
          "output_type": "display_data",
          "data": {
            "image/png": "[encoded data removed]",
            "text/plain": [
              "<Figure size 432x288 with 1 Axes>"
            ]
          },
          "metadata": {
            "tags": []
          }
        }
      ]
    },
    {
      "cell_type": "markdown",
      "metadata": {
        "id": "t7KrK5pJN6dR",
        "colab_type": "text"
      },
      "source": [
        "For this testing we get MAE of 1639,38\n",
        "If we compare with result that we obtained from validation set, our model can predict data with MAE 1487,84. We get difference of 151,54 from model validation. That is good result <b>(not overfitting)</b>."
      ]
    }
  ]
}