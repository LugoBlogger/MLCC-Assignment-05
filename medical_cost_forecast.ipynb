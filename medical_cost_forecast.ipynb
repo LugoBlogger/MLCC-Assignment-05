{
  "nbformat": 4,
  "nbformat_minor": 0,
  "metadata": {
    "colab": {
      "name": "medical-cost-forecast.ipynb",
      "provenance": [],
      "collapsed_sections": [],
      "toc_visible": true,
      "include_colab_link": true
    },
    "kernelspec": {
      "name": "python3",
      "display_name": "Python 3"
    }
  },
  "cells": [
    {
      "cell_type": "markdown",
      "metadata": {
        "id": "view-in-github",
        "colab_type": "text"
      },
      "source": [
        "<a href=\"https://colab.research.google.com/github/LugoBlogger/MLCC-Assignment-05/blob/dev%2F26032020/medical_cost_forecast.ipynb\" target=\"_parent\"><img src=\"https://colab.research.google.com/assets/colab-badge.svg\" alt=\"Open In Colab\"/></a>"
      ]
    },
    {
      "cell_type": "markdown",
      "metadata": {
        "id": "bLMC3Zb-Cksh",
        "colab_type": "text"
      },
      "source": [
        "# Introduction\n",
        "\n",
        "In this notebook, we will predict health insurance cost that someone should pay annually by the given features.\n",
        "For the complete introduction, see the slides."
      ]
    },
    {
      "cell_type": "code",
      "metadata": {
        "id": "gBCFS3gaE7wn",
        "colab_type": "code",
        "outputId": "4d444917-162e-469c-ac5d-a2e594bbd1cb",
        "colab": {
          "base_uri": "https://localhost:8080/",
          "height": 35
        }
      },
      "source": [
        "# Use seaborn for pairplot\n",
        "!pip install -q seaborn\n",
        "\n",
        "# Use some functions from tensorflow_docs\n",
        "!pip install -q git+https://github.com/tensorflow/docs"
      ],
      "execution_count": 1,
      "outputs": [
        {
          "output_type": "stream",
          "text": [
            "  Building wheel for tensorflow-docs (setup.py) ... \u001b[?25l\u001b[?25hdone\n"
          ],
          "name": "stdout"
        }
      ]
    },
    {
      "cell_type": "code",
      "metadata": {
        "id": "ZKKYz5BnFeAf",
        "colab_type": "code",
        "colab": {}
      },
      "source": [
        "# Use tensorflow 2\n",
        "%tensorflow_version 2.x"
      ],
      "execution_count": 0,
      "outputs": []
    },
    {
      "cell_type": "code",
      "metadata": {
        "id": "sPXvoENYBlC9",
        "colab_type": "code",
        "colab": {}
      },
      "source": [
        "import time\n",
        "\n",
        "import matplotlib.pyplot as plt\n",
        "import numpy as np\n",
        "import pandas as pd\n",
        "import seaborn as sns"
      ],
      "execution_count": 0,
      "outputs": []
    },
    {
      "cell_type": "code",
      "metadata": {
        "id": "zBaTzo5YEHOz",
        "colab_type": "code",
        "outputId": "a56ee0b6-497f-47bb-9f42-b3e5fa0d8057",
        "colab": {
          "base_uri": "https://localhost:8080/",
          "height": 35
        }
      },
      "source": [
        "import tensorflow as tf\n",
        "\n",
        "from tensorflow import keras\n",
        "from tensorflow.keras import layers\n",
        "\n",
        "print(tf.__version__)"
      ],
      "execution_count": 4,
      "outputs": [
        {
          "output_type": "stream",
          "text": [
            "2.2.0-rc1\n"
          ],
          "name": "stdout"
        }
      ]
    },
    {
      "cell_type": "code",
      "metadata": {
        "id": "vLwn9MsbEOfY",
        "colab_type": "code",
        "colab": {}
      },
      "source": [
        "### this library is for callback functions\n",
        "import tensorflow_docs as tfdocs\n",
        "import tensorflow_docs.plots\n",
        "import tensorflow_docs.modeling"
      ],
      "execution_count": 0,
      "outputs": []
    },
    {
      "cell_type": "markdown",
      "metadata": {
        "id": "llvFDM09FyIu",
        "colab_type": "text"
      },
      "source": [
        "# Medical Cost Personal Datasets\n",
        "\n",
        "## Retrieve the dataset\n",
        "\n",
        "Manage the dataset into pandas' DataFrame."
      ]
    },
    {
      "cell_type": "code",
      "metadata": {
        "id": "Ca59a6eCGMsA",
        "colab_type": "code",
        "outputId": "31d9bd2c-2abd-4381-e85d-1809ca75b3b7",
        "colab": {
          "base_uri": "https://localhost:8080/",
          "height": 424
        }
      },
      "source": [
        "dataset = pd.read_csv(\"https://raw.githubusercontent.com/LugoBlogger/MLCC-Assignment-05/master/datasets/insurance.csv\", header=0)\n",
        "dataset"
      ],
      "execution_count": 76,
      "outputs": [
        {
          "output_type": "execute_result",
          "data": {
            "text/html": [
              "<div>\n",
              "<style scoped>\n",
              "    .dataframe tbody tr th:only-of-type {\n",
              "        vertical-align: middle;\n",
              "    }\n",
              "\n",
              "    .dataframe tbody tr th {\n",
              "        vertical-align: top;\n",
              "    }\n",
              "\n",
              "    .dataframe thead th {\n",
              "        text-align: right;\n",
              "    }\n",
              "</style>\n",
              "<table border=\"1\" class=\"dataframe\">\n",
              "  <thead>\n",
              "    <tr style=\"text-align: right;\">\n",
              "      <th></th>\n",
              "      <th>age</th>\n",
              "      <th>sex</th>\n",
              "      <th>bmi</th>\n",
              "      <th>children</th>\n",
              "      <th>smoker</th>\n",
              "      <th>region</th>\n",
              "      <th>charges</th>\n",
              "    </tr>\n",
              "  </thead>\n",
              "  <tbody>\n",
              "    <tr>\n",
              "      <th>0</th>\n",
              "      <td>19</td>\n",
              "      <td>female</td>\n",
              "      <td>27.900</td>\n",
              "      <td>0</td>\n",
              "      <td>yes</td>\n",
              "      <td>southwest</td>\n",
              "      <td>16884.92400</td>\n",
              "    </tr>\n",
              "    <tr>\n",
              "      <th>1</th>\n",
              "      <td>18</td>\n",
              "      <td>male</td>\n",
              "      <td>33.770</td>\n",
              "      <td>1</td>\n",
              "      <td>no</td>\n",
              "      <td>southeast</td>\n",
              "      <td>1725.55230</td>\n",
              "    </tr>\n",
              "    <tr>\n",
              "      <th>2</th>\n",
              "      <td>28</td>\n",
              "      <td>male</td>\n",
              "      <td>33.000</td>\n",
              "      <td>3</td>\n",
              "      <td>no</td>\n",
              "      <td>southeast</td>\n",
              "      <td>4449.46200</td>\n",
              "    </tr>\n",
              "    <tr>\n",
              "      <th>3</th>\n",
              "      <td>33</td>\n",
              "      <td>male</td>\n",
              "      <td>22.705</td>\n",
              "      <td>0</td>\n",
              "      <td>no</td>\n",
              "      <td>northwest</td>\n",
              "      <td>21984.47061</td>\n",
              "    </tr>\n",
              "    <tr>\n",
              "      <th>4</th>\n",
              "      <td>32</td>\n",
              "      <td>male</td>\n",
              "      <td>28.880</td>\n",
              "      <td>0</td>\n",
              "      <td>no</td>\n",
              "      <td>northwest</td>\n",
              "      <td>3866.85520</td>\n",
              "    </tr>\n",
              "    <tr>\n",
              "      <th>...</th>\n",
              "      <td>...</td>\n",
              "      <td>...</td>\n",
              "      <td>...</td>\n",
              "      <td>...</td>\n",
              "      <td>...</td>\n",
              "      <td>...</td>\n",
              "      <td>...</td>\n",
              "    </tr>\n",
              "    <tr>\n",
              "      <th>1333</th>\n",
              "      <td>50</td>\n",
              "      <td>male</td>\n",
              "      <td>30.970</td>\n",
              "      <td>3</td>\n",
              "      <td>no</td>\n",
              "      <td>northwest</td>\n",
              "      <td>10600.54830</td>\n",
              "    </tr>\n",
              "    <tr>\n",
              "      <th>1334</th>\n",
              "      <td>18</td>\n",
              "      <td>female</td>\n",
              "      <td>31.920</td>\n",
              "      <td>0</td>\n",
              "      <td>no</td>\n",
              "      <td>northeast</td>\n",
              "      <td>2205.98080</td>\n",
              "    </tr>\n",
              "    <tr>\n",
              "      <th>1335</th>\n",
              "      <td>18</td>\n",
              "      <td>female</td>\n",
              "      <td>36.850</td>\n",
              "      <td>0</td>\n",
              "      <td>no</td>\n",
              "      <td>southeast</td>\n",
              "      <td>1629.83350</td>\n",
              "    </tr>\n",
              "    <tr>\n",
              "      <th>1336</th>\n",
              "      <td>21</td>\n",
              "      <td>female</td>\n",
              "      <td>25.800</td>\n",
              "      <td>0</td>\n",
              "      <td>no</td>\n",
              "      <td>southwest</td>\n",
              "      <td>2007.94500</td>\n",
              "    </tr>\n",
              "    <tr>\n",
              "      <th>1337</th>\n",
              "      <td>61</td>\n",
              "      <td>female</td>\n",
              "      <td>29.070</td>\n",
              "      <td>0</td>\n",
              "      <td>yes</td>\n",
              "      <td>northwest</td>\n",
              "      <td>29141.36030</td>\n",
              "    </tr>\n",
              "  </tbody>\n",
              "</table>\n",
              "<p>1338 rows × 7 columns</p>\n",
              "</div>"
            ],
            "text/plain": [
              "      age     sex     bmi  children smoker     region      charges\n",
              "0      19  female  27.900         0    yes  southwest  16884.92400\n",
              "1      18    male  33.770         1     no  southeast   1725.55230\n",
              "2      28    male  33.000         3     no  southeast   4449.46200\n",
              "3      33    male  22.705         0     no  northwest  21984.47061\n",
              "4      32    male  28.880         0     no  northwest   3866.85520\n",
              "...   ...     ...     ...       ...    ...        ...          ...\n",
              "1333   50    male  30.970         3     no  northwest  10600.54830\n",
              "1334   18  female  31.920         0     no  northeast   2205.98080\n",
              "1335   18  female  36.850         0     no  southeast   1629.83350\n",
              "1336   21  female  25.800         0     no  southwest   2007.94500\n",
              "1337   61  female  29.070         0    yes  northwest  29141.36030\n",
              "\n",
              "[1338 rows x 7 columns]"
            ]
          },
          "metadata": {
            "tags": []
          },
          "execution_count": 76
        }
      ]
    },
    {
      "cell_type": "markdown",
      "metadata": {
        "id": "i_o-MQJPQmEY",
        "colab_type": "text"
      },
      "source": [
        "## Clean the data\n",
        "\n",
        "Checking the dataset whether its contains some undefined measurement or not."
      ]
    },
    {
      "cell_type": "code",
      "metadata": {
        "id": "UKBu_VRVKUSE",
        "colab_type": "code",
        "outputId": "3481f67d-5ea8-4331-e14d-7085d1190987",
        "colab": {
          "base_uri": "https://localhost:8080/",
          "height": 162
        }
      },
      "source": [
        "dataset.isna().sum()"
      ],
      "execution_count": 77,
      "outputs": [
        {
          "output_type": "execute_result",
          "data": {
            "text/plain": [
              "age         0\n",
              "sex         0\n",
              "bmi         0\n",
              "children    0\n",
              "smoker      0\n",
              "region      0\n",
              "charges     0\n",
              "dtype: int64"
            ]
          },
          "metadata": {
            "tags": []
          },
          "execution_count": 77
        }
      ]
    },
    {
      "cell_type": "markdown",
      "metadata": {
        "id": "LzSz-tvQQ9L7",
        "colab_type": "text"
      },
      "source": [
        "Convert categorical columns into numeric with the following convention:\n",
        "\n",
        "* `sex`: male = 1, female = 2,\n",
        "\n",
        "* `smoker`: yes = 1, no = 0,\n",
        "\n",
        "* `region`: northeast = $\\displaystyle\\frac{\\pi}{4}$, northwest = $\\displaystyle\\frac{3\\pi}{4}$, southwest = $\\displaystyle\\frac{5\\pi}{4}$, southeast = $\\displaystyle\\frac{7\\pi}{4}$. We use the representation of direction by their angle on unit circle. If we compute the method `.mean`, it will make a sense (where is the region whose citizens are the most recorded)."
      ]
    },
    {
      "cell_type": "code",
      "metadata": {
        "id": "epUomxKVQiJu",
        "colab_type": "code",
        "outputId": "b73f7758-8b14-464d-cc49-3213eecf74ff",
        "colab": {
          "base_uri": "https://localhost:8080/",
          "height": 424
        }
      },
      "source": [
        "dataset.loc[dataset['sex'] == 'male', 'sex'] = 1\n",
        "dataset.loc[dataset['sex'] == 'female', 'sex'] = 2\n",
        "\n",
        "dataset.loc[dataset['smoker'] == 'yes', 'smoker'] = 1\n",
        "dataset.loc[dataset['smoker'] == 'no', 'smoker'] = 0\n",
        "\n",
        "dataset.loc[dataset['region'] == 'northeast', 'region'] = np.pi/4\n",
        "dataset.loc[dataset['region'] == 'northwest', 'region'] = 3*np.pi/4\n",
        "dataset.loc[dataset['region'] == 'southwest', 'region'] = 5*np.pi/4\n",
        "dataset.loc[dataset['region'] == 'southeast', 'region'] = 7*np.pi/4\n",
        "\n",
        "dataset['region'] = pd.to_numeric(dataset['region'])\n",
        "\n",
        "dataset"
      ],
      "execution_count": 78,
      "outputs": [
        {
          "output_type": "execute_result",
          "data": {
            "text/html": [
              "<div>\n",
              "<style scoped>\n",
              "    .dataframe tbody tr th:only-of-type {\n",
              "        vertical-align: middle;\n",
              "    }\n",
              "\n",
              "    .dataframe tbody tr th {\n",
              "        vertical-align: top;\n",
              "    }\n",
              "\n",
              "    .dataframe thead th {\n",
              "        text-align: right;\n",
              "    }\n",
              "</style>\n",
              "<table border=\"1\" class=\"dataframe\">\n",
              "  <thead>\n",
              "    <tr style=\"text-align: right;\">\n",
              "      <th></th>\n",
              "      <th>age</th>\n",
              "      <th>sex</th>\n",
              "      <th>bmi</th>\n",
              "      <th>children</th>\n",
              "      <th>smoker</th>\n",
              "      <th>region</th>\n",
              "      <th>charges</th>\n",
              "    </tr>\n",
              "  </thead>\n",
              "  <tbody>\n",
              "    <tr>\n",
              "      <th>0</th>\n",
              "      <td>19</td>\n",
              "      <td>2</td>\n",
              "      <td>27.900</td>\n",
              "      <td>0</td>\n",
              "      <td>1</td>\n",
              "      <td>3.926991</td>\n",
              "      <td>16884.92400</td>\n",
              "    </tr>\n",
              "    <tr>\n",
              "      <th>1</th>\n",
              "      <td>18</td>\n",
              "      <td>1</td>\n",
              "      <td>33.770</td>\n",
              "      <td>1</td>\n",
              "      <td>0</td>\n",
              "      <td>5.497787</td>\n",
              "      <td>1725.55230</td>\n",
              "    </tr>\n",
              "    <tr>\n",
              "      <th>2</th>\n",
              "      <td>28</td>\n",
              "      <td>1</td>\n",
              "      <td>33.000</td>\n",
              "      <td>3</td>\n",
              "      <td>0</td>\n",
              "      <td>5.497787</td>\n",
              "      <td>4449.46200</td>\n",
              "    </tr>\n",
              "    <tr>\n",
              "      <th>3</th>\n",
              "      <td>33</td>\n",
              "      <td>1</td>\n",
              "      <td>22.705</td>\n",
              "      <td>0</td>\n",
              "      <td>0</td>\n",
              "      <td>2.356194</td>\n",
              "      <td>21984.47061</td>\n",
              "    </tr>\n",
              "    <tr>\n",
              "      <th>4</th>\n",
              "      <td>32</td>\n",
              "      <td>1</td>\n",
              "      <td>28.880</td>\n",
              "      <td>0</td>\n",
              "      <td>0</td>\n",
              "      <td>2.356194</td>\n",
              "      <td>3866.85520</td>\n",
              "    </tr>\n",
              "    <tr>\n",
              "      <th>...</th>\n",
              "      <td>...</td>\n",
              "      <td>...</td>\n",
              "      <td>...</td>\n",
              "      <td>...</td>\n",
              "      <td>...</td>\n",
              "      <td>...</td>\n",
              "      <td>...</td>\n",
              "    </tr>\n",
              "    <tr>\n",
              "      <th>1333</th>\n",
              "      <td>50</td>\n",
              "      <td>1</td>\n",
              "      <td>30.970</td>\n",
              "      <td>3</td>\n",
              "      <td>0</td>\n",
              "      <td>2.356194</td>\n",
              "      <td>10600.54830</td>\n",
              "    </tr>\n",
              "    <tr>\n",
              "      <th>1334</th>\n",
              "      <td>18</td>\n",
              "      <td>2</td>\n",
              "      <td>31.920</td>\n",
              "      <td>0</td>\n",
              "      <td>0</td>\n",
              "      <td>0.785398</td>\n",
              "      <td>2205.98080</td>\n",
              "    </tr>\n",
              "    <tr>\n",
              "      <th>1335</th>\n",
              "      <td>18</td>\n",
              "      <td>2</td>\n",
              "      <td>36.850</td>\n",
              "      <td>0</td>\n",
              "      <td>0</td>\n",
              "      <td>5.497787</td>\n",
              "      <td>1629.83350</td>\n",
              "    </tr>\n",
              "    <tr>\n",
              "      <th>1336</th>\n",
              "      <td>21</td>\n",
              "      <td>2</td>\n",
              "      <td>25.800</td>\n",
              "      <td>0</td>\n",
              "      <td>0</td>\n",
              "      <td>3.926991</td>\n",
              "      <td>2007.94500</td>\n",
              "    </tr>\n",
              "    <tr>\n",
              "      <th>1337</th>\n",
              "      <td>61</td>\n",
              "      <td>2</td>\n",
              "      <td>29.070</td>\n",
              "      <td>0</td>\n",
              "      <td>1</td>\n",
              "      <td>2.356194</td>\n",
              "      <td>29141.36030</td>\n",
              "    </tr>\n",
              "  </tbody>\n",
              "</table>\n",
              "<p>1338 rows × 7 columns</p>\n",
              "</div>"
            ],
            "text/plain": [
              "      age  sex     bmi  children  smoker    region      charges\n",
              "0      19    2  27.900         0       1  3.926991  16884.92400\n",
              "1      18    1  33.770         1       0  5.497787   1725.55230\n",
              "2      28    1  33.000         3       0  5.497787   4449.46200\n",
              "3      33    1  22.705         0       0  2.356194  21984.47061\n",
              "4      32    1  28.880         0       0  2.356194   3866.85520\n",
              "...   ...  ...     ...       ...     ...       ...          ...\n",
              "1333   50    1  30.970         3       0  2.356194  10600.54830\n",
              "1334   18    2  31.920         0       0  0.785398   2205.98080\n",
              "1335   18    2  36.850         0       0  5.497787   1629.83350\n",
              "1336   21    2  25.800         0       0  3.926991   2007.94500\n",
              "1337   61    2  29.070         0       1  2.356194  29141.36030\n",
              "\n",
              "[1338 rows x 7 columns]"
            ]
          },
          "metadata": {
            "tags": []
          },
          "execution_count": 78
        }
      ]
    },
    {
      "cell_type": "code",
      "metadata": {
        "id": "PuhKD20botvn",
        "colab_type": "code",
        "outputId": "43bf950f-6a96-4fff-db74-c882662e15ca",
        "colab": {
          "base_uri": "https://localhost:8080/",
          "height": 206
        }
      },
      "source": [
        "target = dataset['charges']\n",
        "features = dataset.drop(columns='charges')\n",
        "\n",
        "features.head()"
      ],
      "execution_count": 79,
      "outputs": [
        {
          "output_type": "execute_result",
          "data": {
            "text/html": [
              "<div>\n",
              "<style scoped>\n",
              "    .dataframe tbody tr th:only-of-type {\n",
              "        vertical-align: middle;\n",
              "    }\n",
              "\n",
              "    .dataframe tbody tr th {\n",
              "        vertical-align: top;\n",
              "    }\n",
              "\n",
              "    .dataframe thead th {\n",
              "        text-align: right;\n",
              "    }\n",
              "</style>\n",
              "<table border=\"1\" class=\"dataframe\">\n",
              "  <thead>\n",
              "    <tr style=\"text-align: right;\">\n",
              "      <th></th>\n",
              "      <th>age</th>\n",
              "      <th>sex</th>\n",
              "      <th>bmi</th>\n",
              "      <th>children</th>\n",
              "      <th>smoker</th>\n",
              "      <th>region</th>\n",
              "    </tr>\n",
              "  </thead>\n",
              "  <tbody>\n",
              "    <tr>\n",
              "      <th>0</th>\n",
              "      <td>19</td>\n",
              "      <td>2</td>\n",
              "      <td>27.900</td>\n",
              "      <td>0</td>\n",
              "      <td>1</td>\n",
              "      <td>3.926991</td>\n",
              "    </tr>\n",
              "    <tr>\n",
              "      <th>1</th>\n",
              "      <td>18</td>\n",
              "      <td>1</td>\n",
              "      <td>33.770</td>\n",
              "      <td>1</td>\n",
              "      <td>0</td>\n",
              "      <td>5.497787</td>\n",
              "    </tr>\n",
              "    <tr>\n",
              "      <th>2</th>\n",
              "      <td>28</td>\n",
              "      <td>1</td>\n",
              "      <td>33.000</td>\n",
              "      <td>3</td>\n",
              "      <td>0</td>\n",
              "      <td>5.497787</td>\n",
              "    </tr>\n",
              "    <tr>\n",
              "      <th>3</th>\n",
              "      <td>33</td>\n",
              "      <td>1</td>\n",
              "      <td>22.705</td>\n",
              "      <td>0</td>\n",
              "      <td>0</td>\n",
              "      <td>2.356194</td>\n",
              "    </tr>\n",
              "    <tr>\n",
              "      <th>4</th>\n",
              "      <td>32</td>\n",
              "      <td>1</td>\n",
              "      <td>28.880</td>\n",
              "      <td>0</td>\n",
              "      <td>0</td>\n",
              "      <td>2.356194</td>\n",
              "    </tr>\n",
              "  </tbody>\n",
              "</table>\n",
              "</div>"
            ],
            "text/plain": [
              "   age  sex     bmi  children  smoker    region\n",
              "0   19    2  27.900         0       1  3.926991\n",
              "1   18    1  33.770         1       0  5.497787\n",
              "2   28    1  33.000         3       0  5.497787\n",
              "3   33    1  22.705         0       0  2.356194\n",
              "4   32    1  28.880         0       0  2.356194"
            ]
          },
          "metadata": {
            "tags": []
          },
          "execution_count": 79
        }
      ]
    },
    {
      "cell_type": "markdown",
      "metadata": {
        "id": "1k5TfULDV6f4",
        "colab_type": "text"
      },
      "source": [
        "## Split the data into a training set and a test set."
      ]
    },
    {
      "cell_type": "code",
      "metadata": {
        "id": "WGfC_GlDnYm4",
        "colab_type": "code",
        "colab": {}
      },
      "source": [
        "class SortedStratifiedKFold:\n",
        "    \n",
        "    \"\"\"\n",
        "    This is a class for split data into a few groups, which is each group has same distribution.\n",
        "    Usually this method regarded as Stratified K Fold Cross Validation. But I create another one\n",
        "    for continuous data at target's dataset with Sorted Stratified K Fold method. This method inspired\n",
        "    by article (https://scottclowe.com/2016-03-19-stratified-regression-partitions/).\n",
        "    \n",
        "    This method is useful to make sure validation and test performance gives depicts \n",
        "    the expected performance of the model with less bias and variance.\n",
        "    \"\"\"\n",
        "    \n",
        "    def __init__(self, n_splits):\n",
        "        self._n_splits = n_splits\n",
        "    \n",
        "    def split(self, X, y):\n",
        "        x = X.copy()\n",
        "        \n",
        "        # sorted target values\n",
        "        self._sorted_idx = y.sort_values().index\n",
        "        \n",
        "        self._groups = [list() for _ in range(self._n_splits)]\n",
        "        it = int(np.ceil(x.shape[0] / self._n_splits))\n",
        "        \n",
        "        for i in range(it):\n",
        "            c = i * self._n_splits\n",
        "            \n",
        "            if (len(y) % self._n_splits != 0) and i==(it-1):\n",
        "                rand_idx = np.random.permutation(range(len(y) % self._n_splits)) + c\n",
        "                \n",
        "                for j in range(len(rand_idx)):\n",
        "                    self._groups[j].append(self._sorted_idx[rand_idx[j]])\n",
        "                \n",
        "            else:\n",
        "                rand_idx = np.random.permutation(range(self._n_splits)) + c\n",
        "                \n",
        "                for j in range(self._n_splits):\n",
        "                    self._groups[j].append(self._sorted_idx[rand_idx[j]])\n",
        "                    \n",
        "                  \n",
        "        return [(x.iloc[list(set(y.index) - set(idx))], y.iloc[list(set(y.index) - set(idx))], \n",
        "                                 x.iloc[idx], y.iloc[idx]) for idx in self._groups]"
      ],
      "execution_count": 0,
      "outputs": []
    },
    {
      "cell_type": "markdown",
      "metadata": {
        "id": "vBT1_z9wqi6Q",
        "colab_type": "text"
      },
      "source": [
        "We divided the dataset into 5 groups to get 20% of data for test set"
      ]
    },
    {
      "cell_type": "code",
      "metadata": {
        "id": "C3CneLVqoQb4",
        "colab_type": "code",
        "outputId": "b22eda7e-148a-4781-a168-47755e2f47c4",
        "colab": {
          "base_uri": "https://localhost:8080/",
          "height": 404
        }
      },
      "source": [
        "n_splits = 5\n",
        "\n",
        "ssfk = SortedStratifiedKFold(n_splits=n_splits)\n",
        "\n",
        "train_test_split = ssfk.split(features, target)\n",
        "train_features, train_target, test_features, test_target = train_test_split[0]\n",
        "\n",
        "plt.figure(figsize=(18,6))\n",
        "plt.subplot(121)\n",
        "train_target.hist().set_title('Train target data distribution')\n",
        "plt.xlabel('charges')\n",
        "plt.ylabel('freq.')\n",
        "\n",
        "plt.subplot(122)\n",
        "test_target.hist().set_title('Test target data distribution')\n",
        "plt.xlabel('charges')\n",
        "plt.ylabel('freq.');"
      ],
      "execution_count": 81,
      "outputs": [
        {
          "output_type": "display_data",
          "data": {
            "image/png": "[encoded data removed]",
            "text/plain": [
              "<Figure size 1296x432 with 2 Axes>"
            ]
          },
          "metadata": {
            "tags": []
          }
        }
      ]
    },
    {
      "cell_type": "code",
      "metadata": {
        "id": "7zgpbigsMt7G",
        "colab_type": "code",
        "outputId": "0086bc27-47f7-4a3b-ae2b-1059793d30ea",
        "colab": {
          "base_uri": "https://localhost:8080/",
          "height": 235
        }
      },
      "source": [
        "test_target"
      ],
      "execution_count": 82,
      "outputs": [
        {
          "output_type": "execute_result",
          "data": {
            "text/plain": [
              "940      1121.87390\n",
              "1317     1163.46270\n",
              "681      1242.26000\n",
              "513      1256.29900\n",
              "840      1526.31200\n",
              "           ...     \n",
              "94      47291.05500\n",
              "328     47928.03000\n",
              "1062    48970.24760\n",
              "819     55135.40209\n",
              "1300    62592.87309\n",
              "Name: charges, Length: 268, dtype: float64"
            ]
          },
          "metadata": {
            "tags": []
          },
          "execution_count": 82
        }
      ]
    },
    {
      "cell_type": "markdown",
      "metadata": {
        "id": "ZwYyBYWEW7eU",
        "colab_type": "text"
      },
      "source": [
        "## Inspect the data\n",
        "\n",
        "We look at the joint distribution of a few pairs of columns from the training set. The diagonal elements represent kernel density estimation (kde) for univariate variables for given columns. We include all the columns to inspect which variable has a correlation to another variable"
      ]
    },
    {
      "cell_type": "code",
      "metadata": {
        "id": "gcJVPodLtNkI",
        "colab_type": "code",
        "outputId": "59256ff2-0e6f-4687-a4a2-e38bb6893a8f",
        "colab": {
          "base_uri": "https://localhost:8080/",
          "height": 206
        }
      },
      "source": [
        "train_dataset = train_features.copy()\n",
        "train_dataset[train_target.name] = train_target.copy()\n",
        "train_dataset.head()"
      ],
      "execution_count": 83,
      "outputs": [
        {
          "output_type": "execute_result",
          "data": {
            "text/html": [
              "<div>\n",
              "<style scoped>\n",
              "    .dataframe tbody tr th:only-of-type {\n",
              "        vertical-align: middle;\n",
              "    }\n",
              "\n",
              "    .dataframe tbody tr th {\n",
              "        vertical-align: top;\n",
              "    }\n",
              "\n",
              "    .dataframe thead th {\n",
              "        text-align: right;\n",
              "    }\n",
              "</style>\n",
              "<table border=\"1\" class=\"dataframe\">\n",
              "  <thead>\n",
              "    <tr style=\"text-align: right;\">\n",
              "      <th></th>\n",
              "      <th>age</th>\n",
              "      <th>sex</th>\n",
              "      <th>bmi</th>\n",
              "      <th>children</th>\n",
              "      <th>smoker</th>\n",
              "      <th>region</th>\n",
              "      <th>charges</th>\n",
              "    </tr>\n",
              "  </thead>\n",
              "  <tbody>\n",
              "    <tr>\n",
              "      <th>0</th>\n",
              "      <td>19</td>\n",
              "      <td>2</td>\n",
              "      <td>27.900</td>\n",
              "      <td>0</td>\n",
              "      <td>1</td>\n",
              "      <td>3.926991</td>\n",
              "      <td>16884.92400</td>\n",
              "    </tr>\n",
              "    <tr>\n",
              "      <th>1</th>\n",
              "      <td>18</td>\n",
              "      <td>1</td>\n",
              "      <td>33.770</td>\n",
              "      <td>1</td>\n",
              "      <td>0</td>\n",
              "      <td>5.497787</td>\n",
              "      <td>1725.55230</td>\n",
              "    </tr>\n",
              "    <tr>\n",
              "      <th>2</th>\n",
              "      <td>28</td>\n",
              "      <td>1</td>\n",
              "      <td>33.000</td>\n",
              "      <td>3</td>\n",
              "      <td>0</td>\n",
              "      <td>5.497787</td>\n",
              "      <td>4449.46200</td>\n",
              "    </tr>\n",
              "    <tr>\n",
              "      <th>3</th>\n",
              "      <td>33</td>\n",
              "      <td>1</td>\n",
              "      <td>22.705</td>\n",
              "      <td>0</td>\n",
              "      <td>0</td>\n",
              "      <td>2.356194</td>\n",
              "      <td>21984.47061</td>\n",
              "    </tr>\n",
              "    <tr>\n",
              "      <th>4</th>\n",
              "      <td>32</td>\n",
              "      <td>1</td>\n",
              "      <td>28.880</td>\n",
              "      <td>0</td>\n",
              "      <td>0</td>\n",
              "      <td>2.356194</td>\n",
              "      <td>3866.85520</td>\n",
              "    </tr>\n",
              "  </tbody>\n",
              "</table>\n",
              "</div>"
            ],
            "text/plain": [
              "   age  sex     bmi  children  smoker    region      charges\n",
              "0   19    2  27.900         0       1  3.926991  16884.92400\n",
              "1   18    1  33.770         1       0  5.497787   1725.55230\n",
              "2   28    1  33.000         3       0  5.497787   4449.46200\n",
              "3   33    1  22.705         0       0  2.356194  21984.47061\n",
              "4   32    1  28.880         0       0  2.356194   3866.85520"
            ]
          },
          "metadata": {
            "tags": []
          },
          "execution_count": 83
        }
      ]
    },
    {
      "cell_type": "code",
      "metadata": {
        "id": "iK4789xEWxtj",
        "colab_type": "code",
        "outputId": "4d9596ca-2dc4-4a12-a78c-64979055f434",
        "colab": {
          "base_uri": "https://localhost:8080/",
          "height": 1000
        }
      },
      "source": [
        "sns.pairplot(train_dataset[['age', 'sex', 'bmi', 'children', 'smoker', \n",
        "                            'region', 'charges']], \n",
        "             diag_kind='kde', height=2);"
      ],
      "execution_count": 84,
      "outputs": [
        {
          "output_type": "display_data",
          "data": {
            "image/png": "[encoded data removed]",
            "text/plain": [
              "<Figure size 1008x1008 with 56 Axes>"
            ]
          },
          "metadata": {
            "tags": []
          }
        }
      ]
    },
    {
      "cell_type": "markdown",
      "metadata": {
        "id": "ZPzyen-Vd0Io",
        "colab_type": "text"
      },
      "source": [
        "If we look at the above table, we can easily notice how categorical and numerical data behave. For continous ones, they are correlated like many clusters, but for the discrete ones, they grouped and distributed by their categories.\n",
        "\n",
        "We also inspect at their statistical description:"
      ]
    },
    {
      "cell_type": "code",
      "metadata": {
        "id": "Q7FTmLoaXx4g",
        "colab_type": "code",
        "outputId": "29e44e4f-f97c-40bc-b436-600e52582c3c",
        "colab": {
          "base_uri": "https://localhost:8080/",
          "height": 237
        }
      },
      "source": [
        "train_stats = train_dataset.describe()\n",
        "train_stats.pop('charges')\n",
        "\n",
        "# for pretty output\n",
        "train_stats = train_stats.transpose()\n",
        "train_stats"
      ],
      "execution_count": 85,
      "outputs": [
        {
          "output_type": "execute_result",
          "data": {
            "text/html": [
              "<div>\n",
              "<style scoped>\n",
              "    .dataframe tbody tr th:only-of-type {\n",
              "        vertical-align: middle;\n",
              "    }\n",
              "\n",
              "    .dataframe tbody tr th {\n",
              "        vertical-align: top;\n",
              "    }\n",
              "\n",
              "    .dataframe thead th {\n",
              "        text-align: right;\n",
              "    }\n",
              "</style>\n",
              "<table border=\"1\" class=\"dataframe\">\n",
              "  <thead>\n",
              "    <tr style=\"text-align: right;\">\n",
              "      <th></th>\n",
              "      <th>count</th>\n",
              "      <th>mean</th>\n",
              "      <th>std</th>\n",
              "      <th>min</th>\n",
              "      <th>25%</th>\n",
              "      <th>50%</th>\n",
              "      <th>75%</th>\n",
              "      <th>max</th>\n",
              "    </tr>\n",
              "  </thead>\n",
              "  <tbody>\n",
              "    <tr>\n",
              "      <th>age</th>\n",
              "      <td>1070.0</td>\n",
              "      <td>39.211215</td>\n",
              "      <td>14.070392</td>\n",
              "      <td>18.000000</td>\n",
              "      <td>26.000000</td>\n",
              "      <td>39.000000</td>\n",
              "      <td>51.000000</td>\n",
              "      <td>64.000000</td>\n",
              "    </tr>\n",
              "    <tr>\n",
              "      <th>sex</th>\n",
              "      <td>1070.0</td>\n",
              "      <td>1.502804</td>\n",
              "      <td>0.500226</td>\n",
              "      <td>1.000000</td>\n",
              "      <td>1.000000</td>\n",
              "      <td>2.000000</td>\n",
              "      <td>2.000000</td>\n",
              "      <td>2.000000</td>\n",
              "    </tr>\n",
              "    <tr>\n",
              "      <th>bmi</th>\n",
              "      <td>1070.0</td>\n",
              "      <td>30.739514</td>\n",
              "      <td>6.102563</td>\n",
              "      <td>16.815000</td>\n",
              "      <td>26.336250</td>\n",
              "      <td>30.352500</td>\n",
              "      <td>34.770000</td>\n",
              "      <td>52.580000</td>\n",
              "    </tr>\n",
              "    <tr>\n",
              "      <th>children</th>\n",
              "      <td>1070.0</td>\n",
              "      <td>1.093458</td>\n",
              "      <td>1.194254</td>\n",
              "      <td>0.000000</td>\n",
              "      <td>0.000000</td>\n",
              "      <td>1.000000</td>\n",
              "      <td>2.000000</td>\n",
              "      <td>5.000000</td>\n",
              "    </tr>\n",
              "    <tr>\n",
              "      <th>smoker</th>\n",
              "      <td>1070.0</td>\n",
              "      <td>0.201869</td>\n",
              "      <td>0.401583</td>\n",
              "      <td>0.000000</td>\n",
              "      <td>0.000000</td>\n",
              "      <td>0.000000</td>\n",
              "      <td>0.000000</td>\n",
              "      <td>1.000000</td>\n",
              "    </tr>\n",
              "    <tr>\n",
              "      <th>region</th>\n",
              "      <td>1070.0</td>\n",
              "      <td>3.225271</td>\n",
              "      <td>1.762903</td>\n",
              "      <td>0.785398</td>\n",
              "      <td>2.356194</td>\n",
              "      <td>3.926991</td>\n",
              "      <td>5.497787</td>\n",
              "      <td>5.497787</td>\n",
              "    </tr>\n",
              "  </tbody>\n",
              "</table>\n",
              "</div>"
            ],
            "text/plain": [
              "           count       mean        std  ...        50%        75%        max\n",
              "age       1070.0  39.211215  14.070392  ...  39.000000  51.000000  64.000000\n",
              "sex       1070.0   1.502804   0.500226  ...   2.000000   2.000000   2.000000\n",
              "bmi       1070.0  30.739514   6.102563  ...  30.352500  34.770000  52.580000\n",
              "children  1070.0   1.093458   1.194254  ...   1.000000   2.000000   5.000000\n",
              "smoker    1070.0   0.201869   0.401583  ...   0.000000   0.000000   1.000000\n",
              "region    1070.0   3.225271   1.762903  ...   3.926991   5.497787   5.497787\n",
              "\n",
              "[6 rows x 8 columns]"
            ]
          },
          "metadata": {
            "tags": []
          },
          "execution_count": 85
        }
      ]
    },
    {
      "cell_type": "markdown",
      "metadata": {
        "id": "2DjgkfdYpr9b",
        "colab_type": "text"
      },
      "source": [
        "## Normalize the data"
      ]
    },
    {
      "cell_type": "code",
      "metadata": {
        "id": "XJjXQ4wFpzTC",
        "colab_type": "code",
        "colab": {}
      },
      "source": [
        "def normalize(x_val):\n",
        "    return (x_val - train_stats['mean']) / train_stats['std']\n",
        "\n",
        "normed_train_features = normalize(train_features)\n",
        "normed_test_features = normalize(test_features)"
      ],
      "execution_count": 0,
      "outputs": []
    },
    {
      "cell_type": "code",
      "metadata": {
        "id": "jm9U0OUw7saq",
        "colab_type": "code",
        "outputId": "537a961c-fb1b-48ae-ef9b-0a470354476d",
        "colab": {
          "base_uri": "https://localhost:8080/",
          "height": 206
        }
      },
      "source": [
        "normed_train_features.head()"
      ],
      "execution_count": 87,
      "outputs": [
        {
          "output_type": "execute_result",
          "data": {
            "text/html": [
              "<div>\n",
              "<style scoped>\n",
              "    .dataframe tbody tr th:only-of-type {\n",
              "        vertical-align: middle;\n",
              "    }\n",
              "\n",
              "    .dataframe tbody tr th {\n",
              "        vertical-align: top;\n",
              "    }\n",
              "\n",
              "    .dataframe thead th {\n",
              "        text-align: right;\n",
              "    }\n",
              "</style>\n",
              "<table border=\"1\" class=\"dataframe\">\n",
              "  <thead>\n",
              "    <tr style=\"text-align: right;\">\n",
              "      <th></th>\n",
              "      <th>age</th>\n",
              "      <th>sex</th>\n",
              "      <th>bmi</th>\n",
              "      <th>children</th>\n",
              "      <th>smoker</th>\n",
              "      <th>region</th>\n",
              "    </tr>\n",
              "  </thead>\n",
              "  <tbody>\n",
              "    <tr>\n",
              "      <th>0</th>\n",
              "      <td>-1.436436</td>\n",
              "      <td>0.993943</td>\n",
              "      <td>-0.465299</td>\n",
              "      <td>-0.915599</td>\n",
              "      <td>1.987463</td>\n",
              "      <td>0.398048</td>\n",
              "    </tr>\n",
              "    <tr>\n",
              "      <th>1</th>\n",
              "      <td>-1.507507</td>\n",
              "      <td>-1.005153</td>\n",
              "      <td>0.496592</td>\n",
              "      <td>-0.078256</td>\n",
              "      <td>-0.502684</td>\n",
              "      <td>1.289077</td>\n",
              "    </tr>\n",
              "    <tr>\n",
              "      <th>2</th>\n",
              "      <td>-0.796795</td>\n",
              "      <td>-1.005153</td>\n",
              "      <td>0.370416</td>\n",
              "      <td>1.596429</td>\n",
              "      <td>-0.502684</td>\n",
              "      <td>1.289077</td>\n",
              "    </tr>\n",
              "    <tr>\n",
              "      <th>3</th>\n",
              "      <td>-0.441439</td>\n",
              "      <td>-1.005153</td>\n",
              "      <td>-1.316580</td>\n",
              "      <td>-0.915599</td>\n",
              "      <td>-0.502684</td>\n",
              "      <td>-0.492980</td>\n",
              "    </tr>\n",
              "    <tr>\n",
              "      <th>4</th>\n",
              "      <td>-0.512510</td>\n",
              "      <td>-1.005153</td>\n",
              "      <td>-0.304710</td>\n",
              "      <td>-0.915599</td>\n",
              "      <td>-0.502684</td>\n",
              "      <td>-0.492980</td>\n",
              "    </tr>\n",
              "  </tbody>\n",
              "</table>\n",
              "</div>"
            ],
            "text/plain": [
              "        age       sex       bmi  children    smoker    region\n",
              "0 -1.436436  0.993943 -0.465299 -0.915599  1.987463  0.398048\n",
              "1 -1.507507 -1.005153  0.496592 -0.078256 -0.502684  1.289077\n",
              "2 -0.796795 -1.005153  0.370416  1.596429 -0.502684  1.289077\n",
              "3 -0.441439 -1.005153 -1.316580 -0.915599 -0.502684 -0.492980\n",
              "4 -0.512510 -1.005153 -0.304710 -0.915599 -0.502684 -0.492980"
            ]
          },
          "metadata": {
            "tags": []
          },
          "execution_count": 87
        }
      ]
    },
    {
      "cell_type": "markdown",
      "metadata": {
        "id": "4SuB__1GJFJL",
        "colab_type": "text"
      },
      "source": [
        "# Modelling Data"
      ]
    },
    {
      "cell_type": "markdown",
      "metadata": {
        "id": "yGlBj4oFvEgw",
        "colab_type": "text"
      },
      "source": [
        "## Construct the model\n",
        "In this model we use the multilayer perceptron model with two densely connected hidden layars (`layer.Dense(64)`), and an output layer that returns a single continuous value (`layer.Dense(1)`).\n"
      ]
    },
    {
      "cell_type": "code",
      "metadata": {
        "id": "Q18Ww5EswCdV",
        "colab_type": "code",
        "colab": {}
      },
      "source": [
        "def multilayer_perceptron(num_features, learning_rate, optimizers, regularizer_rate=0, dropout_rate=0):\n",
        "    \n",
        "    num_perceptron=64\n",
        "    \n",
        "    # set optimizers\n",
        "    if optimizers=='adam':\n",
        "        opt = tf.keras.optimizers.Adam(lr=learning_rate)\n",
        "    elif optimizers=='rmsprop':\n",
        "        opt = tf.keras.optimizers.RMSprop(lr=learning_rate)\n",
        "    elif optimizers=='sgd':\n",
        "        opt = tf.keras.optimizers.SGD(lr=learning_rate)\n",
        "    \n",
        "    \n",
        "    model = tf.keras.models.Sequential()\n",
        "    model.add(tf.keras.layers.Dense(units=num_perceptron, activation='relu', \n",
        "                                    kernel_regularizer=tf.keras.regularizers.l2(regularizer_rate), \n",
        "                                    input_shape=(num_features,)))\n",
        "    model.add(tf.keras.layers.Dropout(dropout_rate))\n",
        "    model.add(tf.keras.layers.Dense(units=num_perceptron, \n",
        "                                    kernel_regularizer=tf.keras.regularizers.l2(regularizer_rate), \n",
        "                                    activation='relu'))\n",
        "    model.add(tf.keras.layers.Dropout(dropout_rate))\n",
        "    model.add(tf.keras.layers.Dense(units=1, activation='relu'))\n",
        "    \n",
        "        \n",
        "    model.compile(optimizer=opt, loss='mae', \n",
        "                  metrics=['mae', 'mse'])\n",
        "    \n",
        "    return model\n",
        "    \n",
        "    \n",
        "def train_model(model, features, target, epoch):\n",
        "    \n",
        "    history = model.fit(x=features, y=target, epochs=epoch, verbose=0)\n",
        "    \n",
        "    hist = pd.DataFrame(history.history)\n",
        "    \n",
        "    return model, hist"
      ],
      "execution_count": 0,
      "outputs": []
    },
    {
      "cell_type": "markdown",
      "metadata": {
        "id": "rR5NmjFQ432e",
        "colab_type": "text"
      },
      "source": [
        "## Hypertuning Parameter"
      ]
    },
    {
      "cell_type": "markdown",
      "metadata": {
        "id": "X5i6-PDp4-ul",
        "colab_type": "text"
      },
      "source": [
        "### Optimizer with different learning rate"
      ]
    },
    {
      "cell_type": "code",
      "metadata": {
        "id": "AW6UbhPnFMzB",
        "colab_type": "code",
        "colab": {}
      },
      "source": [
        "normed_train_features = normed_train_features.reset_index()[features.columns]\n",
        "train_target = train_target.reset_index()['charges']\n",
        "\n",
        "n_splits_target = 4\n",
        "\n",
        "ssfk = SortedStratifiedKFold(n_splits=n_splits_target)\n",
        "\n",
        "# train_val_split contains four elements of tuples \n",
        "# (train_feature, train_target, test_feature, test_target) because we use \n",
        "# n_splits_target is 80% of the remaining data\n",
        "\n",
        "train_val_split = ssfk.split(normed_train_features, train_target)"
      ],
      "execution_count": 0,
      "outputs": []
    },
    {
      "cell_type": "code",
      "metadata": {
        "id": "h_9N5Py6EhCa",
        "colab_type": "code",
        "outputId": "66abc88d-92a8-41c1-b010-a4915f2846a9",

        "colab": {
          "base_uri": "https://localhost:8080/",
          "height": 1000
        }
      },
      "source": [
        "plt.figure(figsize=(16, 30))\n",
        "for i, (train_feature, train_target, test_feature, test_target) in enumerate(train_val_split):\n",
        "    plt.subplot(4, 2, 2*i + 1)\n",
        "    train_target.hist().set_title(\"train target data distribution\")\n",
        "    plt.xlabel('charges')\n",
        "    plt.ylabel('freq.')\n",
        "    \n",
        "    plt.subplot(4, 2, 2*(i+1))\n",
        "    test_target.hist().set_title(\"test target data distribution\")\n",
        "    plt.xlabel('charges')\n",
        "    plt.ylabel('freq.')\n",
        "\n",
        "plt.subplots_adjust(hspace=0.3)"
      ],
      "execution_count": 90,
      "outputs": [
        {
          "output_type": "display_data",
          "data": {
            "image/png": "[encoded data removed]",
            "text/plain": [
              "<Figure size 1152x2160 with 8 Axes>"
            ]
          },
          "metadata": {
            "tags": []
          }
        }
      ]
    },
    {
      "cell_type": "code",
      "metadata": {
        "id": "Ej91jGMYS5zX",
        "colab_type": "code",
        "outputId": "d44a837f-1dc7-45cd-fe68-56ac49ce7a8c",
        "colab": {
          "base_uri": "https://localhost:8080/",
          "height": 35
        }
      },
      "source": [
        "train_target.shape"
      ],
      "execution_count": 91,
      "outputs": [
        {
          "output_type": "execute_result",
          "data": {
            "text/plain": [
              "(803,)"
            ]
          },
          "metadata": {
            "tags": []
          },
          "execution_count": 91
        }
      ]
    },
    {
      "cell_type": "code",
      "metadata": {
        "id": "KsDpJX8QRJpB",
        "colab_type": "code",
        "outputId": "c566cb93-5839-4f33-9bdc-a1102e936f4c",
        "colab": {
          "base_uri": "https://localhost:8080/",
          "height": 331
        }
      },
      "source": [
        "learning_rates_list = [.001, .0025, .005, .0075, .01, .025, .05, .075, .1]\n",
        "result_report = pd.DataFrame({'Learning Rate': learning_rates_list})\n",
        "result_report"
      ],
      "execution_count": 92,
      "outputs": [
        {
          "output_type": "execute_result",
          "data": {
            "text/html": [
              "<div>\n",
              "<style scoped>\n",
              "    .dataframe tbody tr th:only-of-type {\n",
              "        vertical-align: middle;\n",
              "    }\n",
              "\n",
              "    .dataframe tbody tr th {\n",
              "        vertical-align: top;\n",
              "    }\n",
              "\n",
              "    .dataframe thead th {\n",
              "        text-align: right;\n",
              "    }\n",
              "</style>\n",
              "<table border=\"1\" class=\"dataframe\">\n",
              "  <thead>\n",
              "    <tr style=\"text-align: right;\">\n",
              "      <th></th>\n",
              "      <th>Learning Rate</th>\n",
              "    </tr>\n",
              "  </thead>\n",
              "  <tbody>\n",
              "    <tr>\n",
              "      <th>0</th>\n",
              "      <td>0.0010</td>\n",
              "    </tr>\n",
              "    <tr>\n",
              "      <th>1</th>\n",
              "      <td>0.0025</td>\n",
              "    </tr>\n",
              "    <tr>\n",
              "      <th>2</th>\n",
              "      <td>0.0050</td>\n",
              "    </tr>\n",
              "    <tr>\n",
              "      <th>3</th>\n",
              "      <td>0.0075</td>\n",
              "    </tr>\n",
              "    <tr>\n",
              "      <th>4</th>\n",
              "      <td>0.0100</td>\n",
              "    </tr>\n",
              "    <tr>\n",
              "      <th>5</th>\n",
              "      <td>0.0250</td>\n",
              "    </tr>\n",
              "    <tr>\n",
              "      <th>6</th>\n",
              "      <td>0.0500</td>\n",
              "    </tr>\n",
              "    <tr>\n",
              "      <th>7</th>\n",
              "      <td>0.0750</td>\n",
              "    </tr>\n",
              "    <tr>\n",
              "      <th>8</th>\n",
              "      <td>0.1000</td>\n",
              "    </tr>\n",
              "  </tbody>\n",
              "</table>\n",
              "</div>"
            ],
            "text/plain": [
              "   Learning Rate\n",
              "0         0.0010\n",
              "1         0.0025\n",
              "2         0.0050\n",
              "3         0.0075\n",
              "4         0.0100\n",
              "5         0.0250\n",
              "6         0.0500\n",
              "7         0.0750\n",
              "8         0.1000"
            ]
          },
          "metadata": {
            "tags": []
          },
          "execution_count": 92
        }
      ]
    },
    {
      "cell_type": "markdown",
      "metadata": {
        "id": "UFs3aMUPn7RS",
        "colab_type": "text"
      },
      "source": [
        "**The below computation takes around 150-160 minutes.**"
      ]
    },
    {
      "cell_type": "code",
      "metadata": {
        "id": "A6zIeOq15Fpb",
        "colab_type": "code",
        "outputId": "02dfc824-a941-4bb5-90d8-172ca565164a",
        "colab": {
          "base_uri": "https://localhost:8080/",
          "height": 1000
        }
      },
      "source": [
        "start_compute = time.time()\n",
        "\n",
        "N_epoch = 4000\n",
        "#N_epoch = 40\n",
        "\n",
        "for i, (train_features, train_target, \n",
        "        validation_features, validation_target) in enumerate(train_val_split):\n",
        "\n",
        "    print('n_split_target:', i+1)\n",
        "\n",
        "    adam_mae, rmsprop_mae, sgd_mae = [], [], []\n",
        "    print('    Adam training process...')\n",
        "    for lr in learning_rates_list:\n",
        "        mlp = multilayer_perceptron(train_features.shape[1], lr, 'adam')\n",
        "        model, history = train_model(mlp, train_features, train_target, N_epoch)\n",
        "        loss, mae, mse = model.evaluate(validation_features, validation_target, verbose=1)\n",
        "        adam_mae.append(mae)\n",
        "\n",
        "    print('    RMSprop training process...')\n",
        "    for lr in learning_rates_list:\n",
        "        mlp = multilayer_perceptron(train_features.shape[1], lr, 'rmsprop')\n",
        "        model, history = train_model(mlp, train_features, train_target, N_epoch)\n",
        "        loss, mae, mse = model.evaluate(validation_features, validation_target, verbose=1)\n",
        "        rmsprop_mae.append(mae)\n",
        "\n",
        "    print('    SGD training process...')\n",
        "    for lr in learning_rates_list:\n",
        "        mlp = multilayer_perceptron(train_features.shape[1], lr, 'sgd')\n",
        "        model, history = train_model(mlp, train_features, train_target, N_epoch)\n",
        "        loss, mae, mse = model.evaluate(validation_features, validation_target, verbose=1)\n",
        "        sgd_mae.append(mae)\n",
        "\n",
        "    result_report['Adam-'+str(i+1)] = adam_mae\n",
        "    result_report['RMSprop-'+str(i+1)] = rmsprop_mae\n",
        "    result_report['SGD-'+str(i+1)] = sgd_mae\n",
        "\n",
        "print(\"Approximation computational time: {:.2f} s\".format(time.time() - start_compute))"
      ],
      "execution_count": 93,
      "outputs": [
        {
          "output_type": "stream",
          "text": [
            "n_split_target: 1\n",
            "    Adam training process...\n",
            "9/9 [==============================] - 0s 2ms/step - loss: 1799.3560 - mae: 1628.9569 - mse: 23450144.0000\n",
            "9/9 [==============================] - 0s 1ms/step - loss: 1736.2552 - mae: 1558.5857 - mse: 23723020.0000\n",
            "9/9 [==============================] - 0s 2ms/step - loss: 1741.9043 - mae: 1581.7072 - mse: 23364874.0000\n",
            "9/9 [==============================] - 0s 1ms/step - loss: 1871.0962 - mae: 1693.9711 - mse: 23596800.0000\n",
            "9/9 [==============================] - 0s 2ms/step - loss: 1753.0817 - mae: 1584.7881 - mse: 23692364.0000\n",
            "9/9 [==============================] - 0s 2ms/step - loss: 1853.7012 - mae: 1637.3064 - mse: 23033668.0000\n",
            "9/9 [==============================] - 0s 2ms/step - loss: 1909.0319 - mae: 1695.9739 - mse: 23347732.0000\n",
            "9/9 [==============================] - 0s 2ms/step - loss: 1695.0972 - mae: 1557.9530 - mse: 23382132.0000\n",
            "9/9 [==============================] - 0s 2ms/step - loss: 2081.8174 - mae: 1887.0195 - mse: 28596516.0000\n",
            "    RMSprop training process...\n",
            "9/9 [==============================] - 0s 2ms/step - loss: 1774.9624 - mae: 1603.1311 - mse: 23362198.0000\n",
            "9/9 [==============================] - 0s 2ms/step - loss: 1772.7484 - mae: 1608.3816 - mse: 23614864.0000\n",
            "9/9 [==============================] - 0s 2ms/step - loss: 1797.4854 - mae: 1646.2050 - mse: 22898992.0000\n",
            "9/9 [==============================] - 0s 1ms/step - loss: 1782.1313 - mae: 1620.8804 - mse: 23586806.0000\n",
            "9/9 [==============================] - 0s 2ms/step - loss: 1958.9501 - mae: 1768.3304 - mse: 22362574.0000\n",
            "9/9 [==============================] - 0s 1ms/step - loss: 2390.4832 - mae: 2058.2126 - mse: 30111552.0000\n",
            "9/9 [==============================] - 0s 1ms/step - loss: 2388.1665 - mae: 2200.1526 - mse: 39534996.0000\n",
            "9/9 [==============================] - 0s 2ms/step - loss: 2205.3040 - mae: 1965.5046 - mse: 31796836.0000\n",
            "9/9 [==============================] - 0s 2ms/step - loss: 2222.7712 - mae: 2014.6176 - mse: 25306298.0000\n",
            "    SGD training process...\n",
            "9/9 [==============================] - 0s 2ms/step - loss: 2310.2361 - mae: 2089.9141 - mse: 25737938.0000\n",
            "9/9 [==============================] - 0s 2ms/step - loss: 2744.3931 - mae: 2485.3042 - mse: 26655638.0000\n",
            "9/9 [==============================] - 0s 1ms/step - loss: 2729.3088 - mae: 2394.1411 - mse: 29304872.0000\n",
            "9/9 [==============================] - 0s 1ms/step - loss: 3333.3354 - mae: 2897.9282 - mse: 28781792.0000\n",
            "9/9 [==============================] - 0s 2ms/step - loss: 6981.8057 - mae: 5572.5581 - mse: 111882088.0000\n",
            "9/9 [==============================] - 0s 1ms/step - loss: 7984.1621 - mae: 7737.6797 - mse: 105895800.0000\n",
            "9/9 [==============================] - 0s 2ms/step - loss: 12268.1025 - mae: 9886.9014 - mse: 236779792.0000\n",
            "9/9 [==============================] - 0s 1ms/step - loss: 11597.2207 - mae: 9261.4131 - mse: 215056688.0000\n",
            "9/9 [==============================] - 0s 1ms/step - loss: 11815.7080 - mae: 9462.3359 - mse: 222480672.0000\n",
            "n_split_target: 2\n",
            "    Adam training process...\n",
            "9/9 [==============================] - 0s 2ms/step - loss: 1617.7572 - mae: 1594.5522 - mse: 24325382.0000\n",
            "9/9 [==============================] - 0s 1ms/step - loss: 1613.5168 - mae: 1589.3042 - mse: 24217330.0000\n",
            "9/9 [==============================] - 0s 2ms/step - loss: 1668.2601 - mae: 1647.5471 - mse: 24129814.0000\n",
            "9/9 [==============================] - 0s 1ms/step - loss: 1618.6887 - mae: 1590.7726 - mse: 24175152.0000\n",
            "9/9 [==============================] - 0s 1ms/step - loss: 1727.0538 - mae: 1688.1219 - mse: 24259202.0000\n",
            "9/9 [==============================] - 0s 1ms/step - loss: 1975.9303 - mae: 1832.0658 - mse: 26377874.0000\n",
            "9/9 [==============================] - 0s 1ms/step - loss: 1817.1138 - mae: 1749.5674 - mse: 24348106.0000\n",
            "9/9 [==============================] - 0s 2ms/step - loss: 1853.3181 - mae: 1833.3596 - mse: 25667040.0000\n",
            "9/9 [==============================] - 0s 2ms/step - loss: 2076.4397 - mae: 1966.5215 - mse: 27361188.0000\n",
            "    RMSprop training process...\n",
            "9/9 [==============================] - 0s 1ms/step - loss: 1631.6715 - mae: 1602.2524 - mse: 24290124.0000\n",
            "9/9 [==============================] - 0s 1ms/step - loss: 1770.9058 - mae: 1697.0497 - mse: 24340536.0000\n",
            "9/9 [==============================] - 0s 2ms/step - loss: 1643.8087 - mae: 1609.8384 - mse: 23987754.0000\n",
            "9/9 [==============================] - 0s 1ms/step - loss: 1712.7209 - mae: 1673.5247 - mse: 23844574.0000\n",
            "9/9 [==============================] - 0s 1ms/step - loss: 1941.3889 - mae: 1884.1912 - mse: 25226962.0000\n",
            "9/9 [==============================] - 0s 1ms/step - loss: 2370.7529 - mae: 2385.8608 - mse: 34175968.0000\n",
            "9/9 [==============================] - 0s 1ms/step - loss: 2181.3384 - mae: 2173.3120 - mse: 29236516.0000\n",
            "9/9 [==============================] - 0s 1ms/step - loss: 2055.5642 - mae: 1962.6609 - mse: 26784192.0000\n",
            "9/9 [==============================] - 0s 1ms/step - loss: 2039.3876 - mae: 1994.3394 - mse: 30402826.0000\n",
            "    SGD training process...\n",
            "9/9 [==============================] - 0s 1ms/step - loss: 15677.1895 - mae: 13320.3389 - mse: 325416128.0000\n",
            "9/9 [==============================] - 0s 2ms/step - loss: 4073.4275 - mae: 3425.1936 - mse: 42726516.0000\n",
            "9/9 [==============================] - 0s 2ms/step - loss: 2735.0823 - mae: 2516.3613 - mse: 27362318.0000\n",
            "9/9 [==============================] - 0s 2ms/step - loss: 5647.3638 - mae: 4518.1792 - mse: 65945180.0000\n",
            "9/9 [==============================] - 0s 2ms/step - loss: 2786.3176 - mae: 2696.8870 - mse: 28635442.0000\n",
            "9/9 [==============================] - 0s 1ms/step - loss: 7822.0244 - mae: 7405.6968 - mse: 90721192.0000\n",
            "9/9 [==============================] - 0s 1ms/step - loss: 15677.1895 - mae: 13320.3389 - mse: 325416128.0000\n",
            "9/9 [==============================] - 0s 1ms/step - loss: 11528.7100 - mae: 9258.8135 - mse: 212091520.0000\n",
            "9/9 [==============================] - 0s 1ms/step - loss: 11099.2451 - mae: 8873.9072 - mse: 196706688.0000\n",
            "n_split_target: 3\n",
            "    Adam training process...\n",
            "9/9 [==============================] - 0s 1ms/step - loss: 1106.0222 - mae: 1120.6627 - mse: 17193088.0000\n",
            "9/9 [==============================] - 0s 1ms/step - loss: 1128.0833 - mae: 1149.6981 - mse: 17215856.0000\n",
            "9/9 [==============================] - 0s 2ms/step - loss: 1118.0486 - mae: 1140.3638 - mse: 17181500.0000\n",
            "9/9 [==============================] - 0s 2ms/step - loss: 1113.7916 - mae: 1118.2788 - mse: 16981248.0000\n",
            "9/9 [==============================] - 0s 2ms/step - loss: 1184.3544 - mae: 1204.5431 - mse: 18434762.0000\n",
            "9/9 [==============================] - 0s 1ms/step - loss: 1343.7260 - mae: 1285.2249 - mse: 17632578.0000\n",
            "9/9 [==============================] - 0s 1ms/step - loss: 1618.0580 - mae: 1606.9685 - mse: 23271638.0000\n",
            "9/9 [==============================] - 0s 1ms/step - loss: 1055.3562 - mae: 1073.1018 - mse: 17019430.0000\n",
            "9/9 [==============================] - 0s 1ms/step - loss: 1083.4078 - mae: 1085.2008 - mse: 16798558.0000\n",
            "    RMSprop training process...\n",
            "9/9 [==============================] - 0s 1ms/step - loss: 1114.2032 - mae: 1137.7825 - mse: 17224290.0000\n",
            "9/9 [==============================] - 0s 1ms/step - loss: 1101.9216 - mae: 1123.9625 - mse: 17281326.0000\n",
            "9/9 [==============================] - 0s 2ms/step - loss: 1178.5115 - mae: 1203.4689 - mse: 17757274.0000\n",
            "9/9 [==============================] - 0s 2ms/step - loss: 1319.1439 - mae: 1325.2684 - mse: 18433552.0000\n",
            "9/9 [==============================] - 0s 2ms/step - loss: 1447.3928 - mae: 1479.5258 - mse: 20164972.0000\n",
            "9/9 [==============================] - 0s 1ms/step - loss: 1944.3003 - mae: 1828.1348 - mse: 21368374.0000\n",
            "9/9 [==============================] - 0s 1ms/step - loss: 1926.0510 - mae: 1856.8103 - mse: 23407878.0000\n",
            "9/9 [==============================] - 0s 1ms/step - loss: 1839.8315 - mae: 1722.4354 - mse: 24330032.0000\n",
            "9/9 [==============================] - 0s 1ms/step - loss: 1889.9197 - mae: 1729.4071 - mse: 23399938.0000\n",
            "    SGD training process...\n",
            "9/9 [==============================] - 0s 1ms/step - loss: 1615.1906 - mae: 1536.8284 - mse: 18310832.0000\n",
            "9/9 [==============================] - 0s 2ms/step - loss: 2173.7339 - mae: 2027.5592 - mse: 21390172.0000\n",
            "9/9 [==============================] - 0s 1ms/step - loss: 4285.4346 - mae: 3345.4226 - mse: 41687040.0000\n",
            "9/9 [==============================] - 0s 2ms/step - loss: 6213.6699 - mae: 5174.5459 - mse: 87482576.0000\n",
            "9/9 [==============================] - 0s 1ms/step - loss: 3287.0498 - mae: 2967.5642 - mse: 32680334.0000\n",
            "9/9 [==============================] - 0s 2ms/step - loss: 7868.1865 - mae: 7439.8745 - mse: 91561088.0000\n",
            "9/9 [==============================] - 0s 2ms/step - loss: 15594.1318 - mae: 13160.5723 - mse: 314696384.0000\n",
            "9/9 [==============================] - 0s 1ms/step - loss: 11446.3838 - mae: 9104.5713 - mse: 203061216.0000\n",
            "9/9 [==============================] - 0s 2ms/step - loss: 11054.5723 - mae: 8754.6465 - mse: 189409808.0000\n",
            "n_split_target: 4\n",
            "    Adam training process...\n",
            "9/9 [==============================] - 0s 2ms/step - loss: 1315.4874 - mae: 1265.9274 - mse: 17188814.0000\n",
            "9/9 [==============================] - 0s 1ms/step - loss: 1324.8774 - mae: 1250.5935 - mse: 16882308.0000\n",
            "9/9 [==============================] - 0s 2ms/step - loss: 1394.0370 - mae: 1339.3771 - mse: 16890780.0000\n",
            "9/9 [==============================] - 0s 2ms/step - loss: 1317.3617 - mae: 1251.2908 - mse: 17059272.0000\n",
            "9/9 [==============================] - 0s 2ms/step - loss: 1422.9956 - mae: 1312.4049 - mse: 17276450.0000\n",
            "9/9 [==============================] - 0s 1ms/step - loss: 1705.5298 - mae: 1502.9303 - mse: 17842078.0000\n",
            "9/9 [==============================] - 0s 1ms/step - loss: 1836.1206 - mae: 1550.2883 - mse: 18423994.0000\n",
            "9/9 [==============================] - 0s 1ms/step - loss: 1359.3434 - mae: 1310.1526 - mse: 16880710.0000\n",
            "9/9 [==============================] - 0s 2ms/step - loss: 1953.1124 - mae: 1700.4165 - mse: 19746274.0000\n",
            "    RMSprop training process...\n",
            "9/9 [==============================] - 0s 2ms/step - loss: 1321.4769 - mae: 1273.2236 - mse: 17063280.0000\n",
            "9/9 [==============================] - 0s 2ms/step - loss: 1335.0388 - mae: 1275.1765 - mse: 16674789.0000\n",
            "9/9 [==============================] - 0s 2ms/step - loss: 1406.9716 - mae: 1338.0892 - mse: 16958502.0000\n",
            "9/9 [==============================] - 0s 2ms/step - loss: 1515.6306 - mae: 1389.6703 - mse: 17545834.0000\n",
            "9/9 [==============================] - 0s 2ms/step - loss: 1856.4551 - mae: 1687.5480 - mse: 17596852.0000\n",
            "9/9 [==============================] - 0s 2ms/step - loss: 2066.1741 - mae: 1839.0404 - mse: 20006692.0000\n",
            "9/9 [==============================] - 0s 2ms/step - loss: 1955.5308 - mae: 1823.6837 - mse: 25555164.0000\n",
            "9/9 [==============================] - 0s 2ms/step - loss: 1891.6532 - mae: 1637.2217 - mse: 24441230.0000\n",
            "9/9 [==============================] - 0s 2ms/step - loss: 1783.8724 - mae: 1714.3043 - mse: 26510710.0000\n",
            "    SGD training process...\n",
            "9/9 [==============================] - 0s 2ms/step - loss: 1519.0044 - mae: 1469.6569 - mse: 17439348.0000\n",
            "9/9 [==============================] - 0s 2ms/step - loss: 4520.8315 - mae: 3603.5952 - mse: 45390100.0000\n",
            "9/9 [==============================] - 0s 2ms/step - loss: 15570.2080 - mae: 13156.2158 - mse: 313936576.0000\n",
            "9/9 [==============================] - 0s 1ms/step - loss: 3171.5864 - mae: 2810.4751 - mse: 28434734.0000\n",
            "9/9 [==============================] - 0s 2ms/step - loss: 3029.5735 - mae: 2671.6897 - mse: 24468664.0000\n",
            "9/9 [==============================] - 0s 2ms/step - loss: 7522.1943 - mae: 7449.5928 - mse: 92590728.0000\n",
            "9/9 [==============================] - 0s 2ms/step - loss: 8964.0088 - mae: 6991.3052 - mse: 137009536.0000\n",
            "9/9 [==============================] - 0s 2ms/step - loss: 11443.6182 - mae: 9119.0059 - mse: 203153680.0000\n",
            "9/9 [==============================] - 0s 2ms/step - loss: 10981.3350 - mae: 8706.7471 - mse: 187024608.0000\n",
            "Approximation computational time: 10377.82\n"
          ],
          "name": "stdout"
        }
      ]
    },
    {
      "cell_type": "code",
      "metadata": {
        "id": "nAUwaj33Uve_",
        "colab_type": "code",
        "outputId": "6b21e039-6fd8-43b2-a512-0c9bd7b858d7",
        "colab": {
          "base_uri": "https://localhost:8080/",
          "height": 369
        }
      },
      "source": [
        "result_report     # mae each method"
      ],
      "execution_count": 94,
      "outputs": [
        {
          "output_type": "execute_result",
          "data": {
            "text/html": [
              "<div>\n",
              "<style scoped>\n",
              "    .dataframe tbody tr th:only-of-type {\n",
              "        vertical-align: middle;\n",
              "    }\n",
              "\n",
              "    .dataframe tbody tr th {\n",
              "        vertical-align: top;\n",
              "    }\n",
              "\n",
              "    .dataframe thead th {\n",
              "        text-align: right;\n",
              "    }\n",
              "</style>\n",
              "<table border=\"1\" class=\"dataframe\">\n",
              "  <thead>\n",
              "    <tr style=\"text-align: right;\">\n",
              "      <th></th>\n",
              "      <th>Learning Rate</th>\n",
              "      <th>Adam-1</th>\n",
              "      <th>RMSprop-1</th>\n",
              "      <th>SGD-1</th>\n",
              "      <th>Adam-2</th>\n",
              "      <th>RMSprop-2</th>\n",
              "      <th>SGD-2</th>\n",
              "      <th>Adam-3</th>\n",
              "      <th>RMSprop-3</th>\n",
              "      <th>SGD-3</th>\n",
              "      <th>Adam-4</th>\n",
              "      <th>RMSprop-4</th>\n",
              "      <th>SGD-4</th>\n",
              "    </tr>\n",
              "  </thead>\n",
              "  <tbody>\n",
              "    <tr>\n",
              "      <th>0</th>\n",
              "      <td>0.0010</td>\n",
              "      <td>1628.956909</td>\n",
              "      <td>1603.131104</td>\n",
              "      <td>2089.914062</td>\n",
              "      <td>1594.552246</td>\n",
              "      <td>1602.252441</td>\n",
              "      <td>13320.338867</td>\n",
              "      <td>1120.662720</td>\n",
              "      <td>1137.782471</td>\n",
              "      <td>1536.828369</td>\n",
              "      <td>1265.927368</td>\n",
              "      <td>1273.223633</td>\n",
              "      <td>1469.656860</td>\n",
              "    </tr>\n",
              "    <tr>\n",
              "      <th>1</th>\n",
              "      <td>0.0025</td>\n",
              "      <td>1558.585693</td>\n",
              "      <td>1608.381592</td>\n",
              "      <td>2485.304199</td>\n",
              "      <td>1589.304199</td>\n",
              "      <td>1697.049683</td>\n",
              "      <td>3425.193604</td>\n",
              "      <td>1149.698120</td>\n",
              "      <td>1123.962524</td>\n",
              "      <td>2027.559204</td>\n",
              "      <td>1250.593506</td>\n",
              "      <td>1275.176514</td>\n",
              "      <td>3603.595215</td>\n",
              "    </tr>\n",
              "    <tr>\n",
              "      <th>2</th>\n",
              "      <td>0.0050</td>\n",
              "      <td>1581.707153</td>\n",
              "      <td>1646.204956</td>\n",
              "      <td>2394.141113</td>\n",
              "      <td>1647.547119</td>\n",
              "      <td>1609.838379</td>\n",
              "      <td>2516.361328</td>\n",
              "      <td>1140.363770</td>\n",
              "      <td>1203.468872</td>\n",
              "      <td>3345.422607</td>\n",
              "      <td>1339.377075</td>\n",
              "      <td>1338.089233</td>\n",
              "      <td>13156.215820</td>\n",
              "    </tr>\n",
              "    <tr>\n",
              "      <th>3</th>\n",
              "      <td>0.0075</td>\n",
              "      <td>1693.971069</td>\n",
              "      <td>1620.880371</td>\n",
              "      <td>2897.928223</td>\n",
              "      <td>1590.772583</td>\n",
              "      <td>1673.524658</td>\n",
              "      <td>4518.179199</td>\n",
              "      <td>1118.278809</td>\n",
              "      <td>1325.268433</td>\n",
              "      <td>5174.545898</td>\n",
              "      <td>1251.290771</td>\n",
              "      <td>1389.670288</td>\n",
              "      <td>2810.475098</td>\n",
              "    </tr>\n",
              "    <tr>\n",
              "      <th>4</th>\n",
              "      <td>0.0100</td>\n",
              "      <td>1584.788086</td>\n",
              "      <td>1768.330444</td>\n",
              "      <td>5572.558105</td>\n",
              "      <td>1688.121948</td>\n",
              "      <td>1884.191162</td>\n",
              "      <td>2696.886963</td>\n",
              "      <td>1204.543091</td>\n",
              "      <td>1479.525757</td>\n",
              "      <td>2967.564209</td>\n",
              "      <td>1312.404907</td>\n",
              "      <td>1687.547974</td>\n",
              "      <td>2671.689697</td>\n",
              "    </tr>\n",
              "    <tr>\n",
              "      <th>5</th>\n",
              "      <td>0.0250</td>\n",
              "      <td>1637.306396</td>\n",
              "      <td>2058.212646</td>\n",
              "      <td>7737.679688</td>\n",
              "      <td>1832.065796</td>\n",
              "      <td>2385.860840</td>\n",
              "      <td>7405.696777</td>\n",
              "      <td>1285.224854</td>\n",
              "      <td>1828.134766</td>\n",
              "      <td>7439.874512</td>\n",
              "      <td>1502.930298</td>\n",
              "      <td>1839.040405</td>\n",
              "      <td>7449.592773</td>\n",
              "    </tr>\n",
              "    <tr>\n",
              "      <th>6</th>\n",
              "      <td>0.0500</td>\n",
              "      <td>1695.973877</td>\n",
              "      <td>2200.152588</td>\n",
              "      <td>9886.901367</td>\n",
              "      <td>1749.567383</td>\n",
              "      <td>2173.312012</td>\n",
              "      <td>13320.338867</td>\n",
              "      <td>1606.968506</td>\n",
              "      <td>1856.810303</td>\n",
              "      <td>13160.572266</td>\n",
              "      <td>1550.288330</td>\n",
              "      <td>1823.683716</td>\n",
              "      <td>6991.305176</td>\n",
              "    </tr>\n",
              "    <tr>\n",
              "      <th>7</th>\n",
              "      <td>0.0750</td>\n",
              "      <td>1557.953003</td>\n",
              "      <td>1965.504639</td>\n",
              "      <td>9261.413086</td>\n",
              "      <td>1833.359619</td>\n",
              "      <td>1962.660889</td>\n",
              "      <td>9258.813477</td>\n",
              "      <td>1073.101807</td>\n",
              "      <td>1722.435425</td>\n",
              "      <td>9104.571289</td>\n",
              "      <td>1310.152588</td>\n",
              "      <td>1637.221680</td>\n",
              "      <td>9119.005859</td>\n",
              "    </tr>\n",
              "    <tr>\n",
              "      <th>8</th>\n",
              "      <td>0.1000</td>\n",
              "      <td>1887.019531</td>\n",
              "      <td>2014.617554</td>\n",
              "      <td>9462.335938</td>\n",
              "      <td>1966.521484</td>\n",
              "      <td>1994.339355</td>\n",
              "      <td>8873.907227</td>\n",
              "      <td>1085.200806</td>\n",
              "      <td>1729.407104</td>\n",
              "      <td>8754.646484</td>\n",
              "      <td>1700.416504</td>\n",
              "      <td>1714.304321</td>\n",
              "      <td>8706.747070</td>\n",
              "    </tr>\n",
              "  </tbody>\n",
              "</table>\n",
              "</div>"
            ],
            "text/plain": [
              "   Learning Rate       Adam-1  ...    RMSprop-4         SGD-4\n",
              "0         0.0010  1628.956909  ...  1273.223633   1469.656860\n",
              "1         0.0025  1558.585693  ...  1275.176514   3603.595215\n",
              "2         0.0050  1581.707153  ...  1338.089233  13156.215820\n",
              "3         0.0075  1693.971069  ...  1389.670288   2810.475098\n",
              "4         0.0100  1584.788086  ...  1687.547974   2671.689697\n",
              "5         0.0250  1637.306396  ...  1839.040405   7449.592773\n",
              "6         0.0500  1695.973877  ...  1823.683716   6991.305176\n",
              "7         0.0750  1557.953003  ...  1637.221680   9119.005859\n",
              "8         0.1000  1887.019531  ...  1714.304321   8706.747070\n",
              "\n",
              "[9 rows x 13 columns]"
            ]
          },
          "metadata": {
            "tags": []
          },
          "execution_count": 94
        }
      ]
    },
    {
      "cell_type": "code",
      "metadata": {
        "id": "Bnn0RxmKT0-U",
        "colab_type": "code",
        "outputId": "4144c522-d45a-478e-cc98-a6f7a09b5d6c",
        "colab": {
          "base_uri": "https://localhost:8080/",
          "height": 90
        }
      },
      "source": [
        "Adam_RMSpropAvg_SGDAvg_Str = np.array([['Adam-{:d}'.format(i+1), \n",
        "                               'RMSprop-{:d}'.format(i+1),\n",
        "                               'SGD-{:d}'.format(i+1)] for i in range(n_splits_target)], dtype=str)\n",
        "Adam_RMSpropAvg_SGDAvg_Str"
      ],
      "execution_count": 95,
      "outputs": [
        {
          "output_type": "execute_result",
          "data": {
            "text/plain": [
              "array([['Adam-1', 'RMSprop-1', 'SGD-1'],\n",
              "       ['Adam-2', 'RMSprop-2', 'SGD-2'],\n",
              "       ['Adam-3', 'RMSprop-3', 'SGD-3'],\n",
              "       ['Adam-4', 'RMSprop-4', 'SGD-4']], dtype='<U9')"
            ]
          },
          "metadata": {
            "tags": []
          },
          "execution_count": 95
        }
      ]
    },
    {
      "cell_type": "code",
      "metadata": {
        "id": "1gjDGR8yb-Nx",
        "colab_type": "code",
        "outputId": "397e8e56-635c-48be-b389-737cb2e7715c",
        "colab": {
          "base_uri": "https://localhost:8080/",
          "height": 369
        }
      },
      "source": [
        "result_report['Adam-Avg'] = \\\n",
        "    sum(result_report[idx] \n",
        "        for idx in Adam_RMSpropAvg_SGDAvg_Str[:,0]) / n_splits_target\n",
        "\n",
        "result_report['RMSprop-Avg'] = \\\n",
        "    sum(result_report[idx] \n",
        "        for idx in Adam_RMSpropAvg_SGDAvg_Str[:,1]) / n_splits_target\n",
        "\n",
        "result_report['SGD-Avg'] = \\\n",
        "    sum(result_report[idx] \n",
        "        for idx in Adam_RMSpropAvg_SGDAvg_Str[:,2]) / n_splits_target\n",
        "\n",
        "result_report"
      ],
      "execution_count": 96,
      "outputs": [
        {
          "output_type": "execute_result",
          "data": {
            "text/html": [
              "<div>\n",
              "<style scoped>\n",
              "    .dataframe tbody tr th:only-of-type {\n",
              "        vertical-align: middle;\n",
              "    }\n",
              "\n",
              "    .dataframe tbody tr th {\n",
              "        vertical-align: top;\n",
              "    }\n",
              "\n",
              "    .dataframe thead th {\n",
              "        text-align: right;\n",
              "    }\n",
              "</style>\n",
              "<table border=\"1\" class=\"dataframe\">\n",
              "  <thead>\n",
              "    <tr style=\"text-align: right;\">\n",
              "      <th></th>\n",
              "      <th>Learning Rate</th>\n",
              "      <th>Adam-1</th>\n",
              "      <th>RMSprop-1</th>\n",
              "      <th>SGD-1</th>\n",
              "      <th>Adam-2</th>\n",
              "      <th>RMSprop-2</th>\n",
              "      <th>SGD-2</th>\n",
              "      <th>Adam-3</th>\n",
              "      <th>RMSprop-3</th>\n",
              "      <th>SGD-3</th>\n",
              "      <th>Adam-4</th>\n",
              "      <th>RMSprop-4</th>\n",
              "      <th>SGD-4</th>\n",
              "      <th>Adam-Avg</th>\n",
              "      <th>RMSprop-Avg</th>\n",
              "      <th>SGD-Avg</th>\n",
              "    </tr>\n",
              "  </thead>\n",
              "  <tbody>\n",
              "    <tr>\n",
              "      <th>0</th>\n",
              "      <td>0.0010</td>\n",
              "      <td>1628.956909</td>\n",
              "      <td>1603.131104</td>\n",
              "      <td>2089.914062</td>\n",
              "      <td>1594.552246</td>\n",
              "      <td>1602.252441</td>\n",
              "      <td>13320.338867</td>\n",
              "      <td>1120.662720</td>\n",
              "      <td>1137.782471</td>\n",
              "      <td>1536.828369</td>\n",
              "      <td>1265.927368</td>\n",
              "      <td>1273.223633</td>\n",
              "      <td>1469.656860</td>\n",
              "      <td>1402.524811</td>\n",
              "      <td>1404.097412</td>\n",
              "      <td>4604.184540</td>\n",
              "    </tr>\n",
              "    <tr>\n",
              "      <th>1</th>\n",
              "      <td>0.0025</td>\n",
              "      <td>1558.585693</td>\n",
              "      <td>1608.381592</td>\n",
              "      <td>2485.304199</td>\n",
              "      <td>1589.304199</td>\n",
              "      <td>1697.049683</td>\n",
              "      <td>3425.193604</td>\n",
              "      <td>1149.698120</td>\n",
              "      <td>1123.962524</td>\n",
              "      <td>2027.559204</td>\n",
              "      <td>1250.593506</td>\n",
              "      <td>1275.176514</td>\n",
              "      <td>3603.595215</td>\n",
              "      <td>1387.045380</td>\n",
              "      <td>1426.142578</td>\n",
              "      <td>2885.413055</td>\n",
              "    </tr>\n",
              "    <tr>\n",
              "      <th>2</th>\n",
              "      <td>0.0050</td>\n",
              "      <td>1581.707153</td>\n",
              "      <td>1646.204956</td>\n",
              "      <td>2394.141113</td>\n",
              "      <td>1647.547119</td>\n",
              "      <td>1609.838379</td>\n",
              "      <td>2516.361328</td>\n",
              "      <td>1140.363770</td>\n",
              "      <td>1203.468872</td>\n",
              "      <td>3345.422607</td>\n",
              "      <td>1339.377075</td>\n",
              "      <td>1338.089233</td>\n",
              "      <td>13156.215820</td>\n",
              "      <td>1427.248779</td>\n",
              "      <td>1449.400360</td>\n",
              "      <td>5353.035217</td>\n",
              "    </tr>\n",
              "    <tr>\n",
              "      <th>3</th>\n",
              "      <td>0.0075</td>\n",
              "      <td>1693.971069</td>\n",
              "      <td>1620.880371</td>\n",
              "      <td>2897.928223</td>\n",
              "      <td>1590.772583</td>\n",
              "      <td>1673.524658</td>\n",
              "      <td>4518.179199</td>\n",
              "      <td>1118.278809</td>\n",
              "      <td>1325.268433</td>\n",
              "      <td>5174.545898</td>\n",
              "      <td>1251.290771</td>\n",
              "      <td>1389.670288</td>\n",
              "      <td>2810.475098</td>\n",
              "      <td>1413.578308</td>\n",
              "      <td>1502.335938</td>\n",
              "      <td>3850.282104</td>\n",
              "    </tr>\n",
              "    <tr>\n",
              "      <th>4</th>\n",
              "      <td>0.0100</td>\n",
              "      <td>1584.788086</td>\n",
              "      <td>1768.330444</td>\n",
              "      <td>5572.558105</td>\n",
              "      <td>1688.121948</td>\n",
              "      <td>1884.191162</td>\n",
              "      <td>2696.886963</td>\n",
              "      <td>1204.543091</td>\n",
              "      <td>1479.525757</td>\n",
              "      <td>2967.564209</td>\n",
              "      <td>1312.404907</td>\n",
              "      <td>1687.547974</td>\n",
              "      <td>2671.689697</td>\n",
              "      <td>1447.464508</td>\n",
              "      <td>1704.898834</td>\n",
              "      <td>3477.174744</td>\n",
              "    </tr>\n",
              "    <tr>\n",
              "      <th>5</th>\n",
              "      <td>0.0250</td>\n",
              "      <td>1637.306396</td>\n",
              "      <td>2058.212646</td>\n",
              "      <td>7737.679688</td>\n",
              "      <td>1832.065796</td>\n",
              "      <td>2385.860840</td>\n",
              "      <td>7405.696777</td>\n",
              "      <td>1285.224854</td>\n",
              "      <td>1828.134766</td>\n",
              "      <td>7439.874512</td>\n",
              "      <td>1502.930298</td>\n",
              "      <td>1839.040405</td>\n",
              "      <td>7449.592773</td>\n",
              "      <td>1564.381836</td>\n",
              "      <td>2027.812164</td>\n",
              "      <td>7508.210938</td>\n",
              "    </tr>\n",
              "    <tr>\n",
              "      <th>6</th>\n",
              "      <td>0.0500</td>\n",
              "      <td>1695.973877</td>\n",
              "      <td>2200.152588</td>\n",
              "      <td>9886.901367</td>\n",
              "      <td>1749.567383</td>\n",
              "      <td>2173.312012</td>\n",
              "      <td>13320.338867</td>\n",
              "      <td>1606.968506</td>\n",
              "      <td>1856.810303</td>\n",
              "      <td>13160.572266</td>\n",
              "      <td>1550.288330</td>\n",
              "      <td>1823.683716</td>\n",
              "      <td>6991.305176</td>\n",
              "      <td>1650.699524</td>\n",
              "      <td>2013.489655</td>\n",
              "      <td>10839.779419</td>\n",
              "    </tr>\n",
              "    <tr>\n",
              "      <th>7</th>\n",
              "      <td>0.0750</td>\n",
              "      <td>1557.953003</td>\n",
              "      <td>1965.504639</td>\n",
              "      <td>9261.413086</td>\n",
              "      <td>1833.359619</td>\n",
              "      <td>1962.660889</td>\n",
              "      <td>9258.813477</td>\n",
              "      <td>1073.101807</td>\n",
              "      <td>1722.435425</td>\n",
              "      <td>9104.571289</td>\n",
              "      <td>1310.152588</td>\n",
              "      <td>1637.221680</td>\n",
              "      <td>9119.005859</td>\n",
              "      <td>1443.641754</td>\n",
              "      <td>1821.955658</td>\n",
              "      <td>9185.950928</td>\n",
              "    </tr>\n",
              "    <tr>\n",
              "      <th>8</th>\n",
              "      <td>0.1000</td>\n",
              "      <td>1887.019531</td>\n",
              "      <td>2014.617554</td>\n",
              "      <td>9462.335938</td>\n",
              "      <td>1966.521484</td>\n",
              "      <td>1994.339355</td>\n",
              "      <td>8873.907227</td>\n",
              "      <td>1085.200806</td>\n",
              "      <td>1729.407104</td>\n",
              "      <td>8754.646484</td>\n",
              "      <td>1700.416504</td>\n",
              "      <td>1714.304321</td>\n",
              "      <td>8706.747070</td>\n",
              "      <td>1659.789581</td>\n",
              "      <td>1863.167084</td>\n",
              "      <td>8949.409180</td>\n",
              "    </tr>\n",
              "  </tbody>\n",
              "</table>\n",
              "</div>"
            ],
            "text/plain": [
              "   Learning Rate       Adam-1  ...  RMSprop-Avg       SGD-Avg\n",
              "0         0.0010  1628.956909  ...  1404.097412   4604.184540\n",
              "1         0.0025  1558.585693  ...  1426.142578   2885.413055\n",
              "2         0.0050  1581.707153  ...  1449.400360   5353.035217\n",
              "3         0.0075  1693.971069  ...  1502.335938   3850.282104\n",
              "4         0.0100  1584.788086  ...  1704.898834   3477.174744\n",
              "5         0.0250  1637.306396  ...  2027.812164   7508.210938\n",
              "6         0.0500  1695.973877  ...  2013.489655  10839.779419\n",
              "7         0.0750  1557.953003  ...  1821.955658   9185.950928\n",
              "8         0.1000  1887.019531  ...  1863.167084   8949.409180\n",
              "\n",
              "[9 rows x 16 columns]"
            ]
          },
          "metadata": {
            "tags": []
          },
          "execution_count": 96
        }
      ]
    },
    {
      "cell_type": "code",
      "metadata": {
        "id": "DFjOFcRRIQaW",
        "colab_type": "code",
        "outputId": "04f7b5be-7600-4910-d90a-1a90d912ad4e",
        "colab": {
          "base_uri": "https://localhost:8080/",
          "height": 35
        }
      },
      "source": [
        "result_report.to_excel('hyper tuning parameter learningrate and optimizer.xlsx', index=False)\n",
        "print('Saved process done.')"
      ],
      "execution_count": 97,
      "outputs": [
        {
          "output_type": "stream",
          "text": [
            "Saved process done.\n"
          ],
          "name": "stdout"
        }
      ]
    },
    {
      "cell_type": "code",
      "metadata": {
        "id": "IqzaBgO1IQZN",
        "colab_type": "code",
        "outputId": "a404076e-1e27-4d10-ba7a-8dd215f6b7f5",
        "colab": {
          "base_uri": "https://localhost:8080/",
          "height": 295
        }
      },
      "source": [
        "plt.plot(result_report['Learning Rate'], result_report['Adam-Avg'], label='Adam')\n",
        "plt.plot(result_report['Learning Rate'], result_report['RMSprop-Avg'], label='RMSProp')\n",
        "plt.plot(result_report['Learning Rate'], result_report['SGD-Avg'], label='SGD')\n",
        "\n",
        "plt.title('Training over different optimizers and learning rate')\n",
        "plt.xlabel('Learning Rate')\n",
        "plt.ylabel('Mean Absolute Error')\n",
        "plt.legend();"
      ],
      "execution_count": 98,
      "outputs": [
        {
          "output_type": "display_data",
          "data": {
            "image/png": "[encoded data removed]",

            "text/plain": [
              "<Figure size 432x288 with 1 Axes>"
            ]
          },
          "metadata": {
            "tags": []
          }
        }
      ]
    },
    {
      "cell_type": "code",
      "metadata": {
        "id": "WwVFOboQAZrJ",
        "colab_type": "code",
        "colab": {
          "base_uri": "https://localhost:8080/",
          "height": 72
        },
        "outputId": "eef0e9d9-d6ce-4c74-e061-a0bd1cd3aa57"
      },
      "source": [
        "minLearningRateSpace = {'Adam-Avg': result_report['Adam-Avg'].min(),\n",
        "                        'RMSprop-Avg': result_report['RMSprop-Avg'].min(),\n",
        "                        'SGD-Avg': result_report['SGD-Avg'].min()}\n",
        "minLearningRateSpace"
      ],
      "execution_count": 104,
      "outputs": [
        {
          "output_type": "execute_result",
          "data": {
            "text/plain": [
              "{'Adam-Avg': 1387.0453796386719,\n",
              " 'RMSprop-Avg': 1404.097412109375,\n",
              " 'SGD-Avg': 2885.413055419922}"
            ]
          },
          "metadata": {
            "tags": []
          },
          "execution_count": 104
        }
      ]
    },
    {
      "cell_type": "code",
      "metadata": {
        "id": "YImrGa1f_Vz_",
        "colab_type": "code",
        "colab": {
          "base_uri": "https://localhost:8080/",
          "height": 35
        },
        "outputId": "fdd7feb6-aa80-45a0-8651-df21d350221a"
      },
      "source": [
        "minOptimizer = min(minLearningRateSpace, key=minLearningRateSpace.get)\n",
        "minOptimizer"
      ],
      "execution_count": 105,
      "outputs": [
        {
          "output_type": "execute_result",
          "data": {
            "text/plain": [
              "'Adam-Avg'"
            ]
          },
          "metadata": {
            "tags": []
          },
          "execution_count": 105
        }
      ]
    },
    {
      "cell_type": "code",
      "metadata": {
        "id": "J6usAyB7CPBF",
        "colab_type": "code",
        "colab": {
          "base_uri": "https://localhost:8080/",
          "height": 35
        },
        "outputId": "bc48fb1d-34f4-47f6-e3ef-fa97483a5e45"
      },
      "source": [
        "minLearnRate = result_report['Learning Rate'][result_report[minOptimizer].idxmin()]\n",
        "minLearnRate"
      ],
      "execution_count": 106,
      "outputs": [
        {
          "output_type": "execute_result",
          "data": {
            "text/plain": [
              "0.0025"
            ]
          },
          "metadata": {
            "tags": []
          },
          "execution_count": 106
        }
      ]
    },
    {
      "cell_type": "markdown",
      "metadata": {
        "id": "RlyAdHXWJ6od",
        "colab_type": "text"
      },
      "source": [
        "Small learning rate gives better result.\n",
        "\n",
        "Best parameter -> Adam optimizer with learning rate 0.0025. (learning rate 0.025 for the first time running)."

      ]
    },
    {
      "cell_type": "markdown",
      "metadata": {
        "id": "vy_CJQAVU5Eu",
        "colab_type": "text"
      },
      "source": [
        "### Regularization & Drop Out\n",
        "\n",
        "<b>Regularizers</b> allow you to apply penalties on layer parameters or layer activity during optimization. These penalties are summed into the loss function that the network optimizes.\n",
        "\n",
        "<b>Dropout</b> is one of the most effective and most commonly used regularization techniques for neural networks. The intuitive explanation for dropout is that because individual nodes in the network cannot rely on the output of the others, each node must output features that are useful on their own.\n",
        "\n",
        "We can combined both of them to avoid overfitting.\n"
      ]
    },
    {
      "cell_type": "code",
      "metadata": {
        "id": "l2fWeO4VZi1b",
        "colab_type": "code",
        "colab": {}
      },
      "source": [
        "regularizer_rates = [0, .001, .01, .1]\n",
        "dropout_rates = [0, .2, .35, .5]"
      ],
      "execution_count": 0,
      "outputs": []
    },
    {
      "cell_type": "markdown",
      "metadata": {
        "id": "q0lEZJXWoKDH",
        "colab_type": "text"
      },
      "source": [
        "**The below computation takes around 150-160 minutes.**"
      ]
    },
    {
      "cell_type": "code",
      "metadata": {
        "id": "e4bP_YKQVAR2",
        "colab_type": "code",
        "outputId": "fb648547-d0fd-4035-f47b-77b82e05ab5e",
        "colab": {
          "base_uri": "https://localhost:8080/",
          "height": 1000
        }
      },
      "source": [
        "drp_log, reg_log, mae_log ,mse_log = [], [], [], []\n",
        "\n",
        "start_compute = time.time()\n",
        "\n",

        "for i, (train_features, train_target, \n",
        "        validation_features, validation_target) in enumerate(train_val_split):\n",
        "  \n",
        "    for dropout_rate in dropout_rates:\n",
        "        print('dropout_rate: {:.2f}'.format(dropout_rate))\n",
        "        for regularizer_rate in regularizer_rates:\n",
        "            print('     regularizer_rate: {:.2f}'.format(regularizer_rate))\n",
        "            mlp = multilayer_perceptron(train_features.shape[1], minLearnRate, 'adam', regularizer_rate, dropout_rate)\n",

        "            model, history = train_model(mlp, train_features, train_target, N_epoch)\n",
        "            loss, mae, mse = model.evaluate(validation_features, validation_target, verbose=1)\n",
        "            drp_log.append(dropout_rate)\n",
        "            reg_log.append(regularizer_rate)\n",
        "            mae_log.append(mae)\n",
        "            mse_log.append(mse)\n",
        "        print(\"\")\n",
        "\n",
        "    print('    Done for group-{:d}'.format(i+1))\n",
        "\n",
        "print(\"Approximation computational time: {:.2f}\".format(time.time() - start_compute))"
      ],
      "execution_count": 108,
      "outputs": [
        {
          "output_type": "stream",
          "text": [
            "dropout_rate: 0.00\n",
            "     regularizer_rate: 0.00\n",
            "9/9 [==============================] - 0s 1ms/step - loss: 1886.8973 - mae: 1686.8804 - mse: 24260842.0000\n",
            "     regularizer_rate: 0.00\n",
            "9/9 [==============================] - 0s 1ms/step - loss: 1734.2603 - mae: 1562.5543 - mse: 22907926.0000\n",
            "     regularizer_rate: 0.01\n",
            "9/9 [==============================] - 0s 2ms/step - loss: 2038.2612 - mae: 1757.0530 - mse: 25016366.0000\n",
            "     regularizer_rate: 0.10\n",
            "9/9 [==============================] - 0s 2ms/step - loss: 2319.3921 - mae: 1943.4647 - mse: 25512118.0000\n",
            "\n",
            "dropout_rate: 0.20\n",
            "     regularizer_rate: 0.00\n",
            "9/9 [==============================] - 0s 1ms/step - loss: 2206.3142 - mae: 1958.4498 - mse: 25356554.0000\n",
            "     regularizer_rate: 0.00\n",
            "9/9 [==============================] - 0s 2ms/step - loss: 2175.0105 - mae: 1927.7880 - mse: 24755264.0000\n",
            "     regularizer_rate: 0.01\n",
            "9/9 [==============================] - 0s 2ms/step - loss: 2411.4265 - mae: 2170.6279 - mse: 25025910.0000\n",
            "     regularizer_rate: 0.10\n",
            "9/9 [==============================] - 0s 1ms/step - loss: 2632.3560 - mae: 2256.5779 - mse: 26729250.0000\n",
            "\n",
            "dropout_rate: 0.35\n",
            "     regularizer_rate: 0.00\n",
            "9/9 [==============================] - 0s 1ms/step - loss: 2331.5332 - mae: 2056.3765 - mse: 25901766.0000\n",
            "     regularizer_rate: 0.00\n",
            "9/9 [==============================] - 0s 1ms/step - loss: 2397.6450 - mae: 2087.2080 - mse: 25639616.0000\n",
            "     regularizer_rate: 0.01\n",
            "9/9 [==============================] - 0s 2ms/step - loss: 2552.9302 - mae: 2199.2407 - mse: 26362026.0000\n",
            "     regularizer_rate: 0.10\n",
            "9/9 [==============================] - 0s 1ms/step - loss: 2663.2058 - mae: 2280.1831 - mse: 27294594.0000\n",
            "\n",
            "dropout_rate: 0.50\n",
            "     regularizer_rate: 0.00\n",
            "9/9 [==============================] - 0s 1ms/step - loss: 2582.8372 - mae: 2299.4912 - mse: 27262500.0000\n",
            "     regularizer_rate: 0.00\n",
            "9/9 [==============================] - 0s 2ms/step - loss: 2587.8967 - mae: 2287.1328 - mse: 26373084.0000\n",
            "     regularizer_rate: 0.01\n",
            "9/9 [==============================] - 0s 1ms/step - loss: 2589.7053 - mae: 2285.0786 - mse: 26900150.0000\n",
            "     regularizer_rate: 0.10\n",
            "9/9 [==============================] - 0s 1ms/step - loss: 2708.4478 - mae: 2351.8113 - mse: 26940652.0000\n",
            "\n",
            "    Done for group-1\n",
            "dropout_rate: 0.00\n",
            "     regularizer_rate: 0.00\n",
            "9/9 [==============================] - 0s 1ms/step - loss: 1577.8608 - mae: 1556.1471 - mse: 23751836.0000\n",
            "     regularizer_rate: 0.00\n",
            "9/9 [==============================] - 0s 2ms/step - loss: 1585.4331 - mae: 1535.8179 - mse: 23908440.0000\n",
            "     regularizer_rate: 0.01\n",
            "9/9 [==============================] - 0s 1ms/step - loss: 1793.8307 - mae: 1725.6504 - mse: 24657552.0000\n",
            "     regularizer_rate: 0.10\n",
            "9/9 [==============================] - 0s 2ms/step - loss: 1856.2806 - mae: 1669.0675 - mse: 24420128.0000\n",
            "\n",
            "dropout_rate: 0.20\n",
            "     regularizer_rate: 0.00\n",
            "9/9 [==============================] - 0s 1ms/step - loss: 2032.9185 - mae: 1912.6086 - mse: 25214510.0000\n",
            "     regularizer_rate: 0.00\n",
            "9/9 [==============================] - 0s 2ms/step - loss: 2129.5012 - mae: 1983.2073 - mse: 24674746.0000\n",
            "     regularizer_rate: 0.01\n",
            "9/9 [==============================] - 0s 1ms/step - loss: 2160.0891 - mae: 1980.2761 - mse: 25573468.0000\n",
            "     regularizer_rate: 0.10\n",
            "9/9 [==============================] - 0s 2ms/step - loss: 2534.9875 - mae: 2188.7131 - mse: 27603050.0000\n",
            "\n",
            "dropout_rate: 0.35\n",
            "     regularizer_rate: 0.00\n",
            "9/9 [==============================] - 0s 1ms/step - loss: 2270.2817 - mae: 2070.8018 - mse: 25837480.0000\n",
            "     regularizer_rate: 0.00\n",
            "9/9 [==============================] - 0s 1ms/step - loss: 2250.5518 - mae: 2051.7524 - mse: 25953616.0000\n",
            "     regularizer_rate: 0.01\n",
            "9/9 [==============================] - 0s 2ms/step - loss: 2443.4990 - mae: 2200.1169 - mse: 27691862.0000\n",
            "     regularizer_rate: 0.10\n",
            "9/9 [==============================] - 0s 1ms/step - loss: 2550.8835 - mae: 2234.9131 - mse: 28165170.0000\n",
            "\n",
            "dropout_rate: 0.50\n",
            "     regularizer_rate: 0.00\n",
            "9/9 [==============================] - 0s 1ms/step - loss: 2370.3333 - mae: 2149.0701 - mse: 27015590.0000\n",
            "     regularizer_rate: 0.00\n",
            "9/9 [==============================] - 0s 1ms/step - loss: 2312.8589 - mae: 2091.6384 - mse: 26705232.0000\n",
            "     regularizer_rate: 0.01\n",
            "9/9 [==============================] - 0s 2ms/step - loss: 2516.5222 - mae: 2223.9866 - mse: 28003212.0000\n",
            "     regularizer_rate: 0.10\n",
            "9/9 [==============================] - 0s 1ms/step - loss: 2634.3154 - mae: 2329.6060 - mse: 28663330.0000\n",
            "\n",
            "    Done for group-2\n",
            "dropout_rate: 0.00\n",
            "     regularizer_rate: 0.00\n",
            "9/9 [==============================] - 0s 1ms/step - loss: 1052.7205 - mae: 1068.6521 - mse: 16786646.0000\n",
            "     regularizer_rate: 0.00\n",
            "9/9 [==============================] - 0s 2ms/step - loss: 1152.8208 - mae: 1153.3087 - mse: 17160120.0000\n",
            "     regularizer_rate: 0.01\n",
            "9/9 [==============================] - 0s 2ms/step - loss: 1199.9644 - mae: 1155.2905 - mse: 17285200.0000\n",
            "     regularizer_rate: 0.10\n",
            "9/9 [==============================] - 0s 2ms/step - loss: 1586.7443 - mae: 1402.8259 - mse: 18613738.0000\n",
            "\n",
            "dropout_rate: 0.20\n",
            "     regularizer_rate: 0.00\n",
            "9/9 [==============================] - 0s 2ms/step - loss: 1441.5905 - mae: 1400.6444 - mse: 18568298.0000\n",
            "     regularizer_rate: 0.00\n",
            "9/9 [==============================] - 0s 2ms/step - loss: 1457.3027 - mae: 1384.1141 - mse: 17925618.0000\n",
            "     regularizer_rate: 0.01\n",
            "9/9 [==============================] - 0s 1ms/step - loss: 1698.5112 - mae: 1525.0680 - mse: 18550888.0000\n",
            "     regularizer_rate: 0.10\n",
            "9/9 [==============================] - 0s 2ms/step - loss: 2119.8337 - mae: 1717.4669 - mse: 21292888.0000\n",
            "\n",
            "dropout_rate: 0.35\n",
            "     regularizer_rate: 0.00\n",
            "9/9 [==============================] - 0s 2ms/step - loss: 1569.9758 - mae: 1464.2290 - mse: 18570212.0000\n",
            "     regularizer_rate: 0.00\n",
            "9/9 [==============================] - 0s 2ms/step - loss: 1612.1699 - mae: 1472.7678 - mse: 18403864.0000\n",
            "     regularizer_rate: 0.01\n",
            "9/9 [==============================] - 0s 1ms/step - loss: 2043.2148 - mae: 1729.6527 - mse: 20934936.0000\n",
            "     regularizer_rate: 0.10\n",
            "9/9 [==============================] - 0s 1ms/step - loss: 2143.8105 - mae: 1763.2131 - mse: 21097742.0000\n",
            "\n",
            "dropout_rate: 0.50\n",
            "     regularizer_rate: 0.00\n",
            "9/9 [==============================] - 0s 1ms/step - loss: 2016.0603 - mae: 1734.4590 - mse: 20793056.0000\n",
            "     regularizer_rate: 0.00\n",
            "9/9 [==============================] - 0s 2ms/step - loss: 1970.7609 - mae: 1734.3396 - mse: 20481016.0000\n",
            "     regularizer_rate: 0.01\n",
            "9/9 [==============================] - 0s 2ms/step - loss: 2073.2078 - mae: 1782.5597 - mse: 20931388.0000\n",
            "     regularizer_rate: 0.10\n",
            "9/9 [==============================] - 0s 1ms/step - loss: 2180.6597 - mae: 1806.5010 - mse: 20887476.0000\n",
            "\n",
            "    Done for group-3\n",
            "dropout_rate: 0.00\n",
            "     regularizer_rate: 0.00\n",
            "9/9 [==============================] - 0s 1ms/step - loss: 1293.1732 - mae: 1236.3718 - mse: 16763534.0000\n",
            "     regularizer_rate: 0.00\n",
            "9/9 [==============================] - 0s 1ms/step - loss: 1314.3516 - mae: 1231.0170 - mse: 16777514.0000\n",
            "     regularizer_rate: 0.01\n",
            "9/9 [==============================] - 0s 2ms/step - loss: 1391.6990 - mae: 1274.1978 - mse: 17311900.0000\n",
            "     regularizer_rate: 0.10\n",
            "9/9 [==============================] - 0s 2ms/step - loss: 1602.6361 - mae: 1372.0981 - mse: 17364112.0000\n",
            "\n",
            "dropout_rate: 0.20\n",
            "     regularizer_rate: 0.00\n",
            "9/9 [==============================] - 0s 1ms/step - loss: 1672.4911 - mae: 1557.0474 - mse: 17732600.0000\n",
            "     regularizer_rate: 0.00\n",
            "9/9 [==============================] - 0s 1ms/step - loss: 1723.7009 - mae: 1581.6740 - mse: 17759298.0000\n",
            "     regularizer_rate: 0.01\n",
            "9/9 [==============================] - 0s 2ms/step - loss: 1878.0195 - mae: 1677.9352 - mse: 18401200.0000\n",
            "     regularizer_rate: 0.10\n",
            "9/9 [==============================] - 0s 2ms/step - loss: 2410.1018 - mae: 1966.0337 - mse: 21154118.0000\n",
            "\n",
            "dropout_rate: 0.35\n",
            "     regularizer_rate: 0.00\n",
            "9/9 [==============================] - 0s 1ms/step - loss: 1931.7288 - mae: 1724.3456 - mse: 19044180.0000\n",
            "     regularizer_rate: 0.00\n",
            "9/9 [==============================] - 0s 2ms/step - loss: 2225.2456 - mae: 1899.2112 - mse: 20119148.0000\n",
            "     regularizer_rate: 0.01\n",
            "9/9 [==============================] - 0s 1ms/step - loss: 2348.8303 - mae: 1988.4390 - mse: 20835212.0000\n",
            "     regularizer_rate: 0.10\n",
            "9/9 [==============================] - 0s 2ms/step - loss: 2389.4314 - mae: 2004.2388 - mse: 20372256.0000\n",
            "\n",
            "dropout_rate: 0.50\n",
            "     regularizer_rate: 0.00\n",
            "9/9 [==============================] - 0s 2ms/step - loss: 2433.7368 - mae: 2071.5674 - mse: 21628062.0000\n",
            "     regularizer_rate: 0.00\n",
            "9/9 [==============================] - 0s 2ms/step - loss: 2134.3484 - mae: 1874.9752 - mse: 19630320.0000\n",
            "     regularizer_rate: 0.01\n",
            "9/9 [==============================] - 0s 2ms/step - loss: 2293.8230 - mae: 1954.4601 - mse: 20155314.0000\n",
            "     regularizer_rate: 0.10\n",
            "9/9 [==============================] - 0s 2ms/step - loss: 2553.8323 - mae: 2110.0027 - mse: 21848124.0000\n",
            "\n",
            "    Done for group-4\n",
            "Approximation computational time: 19614.97\n"
          ],
          "name": "stdout"
        }
      ]
    },
    {
      "cell_type": "code",
      "metadata": {
        "id": "GXiUj5CfCZkm",
        "colab_type": "code",
        "outputId": "9f23057d-c67b-4060-ea9a-8a73849921c2",
        "colab": {
          "base_uri": "https://localhost:8080/",
          "height": 35
        }
      },
      "source": [
        "grp_2d = [[\"Group-{:d}\".format(i+1)]*16 for i in range(n_splits_target)]\n",
        "grp = [g for grp1 in grp_2d for g in grp1]\n",
        "len(grp)"
      ],
      "execution_count": 109,
      "outputs": [
        {
          "output_type": "execute_result",
          "data": {
            "text/plain": [
              "64"
            ]
          },
          "metadata": {
            "tags": []
          },
          "execution_count": 109
        }
      ]
    },
    {
      "cell_type": "code",
      "metadata": {
        "id": "c6WoRQSWGMqj",
        "colab_type": "code",
        "outputId": "d44dded5-aedc-415c-fa01-6c00a238e42d",
        "colab": {
          "base_uri": "https://localhost:8080/",
          "height": 424
        }
      },
      "source": [
        "drp_reg_result = pd.DataFrame({\"Group\": grp, \"Drop-out rate\": drp_log, \"Regularizer rate\": reg_log,\n",
        "                               \"Mean Absolute Error\": mae_log, \"Mean Squared Error\": mse_log})\n",
        "drp_reg_result"
      ],
      "execution_count": 110,
      "outputs": [
        {
          "output_type": "execute_result",
          "data": {
            "text/html": [
              "<div>\n",
              "<style scoped>\n",
              "    .dataframe tbody tr th:only-of-type {\n",
              "        vertical-align: middle;\n",
              "    }\n",
              "\n",
              "    .dataframe tbody tr th {\n",
              "        vertical-align: top;\n",
              "    }\n",
              "\n",
              "    .dataframe thead th {\n",
              "        text-align: right;\n",
              "    }\n",
              "</style>\n",
              "<table border=\"1\" class=\"dataframe\">\n",
              "  <thead>\n",
              "    <tr style=\"text-align: right;\">\n",
              "      <th></th>\n",
              "      <th>Group</th>\n",
              "      <th>Drop-out rate</th>\n",
              "      <th>Regularizer rate</th>\n",
              "      <th>Mean Absolute Error</th>\n",
              "      <th>Mean Squared Error</th>\n",
              "    </tr>\n",
              "  </thead>\n",
              "  <tbody>\n",
              "    <tr>\n",
              "      <th>0</th>\n",
              "      <td>Group-1</td>\n",
              "      <td>0.00</td>\n",
              "      <td>0.000</td>\n",
              "      <td>1686.880371</td>\n",
              "      <td>24260842.0</td>\n",
              "    </tr>\n",
              "    <tr>\n",
              "      <th>1</th>\n",
              "      <td>Group-1</td>\n",
              "      <td>0.00</td>\n",
              "      <td>0.001</td>\n",
              "      <td>1562.554321</td>\n",
              "      <td>22907926.0</td>\n",
              "    </tr>\n",
              "    <tr>\n",
              "      <th>2</th>\n",
              "      <td>Group-1</td>\n",
              "      <td>0.00</td>\n",
              "      <td>0.010</td>\n",
              "      <td>1757.052979</td>\n",
              "      <td>25016366.0</td>\n",
              "    </tr>\n",
              "    <tr>\n",
              "      <th>3</th>\n",
              "      <td>Group-1</td>\n",
              "      <td>0.00</td>\n",
              "      <td>0.100</td>\n",
              "      <td>1943.464722</td>\n",
              "      <td>25512118.0</td>\n",
              "    </tr>\n",
              "    <tr>\n",
              "      <th>4</th>\n",
              "      <td>Group-1</td>\n",
              "      <td>0.20</td>\n",
              "      <td>0.000</td>\n",
              "      <td>1958.449829</td>\n",
              "      <td>25356554.0</td>\n",
              "    </tr>\n",
              "    <tr>\n",
              "      <th>...</th>\n",
              "      <td>...</td>\n",
              "      <td>...</td>\n",
              "      <td>...</td>\n",
              "      <td>...</td>\n",
              "      <td>...</td>\n",
              "    </tr>\n",
              "    <tr>\n",
              "      <th>59</th>\n",
              "      <td>Group-4</td>\n",
              "      <td>0.35</td>\n",
              "      <td>0.100</td>\n",
              "      <td>2004.238770</td>\n",
              "      <td>20372256.0</td>\n",
              "    </tr>\n",
              "    <tr>\n",
              "      <th>60</th>\n",
              "      <td>Group-4</td>\n",
              "      <td>0.50</td>\n",
              "      <td>0.000</td>\n",
              "      <td>2071.567383</td>\n",
              "      <td>21628062.0</td>\n",
              "    </tr>\n",
              "    <tr>\n",
              "      <th>61</th>\n",
              "      <td>Group-4</td>\n",
              "      <td>0.50</td>\n",
              "      <td>0.001</td>\n",
              "      <td>1874.975220</td>\n",
              "      <td>19630320.0</td>\n",
              "    </tr>\n",
              "    <tr>\n",
              "      <th>62</th>\n",
              "      <td>Group-4</td>\n",
              "      <td>0.50</td>\n",
              "      <td>0.010</td>\n",
              "      <td>1954.460083</td>\n",
              "      <td>20155314.0</td>\n",
              "    </tr>\n",
              "    <tr>\n",
              "      <th>63</th>\n",
              "      <td>Group-4</td>\n",
              "      <td>0.50</td>\n",
              "      <td>0.100</td>\n",
              "      <td>2110.002686</td>\n",
              "      <td>21848124.0</td>\n",
              "    </tr>\n",
              "  </tbody>\n",
              "</table>\n",
              "<p>64 rows × 5 columns</p>\n",
              "</div>"
            ],
            "text/plain": [
              "      Group  Drop-out rate  ...  Mean Absolute Error  Mean Squared Error\n",
              "0   Group-1           0.00  ...          1686.880371          24260842.0\n",
              "1   Group-1           0.00  ...          1562.554321          22907926.0\n",
              "2   Group-1           0.00  ...          1757.052979          25016366.0\n",
              "3   Group-1           0.00  ...          1943.464722          25512118.0\n",
              "4   Group-1           0.20  ...          1958.449829          25356554.0\n",
              "..      ...            ...  ...                  ...                 ...\n",
              "59  Group-4           0.35  ...          2004.238770          20372256.0\n",
              "60  Group-4           0.50  ...          2071.567383          21628062.0\n",
              "61  Group-4           0.50  ...          1874.975220          19630320.0\n",
              "62  Group-4           0.50  ...          1954.460083          20155314.0\n",
              "63  Group-4           0.50  ...          2110.002686          21848124.0\n",
              "\n",
              "[64 rows x 5 columns]"
            ]
          },
          "metadata": {
            "tags": []
          },
          "execution_count": 110
        }
      ]
    },
    {
      "cell_type": "code",
      "metadata": {
        "id": "yp0MrkHekUND",
        "colab_type": "code",
        "outputId": "41f684cf-db8d-42c9-9f5b-292b30c761d5",
        "colab": {
          "base_uri": "https://localhost:8080/",
          "height": 35
        }
      },
      "source": [
        "drp_reg_result.to_excel('hyper tuning parameter regularization and drop-out.xlsx', index=False)\n",
        "print('Saved process done.')"
      ],
      "execution_count": 111,
      "outputs": [
        {
          "output_type": "stream",
          "text": [
            "Saved process done.\n"
          ],
          "name": "stdout"
        }
      ]
    },
    {
      "cell_type": "code",
      "metadata": {
        "id": "4jcKeRHrkUjb",
        "colab_type": "code",
        "outputId": "fcfc7e37-432c-4cdc-d3ee-aa190a854cc2",
        "colab": {
          "base_uri": "https://localhost:8080/",
          "height": 582
        }
      },
      "source": [
        "grp_result = drp_reg_result.groupby(['Drop-out rate', 'Regularizer rate'])[['Mean Absolute Error', 'Mean Squared Error']].mean()\n",
        "grp_result"
      ],
      "execution_count": 112,
      "outputs": [
        {
          "output_type": "execute_result",
          "data": {
            "text/html": [
              "<div>\n",
              "<style scoped>\n",
              "    .dataframe tbody tr th:only-of-type {\n",
              "        vertical-align: middle;\n",
              "    }\n",
              "\n",
              "    .dataframe tbody tr th {\n",
              "        vertical-align: top;\n",
              "    }\n",
              "\n",
              "    .dataframe thead th {\n",
              "        text-align: right;\n",
              "    }\n",
              "</style>\n",
              "<table border=\"1\" class=\"dataframe\">\n",
              "  <thead>\n",
              "    <tr style=\"text-align: right;\">\n",
              "      <th></th>\n",
              "      <th></th>\n",
              "      <th>Mean Absolute Error</th>\n",
              "      <th>Mean Squared Error</th>\n",
              "    </tr>\n",
              "    <tr>\n",
              "      <th>Drop-out rate</th>\n",
              "      <th>Regularizer rate</th>\n",
              "      <th></th>\n",
              "      <th></th>\n",
              "    </tr>\n",
              "  </thead>\n",
              "  <tbody>\n",
              "    <tr>\n",
              "      <th rowspan=\"4\" valign=\"top\">0.00</th>\n",
              "      <th>0.000</th>\n",
              "      <td>1387.012848</td>\n",
              "      <td>20390714.5</td>\n",
              "    </tr>\n",
              "    <tr>\n",
              "      <th>0.001</th>\n",
              "      <td>1370.674469</td>\n",
              "      <td>20188500.0</td>\n",
              "    </tr>\n",
              "    <tr>\n",
              "      <th>0.010</th>\n",
              "      <td>1478.047913</td>\n",
              "      <td>21067754.5</td>\n",
              "    </tr>\n",
              "    <tr>\n",
              "      <th>0.100</th>\n",
              "      <td>1596.864075</td>\n",
              "      <td>21477524.0</td>\n",
              "    </tr>\n",
              "    <tr>\n",
              "      <th rowspan=\"4\" valign=\"top\">0.20</th>\n",
              "      <th>0.000</th>\n",
              "      <td>1707.187561</td>\n",
              "      <td>21717990.5</td>\n",
              "    </tr>\n",
              "    <tr>\n",
              "      <th>0.001</th>\n",
              "      <td>1719.195831</td>\n",
              "      <td>21278731.5</td>\n",
              "    </tr>\n",
              "    <tr>\n",
              "      <th>0.010</th>\n",
              "      <td>1838.476807</td>\n",
              "      <td>21887866.5</td>\n",
              "    </tr>\n",
              "    <tr>\n",
              "      <th>0.100</th>\n",
              "      <td>2032.197906</td>\n",
              "      <td>24194826.5</td>\n",
              "    </tr>\n",
              "    <tr>\n",
              "      <th rowspan=\"4\" valign=\"top\">0.35</th>\n",
              "      <th>0.000</th>\n",
              "      <td>1828.938202</td>\n",
              "      <td>22338409.5</td>\n",
              "    </tr>\n",
              "    <tr>\n",
              "      <th>0.001</th>\n",
              "      <td>1877.734863</td>\n",
              "      <td>22529061.0</td>\n",
              "    </tr>\n",
              "    <tr>\n",
              "      <th>0.010</th>\n",
              "      <td>2029.362335</td>\n",
              "      <td>23956009.0</td>\n",
              "    </tr>\n",
              "    <tr>\n",
              "      <th>0.100</th>\n",
              "      <td>2070.637024</td>\n",
              "      <td>24232440.5</td>\n",
              "    </tr>\n",
              "    <tr>\n",
              "      <th rowspan=\"4\" valign=\"top\">0.50</th>\n",
              "      <th>0.000</th>\n",
              "      <td>2063.646912</td>\n",
              "      <td>24174802.0</td>\n",
              "    </tr>\n",
              "    <tr>\n",
              "      <th>0.001</th>\n",
              "      <td>1997.021515</td>\n",
              "      <td>23297413.0</td>\n",
              "    </tr>\n",
              "    <tr>\n",
              "      <th>0.010</th>\n",
              "      <td>2061.521240</td>\n",
              "      <td>23997516.0</td>\n",
              "    </tr>\n",
              "    <tr>\n",
              "      <th>0.100</th>\n",
              "      <td>2149.480225</td>\n",
              "      <td>24584895.5</td>\n",
              "    </tr>\n",
              "  </tbody>\n",
              "</table>\n",
              "</div>"
            ],
            "text/plain": [
              "                                Mean Absolute Error  Mean Squared Error\n",
              "Drop-out rate Regularizer rate                                         \n",
              "0.00          0.000                     1387.012848          20390714.5\n",
              "              0.001                     1370.674469          20188500.0\n",
              "              0.010                     1478.047913          21067754.5\n",
              "              0.100                     1596.864075          21477524.0\n",
              "0.20          0.000                     1707.187561          21717990.5\n",
              "              0.001                     1719.195831          21278731.5\n",
              "              0.010                     1838.476807          21887866.5\n",
              "              0.100                     2032.197906          24194826.5\n",
              "0.35          0.000                     1828.938202          22338409.5\n",
              "              0.001                     1877.734863          22529061.0\n",
              "              0.010                     2029.362335          23956009.0\n",
              "              0.100                     2070.637024          24232440.5\n",
              "0.50          0.000                     2063.646912          24174802.0\n",
              "              0.001                     1997.021515          23297413.0\n",
              "              0.010                     2061.521240          23997516.0\n",
              "              0.100                     2149.480225          24584895.5"
            ]
          },
          "metadata": {
            "tags": []
          },
          "execution_count": 112
        }
      ]
    },
    {
      "cell_type": "markdown",
      "metadata": {
        "id": "CHakBjNWGOJ3",
        "colab_type": "text"
      },
      "source": [
        "Refer to previous experiment, the better result comes with drop-out rate = 0 and regularizer rate = 0.01 (mae), 0.1 (mse)"
      ]
    },
    {
      "cell_type": "markdown",
      "metadata": {
        "id": "qfCWmXIq9q3K",
        "colab_type": "text"
      },
      "source": [
        "### Evaluate with test set"
      ]
    },
    {
      "cell_type": "markdown",
      "metadata": {
        "id": "V6mPtzdyGbi0",
        "colab_type": "text"
      },
      "source": [
        "After work on hyper tuning parameter, we can apply the best parameter to test set. And see whether a overfitting issue or not"
      ]
    },
    {
      "cell_type": "code",
      "metadata": {
        "id": "7TefQJNBG3BS",
        "colab_type": "code",
        "outputId": "b371a5e8-0423-4a84-dd1b-8cb4b33ff879",
        "colab": {
          "base_uri": "https://localhost:8080/",
          "height": 108
        }
      },
      "source": [
        "mae_log ,mse_log = [], []\n",
        "\n",
        "start_compute = time.time()\n",
        "\n",
        "for train_features, train_target, validation_features, validation_target in train_val_split:\n",
        "\n",
        "    mlp = multilayer_perceptron(train_features.shape[1], minLearnRate, 'adam', 0.01, 0)\n",
        "    model, history = train_model(mlp, train_features, train_target, N_epoch)\n",
        "    loss, mae, mse = model.evaluate(validation_features, validation_target, verbose=1)\n",
        "    mae_log.append(mae)\n",
        "    mse_log.append(mse)\n",
        "\n",
        "print(\"Approximation computational time: {:.2f}\".format(time.time() - start_compute))"
      ],
      "execution_count": 114,
      "outputs": [
        {
          "output_type": "stream",
          "text": [
            "9/9 [==============================] - 0s 1ms/step - loss: 2018.3247 - mae: 1743.3645 - mse: 24834490.0000\n",
            "9/9 [==============================] - 0s 2ms/step - loss: 1674.0122 - mae: 1587.3940 - mse: 24112578.0000\n",
            "9/9 [==============================] - 0s 2ms/step - loss: 1174.0981 - mae: 1137.9167 - mse: 17266164.0000\n",
            "9/9 [==============================] - 0s 2ms/step - loss: 1399.4282 - mae: 1277.8296 - mse: 17301646.0000\n",
            "Approximation computational time: 435.46\n"
          ],
          "name": "stdout"
        }
      ]
    },
    {
      "cell_type": "code",
      "metadata": {
        "id": "oIDadaNQHdBt",
        "colab_type": "code",
        "outputId": "b487b37f-41ff-48da-b2d9-7718b573bf0a",
        "colab": {
          "base_uri": "https://localhost:8080/",
          "height": 193
        }
      },
      "source": [
        "grp_log = ['Group-'+str(i+1) for i in range(n_splits_target)]\n",
        "log = pd.DataFrame({\"Group\": grp_log, \"Mean Absolute Error\": mae_log, \"Mean Squared Error\": mse_log})\n",
        "print('Test result with validation set that obtained from train-validation-test split using Sorted Stratified K Fold Cross Validation')\n",
        "log"
      ],
      "execution_count": 115,
      "outputs": [
        {
          "output_type": "stream",
          "text": [
            "Test result with validation set that obtained from train-validation-test split using Sorted Stratified K Fold Cross Validation\n"
          ],
          "name": "stdout"
        },
        {
          "output_type": "execute_result",
          "data": {
            "text/html": [
              "<div>\n",
              "<style scoped>\n",
              "    .dataframe tbody tr th:only-of-type {\n",
              "        vertical-align: middle;\n",
              "    }\n",
              "\n",
              "    .dataframe tbody tr th {\n",
              "        vertical-align: top;\n",
              "    }\n",
              "\n",
              "    .dataframe thead th {\n",
              "        text-align: right;\n",
              "    }\n",
              "</style>\n",
              "<table border=\"1\" class=\"dataframe\">\n",
              "  <thead>\n",
              "    <tr style=\"text-align: right;\">\n",
              "      <th></th>\n",
              "      <th>Group</th>\n",
              "      <th>Mean Absolute Error</th>\n",
              "      <th>Mean Squared Error</th>\n",
              "    </tr>\n",
              "  </thead>\n",
              "  <tbody>\n",
              "    <tr>\n",
              "      <th>0</th>\n",
              "      <td>Group-1</td>\n",
              "      <td>1743.364502</td>\n",
              "      <td>24834490.0</td>\n",
              "    </tr>\n",
              "    <tr>\n",
              "      <th>1</th>\n",
              "      <td>Group-2</td>\n",
              "      <td>1587.394043</td>\n",
              "      <td>24112578.0</td>\n",
              "    </tr>\n",
              "    <tr>\n",
              "      <th>2</th>\n",
              "      <td>Group-3</td>\n",
              "      <td>1137.916748</td>\n",
              "      <td>17266164.0</td>\n",
              "    </tr>\n",
              "    <tr>\n",
              "      <th>3</th>\n",
              "      <td>Group-4</td>\n",
              "      <td>1277.829590</td>\n",
              "      <td>17301646.0</td>\n",
              "    </tr>\n",
              "  </tbody>\n",
              "</table>\n",
              "</div>"
            ],
            "text/plain": [
              "     Group  Mean Absolute Error  Mean Squared Error\n",
              "0  Group-1          1743.364502          24834490.0\n",
              "1  Group-2          1587.394043          24112578.0\n",
              "2  Group-3          1137.916748          17266164.0\n",
              "3  Group-4          1277.829590          17301646.0"
            ]
          },
          "metadata": {
            "tags": []
          },
          "execution_count": 115
        }
      ]
    },
    {
      "cell_type": "code",
      "metadata": {
        "id": "0Qpfe2CaIBkb",
        "colab_type": "code",
        "outputId": "d9be6fca-c5e6-4610-b367-21b95a15019f",
        "colab": {
          "base_uri": "https://localhost:8080/",
          "height": 72
        }
      },
      "source": [
        "\n",
        "print(\"Minimum MAE =  \",log[\"Mean Absolute Error\"].min())\n",
        "print(\"Maximum MAE =  \",log[\"Mean Absolute Error\"].max())\n",
        "print(\"Average MAE =  \",log[\"Mean Absolute Error\"].mean())"
      ],
      "execution_count": 116,
      "outputs": [
        {
          "output_type": "stream",
          "text": [
            "Minimum MAE =   1137.916748046875\n",
            "Maximum MAE =   1743.364501953125\n",
            "Average MAE =   1436.626220703125\n"
          ],
          "name": "stdout"
        }
      ]
    },
    {
      "cell_type": "markdown",
      "metadata": {
        "id": "hCF8CyD8L9Eq",
        "colab_type": "text"
      },
      "source": [
        "Right now, we know that our model can get result with 'Mean Absolute Error' between 1137.92 and 1743.36. Now lets check with test set. (N_epoch=4000)\n",
        "\n",
        "> If you run the cell many times you can get different result. But the interval of MAE will not be much different"
      ]
    },
    {
      "cell_type": "code",
      "metadata": {
        "id": "vfOuCYX19wQi",
        "colab_type": "code",
        "outputId": "e0c8df13-9919-4a4b-853a-4df0620cd1b6",
        "colab": {
          "base_uri": "https://localhost:8080/",
          "height": 53
        }
      },
      "source": [
        "test_target = target[normed_test_features.index]\n",
        "loss, mae, mse = model.evaluate(normed_test_features, test_target)\n",
        "\n",
        "print(\"MAE for testing set =  {:5.2f} (charges)\".format(mae))"
      ],
      "execution_count": 117,
      "outputs": [
        {
          "output_type": "stream",
          "text": [
            "9/9 [==============================] - 0s 2ms/step - loss: 1814.2006 - mae: 1564.8859 - mse: 25470572.0000\n",
            "MAE for testing set =  1564.89 (charges)\n"
          ],
          "name": "stdout"
        }
      ]
    },
    {
      "cell_type": "code",
      "metadata": {
        "id": "Fds06mu-Dr23",
        "colab_type": "code",
        "outputId": "5007cc3d-b2b9-49de-b973-e4e86507db81",
        "colab": {
          "base_uri": "https://localhost:8080/",
          "height": 283
        }
      },
      "source": [
        "test_predictions = model.predict(normed_test_features).flatten()\n",
        "\n",
        "a = plt.axes(aspect='equal')\n",
        "\n",
        "plt.scatter(test_target, test_predictions)\n",
        "\n",
        "plt.xlabel('True Values [charges]')\n",
        "plt.ylabel('Predictions [charges]')\n",
        "lims = [0, 6e4]\n",
        "plt.xlim(lims)\n",
        "plt.ylim(lims)\n",
        "\n",
        "_ = plt.plot(lims, lims)"
      ],
      "execution_count": 118,
      "outputs": [
        {
          "output_type": "display_data",
          "data": {
            "image/png": "[encoded data removed]",
            "text/plain": [
              "<Figure size 432x288 with 1 Axes>"
            ]
          },
          "metadata": {
            "tags": []
          }
        }
      ]
    },
    {
      "cell_type": "markdown",
      "metadata": {
        "id": "t7KrK5pJN6dR",
        "colab_type": "text"
      },
      "source": [
        "For this testing we get MAE of 1564.89.\n",
        "\n",
        "\n",
        "If we compare with result that we obtained from validation set, our model can predict data with MAE 1436.63. We get <b>difference of 128.26 from model validation</b>. That is good result <b>(not overfitting)</b>."
      ]
    },
    {
      "cell_type": "markdown",
      "metadata": {
        "id": "03uekFg_jYmm",
        "colab_type": "text"
      },
      "source": [
        "# Results and Conclusion"
      ]
    },
    {
      "cell_type": "code",
      "metadata": {
        "id": "y2mF2ioel1Xy",
        "colab_type": "code",
        "outputId": "f2095573-3dfc-4ae3-de46-209cb6a91ed4",
        "colab": {
          "base_uri": "https://localhost:8080/",
          "height": 181
        }
      },
      "source": [
        "dataset['charges'].describe()"
      ],
      "execution_count": 0,
      "outputs": [
        {
          "output_type": "execute_result",
          "data": {
            "text/plain": [
              "count     1338.000000\n",
              "mean     13270.422265\n",
              "std      12110.011237\n",
              "min       1121.873900\n",
              "25%       4740.287150\n",
              "50%       9382.033000\n",
              "75%      16639.912515\n",
              "max      63770.428010\n",
              "Name: charges, dtype: float64"
            ]
          },
          "metadata": {
            "tags": []
          },
          "execution_count": 183
        }
      ]
    },
    {
      "cell_type": "markdown",
      "metadata": {
        "id": "X_kgrGJpkGXT",
        "colab_type": "text"
      },
      "source": [
        "We have performed regression analysis model to predict health insurance cost should be paid for given features. We have shown in the above, several results related to our MAE for test data. We think from the range of `charges` category in the datasets, our predicted health insurance won't sufficiently good for person who has medical bill around 1000.\n",
        "\n",
        "As we plot the joint distribution, we can see at glance that there are so much irregularity to the data. If we look closely to some elements in that joint distrbution, there are some clusters related to BMI and charges. It can be inferred another model like clustering can make a group for a range of health insurance bill. This will be another project.\n",
        "\n"
      ]
    },
    {
      "cell_type": "code",
      "metadata": {
        "id": "ToNe8pJxmq9w",
        "colab_type": "code",
        "colab": {}
      },
      "source": [
        ""
      ],
      "execution_count": 0,
      "outputs": []
    }
  ]
}
